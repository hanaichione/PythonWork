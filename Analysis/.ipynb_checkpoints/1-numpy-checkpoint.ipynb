{
 "cells": [
  {
   "cell_type": "code",
   "execution_count": 1,
   "id": "5ef1c497",
   "metadata": {},
   "outputs": [],
   "source": [
    "import numpy as np"
   ]
  },
  {
   "cell_type": "markdown",
   "id": "ecbed2ef",
   "metadata": {},
   "source": [
    "# 1. 1차원 배열"
   ]
  },
  {
   "cell_type": "code",
   "execution_count": 31,
   "id": "2354fdd3",
   "metadata": {},
   "outputs": [
    {
     "name": "stdout",
     "output_type": "stream",
     "text": [
      "[1, 2, 3, 4, 5, 10, 20]\n",
      "<class 'list'>\n"
     ]
    }
   ],
   "source": [
    "a = [1, 2, 3, 4, 5, 10, 20]\n",
    "print(a)\n",
    "print(type(a))\n",
    "# print(a.shape) # 배열이 아니기 때문에 오류"
   ]
  },
  {
   "cell_type": "code",
   "execution_count": 32,
   "id": "eda9e6f7",
   "metadata": {},
   "outputs": [
    {
     "name": "stdout",
     "output_type": "stream",
     "text": [
      "['1' '2' '3' '4' '5' '10' '20' '가' '나']\n",
      "<class 'numpy.ndarray'>\n",
      "(9,)\n",
      "<U11\n"
     ]
    }
   ],
   "source": [
    "a = np.array([1, 2, 3, 4, 5, 10, 20, \"가\", \"나\"]) # 전체를 문자열로 바꿔 같은 데이터 타입으로 만듦\n",
    "print(a)\n",
    "print(type(a))\n",
    "print(a.shape) # 배열의 크기\n",
    "print(a.dtype) # 데이터 타입 # 유니코드로 11Byte 문자 표시(한글은 2바이트)\n",
    "\n",
    "# n dimension array"
   ]
  },
  {
   "cell_type": "code",
   "execution_count": 33,
   "id": "3508d368",
   "metadata": {},
   "outputs": [
    {
     "name": "stdout",
     "output_type": "stream",
     "text": [
      "[ 1.  2.  3.  4.  5. 10. 20.]\n",
      "float64\n"
     ]
    }
   ],
   "source": [
    "# a = np.array([1, 2, 3, 4, 5, 10, 20], dtype=float)\n",
    "a = np.array([1, 2, 3, 4, 5, 10, 20], float)\n",
    "print(a)\n",
    "print(a.dtype)"
   ]
  },
  {
   "cell_type": "code",
   "execution_count": 34,
   "id": "4c0ed311",
   "metadata": {},
   "outputs": [
    {
     "name": "stdout",
     "output_type": "stream",
     "text": [
      "[0, 1, 2, 3, 4, 5, 6, 7, 8, 9, 0, 1, 2, 3, 4, 5, 6, 7, 8, 9, 0, 1, 2, 3, 4, 5, 6, 7, 8, 9]\n",
      "4\n",
      "0\n"
     ]
    }
   ],
   "source": [
    "##### 벡터화 연산\n",
    "\n",
    "data1 = [0, 1, 2, 3, 4, 5, 6, 7, 8, 9]\n",
    "\n",
    "print(data1 * 3) # 수학적 연산이 아님\n",
    "# print(data1 - 3) # 리스트는 연산 불가\n",
    "print(data1[0] + data1[4]) # 인덱스로 꺼내야 수학적 계산 가능\n",
    "print(data1[0] * data1[4])"
   ]
  },
  {
   "cell_type": "code",
   "execution_count": 35,
   "id": "3043c835",
   "metadata": {},
   "outputs": [
    {
     "name": "stdout",
     "output_type": "stream",
     "text": [
      "[ 0  2  4  6  8 10 12 14 16 18]\n",
      "[-2 -1  0  1  2  3  4  5  6  7]\n",
      "[0.  0.5 1.  1.5 2.  2.5 3.  3.5 4.  4.5]\n"
     ]
    }
   ],
   "source": [
    "dataArray = np.array(data1)\n",
    "\n",
    "# BroadCasting\n",
    "print(dataArray * 2)\n",
    "print(dataArray - 2)\n",
    "print(dataArray / 2)"
   ]
  },
  {
   "cell_type": "code",
   "execution_count": 21,
   "id": "41440338",
   "metadata": {},
   "outputs": [
    {
     "name": "stdout",
     "output_type": "stream",
     "text": [
      "0 1\n"
     ]
    }
   ],
   "source": [
    "##### 인덱스 접근\n",
    "\n",
    "print(dataArray[0], dataArray[1])"
   ]
  },
  {
   "cell_type": "markdown",
   "id": "a52b1a81",
   "metadata": {},
   "source": [
    "# 2. 2차원 배열"
   ]
  },
  {
   "cell_type": "code",
   "execution_count": 31,
   "id": "2fe203a8",
   "metadata": {},
   "outputs": [
    {
     "name": "stdout",
     "output_type": "stream",
     "text": [
      "[[1 2 3]\n",
      " [4 5 6]]\n",
      "[1 2 3]\n",
      "1\n",
      "(2, 3)\n"
     ]
    }
   ],
   "source": [
    "arr = np.array([[1, 2, 3], [4, 5, 6]])\n",
    "print(arr)\n",
    "print(arr[0])\n",
    "print(arr[0][0])\n",
    "print(arr.shape) # 2행 3열"
   ]
  },
  {
   "cell_type": "markdown",
   "id": "5efd75a6",
   "metadata": {},
   "source": [
    "## 3. 3차원 배열"
   ]
  },
  {
   "cell_type": "code",
   "execution_count": 40,
   "id": "090c5efb",
   "metadata": {},
   "outputs": [
    {
     "name": "stdout",
     "output_type": "stream",
     "text": [
      "[[[ 1  2  3  4]\n",
      "  [ 3  4  5  6]]\n",
      "\n",
      " [[ 7  8  9 10]\n",
      "  [11 12 13 14]]]\n",
      "(2, 2, 4)\n",
      "3\n",
      "-------------\n",
      "[[1 2 3 4]\n",
      " [3 4 5 6]]\n",
      "[1 2 3 4]\n",
      "1\n",
      "-------------\n",
      "2 2 4\n"
     ]
    }
   ],
   "source": [
    "arr = np.array([[[1, 2, 3, 4], [3, 4, 5, 6]], \n",
    "                [[7, 8, 9, 10], [11, 12, 13, 14]]])\n",
    "print(arr)\n",
    "print(arr.shape) # 2행 4열짜리 두개\n",
    "print(arr.ndim) # 몇차원이니?\n",
    "print(\"-------------\")\n",
    "print(arr[0])\n",
    "print(arr[0][0])\n",
    "print(arr[0][0][0])\n",
    "print(\"-------------\")\n",
    "print(len(arr), len(arr[0]), len(arr[0][0]))"
   ]
  },
  {
   "cell_type": "code",
   "execution_count": 41,
   "id": "2493b684",
   "metadata": {},
   "outputs": [
    {
     "name": "stdout",
     "output_type": "stream",
     "text": [
      "[[[[10]]]]\n",
      "(1, 1, 1, 1)\n",
      "4\n"
     ]
    }
   ],
   "source": [
    "arr = np.array([[[[10]]]])\n",
    "print(arr)\n",
    "print(arr.shape)\n",
    "print(arr.ndim)"
   ]
  },
  {
   "cell_type": "markdown",
   "id": "5c1ede27",
   "metadata": {},
   "source": [
    "## 4. 집계 함수"
   ]
  },
  {
   "cell_type": "code",
   "execution_count": 45,
   "id": "fb92f965",
   "metadata": {},
   "outputs": [
    {
     "name": "stdout",
     "output_type": "stream",
     "text": [
      "[-0.27196135 -0.04183873  0.87256451 -0.87561349 -0.23277107  0.4932575\n",
      "  0.11762345  0.51590639]\n",
      "[ 0.62101522 -0.74837007 -1.53344123  2.11888532 -1.30527943  1.09064166\n",
      " -1.14009056 -1.53650832]\n"
     ]
    }
   ],
   "source": [
    "x = np.random.randn(8) # numpy 내에 random 있음\n",
    "                       # 8개의 난수를 구해줌(-1에서 1사이로 보임)\n",
    "                       # rand normal 정규분포\n",
    "y = np.random.randn(8)\n",
    "\n",
    "print(x)\n",
    "print(y)"
   ]
  },
  {
   "cell_type": "code",
   "execution_count": 46,
   "id": "c7f26a1c",
   "metadata": {},
   "outputs": [
    {
     "data": {
      "text/plain": [
       "array([ 0.62101522, -0.04183873,  0.87256451,  2.11888532, -0.23277107,\n",
       "        1.09064166,  0.11762345,  0.51590639])"
      ]
     },
     "execution_count": 46,
     "metadata": {},
     "output_type": "execute_result"
    }
   ],
   "source": [
    "np.maximum(x, y) # 두 개의 배열을 같은 인덱스끼리 비교하여 더 큰 값을 찾음"
   ]
  },
  {
   "cell_type": "code",
   "execution_count": 47,
   "id": "7358ca51",
   "metadata": {},
   "outputs": [
    {
     "name": "stdout",
     "output_type": "stream",
     "text": [
      "[[ 0.87041859  0.28156997  1.97413295 -0.28467672]\n",
      " [-0.60905664 -0.20588177  0.33376977  0.83193902]\n",
      " [-1.0188588   1.61764112 -0.80361309 -0.78741345]\n",
      " [-0.78321135 -1.00760996 -0.58413942 -0.14844772]\n",
      " [ 0.46726307 -0.07493594  0.24329907  1.07420864]]\n"
     ]
    }
   ],
   "source": [
    "arr = np.random.randn(5, 4)\n",
    "print(arr)"
   ]
  },
  {
   "cell_type": "code",
   "execution_count": 51,
   "id": "2f8b7eaf",
   "metadata": {},
   "outputs": [
    {
     "name": "stdout",
     "output_type": "stream",
     "text": [
      "1.3863973245280514\n",
      "[-1.07344514  0.61078341  1.16344927  0.68560978]\n",
      "[ 2.84144479  0.35077038 -0.99224423 -2.52340845  1.70983483]\n"
     ]
    }
   ],
   "source": [
    "# ?np.sum\n",
    "print(arr.sum())\n",
    "print(arr.sum(axis=0)) # 열의 합계\n",
    "print(arr.sum(axis=1)) # 행의 합계"
   ]
  },
  {
   "cell_type": "markdown",
   "id": "1a1d2624",
   "metadata": {},
   "source": [
    "## 5. 배열의 인덱싱"
   ]
  },
  {
   "cell_type": "code",
   "execution_count": 53,
   "id": "69adafe4",
   "metadata": {},
   "outputs": [
    {
     "name": "stdout",
     "output_type": "stream",
     "text": [
      "300 500 500 300\n"
     ]
    }
   ],
   "source": [
    "arr = np.array([100, 200, 300, 400, 500])\n",
    "\n",
    "print(arr[2], arr[4], arr[-1], arr[-3])"
   ]
  },
  {
   "cell_type": "code",
   "execution_count": 59,
   "id": "f94f1826",
   "metadata": {},
   "outputs": [],
   "source": [
    "arr = np.array([[0, 1, 2], [3, 4, 5]])"
   ]
  },
  {
   "cell_type": "code",
   "execution_count": 58,
   "id": "3ed238d5",
   "metadata": {},
   "outputs": [
    {
     "name": "stdout",
     "output_type": "stream",
     "text": [
      "0\n"
     ]
    }
   ],
   "source": [
    "##### list\n",
    "temp = [[0, 1, 2], [3, 4, 5]]\n",
    "print(temp[0][0])\n",
    "# print(temp[0, 0]) # 오류"
   ]
  },
  {
   "cell_type": "code",
   "execution_count": 60,
   "id": "acf3e48e",
   "metadata": {},
   "outputs": [
    {
     "name": "stdout",
     "output_type": "stream",
     "text": [
      "0\n",
      "0\n"
     ]
    }
   ],
   "source": [
    "##### array\n",
    "print(arr[0][0])\n",
    "print(arr[0, 0])"
   ]
  },
  {
   "cell_type": "code",
   "execution_count": 70,
   "id": "4edb309f",
   "metadata": {},
   "outputs": [
    {
     "name": "stdout",
     "output_type": "stream",
     "text": [
      "[0 1 2 3 4 5 6 7 8 9]\n",
      "[0 2 4 6 8]\n",
      "[0 2 4 6 8]\n",
      "[0 3 6 9]\n",
      "[1 5 9]\n",
      "[9]\n"
     ]
    }
   ],
   "source": [
    "##### fancy index\n",
    "\n",
    "arr = np.array([i for i in range(10)]) # 0~9\n",
    "print(arr)\n",
    "idx = np.array([True, False, True, False, True, False, True, False, True, False])\n",
    "\n",
    "print(arr[idx]) # True인 인덱스만 출력\n",
    "\n",
    "print(arr[arr % 2 == 0]) # True만 출력\n",
    "\n",
    "print(arr[arr % 3 == 0])\n",
    "\n",
    "print(arr[arr % 4 == 1])\n",
    "\n",
    "print(arr[(arr % 3 == 0) & (arr % 4 == 1)])"
   ]
  },
  {
   "cell_type": "markdown",
   "id": "abd45875",
   "metadata": {},
   "source": [
    "## 6. 배열의 슬라이싱"
   ]
  },
  {
   "cell_type": "code",
   "execution_count": 77,
   "id": "6b9c554a",
   "metadata": {},
   "outputs": [
    {
     "name": "stdout",
     "output_type": "stream",
     "text": [
      "[0 1]\n",
      "-----------\n",
      "[[4 5]\n",
      " [8 9]]\n",
      "-----------\n",
      "[0 1 2 3]\n",
      "-----------\n",
      "[[ 8  9 10 11]\n",
      " [ 4  5  6  7]\n",
      " [ 0  1  2  3]]\n",
      "-----------\n",
      "[[ 0  1  2  3]\n",
      " [ 8  9 10 11]]\n",
      "-----------\n",
      "[[ 0  3]\n",
      " [ 4  7]\n",
      " [ 8 11]]\n"
     ]
    }
   ],
   "source": [
    "arr = np.array([[0, 1, 2, 3],\n",
    "               [4, 5, 6, 7], \n",
    "               [8, 9, 10, 11]])\n",
    "\n",
    "print(arr[0, 0:2])\n",
    "print(\"-----------\")\n",
    "print(arr[1:3, 0:2])\n",
    "print(\"-----------\")\n",
    "print(arr[0, :])\n",
    "print(\"-----------\")\n",
    "print(arr[[2, 1, 0], :])\n",
    "print(\"-----------\")\n",
    "print(arr[[0, 2], :])\n",
    "print(\"-----------\")\n",
    "print(arr[:, [0, 3]])"
   ]
  },
  {
   "cell_type": "markdown",
   "id": "5162908e",
   "metadata": {},
   "source": [
    "## 7. numpy 자료형\n",
    "\n",
    "- b : 불리언\n",
    "- i : 정수형\n",
    "- u : 부호없는 정수형\n",
    "- f : 부동 소수점(실수)\n",
    "- c : 복소수\n",
    "- O : 객체\n",
    "- S : 바이트 문자열(ASKII CODE 영문자)\n",
    "- U : 유니코드(2바이트)"
   ]
  },
  {
   "cell_type": "code",
   "execution_count": 83,
   "id": "9866a469",
   "metadata": {},
   "outputs": [
    {
     "name": "stdout",
     "output_type": "stream",
     "text": [
      "int64\n"
     ]
    }
   ],
   "source": [
    "# a1 = np.dtype(\"i\")\n",
    "# a1 = np.dtype(\"i4\")\n",
    "a1 = np.dtype(\"i8\")\n",
    "print(a1)"
   ]
  },
  {
   "cell_type": "code",
   "execution_count": 89,
   "id": "5d193580",
   "metadata": {},
   "outputs": [
    {
     "name": "stdout",
     "output_type": "stream",
     "text": [
      "float16\n",
      "3.0\n",
      "--------------------------------------------------\n",
      "12\n",
      "<U1\n"
     ]
    }
   ],
   "source": [
    "# arr = np.array([1, 2, 3], dtype=\"f\")\n",
    "arr = np.array([1, 2, 3], dtype=np.float16)\n",
    "print(arr.dtype)\n",
    "print(arr[0] + arr[1])\n",
    "\n",
    "print(\"--------------------------------------------------\")\n",
    "\n",
    "arr = np.array([1, 2, 3], dtype=\"U\")\n",
    "print(arr[0] + arr[1])\n",
    "print(arr.dtype)"
   ]
  },
  {
   "cell_type": "markdown",
   "id": "afe715af",
   "metadata": {},
   "source": [
    "## 8. 배열 생성"
   ]
  },
  {
   "cell_type": "code",
   "execution_count": 2,
   "id": "3fbbda50",
   "metadata": {},
   "outputs": [
    {
     "name": "stdout",
     "output_type": "stream",
     "text": [
      "[0. 0. 0. 0. 0.]\n",
      "float64\n",
      "<class 'numpy.ndarray'>\n",
      "-----------------------------------\n",
      "[0 0 0 0 0]\n",
      "int64\n",
      "-----------------------------------\n",
      "[b'' b'' b'' b'' b'']\n",
      "|S4\n",
      "[b'abc' b'abcd' b'abcd' b'' b'']\n",
      "-----------------------------------\n",
      "[[0. 0. 0.]\n",
      " [0. 0. 0.]]\n"
     ]
    }
   ],
   "source": [
    "arr = np.zeros(5) # 모든 데이터를 0으로\n",
    "print(arr)\n",
    "print(arr.dtype)\n",
    "print(type(arr))\n",
    "\n",
    "print(\"-----------------------------------\")\n",
    "\n",
    "arr = np.zeros(5, dtype=\"i8\")\n",
    "print(arr)\n",
    "print(arr.dtype)\n",
    "\n",
    "print(\"-----------------------------------\")\n",
    "\n",
    "arr = np.zeros(5, dtype=\"S4\") # 한글자를 1바이트로 처리했다는 것을 보여줌 데이터 앞에 b 붙임\n",
    "print(arr)\n",
    "print(arr.dtype)\n",
    "\n",
    "arr[0] = \"abc\"\n",
    "arr[1] = \"abcd\"\n",
    "arr[2] = \"abcde\"\n",
    "print(arr)\n",
    "\n",
    "print(\"-----------------------------------\")\n",
    "\n",
    "print(np.zeros((2, 3))) # 2x3, 모든 원소가 0인 행렬"
   ]
  },
  {
   "cell_type": "code",
   "execution_count": 106,
   "id": "7fbf9213",
   "metadata": {},
   "outputs": [
    {
     "name": "stdout",
     "output_type": "stream",
     "text": [
      "[[[1. 1. 1. 1.]\n",
      "  [1. 1. 1. 1.]\n",
      "  [1. 1. 1. 1.]]\n",
      "\n",
      " [[1. 1. 1. 1.]\n",
      "  [1. 1. 1. 1.]\n",
      "  [1. 1. 1. 1.]]]\n",
      "--------------------\n",
      "[[1. 1. 1.]\n",
      " [1. 1. 1.]]\n",
      "--------------------\n",
      "[[4.24399158e-314 8.48798317e-314 8.48798317e-314]\n",
      " [1.27319747e-313 1.69759663e-313 2.12199579e-313]\n",
      " [2.54639495e-313 2.97079411e-313 1.69759663e-313]\n",
      " [2.12199579e-313 2.54639495e-313 2.97079411e-313]]\n",
      "--------------------\n",
      "[0 1 2 3 4 5 6 7 8 9]\n",
      "--------------------\n",
      "[  1.    25.75  50.5   75.25 100.  ]\n"
     ]
    }
   ],
   "source": [
    "arr = np.ones((2, 3, 4))\n",
    "print(arr)\n",
    "\n",
    "print(\"--------------------\")\n",
    "\n",
    "arr = np.zeros((2, 3))\n",
    "arr2 = np.ones_like(arr) # arr와 형태 동일하게\n",
    "print(arr2)\n",
    "\n",
    "print(\"--------------------\")\n",
    "\n",
    "arr = np.empty((4, 3)) # empty 초기화를 하지 않겠다 쓰레기값 그대로 쓰겠다\n",
    "print(arr)\n",
    "\n",
    "print(\"--------------------\")\n",
    "\n",
    "arr = np.arange(10)\n",
    "print(arr) # 0~9 연속적인 정수 배열\n",
    "\n",
    "print(\"--------------------\")\n",
    "\n",
    "arr = np.linspace(1, 100, 5)\n",
    "print(arr)"
   ]
  },
  {
   "cell_type": "markdown",
   "id": "2d0fcf4e",
   "metadata": {},
   "source": [
    "## 9. 전치 연산(Transpose)"
   ]
  },
  {
   "cell_type": "code",
   "execution_count": 109,
   "id": "76252d43",
   "metadata": {},
   "outputs": [
    {
     "name": "stdout",
     "output_type": "stream",
     "text": [
      "[[1 2 3]\n",
      " [4 5 6]]\n",
      "[[1 4]\n",
      " [2 5]\n",
      " [3 6]]\n"
     ]
    }
   ],
   "source": [
    "arr = np.array([[1, 2, 3], [4, 5, 6]])\n",
    "\n",
    "print(arr)\n",
    "print(arr.T)"
   ]
  },
  {
   "cell_type": "markdown",
   "id": "675a600a",
   "metadata": {},
   "source": [
    "## 10. 배열의 크기 변형 : reshape(), flatten(), ravel()\n",
    "    - flatten(), ravel() : 복잡한 차원을 1차원으로 변형해줌"
   ]
  },
  {
   "cell_type": "code",
   "execution_count": 115,
   "id": "9ceaab2e",
   "metadata": {},
   "outputs": [
    {
     "name": "stdout",
     "output_type": "stream",
     "text": [
      "[ 0  1  2  3  4  5  6  7  8  9 10 11]\n",
      "(12,)\n",
      "int32\n",
      "1\n"
     ]
    }
   ],
   "source": [
    "arr = np.arange(12)\n",
    "print(arr)\n",
    "print(arr.shape) # 데이터 개수\n",
    "print(arr.dtype)\n",
    "print(arr.ndim)"
   ]
  },
  {
   "cell_type": "code",
   "execution_count": 134,
   "id": "d21e130c",
   "metadata": {},
   "outputs": [
    {
     "name": "stdout",
     "output_type": "stream",
     "text": [
      "[[ 0  1  2  3]\n",
      " [ 4  5  6  7]\n",
      " [ 8  9 10 11]]\n",
      "(3, 4)\n",
      "---------------\n",
      "[[ 0  1  2  3]\n",
      " [ 4  5  6  7]\n",
      " [ 8  9 10 11]]\n",
      "(3, 4)\n",
      "---------------\n",
      "[[ 0  1  2  3]\n",
      " [ 4  5  6  7]\n",
      " [ 8  9 10 11]]\n",
      "(3, 4)\n"
     ]
    }
   ],
   "source": [
    "arr1 = arr.reshape(3, 4)\n",
    "print(arr1)\n",
    "print(arr1.shape)\n",
    "\n",
    "print(\"---------------\")\n",
    "\n",
    "arr1 = arr.reshape(3, -1) # -1 : 자동 열계산\n",
    "print(arr1) \n",
    "print(arr1.shape)\n",
    "\n",
    "print(\"---------------\")\n",
    "\n",
    "arr1 = arr.reshape(-1, 4) # -1 : 자동 열계산\n",
    "print(arr1) \n",
    "print(arr1.shape)"
   ]
  },
  {
   "cell_type": "code",
   "execution_count": 140,
   "id": "e1c097a5",
   "metadata": {},
   "outputs": [
    {
     "name": "stdout",
     "output_type": "stream",
     "text": [
      "[[[ 0  1  2]\n",
      "  [ 3  4  5]]\n",
      "\n",
      " [[ 6  7  8]\n",
      "  [ 9 10 11]]]\n",
      "(2, 2, 3)\n",
      "---------------\n",
      "[[[ 0  1  2]\n",
      "  [ 3  4  5]]\n",
      "\n",
      " [[ 6  7  8]\n",
      "  [ 9 10 11]]]\n",
      "(2, 2, 3)\n",
      "---------------\n",
      "[[[ 0  1  2]\n",
      "  [ 3  4  5]]\n",
      "\n",
      " [[ 6  7  8]\n",
      "  [ 9 10 11]]]\n",
      "(2, 2, 3)\n",
      "---------------\n",
      "[[[ 0  1  2]\n",
      "  [ 3  4  5]]\n",
      "\n",
      " [[ 6  7  8]\n",
      "  [ 9 10 11]]]\n",
      "(2, 2, 3)\n"
     ]
    }
   ],
   "source": [
    "arr2 = arr.reshape(2, 2, 3) # -1 : 자동 열계산\n",
    "print(arr2) \n",
    "print(arr2.shape)\n",
    "\n",
    "print(\"---------------\")\n",
    "\n",
    "arr2 = arr.reshape(-1, 2, 3) # -1 : 자동 열계산\n",
    "print(arr2) \n",
    "print(arr2.shape)\n",
    "\n",
    "print(\"---------------\")\n",
    "\n",
    "arr2 = arr.reshape(2, -1, 3) # -1 : 자동 열계산\n",
    "print(arr2) \n",
    "print(arr2.shape)\n",
    "\n",
    "print(\"---------------\")\n",
    "\n",
    "arr2 = arr.reshape(2, 2, -1) # -1 : 자동 열계산\n",
    "print(arr2) \n",
    "print(arr2.shape)"
   ]
  },
  {
   "cell_type": "code",
   "execution_count": 146,
   "id": "c47ef43a",
   "metadata": {},
   "outputs": [
    {
     "name": "stdout",
     "output_type": "stream",
     "text": [
      "[ 0  1  2  3  4  5  6  7  8  9 10 11]\n",
      "[ 0  1  2  3  4  5  6  7  8  9 10 11]\n",
      "-------------------------------------\n",
      "[ 0  1  2  3  4  5  6  7  8  9 10 11]\n",
      "[ 0  1  2  3  4  5  6  7  8  9 10 11]\n"
     ]
    }
   ],
   "source": [
    "print(arr1.flatten())\n",
    "print(arr1.ravel())\n",
    "print(\"-------------------------------------\")\n",
    "print(arr2.flatten())\n",
    "print(arr2.ravel())"
   ]
  },
  {
   "cell_type": "code",
   "execution_count": 153,
   "id": "ad0b1283",
   "metadata": {},
   "outputs": [
    {
     "name": "stdout",
     "output_type": "stream",
     "text": [
      "[[0 1 2 3 4]]\n",
      "[[0]\n",
      " [1]\n",
      " [2]\n",
      " [3]\n",
      " [4]]\n",
      "reshape은 원본을 바꾼 것이 아님 (5,)\n",
      "-----------------------------------\n",
      "[[0]\n",
      " [1]\n",
      " [2]\n",
      " [3]\n",
      " [4]]\n"
     ]
    }
   ],
   "source": [
    "arr = np.arange(5)\n",
    "\n",
    "print(arr.reshape(1, 5))\n",
    "print(arr.reshape(5, 1))\n",
    "print(\"reshape은 원본을 바꾼 것이 아님\", arr.shape)\n",
    "\n",
    "print(\"-----------------------------------\")\n",
    "\n",
    "print(arr[:, np.newaxis]) # 임의로 축을 늘려줌"
   ]
  },
  {
   "cell_type": "markdown",
   "id": "28a81af8",
   "metadata": {},
   "source": [
    "## 11. 배열 연결(병합) : hstack, vstack, dstack, stack, tile\n",
    "\n",
    "- hstack(), vstack()"
   ]
  },
  {
   "cell_type": "code",
   "execution_count": 5,
   "id": "ff6235f7",
   "metadata": {},
   "outputs": [
    {
     "name": "stdout",
     "output_type": "stream",
     "text": [
      "[[1. 1. 1.]\n",
      " [1. 1. 1.]]\n",
      "[[1. 1.]\n",
      " [1. 1.]]\n",
      "[[1. 1. 1. 1. 1.]\n",
      " [1. 1. 1. 1. 1.]]\n"
     ]
    }
   ],
   "source": [
    "arr1 = np.ones((2, 3))\n",
    "arr2 = np.ones((2, 2))\n",
    "\n",
    "print(arr1)\n",
    "print(arr2)\n",
    "\n",
    "# 행이 동일, 수평으로\n",
    "arr3 = np.hstack([arr1, arr2])\n",
    "print(arr3)"
   ]
  },
  {
   "cell_type": "markdown",
   "id": "01d34bd7",
   "metadata": {},
   "source": [
    "- dstack() : 깊이(depth)를 기준으로 쌓는다(2차원+2차원:3차원)\n",
    "    - 열(필드) 기준으로 합침 > 데이터 분석에 용이"
   ]
  },
  {
   "cell_type": "code",
   "execution_count": 9,
   "id": "7f2d5964",
   "metadata": {},
   "outputs": [
    {
     "name": "stdout",
     "output_type": "stream",
     "text": [
      "[[[1. 1.]\n",
      "  [1. 1.]\n",
      "  [1. 1.]]\n",
      "\n",
      " [[1. 1.]\n",
      "  [1. 1.]\n",
      "  [1. 1.]]]\n"
     ]
    }
   ],
   "source": [
    "arr1 = np.ones((2, 3))\n",
    "arr2 = np.ones((2, 3))\n",
    "\n",
    "arr3 = np.dstack([arr1, arr2])\n",
    "\n",
    "print(arr3)"
   ]
  },
  {
   "cell_type": "code",
   "execution_count": 10,
   "id": "77692d36",
   "metadata": {},
   "outputs": [
    {
     "name": "stdout",
     "output_type": "stream",
     "text": [
      "[[[1. 1.]\n",
      "  [1. 1.]\n",
      "  [1. 1.]\n",
      "  [1. 1.]]\n",
      "\n",
      " [[1. 1.]\n",
      "  [1. 1.]\n",
      "  [1. 1.]\n",
      "  [1. 1.]]\n",
      "\n",
      " [[1. 1.]\n",
      "  [1. 1.]\n",
      "  [1. 1.]\n",
      "  [1. 1.]]]\n"
     ]
    }
   ],
   "source": [
    "arr1 = np.ones((3, 4))\n",
    "arr2 = np.ones((3, 4))\n",
    "\n",
    "arr3 = np.dstack([arr1, arr2])\n",
    "\n",
    "print(arr3)\n",
    "\n",
    "# 만들어질 때는 (3, 4, 2) 3행 4열 2개\n",
    "# 만들어지고 나서는 4행 2열이 2개\n",
    "# dstack은 깊이를 마지막에 추가(2)하지만 \n",
    "## 그걸 읽어올 때는 축이 맨 앞으로 오기 때문에 모양이 바뀜"
   ]
  },
  {
   "cell_type": "code",
   "execution_count": 11,
   "id": "b9f7be17",
   "metadata": {},
   "outputs": [
    {
     "name": "stdout",
     "output_type": "stream",
     "text": [
      "[[[1 4]\n",
      "  [2 5]\n",
      "  [3 6]]]\n"
     ]
    }
   ],
   "source": [
    "arr1 = [1, 2, 3]\n",
    "arr2 = [4, 5, 6]\n",
    "\n",
    "arr3 = np.dstack([arr1, arr2])\n",
    "\n",
    "print(arr3)"
   ]
  },
  {
   "cell_type": "code",
   "execution_count": 13,
   "id": "7fd5fe07",
   "metadata": {},
   "outputs": [
    {
     "name": "stdout",
     "output_type": "stream",
     "text": [
      "[[[1. 1. 1.]\n",
      "  [1. 1. 1.]\n",
      "  [1. 1. 1.]\n",
      "  [1. 1. 1.]]\n",
      "\n",
      " [[1. 1. 1.]\n",
      "  [1. 1. 1.]\n",
      "  [1. 1. 1.]\n",
      "  [1. 1. 1.]]\n",
      "\n",
      " [[1. 1. 1.]\n",
      "  [1. 1. 1.]\n",
      "  [1. 1. 1.]\n",
      "  [1. 1. 1.]]]\n"
     ]
    }
   ],
   "source": [
    "arr1 = np.ones((3, 4))\n",
    "arr2 = np.ones((3, 4))\n",
    "arr3 = np.ones((3, 4))\n",
    "# 3행 4열이 3개 > 3, 4, 3 > 4행 3열 3개\n",
    "\n",
    "arr4 = np.dstack([arr1, arr2, arr3])\n",
    "\n",
    "print(arr4)"
   ]
  },
  {
   "cell_type": "code",
   "execution_count": 15,
   "id": "692f1eed",
   "metadata": {},
   "outputs": [
    {
     "name": "stdout",
     "output_type": "stream",
     "text": [
      "[[[ 1  1  1]\n",
      "  [ 2  2  2]\n",
      "  [ 3  3  3]\n",
      "  [ 4  4  4]]\n",
      "\n",
      " [[ 5  5  5]\n",
      "  [ 6  6  6]\n",
      "  [ 7  7  7]\n",
      "  [ 8  8  8]]\n",
      "\n",
      " [[ 9  9  9]\n",
      "  [10 10 10]\n",
      "  [11 11 11]\n",
      "  [12 12 12]]]\n"
     ]
    }
   ],
   "source": [
    "arr1 = [[1, 2, 3, 4], [5, 6, 7, 8,], [9, 10, 11, 12]]\n",
    "arr2 = [[1, 2, 3, 4], [5, 6, 7, 8,], [9, 10, 11, 12]]\n",
    "arr3 = [[1, 2, 3, 4], [5, 6, 7, 8,], [9, 10, 11, 12]]\n",
    "\n",
    "arr4 = np.dstack([arr1, arr2, arr3])\n",
    "\n",
    "print(arr4)"
   ]
  },
  {
   "cell_type": "markdown",
   "id": "152074f8",
   "metadata": {},
   "source": [
    "- stack()"
   ]
  },
  {
   "cell_type": "code",
   "execution_count": 18,
   "id": "814eb69d",
   "metadata": {},
   "outputs": [
    {
     "name": "stdout",
     "output_type": "stream",
     "text": [
      "[[1 2 3]\n",
      " [4 5 6]]\n",
      "(2, 3)\n"
     ]
    }
   ],
   "source": [
    "# axis = 0 \n",
    "\n",
    "arr1 = [1, 2, 3]\n",
    "arr2 = [4, 5, 6]\n",
    "\n",
    "arr3 = np.stack([arr1, arr2]) # (2, 3)\n",
    "\n",
    "print(arr3)\n",
    "print(arr3.shape)"
   ]
  },
  {
   "cell_type": "code",
   "execution_count": 19,
   "id": "2d05c8ce",
   "metadata": {},
   "outputs": [
    {
     "name": "stdout",
     "output_type": "stream",
     "text": [
      "[[[1. 1. 1. 1.]\n",
      "  [1. 1. 1. 1.]]\n",
      "\n",
      " [[1. 1. 1. 1.]\n",
      "  [1. 1. 1. 1.]]\n",
      "\n",
      " [[1. 1. 1. 1.]\n",
      "  [1. 1. 1. 1.]]]\n",
      "(3, 2, 4)\n"
     ]
    }
   ],
   "source": [
    "arr1 = np.ones((3, 4))\n",
    "arr2 = np.ones((3, 4))\n",
    "\n",
    "arr3 = np.stack([arr1, arr2], axis=1) # (3, 2, 4) 2가 중간에 들어감\n",
    "\n",
    "print(arr3)\n",
    "print(arr3.shape)"
   ]
  },
  {
   "cell_type": "code",
   "execution_count": 20,
   "id": "1a4f472c",
   "metadata": {},
   "outputs": [
    {
     "name": "stdout",
     "output_type": "stream",
     "text": [
      "[[[1. 1.]\n",
      "  [1. 1.]\n",
      "  [1. 1.]\n",
      "  [1. 1.]]\n",
      "\n",
      " [[1. 1.]\n",
      "  [1. 1.]\n",
      "  [1. 1.]\n",
      "  [1. 1.]]\n",
      "\n",
      " [[1. 1.]\n",
      "  [1. 1.]\n",
      "  [1. 1.]\n",
      "  [1. 1.]]]\n",
      "(3, 4, 2)\n"
     ]
    }
   ],
   "source": [
    "# dstack과 동일\n",
    "arr1 = np.ones((3, 4))\n",
    "arr2 = np.ones((3, 4))\n",
    "\n",
    "arr3 = np.stack([arr1, arr2], axis=2) # (3, 4, 2) 2가 2번 자리(0, 1, 2)에 들어감\n",
    "\n",
    "print(arr3)\n",
    "print(arr3.shape)"
   ]
  },
  {
   "cell_type": "markdown",
   "id": "2e52b766",
   "metadata": {},
   "source": [
    "- tile()"
   ]
  },
  {
   "cell_type": "code",
   "execution_count": 29,
   "id": "7cf023ca",
   "metadata": {},
   "outputs": [
    {
     "name": "stdout",
     "output_type": "stream",
     "text": [
      "[1 1 1]\n",
      "[0 1 0 1 0 1]\n",
      "[[0 1 0 1 0 1]\n",
      " [2 3 2 3 2 3]]\n",
      "----------------------------\n",
      "[[1 1 1]\n",
      " [1 1 1]]\n",
      "[[0 1 0 1 0 1]\n",
      " [0 1 0 1 0 1]]\n",
      "[[0 1 0 1 0 1]\n",
      " [2 3 2 3 2 3]\n",
      " [0 1 0 1 0 1]\n",
      " [2 3 2 3 2 3]]\n",
      "----------------------------\n",
      "[[[0 1 0 1 0 1]\n",
      "  [0 1 0 1 0 1]]\n",
      "\n",
      " [[0 1 0 1 0 1]\n",
      "  [0 1 0 1 0 1]]\n",
      "\n",
      " [[0 1 0 1 0 1]\n",
      "  [0 1 0 1 0 1]]\n",
      "\n",
      " [[0 1 0 1 0 1]\n",
      "  [0 1 0 1 0 1]]]\n"
     ]
    }
   ],
   "source": [
    "A = 1\n",
    "B = np.array([0, 1])\n",
    "C = np.array([[0, 1], [2, 3]])\n",
    "\n",
    "print(np.tile(A, 3))\n",
    "print(np.tile(B, 3))\n",
    "print(np.tile(C, 3))\n",
    "print(\"----------------------------\")\n",
    "print(np.tile(A, (2, 3)))\n",
    "print(np.tile(B, (2, 3)))\n",
    "print(np.tile(C, (2, 3)))\n",
    "print(\"----------------------------\")\n",
    "print(np.tile(B, (4, 2, 3))) # 3번씩 반복된 걸 2행씩 묶어주고 4번 반복"
   ]
  },
  {
   "cell_type": "markdown",
   "id": "1de089aa",
   "metadata": {},
   "source": [
    "## 12. BroadCasting\n",
    "- 크기가 서로 다른 행렬(벡터)끼리 연산을 가능하게 하는 것"
   ]
  },
  {
   "cell_type": "code",
   "execution_count": 47,
   "id": "7e1f6406",
   "metadata": {},
   "outputs": [
    {
     "name": "stdout",
     "output_type": "stream",
     "text": [
      "[[0 1 2]\n",
      " [1 2 3]\n",
      " [2 3 4]\n",
      " [3 4 5]\n",
      " [4 5 6]]\n",
      "[[0]\n",
      " [1]\n",
      " [2]\n",
      " [3]\n",
      " [4]]\n",
      "[[ 0  1  2]\n",
      " [ 2  3  4]\n",
      " [ 4  5  6]\n",
      " [ 6  7  8]\n",
      " [ 8  9 10]]\n",
      "-------------------------\n",
      "[0 1 2]\n",
      "[[0 2 4]\n",
      " [1 3 5]\n",
      " [2 4 6]\n",
      " [3 5 7]\n",
      " [4 6 8]]\n"
     ]
    }
   ],
   "source": [
    "# [0:3] ~ [4:7] 인덱스별로 1행 3열짜리를 만들어 vstack > 5행 3열\n",
    "x = np.vstack([range(7)[i:i+3] for i in range(5)])\n",
    "\n",
    "# 5행 1열의 2차원 배열\n",
    "y = np.arange(5)[:, np.newaxis]\n",
    "\n",
    "print(x)\n",
    "print(y)\n",
    "\n",
    "print(x + y)\n",
    "\n",
    "print(\"-------------------------\")\n",
    "\n",
    "y = np.arange(3) # [0 1 2]\n",
    "# y = np.arange(2) # 오류, 열과 행 모두 상이해 계산 불가\n",
    "print(y)\n",
    "\n",
    "print(x + y)"
   ]
  },
  {
   "cell_type": "markdown",
   "id": "a11f30db",
   "metadata": {},
   "source": [
    "## 13. 차원 축소(dimension reduction) 연산\n",
    "\n",
    "- 최댓값 / 최솟값 : max(), min(), argmax(), argmin()\n",
    "- 대푯값 : sum(), mean(), median(), std(), var()\n",
    "- 행렬 하나의 행에 있는 원소들을 하나의 데이터 집합으로 보고 그 집합의 평균을 구하면 각 행에 대해 하나의 숫자가 나오게 됨(레코드라고 보면 됨, 성적), 이러한 연산을 차원 축소 연산이라고 함"
   ]
  },
  {
   "cell_type": "code",
   "execution_count": 50,
   "id": "996fb105",
   "metadata": {},
   "outputs": [
    {
     "name": "stdout",
     "output_type": "stream",
     "text": [
      "3\n",
      "-3\n",
      "------------\n",
      "1\n",
      "3\n"
     ]
    }
   ],
   "source": [
    "x = np.array([1, 3, 2, -3])\n",
    "\n",
    "print(x.max())\n",
    "print(x.min())\n",
    "\n",
    "print(\"------------\")\n",
    "\n",
    "#argmax, min = 인덱스를 반환, 해당 필드를 알 수 있음(국어 성적, 수학 성적 등등...)\n",
    "print(np.argmax(x))\n",
    "print(np.argmin(x))"
   ]
  },
  {
   "cell_type": "markdown",
   "id": "aefe1d83",
   "metadata": {},
   "source": [
    "## 14. 기술 통계\n",
    "\n",
    "- sum(), mean()\n",
    "- var(), std()\n",
    "- max(), min()\n",
    "- median()\n",
    "- percentile()\n",
    "- ..."
   ]
  },
  {
   "cell_type": "markdown",
   "id": "a54325bf",
   "metadata": {},
   "source": [
    "## 15. 정렬"
   ]
  },
  {
   "cell_type": "code",
   "execution_count": 57,
   "id": "e0e223c0",
   "metadata": {},
   "outputs": [
    {
     "name": "stdout",
     "output_type": "stream",
     "text": [
      "[[ 3  4  5  7]\n",
      " [ 1  9 11 12]\n",
      " [ 1  2 14 15]]\n",
      "[[ 3  4  5  7]\n",
      " [ 1  9 11 12]\n",
      " [ 1  2 14 15]]\n",
      "[[ 1  3  1  7]\n",
      " [ 2 12  5  9]\n",
      " [ 4 15 11 14]]\n"
     ]
    }
   ],
   "source": [
    "arr = np.array([[4, 3, 5, 7],\n",
    "               [1, 12, 11, 9],\n",
    "               [2, 15, 1, 14]])\n",
    "\n",
    "# 정렬된 행렬은 복사본임\n",
    "print(np.sort(arr))\n",
    "print(np.sort(arr, axis=1)) # 1은 행\n",
    "print(np.sort(arr, axis=0)) # 0은 열"
   ]
  },
  {
   "cell_type": "code",
   "execution_count": 58,
   "id": "5f1073b9",
   "metadata": {},
   "outputs": [
    {
     "name": "stdout",
     "output_type": "stream",
     "text": [
      "[[ 4  3  5  7]\n",
      " [ 1 12 11  9]\n",
      " [ 2 15  1 14]]\n",
      "[[ 3  4  5  7]\n",
      " [ 1  9 11 12]\n",
      " [ 1  2 14 15]]\n",
      "[[ 1  3  1  7]\n",
      " [ 2 12  5  9]\n",
      " [ 4 15 11 14]]\n"
     ]
    }
   ],
   "source": [
    "print(arr)\n",
    "\n",
    "arr1 = np.sort(arr)\n",
    "print(arr1)\n",
    "\n",
    "# 또는\n",
    "arr.sort(axis=0)\n",
    "print(arr)"
   ]
  },
  {
   "cell_type": "code",
   "execution_count": 59,
   "id": "e442c20f",
   "metadata": {},
   "outputs": [
    {
     "name": "stdout",
     "output_type": "stream",
     "text": [
      "[2 3 1 0]\n"
     ]
    }
   ],
   "source": [
    "##### argsort()\n",
    "\n",
    "arr = np.array([42, 38, 12, 25])\n",
    "idx = np.argsort(arr) \n",
    "print(idx) # [2 3 1 0] 12(idx=2)가 제일 작고 42(idx=0)이 제일 큼"
   ]
  },
  {
   "cell_type": "code",
   "execution_count": 60,
   "id": "9e4a789d",
   "metadata": {},
   "outputs": [
    {
     "data": {
      "text/plain": [
       "array([42, 38, 25, 12])"
      ]
     },
     "execution_count": 60,
     "metadata": {},
     "output_type": "execute_result"
    }
   ],
   "source": [
    "np.sort(arr)[::-1]"
   ]
  },
  {
   "cell_type": "code",
   "execution_count": 62,
   "id": "345a1498",
   "metadata": {},
   "outputs": [
    {
     "data": {
      "text/plain": [
       "array([42, 38, 25, 12])"
      ]
     },
     "execution_count": 62,
     "metadata": {},
     "output_type": "execute_result"
    }
   ],
   "source": [
    "arr[np.argsort(-arr)] # 내림차순"
   ]
  },
  {
   "cell_type": "markdown",
   "id": "4d1bc923",
   "metadata": {},
   "source": [
    "## 16. 난수\n",
    "\n",
    "- rand() : 0~1 사이의 균일 분포(주사위 던져서 각각의 눈이 나올 확률은 모두 1/6)\n",
    "- randn() : 표준 정규 분포\n",
    "- randint() : 균일 분포의 정수"
   ]
  },
  {
   "cell_type": "code",
   "execution_count": 64,
   "id": "26540273",
   "metadata": {},
   "outputs": [
    {
     "name": "stdout",
     "output_type": "stream",
     "text": [
      "[0.60659726 0.2484182  0.34238328 0.52172469 0.01836259 0.20124015\n",
      " 0.33941851 0.57224104 0.82966599 0.04141903]\n",
      "------------------------------\n",
      "[[0.99439209 0.44399632 0.44660383 0.09925897 0.39631991]\n",
      " [0.05810284 0.53481354 0.02181466 0.90009751 0.77718083]\n",
      " [0.73858233 0.03325427 0.89203445 0.85297557 0.83054914]]\n"
     ]
    }
   ],
   "source": [
    "print(np.random.rand(10))\n",
    "print(\"------------------------------\")\n",
    "print(np.random.rand(3, 5))"
   ]
  },
  {
   "cell_type": "code",
   "execution_count": 109,
   "id": "4d4f9409",
   "metadata": {},
   "outputs": [
    {
     "name": "stdout",
     "output_type": "stream",
     "text": [
      "2\n",
      "----------------------\n",
      "[[15 17 13 16]\n",
      " [14 12 17 17]\n",
      " [12 18 12 16]]\n"
     ]
    }
   ],
   "source": [
    "print(np.random.randint(3)) # 0부터 3까지\n",
    "print(\"----------------------\")\n",
    "print(np.random.randint(11, 20, size=(3, 4)))"
   ]
  },
  {
   "cell_type": "code",
   "execution_count": 111,
   "id": "60574085",
   "metadata": {},
   "outputs": [
    {
     "data": {
      "text/plain": [
       "array([0.54340494, 0.27836939, 0.42451759])"
      ]
     },
     "execution_count": 111,
     "metadata": {},
     "output_type": "execute_result"
    }
   ],
   "source": [
    "##### 재현성(난수 고정) : 머신러닝 때 학습시키거나 시연할 경우 필요하다고 함\n",
    "\n",
    "np.random.seed(100)\n",
    "np.random.rand(3)"
   ]
  },
  {
   "cell_type": "code",
   "execution_count": 113,
   "id": "abcbd138",
   "metadata": {},
   "outputs": [
    {
     "name": "stdout",
     "output_type": "stream",
     "text": [
      "[0 1 2 3 4 5 6 7 8 9]\n",
      "[9 1 3 8 6 7 5 2 4 0]\n"
     ]
    }
   ],
   "source": [
    "##### 데이터의 순서 바꾸기\n",
    "\n",
    "x = np.arange(10)\n",
    "print(x)\n",
    "\n",
    "np.random.shuffle(x)\n",
    "print(x)"
   ]
  },
  {
   "cell_type": "code",
   "execution_count": 122,
   "id": "117b632d",
   "metadata": {},
   "outputs": [
    {
     "name": "stdout",
     "output_type": "stream",
     "text": [
      "[2 3 0 1 0 4 2]\n",
      "------------------\n",
      "[3 1 2 4 0]\n",
      "------------------\n",
      "[3 4 4 1 1 4 0 4 4 0]\n"
     ]
    }
   ],
   "source": [
    "##### sampling : 복원(default), 비복원\n",
    "\n",
    "print(np.random.choice(5, 7))\n",
    "print(\"------------------\")\n",
    "print(np.random.choice(5, 5, replace=False)) # 0부터 4까지의 수 중 5번 뽑음\n",
    "print(\"------------------\")\n",
    "print(np.random.choice(5, 10, p=[0.1, 0.1, 0.1, 0.1, 0.6]))"
   ]
  },
  {
   "cell_type": "code",
   "execution_count": 118,
   "id": "d89a4cd9",
   "metadata": {},
   "outputs": [],
   "source": [
    "?np.random.choice"
   ]
  },
  {
   "cell_type": "markdown",
   "id": "14c52e01",
   "metadata": {},
   "source": [
    "## 17. 정수형 데이터 카운팅 : unique(), bincount()"
   ]
  },
  {
   "cell_type": "code",
   "execution_count": 133,
   "id": "f185ef21",
   "metadata": {},
   "outputs": [
    {
     "name": "stdout",
     "output_type": "stream",
     "text": [
      "9\n",
      "[1 2 4 5 6 9]\n",
      "6\n",
      "----------------------------------\n",
      "(array([1, 2, 4, 5, 6, 9]), array([0, 3, 1, 5, 6, 8], dtype=int64), array([0, 2, 0, 1, 1, 3, 4, 4, 5], dtype=int64), array([2, 2, 1, 1, 2, 1], dtype=int64))\n",
      "[1 2 4 5 6 9] [2 2 1 1 2 1]\n"
     ]
    }
   ],
   "source": [
    "arr = np.array([1, 4, 1, 2, 2, 5, 6, 6, 9])\n",
    "\n",
    "print(len(a))\n",
    "print(np.unique(arr))\n",
    "print(len(np.unique(arr)))\n",
    "print(\"----------------------------------\")\n",
    "print(np.unique(arr, return_index=True, return_inverse=True, return_counts=True, axis=0))\n",
    "arrUnique, cnt = np.unique(arr, return_counts=True)\n",
    "print(arrUnique, cnt)"
   ]
  },
  {
   "cell_type": "code",
   "execution_count": 136,
   "id": "d9cb5dca",
   "metadata": {},
   "outputs": [
    {
     "name": "stdout",
     "output_type": "stream",
     "text": [
      "(array([1, 2, 3]), array([2, 3, 1], dtype=int64))\n",
      "[0 2 3 1 0 0]\n"
     ]
    }
   ],
   "source": [
    "##### bincount : 발생하지 않은 사건에 대해서도 카운팅\n",
    "\n",
    "arr = np.array([1, 1, 2, 2, 2, 3])\n",
    "\n",
    "print(np.unique(arr, return_counts=True))\n",
    "print(np.bincount(arr, minlength=6))"
   ]
  },
  {
   "cell_type": "code",
   "execution_count": 137,
   "id": "c25f1a40",
   "metadata": {},
   "outputs": [],
   "source": [
    "?np.bincount"
   ]
  },
  {
   "cell_type": "markdown",
   "id": "87fb85fe",
   "metadata": {},
   "source": [
    "## 실습문제 : 영화 평점 데이터"
   ]
  },
  {
   "cell_type": "code",
   "execution_count": 1,
   "id": "d1e7fb58",
   "metadata": {},
   "outputs": [
    {
     "name": "stdout",
     "output_type": "stream",
     "text": [
      "[[        1      1193         5 978300760]\n",
      " [        1       661         3 978302109]\n",
      " [        1       914         3 978301968]\n",
      " ...\n",
      " [     6040       562         5 956704746]\n",
      " [     6040      1096         4 956715648]\n",
      " [     6040      1097         4 956715569]]\n"
     ]
    }
   ],
   "source": [
    "data = np.loadtxt(\"data/ml-1m/ratings.dat\", delimiter=\"::\", dtype=np.int64) \n",
    "# 구분자 ::\n",
    "print(data)"
   ]
  },
  {
   "cell_type": "code",
   "execution_count": 3,
   "id": "a7602491",
   "metadata": {},
   "outputs": [],
   "source": [
    "# ?np.loadtxt"
   ]
  },
  {
   "cell_type": "code",
   "execution_count": 4,
   "id": "54e21fc3",
   "metadata": {},
   "outputs": [
    {
     "name": "stdout",
     "output_type": "stream",
     "text": [
      "(1000209, 4)\n"
     ]
    }
   ],
   "source": [
    "print(data.shape)"
   ]
  },
  {
   "cell_type": "code",
   "execution_count": 5,
   "id": "ae5aeb55",
   "metadata": {},
   "outputs": [
    {
     "name": "stdout",
     "output_type": "stream",
     "text": [
      "[[        1      1193         5 978300760]\n",
      " [        1       661         3 978302109]\n",
      " [        1       914         3 978301968]\n",
      " [        1      3408         4 978300275]\n",
      " [        1      2355         5 978824291]\n",
      " [        1      1197         3 978302268]\n",
      " [        1      1287         5 978302039]\n",
      " [        1      2804         5 978300719]\n",
      " [        1       594         4 978302268]\n",
      " [        1       919         4 978301368]\n",
      " [        1       595         5 978824268]\n",
      " [        1       938         4 978301752]\n",
      " [        1      2398         4 978302281]\n",
      " [        1      2918         4 978302124]\n",
      " [        1      1035         5 978301753]\n",
      " [        1      2791         4 978302188]\n",
      " [        1      2687         3 978824268]\n",
      " [        1      2018         4 978301777]\n",
      " [        1      3105         5 978301713]\n",
      " [        1      2797         4 978302039]\n",
      " [        1      2321         3 978302205]]\n"
     ]
    }
   ],
   "source": [
    "# 첫 행부터 20행까지 조회\n",
    "\n",
    "print(data[:21, :])"
   ]
  },
  {
   "cell_type": "code",
   "execution_count": 6,
   "id": "5870a0d7",
   "metadata": {},
   "outputs": [
    {
     "name": "stdout",
     "output_type": "stream",
     "text": [
      "[[   1  720]\n",
      " [   1 1270]\n",
      " [   1  527]\n",
      " [   1 2340]\n",
      " [   1   48]\n",
      " [   1 1097]\n",
      " [   1 1721]\n",
      " [   1 1545]\n",
      " [   1  745]\n",
      " [   1 2294]]\n"
     ]
    }
   ],
   "source": [
    "# 21행부터 30행까지 userid와 movieid만 조회\n",
    "\n",
    "print(data[21:31, [0, 1]])"
   ]
  },
  {
   "cell_type": "code",
   "execution_count": 7,
   "id": "f8023954",
   "metadata": {},
   "outputs": [
    {
     "name": "stdout",
     "output_type": "stream",
     "text": [
      "3.581564453029317\n"
     ]
    }
   ],
   "source": [
    "# 전체 평점에 대한 평균\n",
    "\n",
    "rate = data[:, 2]\n",
    "sum = 0\n",
    "avg = 0\n",
    "\n",
    "for i in rate:\n",
    "    sum += i\n",
    "    \n",
    "avg = print(sum/len(rate))"
   ]
  },
  {
   "cell_type": "code",
   "execution_count": 4,
   "id": "e9d53afc",
   "metadata": {},
   "outputs": [
    {
     "name": "stdout",
     "output_type": "stream",
     "text": [
      "3.581564453029317\n"
     ]
    }
   ],
   "source": [
    "avg = np.mean(data[:,2])\n",
    "print(avg)"
   ]
  },
  {
   "cell_type": "code",
   "execution_count": 4,
   "id": "1a6ed901",
   "metadata": {},
   "outputs": [
    {
     "name": "stdout",
     "output_type": "stream",
     "text": [
      "[4.188679245283019, 3.7131782945736433, 3.9019607843137254, 4.190476190476191, 3.1464646464646466, 3.9014084507042255, 4.32258064516129, 3.884892086330935, 3.7358490566037736, 4.114713216957606]\n"
     ]
    }
   ],
   "source": [
    "# 사용자별로 평점 평균(10명만 조회)\n",
    "\n",
    "avg = []\n",
    "\n",
    "user = data[:, [0, 2]]\n",
    "for i in range(10):\n",
    "    sum = 0\n",
    "    idx = 0\n",
    "    for j in user:\n",
    "        if j[0] == (i+1):\n",
    "            sum += j[1]\n",
    "            idx += 1\n",
    "    avg.append(sum/idx)\n",
    "        \n",
    "print(avg)"
   ]
  },
  {
   "cell_type": "code",
   "execution_count": 3,
   "id": "e25b4c4b",
   "metadata": {},
   "outputs": [
    {
     "name": "stdout",
     "output_type": "stream",
     "text": [
      "6040\n"
     ]
    }
   ],
   "source": [
    "userId = user[-1, 0]\n",
    "print(userId)"
   ]
  },
  {
   "cell_type": "code",
   "execution_count": null,
   "id": "0fce9281",
   "metadata": {},
   "outputs": [],
   "source": [
    "avg = []\n",
    "\n",
    "user = data[:, [0, 2]]\n",
    "for i in range(6040):\n",
    "    sum = 0\n",
    "    idx = 0\n",
    "    for j in user:\n",
    "        if j[0] == (i+1):\n",
    "            sum += j[1]\n",
    "            idx += 1\n",
    "    avg.append(sum/idx)\n",
    "    \n",
    "maxIndex = np.argmax(np.array(avg)) + 1\n",
    "maxData = max(avg)"
   ]
  },
  {
   "cell_type": "code",
   "execution_count": 14,
   "id": "775a19ec",
   "metadata": {},
   "outputs": [
    {
     "name": "stdout",
     "output_type": "stream",
     "text": [
      "[   1    1    1 ... 6040 6040 6040] [5 3 3 ... 5 4 4]\n",
      "4.188679245283019\n",
      "[array([], dtype=int64), array([5, 3, 3, 4, 5, 3, 5, 5, 4, 4, 5, 4, 4, 4, 5, 4, 3, 4, 5, 4, 3, 3,\n",
      "       5, 5, 3, 5, 4, 4, 4, 3, 4, 4, 4, 4, 4, 4, 5, 5, 4, 5, 5, 5, 4, 4,\n",
      "       4, 5, 5, 4, 5, 4, 4, 4, 4], dtype=int64), array([5, 4, 4, 3, 4, 4, 5, 3, 3, 3, 5, 4, 3, 3, 2, 5, 3, 4, 3, 4, 2, 3,\n",
      "       2, 3, 4, 3, 5, 3, 5, 4, 2, 4, 5, 5, 4, 5, 4, 4, 2, 3, 5, 3, 3, 4,\n",
      "       5, 4, 3, 3, 3, 5, 4, 4, 4, 5, 4, 5, 3, 3, 4, 3, 3, 2, 5, 4, 5, 3,\n",
      "       5, 5, 3, 3, 4, 4, 2, 5, 5, 3, 4, 4, 5, 3, 2, 3, 4, 3, 4, 3, 4, 3,\n",
      "       3, 5, 4, 3, 5, 5, 4, 1, 3, 3, 2, 5, 5, 4, 4, 4, 5, 3, 4, 4, 3, 4,\n",
      "       4, 3, 3, 3, 5, 5, 5, 4, 3, 5, 4, 2, 3, 3, 5, 2, 5, 1, 5],\n",
      "      dtype=int64)]\n",
      "평점 최댓값 userid : 282, 최댓값 : 4.962962962962963\n"
     ]
    }
   ],
   "source": [
    "# 사용자별 평점 평균 중 최고 평점 평균을 조회(userid와 함께 동시에 조회)\n",
    "\n",
    "avg = []\n",
    "\n",
    "user = data[:, 0]\n",
    "rate = data[:, 2]\n",
    "\n",
    "print(user,rate)\n",
    "\n",
    "## 사용자별 평점 묶어서 배열로 만들기\n",
    "userUnique, userIndex = np.unique(user, return_index=True)\n",
    "total = np.split(rate, userIndex)\n",
    "\n",
    "## 실제 값이 인덱스 1부터 시작함\n",
    "print(np.sum(total[1])/len(total[1]))\n",
    "\n",
    "## 사용자별 평점 평균 구해 avg에 추가\n",
    "for i in range(len(total)-1):\n",
    "    avg.append(np.sum(total[i+1])/len(total[i+1]))\n",
    "\n",
    "## 평점 최댓값\n",
    "maxData = np.max(avg)\n",
    "\n",
    "## 평점 최댓값 인덱스\n",
    "maxIndex = np.argmax(avg)\n",
    "\n",
    "print(\"평점 최댓값 userid : {}, 최댓값 : {}\".format(maxIndex, maxData))"
   ]
  },
  {
   "cell_type": "code",
   "execution_count": 5,
   "id": "692dbecf",
   "metadata": {},
   "outputs": [],
   "source": [
    "?np.split"
   ]
  },
  {
   "cell_type": "code",
   "execution_count": 15,
   "id": "52044f45",
   "metadata": {},
   "outputs": [
    {
     "name": "stdout",
     "output_type": "stream",
     "text": [
      "[   1    1    1 ... 6040 6040 6040] [5 3 3 ... 5 4 4]\n",
      "4.188679245283019\n",
      "평점 최댓값 userid : 282, 최댓값 : 4.962962962962963\n"
     ]
    }
   ],
   "source": [
    "# 사용자별 평점 평균 중 최고 평점 평균을 조회(userid와 함께 동시에 조회)\n",
    "\n",
    "avg = []\n",
    "\n",
    "user = data[:, 0]\n",
    "rate = data[:, 2]\n",
    "\n",
    "print(user,rate)\n",
    "\n",
    "## 사용자별 평점 묶어서 배열로 만들기\n",
    "userUnique, userIndex = np.unique(user, return_index=True)\n",
    "total = np.split(rate, userIndex)\n",
    "\n",
    "## 실제 값이 인덱스 1부터 시작함\n",
    "print(np.sum(total[1])/len(total[1]))\n",
    "\n",
    "## 사용자별 평점 평균 구해 avg에 추가\n",
    "for i in range(len(total)):\n",
    "    avg.append(np.sum(total[i]/len(total[i])))\n",
    "\n",
    "## 평점 최댓값\n",
    "maxData = np.max(avg)\n",
    "\n",
    "## 평점 최댓값 인덱스\n",
    "maxIndex = np.argmax(avg)-1\n",
    "\n",
    "print(\"평점 최댓값 userid : {}, 최댓값 : {}\".format(maxIndex, maxData))"
   ]
  },
  {
   "cell_type": "code",
   "execution_count": null,
   "id": "95fe54f6",
   "metadata": {},
   "outputs": [],
   "source": []
  },
  {
   "cell_type": "code",
   "execution_count": null,
   "id": "a50c17f5",
   "metadata": {},
   "outputs": [],
   "source": []
  },
  {
   "cell_type": "code",
   "execution_count": null,
   "id": "6e572733",
   "metadata": {},
   "outputs": [],
   "source": []
  },
  {
   "cell_type": "code",
   "execution_count": null,
   "id": "5c5289c4",
   "metadata": {},
   "outputs": [],
   "source": []
  },
  {
   "cell_type": "code",
   "execution_count": null,
   "id": "c8ea3b90",
   "metadata": {},
   "outputs": [],
   "source": []
  },
  {
   "cell_type": "code",
   "execution_count": null,
   "id": "e09d6b89",
   "metadata": {},
   "outputs": [],
   "source": []
  },
  {
   "cell_type": "code",
   "execution_count": null,
   "id": "bf24201f",
   "metadata": {},
   "outputs": [],
   "source": []
  },
  {
   "cell_type": "code",
   "execution_count": null,
   "id": "83cdba54",
   "metadata": {},
   "outputs": [],
   "source": []
  },
  {
   "cell_type": "code",
   "execution_count": null,
   "id": "de09df5c",
   "metadata": {},
   "outputs": [],
   "source": []
  }
 ],
 "metadata": {
  "kernelspec": {
   "display_name": "Python 3 (ipykernel)",
   "language": "python",
   "name": "python3"
  },
  "language_info": {
   "codemirror_mode": {
    "name": "ipython",
    "version": 3
   },
   "file_extension": ".py",
   "mimetype": "text/x-python",
   "name": "python",
   "nbconvert_exporter": "python",
   "pygments_lexer": "ipython3",
   "version": "3.9.12"
  }
 },
 "nbformat": 4,
 "nbformat_minor": 5
}
