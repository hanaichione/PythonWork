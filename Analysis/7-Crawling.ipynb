{
 "cells": [
  {
   "cell_type": "code",
   "execution_count": 1,
   "id": "51214599",
   "metadata": {},
   "outputs": [],
   "source": [
    "import numpy as np\n",
    "import pandas as pd\n",
    "import matplotlib.pyplot as plt\n",
    "import matplotlib.font_manager as fm\n",
    "import seaborn as sns\n",
    "\n",
    "# 한글이 깨지는 문제\n",
    "font_name = fm.FontProperties(fname=\"C:\\\\Windows\\\\Fonts\\\\malgun.ttf\").get_name()\n",
    "plt.rc(\"font\", family=font_name)\n",
    "\n",
    "# 한글 적용 후 기호가 미출력\n",
    "import matplotlib as mlp\n",
    "mlp.rcParams[\"axes.unicode_minus\"] = False"
   ]
  },
  {
   "cell_type": "markdown",
   "id": "f9a40da3",
   "metadata": {},
   "source": [
    "# 1. XML\n",
    "\n",
    "- 특징\n",
    "    - 메타 언어 : GML > SGML > XML\n",
    "    - 데이터를 위한 언어 : 태그 이름을 마음대로 만들 수 있음\n",
    "        - HTML : <font color:red>홍길동</font>\n",
    "        - XML : <name>홍길동</name> \n",
    "    - DBMS : 대량 데이터 저장 가능, 삽입삭제수정조회 가능\n",
    "    - 데이터 표준화 : 이기종 시스템 간의 정보 교환, 웹 서비스, 유비쿼터스, 사물인터넷 등등...\n",
    "    \n",
    "- 구성 요소\n",
    "    - dtd : xml 설계도\n",
    "    - xml schema : xml 설계도, 복잡함\n",
    "    - xml\n",
    "    - xsl, xslt : xml에 디자인 설정, css 같음\n",
    "    \n",
    "- https://docs.python.org/3/library/xml.etree.elementtree.html"
   ]
  },
  {
   "cell_type": "code",
   "execution_count": 2,
   "id": "708e0bb6",
   "metadata": {},
   "outputs": [],
   "source": [
    "import xml.etree.ElementTree as et\n",
    "\n",
    "##### XML api 사용 방법\n",
    "# 1. xml이 파일로 존재하는 경우 : parse()\n",
    "# 2. xml이 메모리에 로드된 경우 : fromstring()"
   ]
  },
  {
   "cell_type": "markdown",
   "id": "449f3836",
   "metadata": {},
   "source": [
    "## (1) XML 데이터 불러오기"
   ]
  },
  {
   "cell_type": "code",
   "execution_count": 4,
   "id": "2f687e1b",
   "metadata": {},
   "outputs": [
    {
     "data": {
      "text/plain": [
       "<xml.etree.ElementTree.ElementTree at 0x20e5f288730>"
      ]
     },
     "execution_count": 4,
     "metadata": {},
     "output_type": "execute_result"
    }
   ],
   "source": [
    "##### xml이 파일로 존재하는 경우\n",
    "\n",
    "tree1 = et.parse(\"data/users.xml\") # 트리 형태로 저장되어 있음\n",
    "tree1"
   ]
  },
  {
   "cell_type": "code",
   "execution_count": 6,
   "id": "5a5b461e",
   "metadata": {},
   "outputs": [
    {
     "data": {
      "text/plain": [
       "<Element 'users' at 0x0000020E5FA64B80>"
      ]
     },
     "execution_count": 6,
     "metadata": {},
     "output_type": "execute_result"
    }
   ],
   "source": [
    "##### xml이 이미 메모리에 로드되어 있는 경우\n",
    "\n",
    "xmlstr = \"\"\"<?xml version=\"1.0\" encoding=\"utf-8\" ?>\n",
    "<users>\n",
    "    <user grade=\"gold\">\n",
    "            <name>Kim Cheol Soo</name>\n",
    "            <age>25</age>\n",
    "            <birthday>19940215</birthday>\n",
    "    </user>\n",
    "    <user grade=\"diamond\">\n",
    "            <name>Kim Yoo Mee</name>\n",
    "            <age>21</age>\n",
    "            <birthday>19980417</birthday>\n",
    "    </user>\n",
    "</users>\n",
    "\"\"\"\n",
    "\n",
    "tree2 = et.fromstring(xmlstr)\n",
    "tree2\n",
    "# Element : <></> 태그는 하나의 Element이며 노드가 된다."
   ]
  },
  {
   "cell_type": "markdown",
   "id": "e1a7a36a",
   "metadata": {},
   "source": [
    "## (2) XML 데이터 다루기"
   ]
  },
  {
   "cell_type": "markdown",
   "id": "860a79a3",
   "metadata": {},
   "source": [
    "### 1) 태그명 검색"
   ]
  },
  {
   "cell_type": "code",
   "execution_count": 9,
   "id": "92bf1ab2",
   "metadata": {},
   "outputs": [
    {
     "name": "stdout",
     "output_type": "stream",
     "text": [
      "<Element 'user' at 0x0000020E5F9F34A0>\n",
      "<Element 'user' at 0x0000020E5F9F34A0>\n",
      "<Element 'user' at 0x0000020E5F9F3630>\n"
     ]
    }
   ],
   "source": [
    "print(tree1.find(\"user\"))\n",
    "print(tree1.find(\"user[1]\"))\n",
    "print(tree1.find(\"user[2]\"))"
   ]
  },
  {
   "cell_type": "code",
   "execution_count": 21,
   "id": "0ba4ac78",
   "metadata": {},
   "outputs": [
    {
     "name": "stdout",
     "output_type": "stream",
     "text": [
      "<class 'xml.etree.ElementTree.Element'>\n",
      "user\n",
      "{'grade': 'diamond'}\n",
      "diamond\n",
      "----------------------------------------------\n",
      "name\n",
      "{}\n",
      "Kim Yoo Mee\n"
     ]
    }
   ],
   "source": [
    "data = tree1.find(\"user[2]\")\n",
    "print(type(data))\n",
    "dir(data)\n",
    "\n",
    "print(data.tag)\n",
    "print(data.attrib) # 속성\n",
    "print(data.get(\"grade\"))\n",
    "\n",
    "print(\"----------------------------------------------\")\n",
    "\n",
    "username = data.find(\"name\")\n",
    "print(username.tag)\n",
    "print(username.attrib) # 속성\n",
    "\n",
    "print(username.text) # text노드(name의 자식 노드이자 단말테그)"
   ]
  },
  {
   "cell_type": "markdown",
   "id": "cc8b6894",
   "metadata": {},
   "source": [
    "### 2) 태그 조건으로 검색"
   ]
  },
  {
   "cell_type": "code",
   "execution_count": 29,
   "id": "1c4d26cf",
   "metadata": {},
   "outputs": [
    {
     "name": "stdout",
     "output_type": "stream",
     "text": [
      "<Element 'user' at 0x0000020E5F9F3630>\n",
      "{'grade': 'diamond'}\n",
      "['grade']\n",
      "[('grade', 'diamond')]\n"
     ]
    }
   ],
   "source": [
    "# data = tree1.find(\"./user[@grade]\") # grade gold\n",
    "# data = tree1.find(\"./user[@grade][2]\")\n",
    "data = tree1.find(\"./user[@grade = 'diamond']\")\n",
    "\n",
    "print(data)\n",
    "print(data.attrib) # dict 형식\n",
    "print(data.keys()) # dict의 key값만\n",
    "print(data.items()) # dict를 튜플로"
   ]
  },
  {
   "cell_type": "markdown",
   "id": "3456e0e3",
   "metadata": {},
   "source": [
    "### 3) 여러 개의 태그 한 번에 가져오기"
   ]
  },
  {
   "cell_type": "code",
   "execution_count": 32,
   "id": "1310986a",
   "metadata": {},
   "outputs": [
    {
     "name": "stdout",
     "output_type": "stream",
     "text": [
      "{'grade': 'gold'}\n",
      "Kim Cheol Soo\n",
      "{'grade': 'diamond'}\n",
      "Kim Yoo Mee\n"
     ]
    }
   ],
   "source": [
    "users = tree1.findall(\"./user\")\n",
    "for i in users:\n",
    "    print(i.attrib)\n",
    "    print(i.find(\"name\").text)"
   ]
  },
  {
   "cell_type": "markdown",
   "id": "89ed440c",
   "metadata": {},
   "source": [
    "# 2 JSON"
   ]
  },
  {
   "cell_type": "code",
   "execution_count": 33,
   "id": "5197da0c",
   "metadata": {},
   "outputs": [],
   "source": [
    "import json\n",
    "\n",
    "# dumps() : data 저장\n",
    "# loads() : data 불러올 때"
   ]
  },
  {
   "cell_type": "code",
   "execution_count": 47,
   "id": "84cc9856",
   "metadata": {},
   "outputs": [
    {
     "name": "stdout",
     "output_type": "stream",
     "text": [
      "<class 'dict'>\n",
      "{'name': '홍길동', 'birth': '0101', 'age': 20}\n",
      "----------------------------------------------------\n",
      "<class 'str'>\n",
      "{\"name\": \"\\ud64d\\uae38\\ub3d9\", \"birth\": \"0101\", \"age\": 20}\n",
      "----------------------------------------------------\n",
      "<class 'str'>\n",
      "[1, 2, 3]\n",
      "----------------------------------------------------\n",
      "<class 'dict'>\n",
      "{'name': '홍길동', 'birth': '0101', 'age': 20}\n"
     ]
    }
   ],
   "source": [
    "j1 = {\"name\":\"홍길동\", \"birth\":\"0101\", \"age\":20}\n",
    "print(type(j1))\n",
    "print(j1)\n",
    "\n",
    "print(\"----------------------------------------------------\")\n",
    "\n",
    "j2 = json.dumps(j1)\n",
    "print(type(j2)) # JSON은 네트워크에 최적화된 문자열 형식\n",
    "print(j2) # encoding : 홍길동 > \\ud64d\\uae38\\ub3d9\n",
    "\n",
    "print(\"----------------------------------------------------\")\n",
    "\n",
    "j3 = json.dumps((1,2,3))\n",
    "print(type(j3))\n",
    "print(j3) # JSON에는 소괄호 없음 중괄호 혹은 대괄호(여러개일 때 묶어줌)\n",
    "\n",
    "print(\"----------------------------------------------------\")\n",
    "\n",
    "j4 = json.loads(j2)\n",
    "print(type(j4))\n",
    "print(j4)"
   ]
  },
  {
   "cell_type": "code",
   "execution_count": 51,
   "id": "b84cc48a",
   "metadata": {},
   "outputs": [
    {
     "name": "stdout",
     "output_type": "stream",
     "text": [
      "<class 'str'>\n"
     ]
    }
   ],
   "source": [
    "obj = \"\"\"\n",
    "{\n",
    "\t\"id\": \"0001\",\n",
    "\t\"type\": \"donut\",\n",
    "\t\"name\": \"Cake\",\n",
    "\t\"ppu\": 0.55,\n",
    "\t\"batters\":\n",
    "\t\t{\n",
    "\t\t\t\"batter\":\n",
    "\t\t\t\t[\n",
    "\t\t\t\t\t{ \"id\": \"1001\", \"type\": \"Regular\" },\n",
    "\t\t\t\t\t{ \"id\": \"1002\", \"type\": \"Chocolate\" },\n",
    "\t\t\t\t\t{ \"id\": \"1003\", \"type\": \"Blueberry\" },\n",
    "\t\t\t\t\t{ \"id\": \"1004\", \"type\": \"Devil's Food\" }\n",
    "\t\t\t\t]\n",
    "\t\t},\n",
    "\t\"topping\":\n",
    "\t\t[\n",
    "\t\t\t{ \"id\": \"5001\", \"type\": \"None\" },\n",
    "\t\t\t{ \"id\": \"5002\", \"type\": \"Glazed\" },\n",
    "\t\t\t{ \"id\": \"5005\", \"type\": \"Sugar\" },\n",
    "\t\t\t{ \"id\": \"5007\", \"type\": \"Powdered Sugar\" },\n",
    "\t\t\t{ \"id\": \"5006\", \"type\": \"Chocolate with Sprinkles\" },\n",
    "\t\t\t{ \"id\": \"5003\", \"type\": \"Chocolate\" },\n",
    "\t\t\t{ \"id\": \"5004\", \"type\": \"Maple\" }\n",
    "\t\t]\n",
    "}\n",
    "\"\"\"\n",
    "\n",
    "print(type(obj))"
   ]
  },
  {
   "cell_type": "code",
   "execution_count": 60,
   "id": "f254ec1e",
   "metadata": {},
   "outputs": [
    {
     "name": "stdout",
     "output_type": "stream",
     "text": [
      "0001\n",
      "1001\n",
      "Chocolate\n"
     ]
    }
   ],
   "source": [
    "# id가 0001인 값 추출\n",
    "data = json.loads(obj)\n",
    "print(data[\"id\"])\n",
    "\n",
    "# id가 1001인 값 추출\n",
    "print(data[\"batters\"][\"batter\"][0][\"id\"]) # {}는 key값으로 []는 인덱스로 접근하기\n",
    "\n",
    "# Chocolate토핑 추출\n",
    "print(data[\"topping\"][5][\"type\"])"
   ]
  },
  {
   "cell_type": "markdown",
   "id": "11ddcc07",
   "metadata": {},
   "source": [
    "# 3. BeautifulSoup"
   ]
  },
  {
   "cell_type": "markdown",
   "id": "5098e56c",
   "metadata": {},
   "source": [
    "## (1) 웹 소스 가져오기"
   ]
  },
  {
   "cell_type": "code",
   "execution_count": 2,
   "id": "fafcd27b",
   "metadata": {},
   "outputs": [],
   "source": [
    "import urllib.request as req\n",
    "from urllib.error import HTTPError, URLError"
   ]
  },
  {
   "cell_type": "code",
   "execution_count": 68,
   "id": "7a24fede",
   "metadata": {},
   "outputs": [
    {
     "name": "stdout",
     "output_type": "stream",
     "text": [
      "<class 'bytes'>\n"
     ]
    }
   ],
   "source": [
    "google = req.urlopen(\"https://google.com\")\n",
    "html = google.read()\n",
    "# b'<!doctype html><html itemscope=\"\" itemtype=\"http://schema.org/WebPage\" lang=\"ko\"><head>\n",
    "# b는 현재 데이터는 모두 1바이트로 표시되었다는 뜻\n",
    "\n",
    "print(type(html))"
   ]
  },
  {
   "cell_type": "code",
   "execution_count": 74,
   "id": "b0a57e35",
   "metadata": {},
   "outputs": [
    {
     "name": "stdout",
     "output_type": "stream",
     "text": [
      "URLError :  <urlopen error [Errno 11001] getaddrinfo failed>\n"
     ]
    }
   ],
   "source": [
    "try:\n",
    "    google = req.urlopen(\"https://googladsfae.com\") # URLError :  <urlopen error [Errno 11001] getaddrinfo failed>\n",
    "#     google = req.urlopen(\"https://google.com/a.jsp\") # HTTPError :  HTTP Error 404: Not Found\n",
    "except HTTPError as e: \n",
    "    print(\"HTTPError : \", e)\n",
    "except URLError as e:\n",
    "    print(\"URLError : \", e)\n",
    "else:\n",
    "    html = google.read()"
   ]
  },
  {
   "cell_type": "code",
   "execution_count": 75,
   "id": "cd6a707f",
   "metadata": {},
   "outputs": [
    {
     "data": {
      "text/plain": [
       "('data/google.png', <http.client.HTTPMessage at 0x20e61f86d30>)"
      ]
     },
     "execution_count": 75,
     "metadata": {},
     "output_type": "execute_result"
    }
   ],
   "source": [
    "##### 이미지 가져오기\n",
    "\n",
    "# 1. urlretrieve 사용하기 : 이미지를 가공할 필요가 없을 때\n",
    "\n",
    "req.urlretrieve(\"https://www.google.com/images/branding/googlelogo/1x/googlelogo_color_272x92dp.png\", \n",
    "                \"data/google.png\") #가져오고자 하는 이미지 경로, #내 컴퓨터에 저장할 경로"
   ]
  },
  {
   "cell_type": "code",
   "execution_count": 82,
   "id": "d341ec80",
   "metadata": {},
   "outputs": [],
   "source": [
    "# 2. urlopen 사용하기 : 이미지를 가공해야 할 때\n",
    "\n",
    "img = req.urlopen(\"https://www.google.com/images/branding/googlelogo/1x/googlelogo_color_272x92dp.png\")\n",
    "img_data = img.read()\n",
    "img_data # 이미지가 숫자로 인코딩되어 불러와짐\n",
    "\n",
    "f = open(\"data/google2.png\", \"wb\") # 1바이트씩 저장시킬 때 wb\n",
    "f.write(img_data)\n",
    "f.close()"
   ]
  },
  {
   "cell_type": "markdown",
   "id": "6aafabc6",
   "metadata": {},
   "source": [
    "## (2) BeautifulSoup 사용법\n",
    "\n",
    "- pip install beautifulsoup4"
   ]
  },
  {
   "cell_type": "code",
   "execution_count": 5,
   "id": "f00603b9",
   "metadata": {},
   "outputs": [],
   "source": [
    "from bs4 import BeautifulSoup"
   ]
  },
  {
   "cell_type": "code",
   "execution_count": 13,
   "id": "4ab67116",
   "metadata": {},
   "outputs": [
    {
     "name": "stdout",
     "output_type": "stream",
     "text": [
      "<!DOCTYPE html>\n",
      "<html>\n",
      " <head>\n",
      "  <title>\n",
      "   Very Simple HTML Code by Netsong7\n",
      "  </title>\n",
      " </head>\n",
      " <body>\n",
      "  <div>\n",
      "   <p class=\"inner-text first-item\" id=\"first\">\n",
      "    Happy PinkWink.\n",
      "    <a href=\"http://netsong7.synology.me\" id=\"pw-link\">\n",
      "     PinkWink\n",
      "    </a>\n",
      "   </p>\n",
      "   <p class=\"inner-text second-item\">\n",
      "    Happy Data Science.\n",
      "    <a href=\"https://www.python.org\" id=\"py-link\">\n",
      "     Python\n",
      "    </a>\n",
      "   </p>\n",
      "  </div>\n",
      "  <p class=\"outer-text first-item\" id=\"second\">\n",
      "   <b>\n",
      "    Data Science is funny.\n",
      "   </b>\n",
      "  </p>\n",
      "  <p class=\"outer-text\">\n",
      "   <b>\n",
      "    All I need is Love.\n",
      "   </b>\n",
      "  </p>\n",
      " </body>\n",
      "</html>\n"
     ]
    }
   ],
   "source": [
    "page = open(\"data/test_first.html\")\n",
    "soup = BeautifulSoup(page, \"html.parser\") # 문자열을 tree 구조로 재구성\n",
    "print(soup.prettify())"
   ]
  },
  {
   "cell_type": "markdown",
   "id": "4e590225",
   "metadata": {},
   "source": [
    "### 1) 원하는 위치에 접근하는 방법(순차적인 방식)"
   ]
  },
  {
   "cell_type": "code",
   "execution_count": 36,
   "id": "477fc23f",
   "metadata": {},
   "outputs": [
    {
     "data": {
      "text/plain": [
       "<html><head>\n",
       "<title>Very Simple HTML Code by Netsong7</title>\n",
       "</head><body>\n",
       "<div>\n",
       "<p class=\"inner-text first-item\" id=\"first\">\n",
       "                Happy PinkWink.\n",
       "                <a href=\"http://netsong7.synology.me\" id=\"pw-link\">PinkWink</a>\n",
       "</p>\n",
       "<p class=\"inner-text second-item\">\n",
       "                Happy Data Science.\n",
       "                <a href=\"https://www.python.org\" id=\"py-link\">Python</a>\n",
       "</p>\n",
       "</div>\n",
       "<p class=\"outer-text first-item\" id=\"second\">\n",
       "<b>\n",
       "                Data Science is funny.\n",
       "            </b>\n",
       "</p>\n",
       "<p class=\"outer-text\">\n",
       "<b>\n",
       "                All I need is Love.\n",
       "            </b>\n",
       "</p>\n",
       "</body>\n",
       "</html>"
      ]
     },
     "execution_count": 36,
     "metadata": {},
     "output_type": "execute_result"
    }
   ],
   "source": [
    "list(soup.children)\n",
    "list(soup.children)[0]\n",
    "list(soup.children)[1]\n",
    "list(soup.children)[2]"
   ]
  },
  {
   "cell_type": "code",
   "execution_count": 29,
   "id": "42286cf9",
   "metadata": {},
   "outputs": [
    {
     "data": {
      "text/plain": [
       "['\\n',\n",
       " <div>\n",
       " <p class=\"inner-text first-item\" id=\"first\">\n",
       "                 Happy PinkWink.\n",
       "                 <a href=\"http://netsong7.synology.me\" id=\"pw-link\">PinkWink</a>\n",
       " </p>\n",
       " <p class=\"inner-text second-item\">\n",
       "                 Happy Data Science.\n",
       "                 <a href=\"https://www.python.org\" id=\"py-link\">Python</a>\n",
       " </p>\n",
       " </div>,\n",
       " '\\n',\n",
       " <p class=\"outer-text first-item\" id=\"second\">\n",
       " <b>\n",
       "                 Data Science is funny.\n",
       "             </b>\n",
       " </p>,\n",
       " '\\n',\n",
       " <p class=\"outer-text\">\n",
       " <b>\n",
       "                 All I need is Love.\n",
       "             </b>\n",
       " </p>,\n",
       " '\\n']"
      ]
     },
     "execution_count": 29,
     "metadata": {},
     "output_type": "execute_result"
    }
   ],
   "source": [
    "html = list(soup.children)[2]\n",
    "body = list(html.children)[1]\n",
    "list(body.children)"
   ]
  },
  {
   "cell_type": "markdown",
   "id": "6f1d7d6b",
   "metadata": {},
   "source": [
    "### 2) 태그명으로 접근하는 방법"
   ]
  },
  {
   "cell_type": "code",
   "execution_count": 37,
   "id": "e3fccc1b",
   "metadata": {},
   "outputs": [
    {
     "data": {
      "text/plain": [
       "<p class=\"inner-text first-item\" id=\"first\">\n",
       "                Happy PinkWink.\n",
       "                <a href=\"http://netsong7.synology.me\" id=\"pw-link\">PinkWink</a>\n",
       "</p>"
      ]
     },
     "execution_count": 37,
     "metadata": {},
     "output_type": "execute_result"
    }
   ],
   "source": [
    "soup.head\n",
    "soup.body\n",
    "soup.body.div\n",
    "soup.body.div.p\n",
    "soup.p # soup.body.div.p 와 같은 결과"
   ]
  },
  {
   "cell_type": "markdown",
   "id": "e14b5066",
   "metadata": {},
   "source": [
    "### 3) 함수로 접근하는 방법\n",
    "- find(), find_all()"
   ]
  },
  {
   "cell_type": "code",
   "execution_count": 39,
   "id": "740e762c",
   "metadata": {},
   "outputs": [
    {
     "data": {
      "text/plain": [
       "<p class=\"inner-text first-item\" id=\"first\">\n",
       "                Happy PinkWink.\n",
       "                <a href=\"http://netsong7.synology.me\" id=\"pw-link\">PinkWink</a>\n",
       "</p>"
      ]
     },
     "execution_count": 39,
     "metadata": {},
     "output_type": "execute_result"
    }
   ],
   "source": [
    "soup.find(\"p\") # 한 개만 찾아줌"
   ]
  },
  {
   "cell_type": "code",
   "execution_count": 41,
   "id": "bc814e52",
   "metadata": {},
   "outputs": [
    {
     "data": {
      "text/plain": [
       "[<p class=\"inner-text first-item\" id=\"first\">\n",
       "                 Happy PinkWink.\n",
       "                 <a href=\"http://netsong7.synology.me\" id=\"pw-link\">PinkWink</a>\n",
       " </p>,\n",
       " <p class=\"inner-text second-item\">\n",
       "                 Happy Data Science.\n",
       "                 <a href=\"https://www.python.org\" id=\"py-link\">Python</a>\n",
       " </p>,\n",
       " <p class=\"outer-text first-item\" id=\"second\">\n",
       " <b>\n",
       "                 Data Science is funny.\n",
       "             </b>\n",
       " </p>,\n",
       " <p class=\"outer-text\">\n",
       " <b>\n",
       "                 All I need is Love.\n",
       "             </b>\n",
       " </p>]"
      ]
     },
     "execution_count": 41,
     "metadata": {},
     "output_type": "execute_result"
    }
   ],
   "source": [
    "soup.find_all(\"p\")"
   ]
  },
  {
   "cell_type": "code",
   "execution_count": 42,
   "id": "8af7df63",
   "metadata": {},
   "outputs": [
    {
     "data": {
      "text/plain": [
       "<p class=\"outer-text first-item\" id=\"second\">\n",
       "<b>\n",
       "                Data Science is funny.\n",
       "            </b>\n",
       "</p>"
      ]
     },
     "execution_count": 42,
     "metadata": {},
     "output_type": "execute_result"
    }
   ],
   "source": [
    "soup.find(\"p\", class_=\"outer-text\") # 해당 태그에 클래스 속성이 있다면"
   ]
  },
  {
   "cell_type": "code",
   "execution_count": 43,
   "id": "e55437bd",
   "metadata": {
    "scrolled": true
   },
   "outputs": [
    {
     "data": {
      "text/plain": [
       "<p class=\"outer-text first-item\" id=\"second\">\n",
       "<b>\n",
       "                Data Science is funny.\n",
       "            </b>\n",
       "</p>"
      ]
     },
     "execution_count": 43,
     "metadata": {},
     "output_type": "execute_result"
    }
   ],
   "source": [
    "soup.find(\"p\", id=\"second\")"
   ]
  },
  {
   "cell_type": "markdown",
   "id": "860c8c8c",
   "metadata": {},
   "source": [
    "### 4) 다양한 순차 접근 방식"
   ]
  },
  {
   "cell_type": "code",
   "execution_count": 55,
   "id": "0675e92c",
   "metadata": {},
   "outputs": [
    {
     "data": {
      "text/plain": [
       "<body>\n",
       "<div>\n",
       "<p class=\"inner-text first-item\" id=\"first\">\n",
       "                Happy PinkWink.\n",
       "                <a href=\"http://netsong7.synology.me\" id=\"pw-link\">PinkWink</a>\n",
       "</p>\n",
       "<p class=\"inner-text second-item\">\n",
       "                Happy Data Science.\n",
       "                <a href=\"https://www.python.org\" id=\"py-link\">Python</a>\n",
       "</p>\n",
       "</div>\n",
       "<p class=\"outer-text first-item\" id=\"second\">\n",
       "<b>\n",
       "                Data Science is funny.\n",
       "            </b>\n",
       "</p>\n",
       "<p class=\"outer-text\">\n",
       "<b>\n",
       "                All I need is Love.\n",
       "            </b>\n",
       "</p>\n",
       "</body>"
      ]
     },
     "execution_count": 55,
     "metadata": {},
     "output_type": "execute_result"
    }
   ],
   "source": [
    "soup.head.next_sibling # head 태그의 바로 다음 형제 태그에 접근\n",
    "soup.body.previous_sibling # body 태그의 이전 형제 태그에 접근\n",
    "soup.body.div.next_siblings # 하나가 아니므로 객체로 만들어짐\n",
    "list(soup.body.div.next_siblings)\n",
    "soup.body.div.parent # div의 부모, parent"
   ]
  },
  {
   "cell_type": "markdown",
   "id": "1d31f4b2",
   "metadata": {},
   "source": [
    "### 5) Text Node 가져오기\n",
    "\n",
    "- get_text()\n",
    "- text"
   ]
  },
  {
   "cell_type": "code",
   "execution_count": 57,
   "id": "8ddf1e01",
   "metadata": {},
   "outputs": [
    {
     "data": {
      "text/plain": [
       "'\\nVery Simple HTML Code by Netsong7\\n\\n\\n\\n                Happy PinkWink.\\n                PinkWink\\n\\n\\n                Happy Data Science.\\n                Python\\n\\n\\n\\n\\n                Data Science is funny.\\n            \\n\\n\\n\\n                All I need is Love.\\n            \\n\\n\\n'"
      ]
     },
     "execution_count": 57,
     "metadata": {},
     "output_type": "execute_result"
    }
   ],
   "source": [
    "soup.html.get_text() # 모든 문자를 가져옴"
   ]
  },
  {
   "cell_type": "code",
   "execution_count": 58,
   "id": "36f858bf",
   "metadata": {},
   "outputs": [
    {
     "data": {
      "text/plain": [
       "'\\nVery Simple HTML Code by Netsong7\\n'"
      ]
     },
     "execution_count": 58,
     "metadata": {},
     "output_type": "execute_result"
    }
   ],
   "source": [
    "soup.head.get_text()"
   ]
  },
  {
   "cell_type": "code",
   "execution_count": 59,
   "id": "50e6531f",
   "metadata": {},
   "outputs": [
    {
     "data": {
      "text/plain": [
       "'Very Simple HTML Code by Netsong7'"
      ]
     },
     "execution_count": 59,
     "metadata": {},
     "output_type": "execute_result"
    }
   ],
   "source": [
    "# 해당 텍스트를 가진 태그에 가깝게 접근하기\n",
    "soup.title.get_text()"
   ]
  },
  {
   "cell_type": "code",
   "execution_count": 60,
   "id": "ddf64d81",
   "metadata": {},
   "outputs": [
    {
     "data": {
      "text/plain": [
       "'\\n\\n                Happy PinkWink.\\n                PinkWink\\n\\n\\n                Happy Data Science.\\n                Python\\n\\n'"
      ]
     },
     "execution_count": 60,
     "metadata": {},
     "output_type": "execute_result"
    }
   ],
   "source": [
    "soup.div.get_text()"
   ]
  },
  {
   "cell_type": "code",
   "execution_count": 61,
   "id": "6e2df968",
   "metadata": {},
   "outputs": [
    {
     "data": {
      "text/plain": [
       "'\\n                Happy PinkWink.\\n                PinkWink\\n'"
      ]
     },
     "execution_count": 61,
     "metadata": {},
     "output_type": "execute_result"
    }
   ],
   "source": [
    "soup.p.get_text() # 첫번째 p태그"
   ]
  },
  {
   "cell_type": "code",
   "execution_count": 66,
   "id": "0a53e796",
   "metadata": {},
   "outputs": [
    {
     "name": "stdout",
     "output_type": "stream",
     "text": [
      "\n",
      "                Happy PinkWink.\n",
      "                PinkWink\n",
      "\n",
      "\n",
      "                Happy Data Science.\n",
      "                Python\n",
      "\n",
      "\n",
      "\n",
      "                Data Science is funny.\n",
      "            \n",
      "\n",
      "\n",
      "\n",
      "                All I need is Love.\n",
      "            \n",
      "\n",
      "['\\n                Happy PinkWink.\\n                PinkWink\\n', '\\n                Happy Data Science.\\n                Python\\n', '\\n\\n                Data Science is funny.\\n            \\n', '\\n\\n                All I need is Love.\\n            \\n']\n"
     ]
    }
   ],
   "source": [
    "for p in soup.find_all(\"p\"): print(p.get_text())\n",
    "\n",
    "lst = [p.get_text() for p in soup.find_all(\"p\")]\n",
    "print(lst)"
   ]
  },
  {
   "cell_type": "markdown",
   "id": "25a6617c",
   "metadata": {},
   "source": [
    "### 6) 속성에 접근하기"
   ]
  },
  {
   "cell_type": "code",
   "execution_count": 76,
   "id": "58309662",
   "metadata": {},
   "outputs": [
    {
     "name": "stdout",
     "output_type": "stream",
     "text": [
      "http://netsong7.synology.me\n",
      "https://www.python.org\n"
     ]
    }
   ],
   "source": [
    "# a = soup.find(\"a\")\n",
    "# a\n",
    "\n",
    "# a[\"href\"]\n",
    "\n",
    "soup.a[\"href\"]\n",
    "\n",
    "for n in soup.find_all(\"a\"):\n",
    "    print(n[\"href\"])"
   ]
  },
  {
   "cell_type": "markdown",
   "id": "a32f1f0b",
   "metadata": {},
   "source": [
    "## (3) 실습"
   ]
  },
  {
   "cell_type": "markdown",
   "id": "78a4df7e",
   "metadata": {},
   "source": [
    "### 1) 네이버에서 환율 정보 가져오기\n",
    "\n",
    "- https://finance.naver.com/marketindex/\n"
   ]
  },
  {
   "cell_type": "code",
   "execution_count": 79,
   "id": "efd33076",
   "metadata": {},
   "outputs": [],
   "source": [
    "from urllib.request import urlopen\n",
    "from bs4 import BeautifulSoup"
   ]
  },
  {
   "cell_type": "code",
   "execution_count": 86,
   "id": "092e8587",
   "metadata": {},
   "outputs": [
    {
     "data": {
      "text/plain": [
       "<bound method Tag.prettify of \n",
       "<script language=\"javascript\" src=\"/template/head_js.naver?referer=info.finance.naver.com&amp;menu=marketindex&amp;submenu=market\"></script>\n",
       "<script src=\"https://ssl.pstatic.net/imgstock/static.pc/20220615142521/js/info/jindo.min.ns.1.5.3.euckr.js\" type=\"text/javascript\"></script>\n",
       "<script src=\"https://ssl.pstatic.net/imgstock/static.pc/20220615142521/js/jindo.1.5.3.element-text-patch.js\" type=\"text/javascript\"></script>\n",
       "<div id=\"container\" style=\"padding-bottom:0px;\">\n",
       "<div class=\"market_include\">\n",
       "<div class=\"market_data\">\n",
       "<div class=\"market1\">\n",
       "<div class=\"title\">\n",
       "<h2 class=\"h_market1\"><span>환전 고시 환율</span></h2>\n",
       "</div>\n",
       "<!-- data -->\n",
       "<div class=\"data\">\n",
       "<ul class=\"data_lst\" id=\"exchangeList\">\n",
       "<li class=\"on\">\n",
       "<a class=\"head usd\" href=\"/marketindex/exchangeDetail.naver?marketindexCd=FX_USDKRW\" onclick=\"clickcr(this, 'fr1.usdt', '', '', event);\">\n",
       "<h3 class=\"h_lst\"><span class=\"blind\">미국 USD</span></h3>\n",
       "<div class=\"head_info point_dn\">\n",
       "<span class=\"value\">1,290.40</span>\n",
       "<span class=\"txt_krw\"><span class=\"blind\">원</span></span>\n",
       "<span class=\"change\"> 2.60</span>\n",
       "<span class=\"blind\">하락</span>\n",
       "</div>\n",
       "</a>\n",
       "<a class=\"graph_img\" href=\"/marketindex/exchangeDetail.naver?marketindexCd=FX_USDKRW\" onclick=\"clickcr(this, 'fr1.usdc', '', '', event);\">\n",
       "<img alt=\"\" height=\"153\" src=\"https://ssl.pstatic.net/imgfinance/chart/marketindex/FX_USDKRW.png\" width=\"295\"/>\n",
       "</a>\n",
       "<div class=\"graph_info\">\n",
       "<span class=\"time\">2022.06.21 12:01</span>\n",
       "<span class=\"source\">하나은행 기준</span>\n",
       "<span class=\"count\">고시회차<span class=\"num\">241</span>회</span>\n",
       "</div>\n",
       "</li>\n",
       "<li class=\"\">\n",
       "<a class=\"head jpy\" href=\"/marketindex/exchangeDetail.naver?marketindexCd=FX_JPYKRW\" onclick=\"clickcr(this, 'fr1.jpyt', '', '', event);\">\n",
       "<h3 class=\"h_lst\"><span class=\"blind\">일본 JPY(100엔)</span></h3>\n",
       "<div class=\"head_info point_dn\">\n",
       "<span class=\"value\">955.75</span>\n",
       "<span class=\"txt_krw\"><span class=\"blind\">원</span></span>\n",
       "<span class=\"change\"> 2.99</span>\n",
       "<span class=\"blind\">하락</span>\n",
       "</div>\n",
       "</a>\n",
       "<a class=\"graph_img\" href=\"/marketindex/exchangeDetail.naver?marketindexCd=FX_JPYKRW\" onclick=\"clickcr(this, 'fr1.jpyc', '', '', event);\">\n",
       "<img alt=\"\" height=\"153\" src=\"https://ssl.pstatic.net/imgfinance/chart/marketindex/FX_JPYKRW.png\" width=\"295\"/>\n",
       "</a>\n",
       "<div class=\"graph_info\">\n",
       "<span class=\"time\">2022.06.21 12:01</span>\n",
       "<span class=\"source\">하나은행 기준</span>\n",
       "<span class=\"count\">고시회차<span class=\"num\">241</span>회</span>\n",
       "</div>\n",
       "</li>\n",
       "<li class=\"\">\n",
       "<a class=\"head eur\" href=\"/marketindex/exchangeDetail.naver?marketindexCd=FX_EURKRW\" onclick=\"clickcr(this, 'fr1.eurt', '', '', event);\">\n",
       "<h3 class=\"h_lst\"><span class=\"blind\">유럽연합 EUR</span></h3>\n",
       "<div class=\"head_info point_dn\">\n",
       "<span class=\"value\">1,359.24</span>\n",
       "<span class=\"txt_krw\"><span class=\"blind\">원</span></span>\n",
       "<span class=\"change\"> 2.29</span>\n",
       "<span class=\"blind\">하락</span>\n",
       "</div>\n",
       "</a>\n",
       "<a class=\"graph_img\" href=\"/marketindex/exchangeDetail.naver?marketindexCd=FX_EURKRW\" onclick=\"clickcr(this, 'fr1.eurc', '', '', event);\">\n",
       "<img alt=\"\" height=\"153\" src=\"https://ssl.pstatic.net/imgfinance/chart/marketindex/FX_EURKRW.png\" width=\"295\"/>\n",
       "</a>\n",
       "<div class=\"graph_info\">\n",
       "<span class=\"time\">2022.06.21 12:01</span>\n",
       "<span class=\"source\">하나은행 기준</span>\n",
       "<span class=\"count\">고시회차<span class=\"num\">241</span>회</span>\n",
       "</div>\n",
       "</li>\n",
       "<li class=\"\">\n",
       "<a class=\"head cny\" href=\"/marketindex/exchangeDetail.naver?marketindexCd=FX_CNYKRW\" onclick=\"clickcr(this, 'fr1.cnyt', '', '', event);\">\n",
       "<h3 class=\"h_lst\"><span class=\"blind\">중국 CNY</span></h3>\n",
       "<div class=\"head_info point_dn\">\n",
       "<span class=\"value\">193.20</span>\n",
       "<span class=\"txt_krw\"><span class=\"blind\">원</span></span>\n",
       "<span class=\"change\"> 0.20</span>\n",
       "<span class=\"blind\">하락</span>\n",
       "</div>\n",
       "</a>\n",
       "<a class=\"graph_img\" href=\"/marketindex/exchangeDetail.naver?marketindexCd=FX_CNYKRW\" onclick=\"clickcr(this, 'fr1.cnyc', '', '', event);\">\n",
       "<img alt=\"\" height=\"153\" src=\"https://ssl.pstatic.net/imgfinance/chart/marketindex/FX_CNYKRW.png\" width=\"295\"/>\n",
       "</a>\n",
       "<div class=\"graph_info\">\n",
       "<span class=\"time\">2022.06.21 12:01</span>\n",
       "<span class=\"source\">하나은행 기준</span>\n",
       "<span class=\"count\">고시회차<span class=\"num\">241</span>회</span>\n",
       "</div>\n",
       "</li>\n",
       "</ul>\n",
       "</div>\n",
       "<!-- //data -->\n",
       "</div>\n",
       "<div class=\"market2\">\n",
       "<div class=\"title\">\n",
       "<h2 class=\"h_market2\"><span>국제 시장 환율</span></h2>\n",
       "</div>\n",
       "<!-- data -->\n",
       "<div class=\"data\">\n",
       "<ul class=\"data_lst\" id=\"worldExchangeList\">\n",
       "<li class=\"on\">\n",
       "<a class=\"head jpy_usd\" href=\"/marketindex/worldExchangeDetail.naver?marketindexCd=FX_USDJPY\" onclick=\"clickcr(this, 'fr2.jpyut', '', '', event);\">\n",
       "<h3 class=\"h_lst\"><span class=\"blind\">달러/일본 엔</span></h3>\n",
       "<div class=\"head_info point_up\">\n",
       "<span class=\"value\">134.9600</span>\n",
       "<span class=\"txt_jpy\"><span class=\"blind\">엔</span></span>\n",
       "<span class=\"change\">0.0100</span>\n",
       "<span class=\"blind\">상승</span>\n",
       "</div>\n",
       "</a>\n",
       "<a class=\"graph_img\" href=\"/marketindex/worldExchangeDetail.naver?marketindexCd=FX_USDJPY\" onclick=\"clickcr(this, 'fr2.jpyuc', '', '', event);\">\n",
       "<img alt=\"\" height=\"153\" src=\"https://ssl.pstatic.net/imgfinance/chart/marketindex/FX_USDJPY.png\" width=\"295\"/>\n",
       "</a>\n",
       "<div class=\"graph_info\">\n",
       "<span class=\"time\">2022.06.20</span>\n",
       "<span class=\"source\">모닝스타 기준</span>\n",
       "</div>\n",
       "</li>\n",
       "<li class=\"\">\n",
       "<a class=\"head usd_eur\" href=\"/marketindex/worldExchangeDetail.naver?marketindexCd=FX_EURUSD\" onclick=\"clickcr(this, 'fr2.eurdt', '', '', event);\">\n",
       "<h3 class=\"h_lst\"><span class=\"blind\">유로/달러</span></h3>\n",
       "<div class=\"head_info point_up\">\n",
       "<span class=\"value\">1.0536</span>\n",
       "<span class=\"txt_usd\"><span class=\"blind\">달러</span></span>\n",
       "<span class=\"change\">0.0069</span>\n",
       "<span class=\"blind\">상승</span>\n",
       "</div>\n",
       "</a>\n",
       "<a class=\"graph_img\" href=\"/marketindex/worldExchangeDetail.naver?marketindexCd=FX_EURUSD\" onclick=\"clickcr(this, 'fr2.eurdc', '', '', event);\">\n",
       "<img alt=\"\" height=\"153\" src=\"https://ssl.pstatic.net/imgfinance/chart/marketindex/FX_EURUSD.png\" width=\"295\"/>\n",
       "</a>\n",
       "<div class=\"graph_info\">\n",
       "<span class=\"time\">2022.06.20</span>\n",
       "<span class=\"source\">모닝스타 기준</span>\n",
       "</div>\n",
       "</li>\n",
       "<li class=\"\">\n",
       "<a class=\"head usd_gbp\" href=\"/marketindex/worldExchangeDetail.naver?marketindexCd=FX_GBPUSD\" onclick=\"clickcr(this, 'fr2.gbpdt', '', '', event);\">\n",
       "<h3 class=\"h_lst\"><span class=\"blind\">영국 파운드/달러</span></h3>\n",
       "<div class=\"head_info point_up\">\n",
       "<span class=\"value\">1.2256</span>\n",
       "<span class=\"txt_usd\"><span class=\"blind\">달러</span></span>\n",
       "<span class=\"change\">0.0035</span>\n",
       "<span class=\"blind\">상승</span>\n",
       "</div>\n",
       "</a>\n",
       "<a class=\"graph_img\" href=\"/marketindex/worldExchangeDetail.naver?marketindexCd=FX_GBPUSD\" onclick=\"clickcr(this, 'fr2.gbpdc', '', '', event);\">\n",
       "<img alt=\"\" height=\"153\" src=\"https://ssl.pstatic.net/imgfinance/chart/marketindex/FX_GBPUSD.png\" width=\"295\"/>\n",
       "</a>\n",
       "<div class=\"graph_info\">\n",
       "<span class=\"time\">2022.06.20</span>\n",
       "<span class=\"source\">모닝스타 기준</span>\n",
       "</div>\n",
       "</li>\n",
       "<li class=\"\">\n",
       "<a class=\"head usd_idx\" href=\"/marketindex/worldExchangeDetail.naver?marketindexCd=FX_USDX\" onclick=\"clickcr(this, 'fr2.indt', '', '', event);\">\n",
       "<h3 class=\"h_lst\"><span class=\"blind\">달러인덱스</span></h3>\n",
       "<div class=\"head_info point_up\">\n",
       "<span class=\"value\">104.4800</span>\n",
       "<span class=\"change\">1.0700</span>\n",
       "<span class=\"blind\">상승</span>\n",
       "</div>\n",
       "</a>\n",
       "<a class=\"graph_img\" href=\"/marketindex/worldExchangeDetail.naver?marketindexCd=FX_USDX\" onclick=\"clickcr(this, 'fr2.indc', '', '', event);\">\n",
       "<img alt=\"\" height=\"153\" src=\"https://ssl.pstatic.net/imgfinance/chart/marketindex/FX_USDX.png\" width=\"295\"/>\n",
       "</a>\n",
       "<div class=\"graph_info\">\n",
       "<span class=\"time\">2022.06.17</span>\n",
       "<span class=\"source\">ICE 기준</span>\n",
       "</div>\n",
       "</li>\n",
       "</ul>\n",
       "</div>\n",
       "<!-- //data -->\n",
       "</div>\n",
       "<div class=\"market3\">\n",
       "<div class=\"title\">\n",
       "<h2 class=\"h_market3\"><span>유가·금시세</span></h2>\n",
       "</div>\n",
       "<!-- data -->\n",
       "<div class=\"data\">\n",
       "<ul class=\"data_lst\" id=\"oilGoldList\">\n",
       "<li class=\"on\">\n",
       "<a class=\"head wti\" href=\"/marketindex/worldOilDetail.naver?marketindexCd=OIL_CL&amp;fdtc=2\" onclick=\"clickcr(this, 'fr3.wtit', '', '', event);\">\n",
       "<h3 class=\"h_lst\"><span class=\"blind\">WTI</span></h3>\n",
       "<div class=\"head_info point_dn\">\n",
       "<span class=\"value\">107.99</span>\n",
       "<span class=\"txt_usd\"><span class=\"blind\">달러</span></span>\n",
       "<span class=\"change\"> 7.26</span>\n",
       "<span class=\"blind\">하락</span>\n",
       "</div>\n",
       "</a>\n",
       "<a class=\"graph_img\" href=\"/marketindex/worldOilDetail.naver?marketindexCd=OIL_CL&amp;fdtc=2\" onclick=\"clickcr(this, 'fr3.wtic', '', '', event);\">\n",
       "<img alt=\"\" height=\"153\" src=\"https://ssl.pstatic.net/imgfinance/chart/marketindex/OIL_CL.png\" width=\"295\"/>\n",
       "</a>\n",
       "<div class=\"graph_info\">\n",
       "<span class=\"time\">2022.06.17</span>\n",
       "<span class=\"source\">NYMEX(뉴욕상업거래소) 기준</span>\n",
       "</div>\n",
       "</li>\n",
       "<li class=\"\">\n",
       "<a class=\"head gasoline\" href=\"/marketindex/oilDetail.naver?marketindexCd=OIL_GSL\" onclick=\"clickcr(this, 'fr3.oilt', '', '', event);\">\n",
       "<h3 class=\"h_lst\"><span class=\"blind\">휘발유</span></h3>\n",
       "<div class=\"head_info point_up\">\n",
       "<span class=\"value\">2114.43</span>\n",
       "<span class=\"txt_krw\"><span class=\"blind\">원</span></span>\n",
       "<span class=\"change\">3.15</span>\n",
       "<span class=\"blind\">상승</span>\n",
       "</div>\n",
       "</a>\n",
       "<a class=\"graph_img\" href=\"/marketindex/oilDetail.naver?marketindexCd=OIL_GSL\" onclick=\"clickcr(this, 'fr3.oilc', '', '', event);\">\n",
       "<img alt=\"\" height=\"153\" src=\"https://ssl.pstatic.net/imgfinance/chart/marketindex/OIL_GSL.png\" width=\"295\"/>\n",
       "</a>\n",
       "<div class=\"graph_info\">\n",
       "<span class=\"time\">2022.06.21</span>\n",
       "<span class=\"source\">한국석유공사 Opinet 기준</span>\n",
       "</div>\n",
       "</li>\n",
       "<li class=\"\">\n",
       "<a class=\"head gold_inter\" href=\"/marketindex/worldGoldDetail.naver?marketindexCd=CMDT_GC&amp;fdtc=2\" onclick=\"clickcr(this, 'fr3.agoldt', '', '', event);\">\n",
       "<h3 class=\"h_lst\"><span class=\"blind\">국제 금</span></h3>\n",
       "<div class=\"head_info point_dn\">\n",
       "<span class=\"value\">1835.6</span>\n",
       "<span class=\"txt_usd\"><span class=\"blind\">달러</span></span>\n",
       "<span class=\"change\"> 10.10</span>\n",
       "<span class=\"blind\">하락</span>\n",
       "</div>\n",
       "</a>\n",
       "<a class=\"graph_img\" href=\"/marketindex/worldGoldDetail.naver?marketindexCd=CMDT_GC&amp;fdtc=2\" onclick=\"clickcr(this, 'fr3.agoldc', '', '', event);\">\n",
       "<img alt=\"\" height=\"153\" src=\"https://ssl.pstatic.net/imgfinance/chart/marketindex/CMDT_GC.png\" width=\"295\"/>\n",
       "</a>\n",
       "<div class=\"graph_info\">\n",
       "<span class=\"time\">2022.06.17</span>\n",
       "<span class=\"source\">COMEX(뉴욕상품거래소) 기준</span>\n",
       "</div>\n",
       "</li>\n",
       "<li class=\"\">\n",
       "<a class=\"head gold_domestic\" href=\"/marketindex/goldDetail.naver\" onclick=\"clickcr(this, 'fr3.kgoldt', '', '', event);\">\n",
       "<h3 class=\"h_lst\"><span class=\"blind\">국내 금</span></h3>\n",
       "<div class=\"head_info point_dn\">\n",
       "<span class=\"value\">76346.99</span>\n",
       "<span class=\"txt_krw\"><span class=\"blind\">원</span></span>\n",
       "<span class=\"change\"> 147.92</span>\n",
       "<span class=\"blind\">하락</span>\n",
       "</div>\n",
       "</a>\n",
       "<a class=\"graph_img\" href=\"/marketindex/goldDetail.naver\" onclick=\"clickcr(this, 'fr3.kgoldc', '', '', event);\">\n",
       "<img alt=\"\" height=\"153\" src=\"https://ssl.pstatic.net/imgfinance/chart/marketindex/CMDT_GD.png\" width=\"295\"/>\n",
       "</a>\n",
       "<div class=\"graph_info\">\n",
       "<span class=\"time\">2022.06.21 11:59</span>\n",
       "<span class=\"source\">신한은행 기준</span>\n",
       "\t\t\t\t\t\t\t(<span class=\"num\">113</span>회차)\t\t\t\n",
       "\t\t\t\t\t</div>\n",
       "</li>\n",
       "</ul>\n",
       "</div>\n",
       "<!-- //data -->\n",
       "</div>\n",
       "</div>\n",
       "</div>\n",
       "<div class=\"marketindex_content\" id=\"content\">\n",
       "<div class=\"section_news\">\n",
       "<h3 class=\"h_news2\"><span>주요 뉴스</span></h3>\n",
       "<div class=\"list_area\">\n",
       "<ul>\n",
       "<li>\n",
       "<p><a href=\"/marketindex/news/newsRead.naver?officeId=021&amp;articleId=0002518672&amp;category=\" onclick=\"clickcr(this, 'mhn.list', '021_0002518672', '0', event);\">원자재 급등·공급 차질·경기악화 속 中企 </a><img alt=\"NEW\" height=\"8\" src=\"https://ssl.pstatic.net/static/nfinance/ico_new.gif\" width=\"8\"/></p>\n",
       "<span>06.21 11:41</span>\n",
       "</li>\n",
       "<li>\n",
       "<p><a href=\"/marketindex/news/newsRead.naver?officeId=001&amp;articleId=0013258484&amp;category=\" onclick=\"clickcr(this, 'mhn.list', '001_0013258484', '1', event);\">박홍근, 유가 폭등 대책 마련 위한 현장 </a><img alt=\"NEW\" height=\"8\" src=\"https://ssl.pstatic.net/static/nfinance/ico_new.gif\" width=\"8\"/></p>\n",
       "<span>06.21 11:16</span>\n",
       "</li>\n",
       "<li>\n",
       "<p><a href=\"/marketindex/news/newsRead.naver?officeId=001&amp;articleId=0013258485&amp;category=\" onclick=\"clickcr(this, 'mhn.list', '001_0013258485', '2', event);\">박홍근, 유가 폭등 대책 마련 위한 현장 </a><img alt=\"NEW\" height=\"8\" src=\"https://ssl.pstatic.net/static/nfinance/ico_new.gif\" width=\"8\"/></p>\n",
       "<span>06.21 11:16</span>\n",
       "</li>\n",
       "<li>\n",
       "<p><a href=\"/marketindex/news/newsRead.naver?officeId=001&amp;articleId=0013258487&amp;category=\" onclick=\"clickcr(this, 'mhn.list', '001_0013258487', '3', event);\">박홍근, 유가 폭등 대책 마련 위한 현장 </a><img alt=\"NEW\" height=\"8\" src=\"https://ssl.pstatic.net/static/nfinance/ico_new.gif\" width=\"8\"/></p>\n",
       "<span>06.21 11:16</span>\n",
       "</li>\n",
       "<li>\n",
       "<p><a href=\"/marketindex/news/newsRead.naver?officeId=001&amp;articleId=0013258488&amp;category=\" onclick=\"clickcr(this, 'mhn.list', '001_0013258488', '4', event);\">박홍근, 유가 폭등 점검</a><img alt=\"NEW\" height=\"8\" src=\"https://ssl.pstatic.net/static/nfinance/ico_new.gif\" width=\"8\"/></p>\n",
       "<span>06.21 11:16</span>\n",
       "</li>\n",
       "<li>\n",
       "<p><a href=\"/marketindex/news/newsRead.naver?officeId=001&amp;articleId=0013258489&amp;category=\" onclick=\"clickcr(this, 'mhn.list', '001_0013258489', '5', event);\">박홍근, 유가 폭등 점검</a><img alt=\"NEW\" height=\"8\" src=\"https://ssl.pstatic.net/static/nfinance/ico_new.gif\" width=\"8\"/></p>\n",
       "<span>06.21 11:16</span>\n",
       "</li>\n",
       "<li>\n",
       "<p><a href=\"/marketindex/news/newsRead.naver?officeId=008&amp;articleId=0004761121&amp;category=\" onclick=\"clickcr(this, 'mhn.list', '008_0004761121', '6', event);\">고유가시대 공공자전거 '따릉이' 이용량 늘</a><img alt=\"NEW\" height=\"8\" src=\"https://ssl.pstatic.net/static/nfinance/ico_new.gif\" width=\"8\"/></p>\n",
       "<span>06.21 11:15</span>\n",
       "</li>\n",
       "<li>\n",
       "<p><a href=\"/marketindex/news/newsRead.naver?officeId=011&amp;articleId=0004067362&amp;category=\" onclick=\"clickcr(this, 'mhn.list', '011_0004067362', '7', event);\">“원자재·환율·금리…3高 현상에 올해 무역</a><img alt=\"NEW\" height=\"8\" src=\"https://ssl.pstatic.net/static/nfinance/ico_new.gif\" width=\"8\"/></p>\n",
       "<span>06.21 11:04</span>\n",
       "</li>\n",
       "<li>\n",
       "<p><a href=\"/marketindex/news/newsRead.naver?officeId=277&amp;articleId=0005106292&amp;category=\" onclick=\"clickcr(this, 'mhn.list', '277_0005106292', '8', event);\">6월 전국 분양경기 흐림…\"원자재값 상승·</a><img alt=\"NEW\" height=\"8\" src=\"https://ssl.pstatic.net/static/nfinance/ico_new.gif\" width=\"8\"/></p>\n",
       "<span>06.21 11:00</span>\n",
       "</li>\n",
       "<li>\n",
       "<p><a href=\"/marketindex/news/newsRead.naver?officeId=277&amp;articleId=0005106287&amp;category=\" onclick=\"clickcr(this, 'mhn.list', '277_0005106287', '9', event);\">원자재·물류대란에 제조 中企 패닉 …\"정부</a><img alt=\"NEW\" height=\"8\" src=\"https://ssl.pstatic.net/static/nfinance/ico_new.gif\" width=\"8\"/></p>\n",
       "<span>06.21 10:55</span>\n",
       "</li>\n",
       "</ul>\n",
       "</div>\n",
       "<a class=\"btn_more\" href=\"/marketindex/news/newsList.naver\" onclick=\"clickcr(this, 'mhn.more', '', '', event);\"><img alt=\"더보기\" height=\"18\" src=\"https://ssl.pstatic.net/static/nfinance/btn_more.gif\" width=\"34\"/></a>\n",
       "</div>\n",
       "<div class=\"tab_default1\" id=\"tab_section\">\n",
       "<ul>\n",
       "<li class=\"on\"><a href=\"./?tabSel=exchange#tab_section\" onclick=\"clickcr(this, 'mtb.exnoti', '', '', event);\"><span class=\"tab1\">환전고시 환율</span></a></li>\n",
       "<li class=\"\"><a href=\"./?tabSel=worldExchange#tab_section\" onclick=\"clickcr(this, 'mtb.interex', '', '', event);\"><span class=\"tab2\">국제시장 환율</span></a></li>\n",
       "<li class=\"\"><a href=\"./?tabSel=gold#tab_section\" onclick=\"clickcr(this, 'mtb.oilgold', '', '', event);\"><span class=\"tab3\">유가 금시세</span></a></li>\n",
       "<li class=\"\"><a href=\"./?tabSel=materials#tab_section\" onclick=\"clickcr(this, 'mtb.material', '', '', event);\"><span class=\"tab4\">원자재</span></a></li>\n",
       "</ul>\n",
       "<h2 class=\"blind\">환전고시 환율</h2>\n",
       "</div>\n",
       "<div class=\"section_calculator\">\n",
       "<h3 class=\"h_calculator\"><span>환율계산기 (매매기준율 기준)</span></h3>\n",
       "<div class=\"calculator\">\n",
       "<div class=\"inner\">\n",
       "<div class=\"input\">\n",
       "<div class=\"selectbox-noscript\" id=\"sInput\">\n",
       "<select class=\"selectbox-source\" id=\"select_from\">\n",
       "<option label=\"1\" value=\"1\">대한민국 원 KRW</option>\n",
       "<option class=\"selectbox-default\" label=\"1\" selected=\"selected\" value=\"1290.6\"> 미국 달러 USD</option>\n",
       "<option label=\"1\" value=\"1290.6\"> 미국 달러 USD</option>\n",
       "<option label=\"1\" value=\"1359.26\"> 유럽연합 유로 EUR</option>\n",
       "<option label=\"100\" value=\"9.5561\"> 일본 엔 JPY</option>\n",
       "<option label=\"1\" value=\"193.18\"> 중국 위안 CNY</option>\n",
       "<option label=\"1\" value=\"164.41\"> 홍콩 달러 HKD</option>\n",
       "<option label=\"1\" value=\"43.43\"> 대만 달러 TWD</option>\n",
       "<option label=\"1\" value=\"1584.15\"> 영국 파운드 GBP</option>\n",
       "<option label=\"1\" value=\"3352.12\"> 오만 리알 OMR</option>\n",
       "<option label=\"1\" value=\"996.64\"> 캐나다 달러 CAD</option>\n",
       "<option label=\"1\" value=\"1334.37\"> 스위스 프랑 CHF</option>\n",
       "<option label=\"1\" value=\"127.81\"> 스웨덴 크로나 SEK</option>\n",
       "<option label=\"1\" value=\"899.81\"> 호주 달러 AUD</option>\n",
       "<option label=\"1\" value=\"818.11\"> 뉴질랜드 달러 NZD</option>\n",
       "<option label=\"1\" value=\"55.06\"> 체코 코루나 CZK</option>\n",
       "<option label=\"1\" value=\"1.46\"> 칠레 페소 CLP</option>\n",
       "<option label=\"1\" value=\"74.53\"> 터키 리라 TRY</option>\n",
       "<option label=\"1\" value=\"0.41\"> 몽골 투그릭 MNT</option>\n",
       "<option label=\"1\" value=\"374.42\"> 이스라엘 세켈 ILS</option>\n",
       "<option label=\"1\" value=\"182.73\"> 덴마크 크로네 DKK</option>\n",
       "<option label=\"1\" value=\"130.81\"> 노르웨이 크로네 NOK</option>\n",
       "<option label=\"1\" value=\"343.96\"> 사우디아라비아 리얄 SAR</option>\n",
       "<option label=\"1\" value=\"4204.73\"> 쿠웨이트 디나르 KWD</option>\n",
       "<option label=\"1\" value=\"3423.16\"> 바레인 디나르 BHD</option>\n",
       "<option label=\"1\" value=\"351.37\"> 아랍에미리트 디르함 AED</option>\n",
       "<option label=\"1\" value=\"1820.31\"> 요르단 디나르 JOD</option>\n",
       "<option label=\"1\" value=\"68.74\"> 이집트 파운드 EGP</option>\n",
       "<option label=\"1\" value=\"36.49\"> 태국 바트 THB</option>\n",
       "<option label=\"1\" value=\"931.27\"> 싱가포르 달러 SGD</option>\n",
       "<option label=\"1\" value=\"293.35\"> 말레이시아 링깃 MYR</option>\n",
       "<option label=\"100\" value=\"0.0875\"> 인도네시아 루피아 IDR</option>\n",
       "<option label=\"1\" value=\"353.32\"> 카타르 리얄 QAR</option>\n",
       "<option label=\"1\" value=\"2.89\"> 카자흐스탄 텡게 KZT</option>\n",
       "<option label=\"1\" value=\"931.27\"> 브루나이 달러 BND</option>\n",
       "<option label=\"1\" value=\"16.55\"> 인도 루피 INR</option>\n",
       "<option label=\"1\" value=\"6.14\"> 파키스탄 루피 PKR</option>\n",
       "<option label=\"1\" value=\"13.88\"> 방글라데시 타카 BDT</option>\n",
       "<option label=\"1\" value=\"23.83\"> 필리핀 페소 PHP</option>\n",
       "<option label=\"1\" value=\"63.76\"> 멕시코 페소 MXN</option>\n",
       "<option label=\"1\" value=\"248.73\"> 브라질 레알 BRL</option>\n",
       "<option label=\"100\" value=\"0.0556\"> 베트남 동 VND</option>\n",
       "<option label=\"1\" value=\"80.6\"> 남아프리카 공화국 랜드 ZAR</option>\n",
       "<option label=\"1\" value=\"23.57\"> 러시아 루블 RUB</option>\n",
       "<option label=\"1\" value=\"3.42\"> 헝가리 포린트 HUF</option>\n",
       "<option label=\"1\" value=\"292.64\"> 폴란드 즈워티 PLN</option>\n",
       "</select>\n",
       "<div class=\"selectbox-box\" onclick=\"clickcr(this, 'exl*c.clist1', '', '', event);\">\n",
       "<div class=\"selectbox-label\"></div>\n",
       "</div>\n",
       "<div class=\"selectbox-layer ly_calculator\">\n",
       "<div class=\"selectbox-list\"></div>\n",
       "</div>\n",
       "</div>\n",
       "<div class=\"input_area\" id=\"input_from\">\n",
       "<input id=\"input_from_money\" maxlength=\"10\" onclick=\"clickcr(this, 'exl*c.unit1', '', '', event);\" onfocus=\"changeActiveInput('from', 'to'); return false;\" onkeyup=\"calcExchange('from', 'to', 'on', event);\" type=\"text\" value=\"1\"/>\n",
       "<img alt=\"\" height=\"13\" id=\"img_from_monetary\" src=\"https://ssl.pstatic.net/static/nfinance/img_money_USD.gif\" width=\"26\"/>\n",
       "</div>\n",
       "</div>\n",
       "<div class=\"same\"><img alt=\"\" height=\"15\" src=\"https://ssl.pstatic.net/static/nfinance/ico_same.gif\" width=\"28\"/></div>\n",
       "<div class=\"view\">\n",
       "<div class=\"selectbox-noscript\" id=\"sView\">\n",
       "<select class=\"selectbox-source\" id=\"select_to\">\n",
       "<option class=\"selectbox-default\" label=\"1\" value=\"1\">대한민국 원 KRW</option>\n",
       "<option label=\"1\" value=\"1\">대한민국 원 KRW</option>\n",
       "<option label=\"1\" value=\"1290.6\">미국 달러 USD</option>\n",
       "<option label=\"1\" value=\"1359.26\">유럽연합 유로 EUR</option>\n",
       "<option label=\"100\" value=\"9.5561\">일본 엔 JPY</option>\n",
       "<option label=\"1\" value=\"193.18\">중국 위안 CNY</option>\n",
       "<option label=\"1\" value=\"164.41\">홍콩 달러 HKD</option>\n",
       "<option label=\"1\" value=\"43.43\">대만 달러 TWD</option>\n",
       "<option label=\"1\" value=\"1584.15\">영국 파운드 GBP</option>\n",
       "<option label=\"1\" value=\"3352.12\">오만 리알 OMR</option>\n",
       "<option label=\"1\" value=\"996.64\">캐나다 달러 CAD</option>\n",
       "<option label=\"1\" value=\"1334.37\">스위스 프랑 CHF</option>\n",
       "<option label=\"1\" value=\"127.81\">스웨덴 크로나 SEK</option>\n",
       "<option label=\"1\" value=\"899.81\">호주 달러 AUD</option>\n",
       "<option label=\"1\" value=\"818.11\">뉴질랜드 달러 NZD</option>\n",
       "<option label=\"1\" value=\"55.06\">체코 코루나 CZK</option>\n",
       "<option label=\"1\" value=\"1.46\">칠레 페소 CLP</option>\n",
       "<option label=\"1\" value=\"74.53\">터키 리라 TRY</option>\n",
       "<option label=\"1\" value=\"0.41\">몽골 투그릭 MNT</option>\n",
       "<option label=\"1\" value=\"374.42\">이스라엘 세켈 ILS</option>\n",
       "<option label=\"1\" value=\"182.73\">덴마크 크로네 DKK</option>\n",
       "<option label=\"1\" value=\"130.81\">노르웨이 크로네 NOK</option>\n",
       "<option label=\"1\" value=\"343.96\">사우디아라비아 리얄 SAR</option>\n",
       "<option label=\"1\" value=\"4204.73\">쿠웨이트 디나르 KWD</option>\n",
       "<option label=\"1\" value=\"3423.16\">바레인 디나르 BHD</option>\n",
       "<option label=\"1\" value=\"351.37\">아랍에미리트 디르함 AED</option>\n",
       "<option label=\"1\" value=\"1820.31\">요르단 디나르 JOD</option>\n",
       "<option label=\"1\" value=\"68.74\">이집트 파운드 EGP</option>\n",
       "<option label=\"1\" value=\"36.49\">태국 바트 THB</option>\n",
       "<option label=\"1\" value=\"931.27\">싱가포르 달러 SGD</option>\n",
       "<option label=\"1\" value=\"293.35\">말레이시아 링깃 MYR</option>\n",
       "<option label=\"100\" value=\"0.0875\">인도네시아 루피아 IDR</option>\n",
       "<option label=\"1\" value=\"353.32\">카타르 리얄 QAR</option>\n",
       "<option label=\"1\" value=\"2.89\">카자흐스탄 텡게 KZT</option>\n",
       "<option label=\"1\" value=\"931.27\">브루나이 달러 BND</option>\n",
       "<option label=\"1\" value=\"16.55\">인도 루피 INR</option>\n",
       "<option label=\"1\" value=\"6.14\">파키스탄 루피 PKR</option>\n",
       "<option label=\"1\" value=\"13.88\">방글라데시 타카 BDT</option>\n",
       "<option label=\"1\" value=\"23.83\">필리핀 페소 PHP</option>\n",
       "<option label=\"1\" value=\"63.76\">멕시코 페소 MXN</option>\n",
       "<option label=\"1\" value=\"248.73\">브라질 레알 BRL</option>\n",
       "<option label=\"100\" value=\"0.0556\">베트남 동 VND</option>\n",
       "<option label=\"1\" value=\"80.6\">남아프리카 공화국 랜드 ZAR</option>\n",
       "<option label=\"1\" value=\"23.57\">러시아 루블 RUB</option>\n",
       "<option label=\"1\" value=\"3.42\">헝가리 포린트 HUF</option>\n",
       "<option label=\"1\" value=\"292.64\">폴란드 즈워티 PLN</option>\n",
       "</select>\n",
       "<div class=\"selectbox-box\" onclick=\"clickcr(this, 'exl*c.clist2', '', '', event);\">\n",
       "<div class=\"selectbox-label\"></div>\n",
       "</div>\n",
       "<div class=\"selectbox-layer ly_calculator\">\n",
       "<div class=\"selectbox-list\"></div>\n",
       "</div>\n",
       "</div>\n",
       "<div class=\"input_area\" id=\"input_to\">\n",
       "<input id=\"input_to_money\" maxlength=\"10\" onclick=\"clickcr(this, 'exl*c.unit2', '', '', event);\" onfocus=\"changeActiveInput('to', 'from'); return false;\" onkeyup=\"calcExchange('to', 'from', 'on', event);\" type=\"text\"/>\n",
       "<img alt=\"\" height=\"13\" id=\"img_to_monetary\" src=\"https://ssl.pstatic.net/static/nfinance/img_money_KRW.gif\" width=\"26\"/>\n",
       "</div>\n",
       "</div>\n",
       "</div>\n",
       "</div>\n",
       "</div>\n",
       "<div class=\"section_exchange\">\n",
       "<div id=\"section_ex1\">\n",
       "<h3 class=\"blind\" id=\"exchange1\">환전 고시 환율</h3>\n",
       "<div class=\"exchange_info\">\n",
       "<span class=\"date\">2022.06.21 11:56</span>\n",
       "<span class=\"standard\">하나은행 기준</span>\n",
       "<span class=\"round\">고시회차 <em>240</em>회</span>\n",
       "</div>\n",
       "<iframe frameborder=\"0\" height=\"1378px\" id=\"frame_ex1\" marginheight=\"0\" marginwidth=\"0\" scrolling=\"no\" src=\"/marketindex/exchangeList.naver\" title=\"환전 고시 환율\" width=\"100%\"></iframe>\n",
       "</div>\n",
       "<ul class=\"tbl_info\">\n",
       "<li>통화명과 심볼은 앞에 위치한 통화에 1이 생략된 형태로, 달러/일본 엔(심볼: USDJPY)인 경우 1 USD(달러)가 JPY(일본 엔)으로 얼마인가를 의미합니다.</li>\n",
       "</ul>\n",
       "</div>\n",
       "<script language=\"javascript\" src=\"https://ssl.pstatic.net/imgstock/static.pc/20220615142521/js/jindoComponent/jindo.Component.1.0.3.js\" type=\"text/javascript\"></script>\n",
       "<script language=\"javascript\" src=\"https://ssl.pstatic.net/imgstock/static.pc/20220615142521/js/jindoComponent/jindo.UIComponent.1.0.1.js\" type=\"text/javascript\"></script>\n",
       "<script language=\"javascript\" src=\"https://ssl.pstatic.net/imgstock/static.pc/20220615142521/js/jindoComponent/jindo.HTMLComponent.1.0.1.js\" type=\"text/javascript\"></script>\n",
       "<script language=\"javascript\" src=\"https://ssl.pstatic.net/imgstock/static.pc/20220615142521/js/jindoComponent/jindo.Timer.1.0.3.js\" type=\"text/javascript\"></script>\n",
       "<script language=\"javascript\" src=\"https://ssl.pstatic.net/imgstock/static.pc/20220615142521/js/jindoComponent/jindo.LayerManager.1.0.1.js\" type=\"text/javascript\"></script>\n",
       "<script language=\"javascript\" src=\"https://ssl.pstatic.net/imgstock/static.pc/20220615142521/js/jindoComponent/jindo.LayerPosition.1.0.1.js\" type=\"text/javascript\"></script>\n",
       "<script language=\"javascript\" src=\"https://ssl.pstatic.net/imgstock/static.pc/20220615142521/js/jindoComponent/jindo.RolloverArea.1.0.1.js\" type=\"text/javascript\"></script>\n",
       "<script language=\"javascript\" src=\"https://ssl.pstatic.net/imgstock/static.pc/20220615142521/js/jindoComponent/jindo.RolloverClick.1.0.1.js\" type=\"text/javascript\"></script>\n",
       "<script language=\"javascript\" src=\"https://ssl.pstatic.net/imgstock/static.pc/20220615142521/js/jindoComponent/jindo.SelectBox.1.0.1.js\" type=\"text/javascript\"></script>\n",
       "<script charset=\"euckr\" language=\"javascript\" src=\"https://ssl.pstatic.net/imgstock/static.pc/20220615142521/js/jindoComponent/jindo.TextRange.1.0.1.js\" type=\"text/javascript\"></script>\n",
       "<script charset=\"euckr\" language=\"javascript\" src=\"https://ssl.pstatic.net/imgstock/static.pc/20220615142521/js/jindoComponent/jindo.WatchInput.1.0.1.js\" type=\"text/javascript\"></script>\n",
       "<script charset=\"euckr\" language=\"javascript\" src=\"https://ssl.pstatic.net/imgstock/static.pc/20220615142521/js/jindoComponent/jindo.Formatter.1.1.0.js\" type=\"text/javascript\"></script>\n",
       "<script charset=\"euckr\" language=\"javascript\" src=\"https://ssl.pstatic.net/imgstock/static.pc/20220615142521/js/jindoComponent/jindo.NumberFormatter.1.0.1.js\" type=\"text/javascript\"></script>\n",
       "<script language=\"javascript\" src=\"https://ssl.pstatic.net/imgstock/static.pc/20220615142521/js/exchange.js\" type=\"text/javascript\"></script>\n",
       "<script type=\"text/javascript\">\n",
       "// exchangeDetail.jsp에도 동일 스크립트 있음 - 로딩시 디자인이 0.5초간 디자인이 안뜬다는 이슈로 include하지 않고 같은 스크립트를 두벌로 관리함\n",
       "\n",
       "//환율 계산\n",
       "function calcExchange(str1, str2, cssOn, event) {\n",
       "\tvar oEvent = event || window.event;\n",
       "    var sKeyCode = (undefined === oEvent) ? undefined : jindo.$Event(oEvent).key().keyCode;\n",
       "\t\n",
       "\tif (sKeyCode != 13 && sKeyCode != 27 && sKeyCode != 37 && sKeyCode != 38 && sKeyCode != 110 && sKeyCode != 229) {\n",
       "\t\tif (str1 == '' && str2 == '') {\n",
       "\t\t\tif (jindo.$('input_to').className == 'input_area') {\n",
       "\t\t\t\tstr1 = 'from';\n",
       "\t\t\t\tstr2 = 'to';\n",
       "\t\t\t} else {\n",
       "\t\t\t\tstr1 = 'to';\n",
       "\t\t\t\tstr2 = 'from';\n",
       "\t\t\t}\n",
       "\t\t}\n",
       "\t\t\n",
       "\t\tvar regExp = new RegExp(\"[^0-9\\.\\,]\");\n",
       "\t    var sInputValue = jindo.$('input_' + str1 + '_money').value;\n",
       "\t\t\n",
       "\t    if(regExp.test(sInputValue)){\n",
       "\t\t\talert('숫자, 소수점(.)만 입력하실 수 있습니다.');\n",
       "\t\t\tjindo.$('input_' + str1 + '_money').value = revertInputText(sInputValue);\n",
       "\t\t\treturn false;\n",
       "\t\t}\n",
       "\t\t\n",
       "\t\t// 사용자가 입력한 콤마(,) 제거\n",
       "\t    if (sInputValue.substr(sInputValue.length - 1, 1) == ',') {\n",
       "\t    \tjindo.$('input_' + str1 + '_money').value = revertInputText(sInputValue);\n",
       "\t    \treturn false;\n",
       "\t    }\n",
       "\t\t\n",
       "\t\t// 맨 앞에 있는 숫자 0 없애기\n",
       "\t\tif (sInputValue == '0' || sInputValue == '.' || sInputValue == ',') {\n",
       "\t\t\tjindo.$('input_' + str1 + '_money').value = revertInputText(sInputValue);\n",
       "\t\t\treturn false;\n",
       "\t\t}\n",
       "\t\t\n",
       "\t\t// 소수점 2개가 없도록\n",
       "\t\tvar match = sInputValue.match(/\\./g);\n",
       "\t\tif (match != null && match.length >= 2) {\n",
       "\t\t\tjindo.$('input_' + str1 + '_money').value = revertInputText(sInputValue);\n",
       "\t\t\treturn false;\n",
       "\t\t}\n",
       "\t\t\n",
       "\t\t// 소수점을 입력한 경우, 일단 대기\n",
       "\t\tvar pointPosIndex = sInputValue.indexOf('.');\n",
       "\t\tif (pointPosIndex != -1 && pointPosIndex == sInputValue.length - 1) {\n",
       "\t\t\treturn false;\n",
       "\t\t}\n",
       "\t\t\n",
       "\t\t// 소수점 2자리 유지\n",
       "\t\tif (pointPosIndex != -1 && sInputValue.substring(pointPosIndex + 1, sInputValue.length).length > 2) {\n",
       "\t\t\tjindo.$('input_' + str1 + '_money').value = revertInputText(sInputValue);\n",
       "\t\t\treturn false;\n",
       "\t\t}\n",
       "\t\t\n",
       "\t\tvar e_select_from\t= jindo.$('select_'+str1);\n",
       "\t\tvar e_select_to\t= jindo.$('select_'+str2);\n",
       "\t\n",
       "\t\tvar input_from_money\t= jindo.$('input_'+str1+'_money').value ;\n",
       "\t\tvar input_from\t\t= e_select_from.options[e_select_from.selectedIndex].value ;\n",
       "\t\tvar input_to\t\t= e_select_to.options[e_select_to.selectedIndex].value ;\n",
       "\t\tvar unit_from\t= e_select_from.options[e_select_from.selectedIndex].text ;\n",
       "\t\tvar unit_to\t\t= e_select_to.options[e_select_to.selectedIndex].text ;\n",
       "\t\tinput_from_money = input_from_money.replace(/ |,|\\t/g, \"\") ;\n",
       "\t\tinput_from\t= input_from.replace(/ |,|\\t/g, \"\") ;\n",
       "\t\tinput_to\t= input_to.replace(/ |,|\\t/g, \"\") ;\n",
       "\t\tunit_from = unit_from.substr(unit_from.length-3, 3);\n",
       "\t\tunit_to = unit_to.substr(unit_to.length-3, 3);\n",
       "\t\n",
       "\t\tvar str1_result = input_from_money * 1 ;\n",
       "\t\tvar str1_str\t= str1_result.toFixed(0) ;\n",
       "\t\tvar str1_len = str1_str.length ;\n",
       "\t\tvar str1_result_str = new String(\"\") ;\n",
       "\t\n",
       "\t\tif(str1_str > str1_result)\n",
       "\t\t\tstr1_str = new String(str1_str-1) ;\n",
       "\t\n",
       "\t\tif (str1_len >= 3) {\n",
       "\t\t\tfor (i = str1_len - 3; i > 0; i-=3)\n",
       "\t\t\t\tstr1_result_str = \",\" + str1_str.substr(i, 3) + str1_result_str ;\n",
       "\t\n",
       "\t\t\tstr1_result_str = str1_str.substr(0, 3+i) + str1_result_str ;\n",
       "\t\n",
       "\t\t\tfor (var i=0; i<input_from_money.length; i++) {\n",
       "\t\t\t\tif (input_from_money.substr(i,1) != '0') {\n",
       "\t\t\t\t\tinput_from_money = input_from_money.substring(i,input_from_money.length) ;\n",
       "\t\t\t\t\tbreak;\n",
       "\t\t\t\t}\n",
       "\t\t\t}\n",
       "\t\n",
       "\t\t\tif (str1_str != input_from_money) {\n",
       "\t\t\t\tstr1_result_str += str1_result.toFixed(input_from_money.split(\".\")[1].length).substr(str1_len, input_from_money.split(\".\")[1].length + 1) ;\n",
       "\t\t\t}\n",
       "\t\t} else\n",
       "\t\t\tstr1_result_str = input_from_money ;\n",
       "\t\n",
       "\t\tvar str2_result = input_from_money * input_from / input_to ;\n",
       "\t\tvar str2_str\t= str2_result.toFixed(0) ;\n",
       "\t\tvar str2_len = str2_str.length ;\n",
       "\t\tvar str2_result_str = new String(\"\") ;\n",
       "\t\n",
       "\t\tif (str2_str > str2_result)\n",
       "\t\t\tstr2_str = new String(str2_str-1) ;\n",
       "\t\n",
       "\t\tif (str2_len >= 3) {\n",
       "\t\t\tfor (i = str2_len - 3; i > 0; i-=3)\n",
       "\t\t\t\tstr2_result_str = \",\" + str2_str.substr(i, 3) + str2_result_str ;\n",
       "\t\n",
       "\t\t\tstr2_result_str = str2_str.substr(0, 3+i) + str2_result_str ;\n",
       "\t\t\tstr2_result_str += str2_result.toFixed(2).substr(str2_len, 3) ;\n",
       "\t\t} else\n",
       "\t\t\tstr2_result_str = str2_result.toFixed(2) ;\n",
       "\t\n",
       "\t\tjindo.$('input_'+str1+'_money').value = str1_result_str;\n",
       "\t\tjindo.$('input_'+str2+'_money').value = str2_result_str;\n",
       "\t\tjindo.$('img_'+str1+'_monetary').src = \"https://ssl.pstatic.net/static/nfinance/img_money_\"+unit_from+\".gif\";\n",
       "\t\tjindo.$('img_'+str2+'_monetary').src = \"https://ssl.pstatic.net/static/nfinance/img_money_\"+unit_to+\".gif\";\n",
       "\t\tjindo.$Element(jindo.$('input_'+str1)).addClass(\"on\");\n",
       "\t\tjindo.$Element(jindo.$('input_'+str2)).removeClass(\"on\");\n",
       "\t\tif (cssOn == \"off\"){\n",
       "\t\t\tjindo.$Element(jindo.$('input_'+str1)).removeClass(\"on\");\n",
       "\t\t}\n",
       "\t}\n",
       "}\n",
       "\n",
       "function revertInputText(sOrgText) {\n",
       "\tvar sResult = sOrgText;\n",
       "\t\n",
       "\tif (sOrgText != '') {\n",
       "\t\tsResult = sOrgText.substr(0, sOrgText.length - 1);\n",
       "\t}\n",
       "\t\n",
       "\treturn sResult;\n",
       "}\n",
       "\n",
       "jindo.$Fn(function(){\n",
       "\tchartMouseOverEvent('exchangeList');\t\t\n",
       "   }).attach(document, \"domready\");\n",
       "</script>\n",
       "</div>\n",
       "<script language=\"javascript\" src=\"https://ssl.pstatic.net/imgstock/static.pc/20220615142521/js/jindo_ellipse.js\"></script>\n",
       "<script language=\"javascript\" src=\"https://ssl.pstatic.net/imgstock/static.pc/20220615142521/js/util.js\"></script>\n",
       "<script type=\"text/javascript\">\n",
       "\n",
       "function ellipseTopNewsTitle() {\n",
       "\tjindo.EllipseText.factory(jindo.$$(\".news_list ul li\"), {nAssistWidth: 10});\n",
       "}\n",
       "\n",
       "var basicDates;\n",
       "\n",
       "function initDate() {\n",
       "\tbasicDates = jindo.$H();\n",
       "\tbasicDates.add('', '');\n",
       "\tbasicDates.add('', '');\n",
       "\tbasicDates.add('', '');\n",
       "\tbasicDates.add('', '');\n",
       "\tbasicDates.add('', '');\n",
       "\tbasicDates.add('', '');\n",
       "}\n",
       "\n",
       "var basicDescriptions;\n",
       "\n",
       "function initDescription() {\n",
       "\tbasicDescriptions = jindo.$H();\n",
       "\tbasicDescriptions.add('CMDT_CDY','<em></em>  기준<span>단위:</span>');\n",
       "\tbasicDescriptions.add('CMDT_PDY','<em></em>  기준<span>단위:</span>');\n",
       "\tbasicDescriptions.add('CMDT_NG','<em></em>  기준<span>단위:</span>');\n",
       "\tbasicDescriptions.add('CMDT_S','<em></em>  기준<span>단위:</span>');\n",
       "\tbasicDescriptions.add('CMDT_C','<em></em>  기준<span>단위:</span>');\n",
       "\tbasicDescriptions.add('CMDT_SB','<em></em>  기준<span>단위:</span>');\n",
       "}\n",
       "\n",
       "function setEvent(num, imgChartUrl){\t\n",
       "\tvar parentElemnt = jindo.$$('.tbl_market')[num];\n",
       "\tvar elementList = jindo.$$('tr',parentElemnt);\n",
       "\t\n",
       "\tjindo.$Fn(function(e){\t\n",
       "\t\tvar elementListSize = elementList.length;\n",
       "\t\t\n",
       "\t\tfor(var i = 0 ; i < elementListSize ; i ++)\n",
       "\t\t{\n",
       "\t\t\tvar selectedElement = jindo.$Element(elementList[i]);\n",
       "\t\t\tvar selectedClassName = selectedElement.className();\n",
       "\t\t\tif (selectedClassName != \"\") {\n",
       "\t\t\t\tselectedElement.removeClass(selectedClassName);\n",
       "\t\t\t\tselectedElement.addClass(selectedClassName.replace(\"on\",\"\"));\n",
       "\t\t\t}\n",
       "\t\t} \n",
       "\t\t\n",
       "\t\tvar ele = jindo.$Element(jindo.$Event(e).currentElement);\n",
       "\t\tvar linkUrl = jindo.$$.getSingle('a' , ele.$value()).href;\n",
       "\t\tvar marketindexCd = linkUrl.split('=')[1];\n",
       "\t\tvar className = ele.className();\n",
       "\t\tele.removeClass(className);\n",
       "\t\tele.addClass(className+\" on\");\n",
       "\t\tvar graphElement = jindo.$Element(jindo.$$('.thum')[num]);\n",
       "\t\tgraphElement.html('<a href=\\\"'+linkUrl+'\\\"><img src=\\\"https://ssl.pstatic.net/imgfinance/chart/marketindex/' + marketindexCd + '.png\\\" width=\\\"295\\\" height=\\\"153\\\" alt=\"\"></a>');\n",
       "\t\t\n",
       "\t\tif (basicDates.hasKey(marketindexCd)) {\n",
       "\t\t\tjindo.$Element(\"basicDate\").text(basicDates.$(marketindexCd));\n",
       "\t\t}\n",
       "\t\tif (basicDescriptions.hasKey(marketindexCd)) {\n",
       "\t\t\tjindo.$Element(\"basicDescription\").html(basicDescriptions.$(marketindexCd));\n",
       "\t\t}\n",
       "\t\n",
       "\t}).attach(elementList, \"mouseover\");\t\n",
       "}\n",
       "\n",
       "jindo.$Fn(function(){\n",
       "\t\tinitDate();\n",
       "\t\tinitDescription();\n",
       "\t\tchartMouseOverEvent('exchangeList');\n",
       "\t\tchartMouseOverEvent('worldExchangeList');\n",
       "\t\tchartMouseOverEvent('oilGoldList');\n",
       "\t\tjindo.$$('title')[0].innerHTML = \"시장지표 : 네이버 금융\";\n",
       "}).attach(document, \"domready\");\n",
       "\n",
       "</script>\n",
       "<div class=\"aside\" id=\"marketindex_aside\">\n",
       "<div class=\"section_aside\">\n",
       "<h3 class=\"h_interest\"><span>국내시장금리</span></h3>\n",
       "<table class=\"tbl_exchange market\" summary=\"국제시장 환율 리스트\">\n",
       "<caption>국내시장금리</caption>\n",
       "<colgroup>\n",
       "<col width=\"94\"/>\n",
       "<col width=\"50\"/>\n",
       "<col width=\"75\"/>\n",
       "</colgroup>\n",
       "<thead>\n",
       "<tr>\n",
       "<th>구분</th>\n",
       "<th>금리</th>\n",
       "<th>등락율</th>\n",
       "</tr>\n",
       "</thead>\n",
       "<tbody>\n",
       "<tr class=\"same\">\n",
       "<th class=\"th_inter4\"><a href=\"/marketindex/interestDetail.naver?marketindexCd=IRR_CD91\" onclick=\"clickcr(this, 'rid.local', 'IRR_CD91', '1', event);\"><span>CD금리(91일)</span></a></th>\n",
       "<td>1.99</td>\n",
       "<td><img alt=\"보합\" height=\"6\" src=\"https://ssl.pstatic.net/static/nfinance/ico_same2.gif\" width=\"7\"/> 0.00</td>\n",
       "</tr>\n",
       "<tr class=\"down\">\n",
       "<th class=\"th_inter1\"><a href=\"/marketindex/interestDetail.naver?marketindexCd=IRR_CALL\" onclick=\"clickcr(this, 'met.8', 'IRR_CALL', '2', event);\"><span>콜 금리</span></a></th>\n",
       "<td>1.71</td>\n",
       "<td><img alt=\"하락\" height=\"6\" src=\"https://ssl.pstatic.net/static/nfinance/ico_down.gif\" width=\"7\"/> 0.02</td>\n",
       "</tr>\n",
       "<tr class=\"down\">\n",
       "<th class=\"th_inter2\"><a href=\"/marketindex/interestDetail.naver?marketindexCd=IRR_GOVT03Y\" onclick=\"clickcr(this, 'met.8', 'IRR_GOVT03Y', '3', event);\"><span>국고채 (3년)</span></a></th>\n",
       "<td>3.67</td>\n",
       "<td><img alt=\"하락\" height=\"6\" src=\"https://ssl.pstatic.net/static/nfinance/ico_down.gif\" width=\"7\"/> 0.07</td>\n",
       "</tr>\n",
       "<tr class=\"down\">\n",
       "<th class=\"th_inter3\"><a href=\"/marketindex/interestDetail.naver?marketindexCd=IRR_CORP03Y\" onclick=\"clickcr(this, 'met.8', 'IRR_CORP03Y', '4', event);\"><span>회사채 (3년)</span></a></th>\n",
       "<td>4.41</td>\n",
       "<td><img alt=\"하락\" height=\"6\" src=\"https://ssl.pstatic.net/static/nfinance/ico_down.gif\" width=\"7\"/> 0.05</td>\n",
       "</tr>\n",
       "<tr class=\"up\">\n",
       "<th class=\"th_inter5\"><a href=\"/marketindex/interestDetail.naver?marketindexCd=IRR_COFIXBAL\" onclick=\"clickcr(this, 'met.8', 'IRR_COFIXBAL', '5', event);\"><span>COFIX 잔액</span></a></th>\n",
       "<td>1.68</td>\n",
       "<td><img alt=\"상승\" height=\"6\" src=\"https://ssl.pstatic.net/static/nfinance/ico_up.gif\" width=\"7\"/> 0.10</td>\n",
       "</tr>\n",
       "<tr class=\"up\">\n",
       "<th class=\"th_inter6\"><a href=\"/marketindex/interestDetail.naver?marketindexCd=IRR_COFIXNEW\" onclick=\"clickcr(this, 'met.8', 'IRR_COFIXNEW', '6', event);\"><span>COFIX 신규취급액</span></a></th>\n",
       "<td>1.98</td>\n",
       "<td><img alt=\"상승\" height=\"6\" src=\"https://ssl.pstatic.net/static/nfinance/ico_up.gif\" width=\"7\"/> 0.14</td>\n",
       "</tr>\n",
       "</tbody>\n",
       "</table>\n",
       "<table class=\"tbl_exchange tbl_exchange_v1 market\" style=\"margin-top:10px;\" summary=\"달러 인덱스\">\n",
       "<caption>달러 인덱스</caption>\n",
       "<colgroup>\n",
       "<col width=\"88\"/>\n",
       "<col width=\"46\"/>\n",
       "<col width=\"66\"/>\n",
       "</colgroup>\n",
       "<thead>\n",
       "<tr>\n",
       "<th>구분</th>\n",
       "<th>금리</th>\n",
       "<th>등락율</th>\n",
       "</tr>\n",
       "</thead>\n",
       "<tbody>\n",
       "<tr class=\"other_t1 up\">\n",
       "<th class=\"th_inter7\"><a href=\"/marketindex/worldExchangeDetail.naver?marketindexCd=FX_USDX&amp;fdtc=4\" onclick=\"clickcr(this, 'rid.dollar', 'FX_USDX', '', event);\"><span>달러 인덱스</span></a></th>\n",
       "<td>104.4800</td>\n",
       "<td><img alt=\"상승\" height=\"6\" src=\"https://ssl.pstatic.net/static/nfinance/ico_up.gif\" width=\"7\"/> 1.0700</td>\n",
       "</tr>\n",
       "</tbody>\n",
       "</table>\n",
       "</div>\n",
       "<div class=\"section_aside\">\n",
       "<div class=\"tab_search search3\">\n",
       "<a href=\"#\" onclick=\"clickcr(this, 'rch.1', '', '', event); return false;\"><span>최근조회</span></a>\n",
       "<a href=\"#\" onclick=\"clickcr(this, 'rch.3', '', '', event); return false;\"><span>MY STOCK</span></a>\n",
       "</div>\n",
       "<h3 class=\"blind\">최근조회</h3>\n",
       "<table class=\"tbl_search\" summary=\"최근조회 리스트\">\n",
       "<caption>최근조회</caption>\n",
       "<colgroup>\n",
       "<col/>\n",
       "<col width=\"55\"/>\n",
       "<col width=\"87\"/>\n",
       "</colgroup>\n",
       "<thead>\n",
       "<tr>\n",
       "<th>업체명</th>\n",
       "<th>거래량</th>\n",
       "<th>전일비</th>\n",
       "</tr>\n",
       "</thead>\n",
       "<tbody>\n",
       "</tbody>\n",
       "</table>\n",
       "<div class=\"more_info\">\n",
       "<span>\n",
       "<a href=\"#\" onclick=\"clickcr(this, 'rch.5', '', '', event); return false;\"><img alt=\"이전\" height=\"15\" src=\"https://ssl.pstatic.net/static/nfinance/btn_prev2.gif\" width=\"17\"/></a>\n",
       "<a href=\"#\" onclick=\"clickcr(this, 'rch.6', '', '', event); return false;\"><img alt=\"다음\" height=\"15\" src=\"https://ssl.pstatic.net/static/nfinance/btn_next2.gif\" width=\"17\"/></a>\n",
       "</span>\n",
       "<a class=\"btn_more _mystock_more_info\" href=\"#\" onclick=\"javascript:openMyitemNew('https://finance.naver.com'); clickcr(this, 'rch.7', '', '', event);\"><img alt=\"더보기\" height=\"10\" src=\"https://ssl.pstatic.net/static/nfinance/btn_more5.gif\" width=\"33\"/></a>\n",
       "</div>\n",
       "</div>\n",
       "<div class=\"section_aside\">\n",
       "<h3 class=\"h_report\"><span>경제분석 리포트 </span></h3>\n",
       "<ul class=\"list_report\">\n",
       "<li><a href=\"/research/economy_read.naver?nid=7628\" onclick=\"clickcr(this, 'rer.list', '', '', event);\">프랑스 하원선거, 고물가의 정치적...</a></li>\n",
       "<li><a href=\"/research/economy_read.naver?nid=7627\" onclick=\"clickcr(this, 'rer.list', '', '', event);\">미국 5월 산업생산, 제조업 경기...</a></li>\n",
       "<li><a href=\"/research/economy_read.naver?nid=7626\" onclick=\"clickcr(this, 'rer.list', '', '', event);\">체감되는 경기둔화</a></li>\n",
       "<li><a href=\"/research/economy_read.naver?nid=7625\" onclick=\"clickcr(this, 'rer.list', '', '', event);\">수요 측면의 인플레이션 압력은 확...</a></li>\n",
       "<li><a href=\"/research/economy_read.naver?nid=7624\" onclick=\"clickcr(this, 'rer.list', '', '', event);\">자이언트 스텝과 이를 받아들이는 ...</a></li>\n",
       "</ul>\n",
       "<a class=\"btn_more\" href=\"/research/economy_list.naver\" onclick=\"clickcr(this, 'rer.more', '', '', event);\"><img alt=\"경제분석 리포트 더보기\" height=\"18\" src=\"https://ssl.pstatic.net/static/nfinance/btn_more.gif\" width=\"34\"/></a>\n",
       "</div>\n",
       "</div>\n",
       "<script language=\"javascript\" src=\"https://ssl.pstatic.net/imgstock/static.pc/20220615142521/js/info/myStock.js\" type=\"text/javascript\"></script>\n",
       "<script language=\"javascript\" src=\"https://ssl.pstatic.net/imgstock/static.pc/20220615142521/js/util.js\" type=\"text/javascript\"></script>\n",
       "<script language=\"javascript\">\n",
       "\n",
       "function toggleTabSearch(e){\n",
       "\tvar currentElement = jindo.$Element(jindo.$Event(e).currentElement);\n",
       "\tvar parentElement = currentElement.parent();\n",
       "\tvar id = currentElement.className();\n",
       "\tvar order = parentElement.indexOf(currentElement) + 3;\n",
       "\tparentElement.className(\"tab_search search\"+ order);\n",
       "\n",
       "\t// 페이징을 위해서 order값에 따라 최근조회인지 mystock인지 type을 저장\n",
       "\tif (order == 3) {\n",
       "\t\tcurrentType = \"recent\";\n",
       "\t} else {\n",
       "\t\tcurrentType = \"mystock\";\n",
       "\t}\n",
       "}\n",
       "\n",
       "jindo.$Fn(function(){\n",
       "\tif ('true' == 'true') {\n",
       "\t\tgetStockRightMenuData('000000', 'recent', 1, 'https://finance.naver.com', 'https://ssl.pstatic.net/static/nfinance');\n",
       "\n",
       "\t\tvar tabSearchArea = jindo.$$.getSingle('.tab_search');\n",
       "\t\tvar moreInfoArea = jindo.$Element(jindo.$$.getSingle('.tbl_search')).next().$value();\n",
       "\n",
       "\t\tjindo.$Fn(function(e) {toggleTabSearch(e); getStockRightMenuData('000000', 'recent', 1, 'https://finance.naver.com', 'https://ssl.pstatic.net/static/nfinance'); }).attach(jindo.$$.getSingle('a' ,tabSearchArea), 'click');\n",
       "\t\tjindo.$Fn(function(e) {toggleTabSearch(e); getStockRightMenuData('000000', 'mystock', 1, 'https://finance.naver.com', 'https://ssl.pstatic.net/static/nfinance'); }).attach(jindo.$$('a' ,tabSearchArea)[1], 'click');\n",
       "\t\tjindo.$Fn(function(e) {updatePageForPaging (currentType, 'up', 'https://finance.naver.com', 'https://ssl.pstatic.net/static/nfinance'); }).attach(jindo.$$.getSingle('a', moreInfoArea), 'click');\n",
       "\t\tjindo.$Fn(function(e) {updatePageForPaging (currentType, 'down', 'https://finance.naver.com', 'https://ssl.pstatic.net/static/nfinance'); }).attach(jindo.$$('a', moreInfoArea)[1], 'click');\n",
       "\t}\n",
       "\n",
       "}).attach(document,\"domready\");\n",
       "\n",
       "function openMyitemNew(stockHost) {\n",
       "\tvar selectedElement = jindo.$Element(jindo.$$.getSingle(\".tab_search\"));\n",
       "\tif (selectedElement != null) {\n",
       "\t\tif (selectedElement.hasClass(\"search1\")) {\n",
       "\t\t\tdocument.location.href = stockHost + '/mystock/recentSearchItemList.naver';\n",
       "\t\t} else {\n",
       "\t\t\tdocument.location.href = stockHost + '/mystock/itemList.naver';\n",
       "\t\t}\n",
       "\t}\n",
       "}\n",
       "\n",
       "</script>\n",
       "</div>\n",
       "<div id=\"footer\">\n",
       "<ul>\n",
       "<li class=\"first\">\n",
       "<a href=\"https://www.naver.com/rules/service.html\" onclick=\"clickcr(this, 'fot.service', '', '', event);\" target=\"_blank\">이용약관</a>\n",
       "</li>\n",
       "<li>\n",
       "<a href=\"/rules.naver\" onclick=\"clickcr(this, 'fot.policy', '', '', event);\" target=\"_blank\">금융게시판 운영원칙</a>\n",
       "</li>\n",
       "<li>\n",
       "<a href=\"https://www.naver.com/rules/privacy.html\" onclick=\"clickcr(this, 'fot.privacy', '', '', event);\" target=\"_blank\"><strong>개인정보처리방침</strong></a>\n",
       "</li>\n",
       "<li>\n",
       "<a href=\"https://www.naver.com/rules/disclaimer.html\" onclick=\"clickcr(this, 'fot.limit', '', '', event);\" target=\"_blank\">책임의 한계와 법적고지</a>\n",
       "</li>\n",
       "<li>\n",
       "<a href=\"https://help.naver.com/support/alias/contents2/finance/finance_1.naver\" onclick=\"clickcr(this, 'fot.help', '', '', event);\" target=\"_blank\">금융 고객센터</a>\n",
       "</li>\n",
       "</ul>\n",
       "<p class=\"desc\">네이버(주)가 제공하는 금융 정보는 각 콘텐츠 제공업체로부터 받는 투자 참고사항이며, 오류가 발생하거나 지연될 수 있습니다.<br/>네이버(주)와 콘텐츠 제공업체는 제공된 정보에 의한 투자 결과에 법적인 책임을 지지 않습니다. 게시된 정보는 무단으로 배포할 수 없습니다.</p>\n",
       "<address>\n",
       "<a class=\"logo\" href=\"https://www.navercorp.com/\" onclick=\"clickcr(this, 'fot.nhn', '', '', event);\" target=\"_blank\"><img alt=\"NAVER\" height=\"11\" src=\"https://ssl.pstatic.net/static/nfinance/2019/02/22/ci_naver.png\" width=\"58\"/></a>\n",
       "<em>Copyright ©</em>\n",
       "<a href=\"https://www.navercorp.com/\" onclick=\"clickcr(this, 'fot.nhn', '', '', event);\" target=\"_blank\">NAVER Corp.</a>\n",
       "<span>All Rights Reserved.</span>\n",
       "</address>\n",
       "</div>\n",
       "<script type=\"text/javascript\">\n",
       "function isVisible(obj) {\n",
       "    if (obj == document) return true\n",
       " \n",
       "    if (!obj) return false\n",
       "    if (!obj.parentNode) return false\n",
       "    if (obj.style) {\n",
       "        if (obj.style.display == 'none') return false\n",
       "        if (obj.style.visibility == 'hidden') return false\n",
       "    }\n",
       " \n",
       "    if (window.getComputedStyle) {\n",
       "        var style = window.getComputedStyle(obj, \"\")\n",
       "        if (style.display == 'none') return false\n",
       "        if (style.visibility == 'hidden') return false\n",
       "    }\n",
       " \n",
       "    var style = obj.currentStyle\n",
       "    if (style) {\n",
       "        if (style['display'] == 'none') return false\n",
       "        if (style['visibility'] == 'hidden') return false\n",
       "    }\n",
       " \n",
       "    return isVisible(obj.parentNode)\n",
       "}\n",
       "\n",
       "function isChildOf(myobj, containerObj) {\n",
       "\twhile(myobj != undefined) {\n",
       "\t\tif (myobj == document.body) {\n",
       "\t\t\tbreak;\n",
       "\t\t} \n",
       "\t\tif (myobj == containerObj) {\n",
       "\t\t\treturn true;\n",
       "\t\t}\n",
       "\t\tmyobj = myobj.parentElement;\n",
       "\t}\n",
       "\treturn false;\t\n",
       "}\n",
       "\n",
       "function gnbLayerClose(e){\n",
       "\tvar target = e.target ? e.target : e.srcElement;\n",
       "\tif (isVisible(document.getElementById('gnb_service_lyr')) || isVisible(document.getElementById('gnb_notice_lyr')) ||isVisible(document.getElementById('gnb_my_lyr')) ) {\n",
       "\t\tif (!isChildOf(target, document.getElementById('gnb'))) {\n",
       "\t\t\tgnbAllLayerClose();\n",
       "\t\t}\n",
       "\t}\t\n",
       "}\n",
       "\n",
       "var isIE = (navigator.userAgent.toLowerCase().indexOf(\"msie\")!=-1 && window.document.all) ? true:false;\n",
       "if (isIE) {\n",
       "\tdocument.attachEvent('onmousedown', gnbLayerClose);\n",
       "} else {\n",
       "\twindow.addEventListener('mousedown', gnbLayerClose);\n",
       "}\n",
       "</script>\n",
       "\n",
       "\n",
       ">"
      ]
     },
     "execution_count": 86,
     "metadata": {},
     "output_type": "execute_result"
    }
   ],
   "source": [
    "url = \"https://finance.naver.com/marketindex/\"\n",
    "page = urlopen(url)\n",
    "page\n",
    "\n",
    "# 가져온 웹 소스를 트리 구조로 변환\n",
    "soup = BeautifulSoup(page, \"html.parser\")\n",
    "soup.prettify"
   ]
  },
  {
   "cell_type": "code",
   "execution_count": 92,
   "id": "3dc8e146",
   "metadata": {},
   "outputs": [
    {
     "name": "stdout",
     "output_type": "stream",
     "text": [
      "[<span class=\"value\">1,290.40</span>, <span class=\"value\">955.75</span>, <span class=\"value\">1,359.24</span>, <span class=\"value\">193.20</span>, <span class=\"value\">134.9600</span>, <span class=\"value\">1.0536</span>, <span class=\"value\">1.2256</span>, <span class=\"value\">104.4800</span>, <span class=\"value\">107.99</span>, <span class=\"value\">2114.43</span>, <span class=\"value\">1835.6</span>, <span class=\"value\">76346.99</span>]\n",
      "미 환율 :  1,290.40\n"
     ]
    }
   ],
   "source": [
    "# span 태그로 접근\n",
    "span = soup.find_all(\"span\", class_=\"value\")\n",
    "print(span)\n",
    "print(\"미 환율 : \", span[0].get_text())"
   ]
  },
  {
   "cell_type": "code",
   "execution_count": 106,
   "id": "b7452e87",
   "metadata": {},
   "outputs": [
    {
     "name": "stdout",
     "output_type": "stream",
     "text": [
      "\n",
      "1,290.40\n",
      "원\n",
      " 2.60\n",
      "하락\n",
      "\n"
     ]
    }
   ],
   "source": [
    "# div 태그로 접근\n",
    "div = soup.find_all(\"div\", class_=\"head_info point_dn\")\n",
    "print(div[0].get_text())"
   ]
  },
  {
   "cell_type": "code",
   "execution_count": 102,
   "id": "b100408f",
   "metadata": {},
   "outputs": [
    {
     "data": {
      "text/plain": [
       "<div class=\"head_info point_dn\">\n",
       "<span class=\"value\">1,290.40</span>\n",
       "<span class=\"txt_krw\"><span class=\"blind\">원</span></span>\n",
       "<span class=\"change\"> 2.60</span>\n",
       "<span class=\"blind\">하락</span>\n",
       "</div>"
      ]
     },
     "execution_count": 102,
     "metadata": {},
     "output_type": "execute_result"
    }
   ],
   "source": [
    "div[0]"
   ]
  },
  {
   "cell_type": "code",
   "execution_count": 110,
   "id": "9104ba95",
   "metadata": {},
   "outputs": [
    {
     "name": "stdout",
     "output_type": "stream",
     "text": [
      "1,290.40\n"
     ]
    }
   ],
   "source": [
    "# css 문법 이용\n",
    "\n",
    "span = soup.select_one(\"div.head_info > span.value\") # select로 시작하는 함수는 css 사용하는 것\n",
    "# div 중 class가 head_info인 것(class 접근 기호 . 사용), 그 중 span의 값을 가져옴(자식에 접근 > 사용)\n",
    "\n",
    "print(span.get_text())"
   ]
  },
  {
   "cell_type": "markdown",
   "id": "c300a89f",
   "metadata": {},
   "source": [
    "## 2) 스크래핑 연습"
   ]
  },
  {
   "cell_type": "code",
   "execution_count": 112,
   "id": "1c0ec4ae",
   "metadata": {},
   "outputs": [],
   "source": [
    "##### 웹 소스 가져오기\n",
    "\n",
    "url = \"http://www.pythonscraping.com/pages/warandpeace.html\"\n",
    "page = urlopen(url)\n",
    "\n",
    "soup = BeautifulSoup(page, \"html.parser\")"
   ]
  },
  {
   "cell_type": "code",
   "execution_count": 127,
   "id": "65ab47fb",
   "metadata": {
    "collapsed": true
   },
   "outputs": [
    {
     "name": "stdout",
     "output_type": "stream",
     "text": [
      "Anna\n",
      "Pavlovna Scherer\n",
      "Empress Marya\n",
      "Fedorovna\n",
      "Prince Vasili Kuragin\n",
      "Anna Pavlovna\n",
      "St. Petersburg\n",
      "the prince\n",
      "Anna Pavlovna\n",
      "Anna Pavlovna\n",
      "the prince\n",
      "the prince\n",
      "the prince\n",
      "Prince Vasili\n",
      "Anna Pavlovna\n",
      "Anna Pavlovna\n",
      "the prince\n",
      "Wintzingerode\n",
      "King of Prussia\n",
      "le Vicomte de Mortemart\n",
      "Montmorencys\n",
      "Rohans\n",
      "Abbe Morio\n",
      "the Emperor\n",
      "the prince\n",
      "Prince Vasili\n",
      "Dowager Empress Marya Fedorovna\n",
      "the baron\n",
      "Anna Pavlovna\n",
      "the Empress\n",
      "the Empress\n",
      "Anna Pavlovna's\n",
      "Her Majesty\n",
      "Baron\n",
      "Funke\n",
      "The prince\n",
      "Anna\n",
      "Pavlovna\n",
      "the Empress\n",
      "The prince\n",
      "Anatole\n",
      "the prince\n",
      "The prince\n",
      "Anna\n",
      "Pavlovna\n",
      "Anna Pavlovna\n",
      "----------------------------------------\n",
      "Anna\n",
      "Pavlovna Scherer\n",
      "Empress Marya\n",
      "Fedorovna\n",
      "Prince Vasili Kuragin\n",
      "Anna Pavlovna\n",
      "St. Petersburg\n",
      "the prince\n",
      "Anna Pavlovna\n",
      "Anna Pavlovna\n",
      "the prince\n",
      "the prince\n",
      "the prince\n",
      "Prince Vasili\n",
      "Anna Pavlovna\n",
      "Anna Pavlovna\n",
      "the prince\n",
      "Wintzingerode\n",
      "King of Prussia\n",
      "le Vicomte de Mortemart\n",
      "Montmorencys\n",
      "Rohans\n",
      "Abbe Morio\n",
      "the Emperor\n",
      "the prince\n",
      "Prince Vasili\n",
      "Dowager Empress Marya Fedorovna\n",
      "the baron\n",
      "Anna Pavlovna\n",
      "the Empress\n",
      "the Empress\n",
      "Anna Pavlovna's\n",
      "Her Majesty\n",
      "Baron\n",
      "Funke\n",
      "The prince\n",
      "Anna\n",
      "Pavlovna\n",
      "the Empress\n",
      "The prince\n",
      "Anatole\n",
      "the prince\n",
      "The prince\n",
      "Anna\n",
      "Pavlovna\n",
      "Anna Pavlovna\n"
     ]
    }
   ],
   "source": [
    "##### 녹색 단어만 골라오기\n",
    "\n",
    "# lst = []\n",
    "# green = soup.find_all(\"span\", class_=\"green\")\n",
    "# for i in green:\n",
    "#     lst.append(i.get_text())\n",
    "    \n",
    "# lst\n",
    "\n",
    "green = soup.find_all(\"span\", class_=\"green\")\n",
    "for i in green:\n",
    "    print(i.get_text())\n",
    "    \n",
    "print(\"----------------------------------------\")\n",
    "\n",
    "green = soup.find_all(\"span\", {\"class\" : \"green\"})\n",
    "for i in green:\n",
    "    print(i.get_text())"
   ]
  },
  {
   "cell_type": "code",
   "execution_count": 129,
   "id": "630e0b26",
   "metadata": {
    "collapsed": true
   },
   "outputs": [
    {
     "name": "stdout",
     "output_type": "stream",
     "text": [
      "Anna\n",
      "Pavlovna Scherer\n",
      "Empress Marya\n",
      "Fedorovna\n",
      "Prince Vasili Kuragin\n",
      "Anna Pavlovna\n",
      "St. Petersburg\n",
      "the prince\n",
      "Anna Pavlovna\n",
      "Anna Pavlovna\n",
      "the prince\n",
      "the prince\n",
      "the prince\n",
      "Prince Vasili\n",
      "Anna Pavlovna\n",
      "Anna Pavlovna\n",
      "the prince\n",
      "the prince\n",
      "Prince Vasili\n",
      "Dowager Empress Marya Fedorovna\n",
      "the baron\n",
      "Anna Pavlovna\n",
      "the Empress\n",
      "the Empress\n",
      "Anna Pavlovna's\n",
      "Her Majesty\n",
      "Baron\n",
      "Funke\n",
      "The prince\n",
      "Anna\n",
      "Pavlovna\n",
      "the Empress\n",
      "The prince\n",
      "the prince\n",
      "The prince\n",
      "Anna\n",
      "Pavlovna\n",
      "Anna Pavlovna\n"
     ]
    }
   ],
   "source": [
    "green = soup.select(\"div#text > span.green\")\n",
    "for i in green:\n",
    "    print(i.get_text())"
   ]
  },
  {
   "cell_type": "code",
   "execution_count": 136,
   "id": "c704fc30",
   "metadata": {},
   "outputs": [
    {
     "name": "stdout",
     "output_type": "stream",
     "text": [
      "['War and Peace', 'Chapter 1']\n"
     ]
    }
   ],
   "source": [
    "##### 제목(h숫자)\n",
    "\n",
    "# soup.h1\n",
    "titles = soup.find_all([\"h1\", \"h2\"])\n",
    "print([t.get_text() for t in titles])"
   ]
  },
  {
   "cell_type": "code",
   "execution_count": 139,
   "id": "2fe64053",
   "metadata": {},
   "outputs": [],
   "source": [
    "##### 웹 소스 가져오기 \n",
    "url = \"http://www.pythonscraping.com/pages/page3.html\"\n",
    "page = urlopen(url)\n",
    "soup = BeautifulSoup(page, \"html.parser\")"
   ]
  },
  {
   "cell_type": "code",
   "execution_count": 172,
   "id": "373fe8c7",
   "metadata": {
    "scrolled": true
   },
   "outputs": [
    {
     "name": "stdout",
     "output_type": "stream",
     "text": [
      "\n",
      "Vegetable Basket\n",
      "\n",
      "This vegetable basket is the perfect gift for your health conscious (or overweight) friends!\n",
      "Now with super-colorful bell peppers!\n",
      "\n",
      "$15.00\n",
      "\n",
      "\n",
      "\n",
      "\n",
      "Russian Nesting Dolls\n",
      "\n",
      "Hand-painted by trained monkeys, these exquisite dolls are priceless! And by \"priceless,\" we mean \"extremely expensive\"! 8 entire dolls per set! Octuple the presents!\n",
      "\n",
      "$10,000.52\n",
      "\n",
      "\n",
      "\n",
      "\n",
      "Fish Painting\n",
      "\n",
      "If something seems fishy about this painting, it's because it's a fish! Also hand-painted by trained monkeys!\n",
      "\n",
      "$10,005.00\n",
      "\n",
      "\n",
      "\n",
      "\n",
      "Dead Parrot\n",
      "\n",
      "This is an ex-parrot! Or maybe he's only resting?\n",
      "\n",
      "$0.50\n",
      "\n",
      "\n",
      "\n",
      "\n",
      "Mystery Box\n",
      "\n",
      "If you love suprises, this mystery box is for you! Do not place on light-colored surfaces. May cause oil staining. Keep your friends guessing!\n",
      "\n",
      "$1.50\n",
      "\n",
      "\n",
      "\n"
     ]
    }
   ],
   "source": [
    "##### 테이블 행 수집\n",
    "\n",
    "# original\n",
    "tables = soup.find_all(\"tr\", class_=\"gift\")\n",
    "tables\n",
    "\n",
    "# class 속성이 없다면?\n",
    "tables = soup.find_all(\"tr\", {\"id\":[\"gift1\", \"gift2\", \"gift3\", \"gift4\", \"gift5\"]})\n",
    "tables\n",
    "\n",
    "# tr의 id가 너무 많다면?\n",
    "tables = soup.select(\"table#giftList > tr\")[1:]\n",
    "tables\n",
    "for t in tables:\n",
    "    print(t.get_text())\n",
    "    \n",
    "# tables = []\n",
    "# for i in range(1, 6):\n",
    "#     tables.append(soup.find_all(\"tr\", id=\"gift{}\".format(i)))\n",
    "\n",
    "# tables"
   ]
  },
  {
   "cell_type": "code",
   "execution_count": 177,
   "id": "b99d0c6e",
   "metadata": {
    "collapsed": true
   },
   "outputs": [
    {
     "name": "stdout",
     "output_type": "stream",
     "text": [
      "\n",
      "\n",
      "\n",
      "Vegetable Basket\n",
      "\n",
      "This vegetable basket is the perfect gift for your health conscious (or overweight) friends!\n",
      "Now with super-colorful bell peppers!\n",
      "\n",
      "$15.00\n",
      "\n",
      "\n",
      "\n",
      "\n",
      "\n",
      "\n",
      "Russian Nesting Dolls\n",
      "\n",
      "Hand-painted by trained monkeys, these exquisite dolls are priceless! And by \"priceless,\" we mean \"extremely expensive\"! 8 entire dolls per set! Octuple the presents!\n",
      "\n",
      "$10,000.52\n",
      "\n",
      "\n",
      "\n",
      "\n",
      "\n",
      "\n",
      "Fish Painting\n",
      "\n",
      "If something seems fishy about this painting, it's because it's a fish! Also hand-painted by trained monkeys!\n",
      "\n",
      "$10,005.00\n",
      "\n",
      "\n",
      "\n",
      "\n",
      "\n",
      "\n",
      "Dead Parrot\n",
      "\n",
      "This is an ex-parrot! Or maybe he's only resting?\n",
      "\n",
      "$0.50\n",
      "\n",
      "\n",
      "\n",
      "\n",
      "\n",
      "\n",
      "Mystery Box\n",
      "\n",
      "If you love suprises, this mystery box is for you! Do not place on light-colored surfaces. May cause oil staining. Keep your friends guessing!\n",
      "\n",
      "$1.50\n",
      "\n",
      "\n",
      "\n",
      "\n",
      "\n",
      "\n",
      "Vegetable Basket\n",
      "\n",
      "This vegetable basket is the perfect gift for your health conscious (or overweight) friends!\n",
      "Now with super-colorful bell peppers!\n",
      "\n",
      "$15.00\n",
      "\n",
      "\n",
      "\n",
      "\n",
      "Russian Nesting Dolls\n",
      "\n",
      "Hand-painted by trained monkeys, these exquisite dolls are priceless! And by \"priceless,\" we mean \"extremely expensive\"! 8 entire dolls per set! Octuple the presents!\n",
      "\n",
      "$10,000.52\n",
      "\n",
      "\n",
      "\n",
      "\n",
      "Fish Painting\n",
      "\n",
      "If something seems fishy about this painting, it's because it's a fish! Also hand-painted by trained monkeys!\n",
      "\n",
      "$10,005.00\n",
      "\n",
      "\n",
      "\n",
      "\n",
      "Dead Parrot\n",
      "\n",
      "This is an ex-parrot! Or maybe he's only resting?\n",
      "\n",
      "$0.50\n",
      "\n",
      "\n",
      "\n",
      "\n",
      "Mystery Box\n",
      "\n",
      "If you love suprises, this mystery box is for you! Do not place on light-colored surfaces. May cause oil staining. Keep your friends guessing!\n",
      "\n",
      "$1.50\n",
      "\n",
      "\n",
      "\n"
     ]
    }
   ],
   "source": [
    "tb = list(soup.find(\"table\", {\"id\":\"giftList\"}).tr.next_siblings)\n",
    "tb\n",
    "\n",
    "for i in tb:\n",
    "    print(i.get_text()) # \\n도 포함되기\n",
    "    \n",
    "########################################################################\n",
    "\n",
    "tb = soup.find(\"table\", {\"id\":\"giftList\"}).tr.next_siblings\n",
    "\n",
    "for i in tb:\n",
    "    if(type(i) == bs4.element.Tag): # 태그의 자료 타입 : bs4.element.Tag\n",
    "        print(i.get_text()) # 태그일 때만 출력"
   ]
  },
  {
   "cell_type": "code",
   "execution_count": 179,
   "id": "7dca8404",
   "metadata": {
    "scrolled": true
   },
   "outputs": [
    {
     "name": "stdout",
     "output_type": "stream",
     "text": [
      "\n",
      "Vegetable Basket\n",
      "\n",
      "This vegetable basket is the perfect gift for your health conscious (or overweight) friends!\n",
      "Now with super-colorful bell peppers!\n",
      "\n",
      "$15.00\n",
      "\n",
      "\n",
      "\n",
      "../img/gifts/img1.jpg\n",
      "\n",
      "Russian Nesting Dolls\n",
      "\n",
      "Hand-painted by trained monkeys, these exquisite dolls are priceless! And by \"priceless,\" we mean \"extremely expensive\"! 8 entire dolls per set! Octuple the presents!\n",
      "\n",
      "$10,000.52\n",
      "\n",
      "\n",
      "\n",
      "../img/gifts/img2.jpg\n",
      "\n",
      "Fish Painting\n",
      "\n",
      "If something seems fishy about this painting, it's because it's a fish! Also hand-painted by trained monkeys!\n",
      "\n",
      "$10,005.00\n",
      "\n",
      "\n",
      "\n",
      "../img/gifts/img3.jpg\n",
      "\n",
      "Dead Parrot\n",
      "\n",
      "This is an ex-parrot! Or maybe he's only resting?\n",
      "\n",
      "$0.50\n",
      "\n",
      "\n",
      "\n",
      "../img/gifts/img4.jpg\n",
      "\n",
      "Mystery Box\n",
      "\n",
      "If you love suprises, this mystery box is for you! Do not place on light-colored surfaces. May cause oil staining. Keep your friends guessing!\n",
      "\n",
      "$1.50\n",
      "\n",
      "\n",
      "\n",
      "../img/gifts/img6.jpg\n"
     ]
    }
   ],
   "source": [
    "tb = soup.find(\"table\", {\"id\":\"giftList\"}).tr.next_siblings\n",
    "\n",
    "for i in tb:\n",
    "    if(type(i) == bs4.element.Tag): # 태그의 자료 타입 : bs4.element.Tag\n",
    "        print(i.get_text()) # 태그일 때만 출력\n",
    "        print(list(i.children)[3].img[\"src\"]) # 자식 태그 중 네번째 태그가 img 태그"
   ]
  },
  {
   "cell_type": "markdown",
   "id": "82dcecc4",
   "metadata": {},
   "source": [
    "#### $15.00 찾기"
   ]
  },
  {
   "cell_type": "code",
   "execution_count": 188,
   "id": "6a8f954b",
   "metadata": {},
   "outputs": [
    {
     "data": {
      "text/plain": [
       "'\\n$15.00\\n'"
      ]
     },
     "execution_count": 188,
     "metadata": {},
     "output_type": "execute_result"
    }
   ],
   "source": [
    "list(soup.select(\"tr#gift1 > td\"))[2].get_text()"
   ]
  },
  {
   "cell_type": "code",
   "execution_count": 190,
   "id": "ab4a23fc",
   "metadata": {},
   "outputs": [
    {
     "data": {
      "text/plain": [
       "'\\n$15.00\\n'"
      ]
     },
     "execution_count": 190,
     "metadata": {},
     "output_type": "execute_result"
    }
   ],
   "source": [
    "list(soup.find(\"tr\", id=\"gift1\"))[2].get_text()"
   ]
  },
  {
   "cell_type": "code",
   "execution_count": 199,
   "id": "09dd2a96",
   "metadata": {},
   "outputs": [
    {
     "data": {
      "text/plain": [
       "'\\n$15.00\\n'"
      ]
     },
     "execution_count": 199,
     "metadata": {},
     "output_type": "execute_result"
    }
   ],
   "source": [
    "list(soup.tr.next_siblings)[1].td.next_sibling.next_sibling.get_text()"
   ]
  },
  {
   "cell_type": "code",
   "execution_count": 202,
   "id": "2c7767a5",
   "metadata": {},
   "outputs": [
    {
     "data": {
      "text/plain": [
       "'$15.00'"
      ]
     },
     "execution_count": 202,
     "metadata": {},
     "output_type": "execute_result"
    }
   ],
   "source": [
    "soup.select(\"td\")[2].get_text().replace(\"\\n\", \"\")"
   ]
  },
  {
   "cell_type": "code",
   "execution_count": 207,
   "id": "ccd91e51",
   "metadata": {},
   "outputs": [
    {
     "name": "stdout",
     "output_type": "stream",
     "text": [
      "\n",
      "$15.00\n",
      "\n"
     ]
    }
   ],
   "source": [
    "price = soup.find(\"img\", src=\"../img/gifts/img1.jpg\").parent.previous_sibling\n",
    "print(price.get_text())"
   ]
  },
  {
   "cell_type": "code",
   "execution_count": 217,
   "id": "b6ab6211",
   "metadata": {},
   "outputs": [
    {
     "data": {
      "text/plain": [
       "'$15.00'"
      ]
     },
     "execution_count": 217,
     "metadata": {},
     "output_type": "execute_result"
    }
   ],
   "source": [
    "soup.find(\"table\", id=\"giftList\").td.next_sibling.next_sibling.get_text().replace(\"\\n\", \"\")"
   ]
  }
 ],
 "metadata": {
  "kernelspec": {
   "display_name": "Python 3 (ipykernel)",
   "language": "python",
   "name": "python3"
  },
  "language_info": {
   "codemirror_mode": {
    "name": "ipython",
    "version": 3
   },
   "file_extension": ".py",
   "mimetype": "text/x-python",
   "name": "python",
   "nbconvert_exporter": "python",
   "pygments_lexer": "ipython3",
   "version": "3.9.12"
  }
 },
 "nbformat": 4,
 "nbformat_minor": 5
}
