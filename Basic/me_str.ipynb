{
 "cells": [
  {
   "cell_type": "markdown",
   "id": "cc59e293",
   "metadata": {},
   "source": [
    "### 이스케이프 코드\n",
    "- \\n : 개행\n",
    "- \\t : 탭\n",
    "- \\\\(\\\", \\') : 역슬래시(큰 따옴표, 작은 따옴표) 그대로 사용\n",
    "- \\r : 캐리지 리턴/ 줄 바꿈 문자, 현재 커서를 가장 앞으로 이동\n",
    "- \\f : 폼 피드/ 줄 바꿈 문자, 현재 커서를 다음 줄로 이동\n",
    "- \\a : 벨 소리/ 출력할 때 pc 스피커에서 \"삑\" 소리\n",
    "- \\b : 백스페이스\n",
    "- \\000 : 널 문자\n",
    "- 가장 많이 쓰이는 건 개행, 탭, \\\\, \\', \\\""
   ]
  },
  {
   "cell_type": "markdown",
   "id": "ad1e7f86",
   "metadata": {},
   "source": [
    "### 슬라이싱"
   ]
  },
  {
   "cell_type": "code",
   "execution_count": 15,
   "id": "003227cf",
   "metadata": {},
   "outputs": [
    {
     "name": "stdout",
     "output_type": "stream",
     "text": [
      "You need\n",
      "2021\n",
      "0523\n",
      "Sunny\n"
     ]
    }
   ],
   "source": [
    "a = \"Life is too short, You need Python\"\n",
    "\n",
    "print(a[19:-7])\n",
    "\n",
    "a = \"20210523Sunny\"\n",
    "\n",
    "year = a[:4]\n",
    "print(year)\n",
    "\n",
    "day = a[4:8]\n",
    "print(day)\n",
    "\n",
    "weather = a[8:]\n",
    "print(weather)"
   ]
  },
  {
   "cell_type": "markdown",
   "id": "47f4efa7",
   "metadata": {},
   "source": [
    "### 문자열 포맷"
   ]
  },
  {
   "cell_type": "code",
   "execution_count": 22,
   "id": "bd3562f0",
   "metadata": {},
   "outputs": [
    {
     "name": "stdout",
     "output_type": "stream",
     "text": [
      "Error is 3%.\n",
      "     나는 나비 입니다\n",
      "나는 나비      입니다\n"
     ]
    }
   ],
   "source": [
    "### %\n",
    "\n",
    "# a = \"Error is %d%.\" # 에러(%를 불완전한 포맷의 형태로 인식)\n",
    "a = \"Error is %d%%.\"\n",
    "print(a % 3)\n",
    "\n",
    "print(\"%10s 입니다\" %\"나는 나비\")\n",
    "print(\"%-10s 입니다\" %\"나는 나비\")"
   ]
  },
  {
   "cell_type": "code",
   "execution_count": 38,
   "id": "91054f2b",
   "metadata": {},
   "outputs": [
    {
     "name": "stdout",
     "output_type": "stream",
     "text": [
      "*    hi    *\n",
      "*----hi----*\n",
      "{중괄호}\n",
      "나의 이름은 홍길동이고 나이는 30입니다.\n",
      "나의 이름은 홍길동이고 나이는 32입니다.\n",
      "*hi        *\n",
      "*        hi*\n",
      "*    hi    *\n",
      "!!!python!!!\n"
     ]
    }
   ],
   "source": [
    "### format()\n",
    "\n",
    "# 가운데 정렬\n",
    "print(\"*{0:^10}*\".format(\"hi\"))\n",
    "\n",
    "# 채우기\n",
    "print(\"*{0:-^10}*\".format(\"hi\"))\n",
    "\n",
    "# 중괄호 사용하기\n",
    "print(\"{{중괄호}}\".format())\n",
    "\n",
    "# f 문자열 포매팅\n",
    "name = \"홍길동\"\n",
    "age = 30\n",
    "print(f\"나의 이름은 {name}이고 나이는 {age}입니다.\")\n",
    "print(f\"나의 이름은 {name}이고 나이는 {age+2}입니다.\")\n",
    "print(f\"*{'hi':<10}*\")\n",
    "print(f\"*{'hi':>10}*\")\n",
    "print(f\"*{'hi':^10}*\")\n",
    "\n",
    "print(f\"{'python':!^12}\")"
   ]
  },
  {
   "cell_type": "markdown",
   "id": "5f38af64",
   "metadata": {},
   "source": [
    "### 문자열 관련 함수"
   ]
  },
  {
   "cell_type": "code",
   "execution_count": 62,
   "id": "4ff0d506",
   "metadata": {},
   "outputs": [
    {
     "name": "stdout",
     "output_type": "stream",
     "text": [
      "0\n",
      "2\n",
      "\n",
      "2\n",
      "-1\n",
      "2\n",
      "\n",
      "a,b,c,d\n",
      "a,b,c,d\n",
      "\n",
      "HOBBY\n",
      "hobby\n",
      "\n",
      "hi *\n",
      "* hi\n",
      "hi\n",
      "\n",
      "Your leg is too short\n",
      "\n",
      "['Life', 'is', 'too', 'short']\n",
      "['a', 'b', 'c', 'd']\n"
     ]
    }
   ],
   "source": [
    "### 문자 개수 세기\n",
    "a = \"hobby\"\n",
    "print(a.count('a'))\n",
    "print(a.count('b'))\n",
    "\n",
    "print(\"\")\n",
    "\n",
    "### 문자 위치 반환\n",
    "print(a.find('b'))\n",
    "print(a.find('z')) # 부재시 -1 반환\n",
    "print(a.index('b'))\n",
    "\n",
    "print(\"\")\n",
    "\n",
    "### 문자열 삽입\n",
    "print(\",\".join('abcd'))\n",
    "print(\",\".join(['a', 'b', 'c', 'd']))\n",
    "\n",
    "print(\"\")\n",
    "\n",
    "### 소문자를 대문자로\n",
    "print(a.upper())\n",
    "\n",
    "### 대문자를 소문자로\n",
    "a = a.upper()\n",
    "print(a.lower())\n",
    "\n",
    "print(\"\")\n",
    "\n",
    "### 공백 지우기\n",
    "a = \" hi *\"\n",
    "print(a.lstrip())\n",
    "a = \"* hi \"\n",
    "print(a.rstrip())\n",
    "a = \" hi \"\n",
    "print(a.strip())\n",
    "\n",
    "print(\"\")\n",
    "\n",
    "### 문자열 바꾸기\n",
    "a = \"Life is too short\"\n",
    "print(a.replace(\"Life\", \"Your leg\"))\n",
    "\n",
    "print(\"\")\n",
    "\n",
    "### 문자열 나누기\n",
    "print(a.split())\n",
    "b = \"a:b:c:d\"\n",
    "print(b.split(\":\"))"
   ]
  },
  {
   "cell_type": "code",
   "execution_count": null,
   "id": "ed596700",
   "metadata": {},
   "outputs": [],
   "source": []
  },
  {
   "cell_type": "code",
   "execution_count": null,
   "id": "5084b772",
   "metadata": {},
   "outputs": [],
   "source": []
  },
  {
   "cell_type": "code",
   "execution_count": null,
   "id": "e98ffb76",
   "metadata": {},
   "outputs": [],
   "source": []
  },
  {
   "cell_type": "code",
   "execution_count": null,
   "id": "085fecd2",
   "metadata": {},
   "outputs": [],
   "source": []
  }
 ],
 "metadata": {
  "kernelspec": {
   "display_name": "Python 3 (ipykernel)",
   "language": "python",
   "name": "python3"
  },
  "language_info": {
   "codemirror_mode": {
    "name": "ipython",
    "version": 3
   },
   "file_extension": ".py",
   "mimetype": "text/x-python",
   "name": "python",
   "nbconvert_exporter": "python",
   "pygments_lexer": "ipython3",
   "version": "3.9.12"
  }
 },
 "nbformat": 4,
 "nbformat_minor": 5
}
