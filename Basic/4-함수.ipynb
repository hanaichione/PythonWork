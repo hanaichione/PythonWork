{
 "cells": [
  {
   "cell_type": "markdown",
   "id": "391a4ec9",
   "metadata": {},
   "source": [
    "## 1. 함수의 정의\n",
    "\n",
    "- 일정한 작업을 수행하는 코드 블럭\n",
    "- 함수는 모듈의 최소단위이며 모듈은 독립적인 기능을 가진 코드의 집합임\n",
    "\n",
    "## 2. 함수의 장점\n",
    "\n",
    "- 반복적인 코드를 없애주어 전체 코드의 길이를 짧게 만들어 준다. (재사용)\n",
    "- 유지보수의 혜택\n",
    "- 모듈화가 용이\n",
    "\n",
    "## 3. 함수의 설계\n",
    "- 단일 기능\n",
    "- 재사용성 : 재사용될 함수인가\n",
    "\n",
    "## 4. 함수의 종류\n",
    "- 사용자 정의 함수(User Define Function : UDF)\n",
    "- 내장 함수(Built-in Function)\n",
    "- 외장 함수(External Function)\n",
    "\n",
    "## 5. 함수의 구현\n",
    "    def 함수이름(...):\n",
    "        코드\n",
    "        ...\n",
    "        [return]"
   ]
  },
  {
   "cell_type": "markdown",
   "id": "912e42cf",
   "metadata": {},
   "source": [
    "## 6. 실습\n",
    "### (1) 변수의 유효(생존)범위 : 지역변수, 전역변수"
   ]
  },
  {
   "cell_type": "code",
   "execution_count": 1,
   "id": "cfbea399",
   "metadata": {},
   "outputs": [
    {
     "name": "stdout",
     "output_type": "stream",
     "text": [
      "전국 대표\n",
      "홍길동 지역 대표\n",
      "지역 대표\n"
     ]
    }
   ],
   "source": [
    "player = '전국 대표'\n",
    "\n",
    "def funcSoccer():\n",
    "    global player # 전역변수를 함수 안에서 사용하기 위함\n",
    "    name = '홍길동'\n",
    "    player = '지역 대표' # 지역 변수가 새로 만들어지지 않고 전역 변수 player를 갖다 씀\n",
    "    print(name, player)\n",
    "    \n",
    "print(player)\n",
    "funcSoccer()\n",
    "print(player)"
   ]
  },
  {
   "cell_type": "markdown",
   "id": "a3eda11e",
   "metadata": {},
   "source": [
    "함수 호출이란 : 함수가 있는 주소로 점프하여 실행하고 다시 이동하는 것(이때 돌아올 주소는 stack에 저장한다)\n",
    "인터럽트 : 현재 실행 중인 작업을 멈추도록 하는 것\n",
    "호출 방식 : 인자x반환x | 인자o반환x | 반환o"
   ]
  },
  {
   "cell_type": "markdown",
   "id": "0df579fe",
   "metadata": {},
   "source": [
    "### (2) 디폴트 인수"
   ]
  },
  {
   "cell_type": "code",
   "execution_count": 12,
   "id": "8555559b",
   "metadata": {},
   "outputs": [
    {
     "name": "stdout",
     "output_type": "stream",
     "text": [
      "--------------------------------------------------\n",
      "친구 관리 프로그램\n",
      "=========================\n",
      "1: 친구 추가\n",
      "2: 친구 삭제\n",
      "******************************\n"
     ]
    }
   ],
   "source": [
    "def line(deco=\"*\", cnt=30): # 디폴트 인스를 줄 때 앞의 인자부터 주면 뒤에 매개변수가 매개변수인지 뭔지 혼동이 발생\n",
    "    for i in range(cnt):\n",
    "        print(deco, end=\"\")\n",
    "    print(\"\")\n",
    "    \n",
    "line(cnt=50, deco='-')\n",
    "print(\"친구 관리 프로그램\")\n",
    "line(cnt=25, deco='=')\n",
    "print(\"1: 친구 추가\")\n",
    "print(\"2: 친구 삭제\")\n",
    "line(cnt=30, deco='*')"
   ]
  },
  {
   "cell_type": "markdown",
   "id": "e2976096",
   "metadata": {},
   "source": [
    "### (3) 가변 인수\n",
    "     * : 곱셈, 반복, 매개변수(가변인수, packing), unpacking"
   ]
  },
  {
   "cell_type": "code",
   "execution_count": 3,
   "id": "6b61d269",
   "metadata": {},
   "outputs": [
    {
     "name": "stdout",
     "output_type": "stream",
     "text": [
      "('홍길동',)  안녕하세요~~\n",
      "('홍길동', '임꺽정')  안녕하세요~~\n",
      "('홍길동', '임꺽정', 'Tom')  안녕하세요~~\n",
      "[1, 2] [3, 4] [4, 5]\n",
      "([1, 2], [3, 4], [4, 5])\n",
      "[1, 2] [3, 4] [4, 5]\n"
     ]
    }
   ],
   "source": [
    "def greeting(*args): #패킹\n",
    "    print(args, \" 안녕하세요~~\")\n",
    "    \n",
    "########################################\n",
    "\n",
    "greeting(\"홍길동\")\n",
    "greeting(\"홍길동\", \"임꺽정\")\n",
    "greeting(\"홍길동\", \"임꺽정\", \"Tom\")\n",
    "\n",
    "a, b, c = ([1, 2], [3, 4], [4, 5])\n",
    "print(a, b, c) # [1, 2] [3, 4] [4, 5] 언패킹\n",
    "\n",
    "d = ([1, 2], [3, 4], [4, 5])\n",
    "print(d) # ([1, 2], [3, 4], [4, 5])\n",
    "print(*d) # [1, 2] [3, 4] [4, 5]"
   ]
  },
  {
   "cell_type": "code",
   "execution_count": 12,
   "id": "36e828ad",
   "metadata": {},
   "outputs": [
    {
     "name": "stdout",
     "output_type": "stream",
     "text": [
      "72 170 홍길동 {}\n",
      "{}\n",
      "80 175 임꺽정 {'age': 30, 'blood': 'B', 'addr': '서울', 'tel': '1111-1111'}\n",
      "{'age': 30, 'blood': 'B', 'addr': '서울', 'tel': '1111-1111'}\n"
     ]
    }
   ],
   "source": [
    "# ** : 거듭제곱, 매개변수(가변인수, dict)\n",
    "\n",
    "def info(weight, height, name, **kwargs): # * 하나 짜리는 매개변수를 미리 지정하지 않았을 때는 못 쓰나봄\n",
    "    print(weight, height, name, kwargs)\n",
    "    print(kwargs)\n",
    "    \n",
    "info(72, 170, '홍길동')\n",
    "info(80, 175, '임꺽정', age=30, blood='B', addr='서울', tel='1111-1111')"
   ]
  },
  {
   "cell_type": "markdown",
   "id": "7fb9a145",
   "metadata": {},
   "source": [
    "### (4) Built-In Function"
   ]
  },
  {
   "cell_type": "markdown",
   "id": "7d391a7f",
   "metadata": {},
   "source": [
    "* enumerate(iterator) : 순서가 있는 자료형을 입력받아 인덱스값을 포함해서 리턴"
   ]
  },
  {
   "cell_type": "code",
   "execution_count": 19,
   "id": "534369fc",
   "metadata": {},
   "outputs": [
    {
     "name": "stdout",
     "output_type": "stream",
     "text": [
      "(0, '홍길동')\n",
      "(1, '전우치')\n",
      "(2, '최치원')\n",
      "(3, '송지민')\n",
      "(4, '토니 스타크')\n",
      "(5, '블랙위도우')\n",
      "--------------------\n",
      "100 홍길동\n",
      "101 전우치\n",
      "102 최치원\n",
      "103 송지민\n",
      "104 토니 스타크\n",
      "105 블랙위도우\n"
     ]
    }
   ],
   "source": [
    "for i in enumerate(['홍길동', '전우치', '최치원', '송지민', '토니 스타크', '블랙위도우']):\n",
    "    print(i)\n",
    "\n",
    "print(\"--------------------\")\n",
    "\n",
    "# tuple이기 때문에 패킹하여 따로 받을 수 있음\n",
    "for i, v in enumerate(['홍길동', '전우치', '최치원', '송지민', '토니 스타크', '블랙위도우'], start=100):\n",
    "    print(i, v)\n"
   ]
  },
  {
   "cell_type": "markdown",
   "id": "9b9b7036",
   "metadata": {},
   "source": [
    "- eval(expression) : 표현식을 파이썬에서 실행 가능하게 만들어주는 역할"
   ]
  },
  {
   "cell_type": "code",
   "execution_count": 24,
   "id": "53ad586e",
   "metadata": {},
   "outputs": [
    {
     "name": "stdout",
     "output_type": "stream",
     "text": [
      "7\n",
      "7\n",
      "안녕하세요\n"
     ]
    },
    {
     "data": {
      "text/plain": [
       "(26, 0)"
      ]
     },
     "execution_count": 24,
     "metadata": {},
     "output_type": "execute_result"
    }
   ],
   "source": [
    "a = '3+4'\n",
    "print(int(a[0]) + int(a[-1]))\n",
    "print(eval(a))\n",
    "\n",
    "b = 'print(\"안녕하세요\")'\n",
    "eval(b)\n",
    "\n",
    "c = 'divmod(52, 2)' # 몫과 나머지\n",
    "eval(c)"
   ]
  },
  {
   "cell_type": "markdown",
   "id": "341780b5",
   "metadata": {},
   "source": [
    "- map(function, iterator) : 집합의 각 요소가 함수에 의해 수행된 결과를 묶어서 리턴 *****"
   ]
  },
  {
   "cell_type": "code",
   "execution_count": 36,
   "id": "49ecdb2a",
   "metadata": {},
   "outputs": [
    {
     "name": "stdout",
     "output_type": "stream",
     "text": [
      "12\n",
      "3\n",
      "5\n",
      "44\n",
      "7\n",
      "4\n",
      "9\n"
     ]
    }
   ],
   "source": [
    "def calc(x):\n",
    "    return x+2\n",
    "\n",
    "intList = [1, 3, 42, 5, 2,7]\n",
    "\n",
    "print(calc(10))\n",
    "\n",
    "result = []\n",
    "\n",
    "# result.append(calc(intList[0]))\n",
    "# result.append(calc(intList[1]))\n",
    "# result.append(calc(intList[2]))\n",
    "# result.append(calc(intList[3]))\n",
    "# result.append(calc(intList[4]))\n",
    "\n",
    "# for i in intList:\n",
    "#     result.append(calc(i))\n",
    "\n",
    "# print(result)\n",
    "\n",
    "list(map(calc, intList)) # iterator의 데이터를 하나씩 꺼내서 calc를 호출해 실행하고 값을 저장\n",
    "\n",
    "for v in map(calc, intList):\n",
    "    print(v)"
   ]
  },
  {
   "cell_type": "markdown",
   "id": "af3ecbf3",
   "metadata": {},
   "source": [
    "- zip(iterator) : zipper, 동일한 갯수로 이루어진 자료형을 묶어주는 역할"
   ]
  },
  {
   "cell_type": "code",
   "execution_count": 1,
   "id": "34fad3e8",
   "metadata": {},
   "outputs": [
    {
     "name": "stdout",
     "output_type": "stream",
     "text": [
      "0 a1 b1 c1\n",
      "1 a2 b2 c2\n",
      "2 a3 b3 c3\n"
     ]
    }
   ],
   "source": [
    "a = ['a1', 'a2', 'a3'] # 하나의 필드(전화번호)\n",
    "b = ['b1', 'b2', 'b3'] # 나이\n",
    "c = ['c1', 'c2', 'c3'] # 이름\n",
    "\n",
    "list(zip(a, b, c)) # 하나의 레코드로 묶어서 반환\n",
    "\n",
    "for k, l in enumerate(zip(a, b, c)):\n",
    "    print(k, *l)"
   ]
  },
  {
   "cell_type": "markdown",
   "id": "abc521ac",
   "metadata": {},
   "source": [
    "### (5) External Function\n",
    "\n",
    "- import 모듈명 : 파이썬에서 모듈은 파이썬 file을 의미(import sys.py -> import sys)\n",
    "- 기본 경로 : C:\\Users\\thdwl\\anaconda3\\Lib\\site-packages"
   ]
  },
  {
   "cell_type": "code",
   "execution_count": 7,
   "id": "0c4ef44a",
   "metadata": {},
   "outputs": [
    {
     "name": "stdout",
     "output_type": "stream",
     "text": [
      "['__breakpointhook__', '__displayhook__', '__doc__', '__excepthook__', '__interactivehook__', '__loader__', '__name__', '__package__', '__spec__', '__stderr__', '__stdin__', '__stdout__', '__unraisablehook__', '_base_executable', '_clear_type_cache', '_current_frames', '_debugmallocstats', '_enablelegacywindowsfsencoding', '_framework', '_getframe', '_git', '_home', '_xoptions', 'addaudithook', 'api_version', 'argv', 'audit', 'base_exec_prefix', 'base_prefix', 'breakpointhook', 'builtin_module_names', 'byteorder', 'call_tracing', 'copyright', 'displayhook', 'dllhandle', 'dont_write_bytecode', 'exc_info', 'excepthook', 'exec_prefix', 'executable', 'exit', 'flags', 'float_info', 'float_repr_style', 'get_asyncgen_hooks', 'get_coroutine_origin_tracking_depth', 'getallocatedblocks', 'getdefaultencoding', 'getfilesystemencodeerrors', 'getfilesystemencoding', 'getprofile', 'getrecursionlimit', 'getrefcount', 'getsizeof', 'getswitchinterval', 'gettrace', 'getwindowsversion', 'hash_info', 'hexversion', 'implementation', 'int_info', 'intern', 'is_finalizing', 'last_traceback', 'last_type', 'last_value', 'maxsize', 'maxunicode', 'meta_path', 'modules', 'path', 'path_hooks', 'path_importer_cache', 'platform', 'platlibdir', 'prefix', 'ps1', 'ps2', 'ps3', 'pycache_prefix', 'set_asyncgen_hooks', 'set_coroutine_origin_tracking_depth', 'setprofile', 'setrecursionlimit', 'setswitchinterval', 'settrace', 'stderr', 'stdin', 'stdout', 'thread_info', 'unraisablehook', 'version', 'version_info', 'warnoptions', 'winver']\n",
      "---------------------------------------------------------------------------------\n",
      "['C:\\\\PythonWork\\\\Basic', 'C:\\\\Users\\\\thdwl\\\\anaconda3\\\\python39.zip', 'C:\\\\Users\\\\thdwl\\\\anaconda3\\\\DLLs', 'C:\\\\Users\\\\thdwl\\\\anaconda3\\\\lib', 'C:\\\\Users\\\\thdwl\\\\anaconda3', '', 'C:\\\\Users\\\\thdwl\\\\anaconda3\\\\lib\\\\site-packages', 'C:\\\\Users\\\\thdwl\\\\anaconda3\\\\lib\\\\site-packages\\\\win32', 'C:\\\\Users\\\\thdwl\\\\anaconda3\\\\lib\\\\site-packages\\\\win32\\\\lib', 'C:\\\\Users\\\\thdwl\\\\anaconda3\\\\lib\\\\site-packages\\\\Pythonwin']\n",
      "win32\n",
      "3.9.12 (main, Apr  4 2022, 05:22:27) [MSC v.1916 64 bit (AMD64)]\n"
     ]
    }
   ],
   "source": [
    "import sys # 파이썬이 실행되는 가상 공간\n",
    "\n",
    "print(dir(sys)) # dir : 모듈, 함수 등이 가진 함수, 클래스 등을 반환\n",
    "print(\"---------------------------------------------------------------------------------\")\n",
    "print(sys.path) # 패스를 걸면 경로 상관 없이 어디에서나 실행할 수 있게 됨\n",
    "print(sys.platform)\n",
    "print(sys.version) # 파이썬 버전"
   ]
  },
  {
   "cell_type": "code",
   "execution_count": 9,
   "id": "e29b7839",
   "metadata": {},
   "outputs": [
    {
     "name": "stdout",
     "output_type": "stream",
     "text": [
      "['DirEntry', 'F_OK', 'GenericAlias', 'Mapping', 'MutableMapping', 'O_APPEND', 'O_BINARY', 'O_CREAT', 'O_EXCL', 'O_NOINHERIT', 'O_RANDOM', 'O_RDONLY', 'O_RDWR', 'O_SEQUENTIAL', 'O_SHORT_LIVED', 'O_TEMPORARY', 'O_TEXT', 'O_TRUNC', 'O_WRONLY', 'P_DETACH', 'P_NOWAIT', 'P_NOWAITO', 'P_OVERLAY', 'P_WAIT', 'PathLike', 'R_OK', 'SEEK_CUR', 'SEEK_END', 'SEEK_SET', 'TMP_MAX', 'W_OK', 'X_OK', '_AddedDllDirectory', '_Environ', '__all__', '__builtins__', '__cached__', '__doc__', '__file__', '__loader__', '__name__', '__package__', '__spec__', '_check_methods', '_execvpe', '_exists', '_exit', '_fspath', '_get_exports_list', '_walk', '_wrap_close', 'abc', 'abort', 'access', 'add_dll_directory', 'altsep', 'chdir', 'chmod', 'close', 'closerange', 'cpu_count', 'curdir', 'defpath', 'device_encoding', 'devnull', 'dup', 'dup2', 'environ', 'error', 'execl', 'execle', 'execlp', 'execlpe', 'execv', 'execve', 'execvp', 'execvpe', 'extsep', 'fdopen', 'fsdecode', 'fsencode', 'fspath', 'fstat', 'fsync', 'ftruncate', 'get_exec_path', 'get_handle_inheritable', 'get_inheritable', 'get_terminal_size', 'getcwd', 'getcwdb', 'getenv', 'getlogin', 'getpid', 'getppid', 'isatty', 'kill', 'linesep', 'link', 'listdir', 'lseek', 'lstat', 'makedirs', 'mkdir', 'name', 'open', 'pardir', 'path', 'pathsep', 'pipe', 'popen', 'putenv', 'read', 'readlink', 'remove', 'removedirs', 'rename', 'renames', 'replace', 'rmdir', 'scandir', 'sep', 'set_handle_inheritable', 'set_inheritable', 'spawnl', 'spawnle', 'spawnv', 'spawnve', 'st', 'startfile', 'stat', 'stat_result', 'statvfs_result', 'strerror', 'supports_bytes_environ', 'supports_dir_fd', 'supports_effective_ids', 'supports_fd', 'supports_follow_symlinks', 'symlink', 'sys', 'system', 'terminal_size', 'times', 'times_result', 'truncate', 'umask', 'uname_result', 'unlink', 'unsetenv', 'urandom', 'utime', 'waitpid', 'waitstatus_to_exitcode', 'walk', 'write']\n",
      "------------------------------------------------------------\n",
      "C:\\PythonWork\\Basic\n"
     ]
    }
   ],
   "source": [
    "import os\n",
    "\n",
    "print(dir(os))\n",
    "# mkdir 폴더 생성, rmdir 폴더 삭제\n",
    "print(\"------------------------------------------------------------\")\n",
    "print(os.getcwd()) # current work directory"
   ]
  },
  {
   "cell_type": "code",
   "execution_count": 3,
   "id": "b4984bf1",
   "metadata": {},
   "outputs": [
    {
     "name": "stdout",
     "output_type": "stream",
     "text": [
      "30\n",
      "키: 172\n",
      "몸무게: 172\n",
      "기타: {'name': '홍길동', 'hobby': ['낚시', '독서']}\n",
      "회사명 :  파이썬 주식회사\n"
     ]
    }
   ],
   "source": [
    "import mymodule\n",
    "\n",
    "print(mymodule.sum(10,20))\n",
    "mymodule.info(80, 172, name=\"홍길동\", hobby=[\"낚시\", \"독서\"])\n",
    "print('회사명 : ', mymodule.COMPANY)"
   ]
  },
  {
   "cell_type": "markdown",
   "id": "ad1ecd18",
   "metadata": {},
   "source": [
    "### (6) 날짜 함수"
   ]
  },
  {
   "cell_type": "code",
   "execution_count": 19,
   "id": "eaf18b20",
   "metadata": {},
   "outputs": [
    {
     "name": "stdout",
     "output_type": "stream",
     "text": [
      "2022-05-27 ,  2022 ,  5 ,  27\n",
      "-----------------------------------------------------------------------------\n",
      "2022-05-27 12:53:03.655435\n",
      "-----------------------------------------------------------------------------\n",
      "-1 day, 0:00:00\n",
      "어제 : 2022-05-26\n",
      "8시간 전 : 2022-05-27 04:53:03.655435\n",
      "-----------------------------------------------------------------------------\n",
      "05/27/2022\n",
      "<class 'str'>\n",
      "2022=05=27 12^53^03:\n",
      "-----------------------------------------------------------------------------\n",
      "<class 'str'>\n",
      "<class 'datetime.datetime'>\n"
     ]
    }
   ],
   "source": [
    "import datetime\n",
    "\n",
    "# 현재 날짜\n",
    "today = datetime.date.today()\n",
    "\n",
    "print(today, \", \", today.year, \", \", today.month, \", \", today.day)\n",
    "\n",
    "print(\"-----------------------------------------------------------------------------\")\n",
    "\n",
    "# 현재 시간\n",
    "ctime = datetime.datetime.today()\n",
    "print(ctime)\n",
    "\n",
    "print(\"-----------------------------------------------------------------------------\")\n",
    "\n",
    "# 날짜와 시간을 계산\n",
    "mydays = datetime.timedelta(days = -1)\n",
    "print(mydays)\n",
    "print(\"어제 : {}\".format(today + mydays))\n",
    "\n",
    "myhours = datetime.timedelta(hours = -8)\n",
    "print(\"8시간 전 : {}\".format(ctime + myhours))\n",
    "\n",
    "print(\"-----------------------------------------------------------------------------\")\n",
    "\n",
    "# 날짜와 시간의 형식\n",
    "print(today.strftime(\"%m/%d/%Y\"))\n",
    "print(type(today.strftime(\"%m/%d/%Y\")))\n",
    "print(ctime.strftime(\"%Y=%m=%d %H^%M^%S:\"))\n",
    "\n",
    "print(\"-----------------------------------------------------------------------------\")\n",
    "\n",
    "# 날짜의 형식 변환\n",
    "## 날짜를 문자열로 : strftime(), 문자열을 날짜로 : strptime()\n",
    "\n",
    "str1 = \"2022-5-5 11:56:57\"\n",
    "print(type(str1))\n",
    "\n",
    "d1 = datetime.datetime.strptime(str1, \"%Y-%m-%d %H:%M:%S\")\n",
    "print(type(d1))"
   ]
  },
  {
   "cell_type": "markdown",
   "id": "0a92eb50",
   "metadata": {},
   "source": [
    "### (7) 파일 처리\n",
    "\n",
    "+ io 관점 : 파일 불러오기(입력), 저장하기(출력)\n",
    "+ Data Persistence 관점 : 데이터의 지속성, 그치지 않고 계속되는 \n",
    "    - 변수는 메모리에 저장, 지속성이 없음(휘발성)\n",
    "    - 데이터를 오래 저장하기 위해 파일에 저장\n",
    "+ 함수\n",
    "    - open(파일명(경로 포함), 모드)\n",
    "        -  모드 : r, w, a, rb, wb, ab\n",
    "    - close()\n",
    "    - 읽어올 때 : readline(), readlines(), read()\n",
    "    - 저장할 때 : write()"
   ]
  },
  {
   "cell_type": "code",
   "execution_count": 26,
   "id": "c16cd804",
   "metadata": {},
   "outputs": [
    {
     "name": "stdout",
     "output_type": "stream",
     "text": [
      "<_io.TextIOWrapper name='mymodule.py' mode='r' encoding='utf-8'>\n",
      "def sum(num1, num2):\n",
      "\n",
      "    hap = num1 + num2\n",
      "\n",
      "    return hap\n",
      "\n",
      "\n",
      "\n",
      "def info(weight, height, **kwargs):\n",
      "\n",
      "    print(\"키:\", height)\n",
      "\n",
      "    print(\"몸무게:\", height)\n",
      "\n",
      "    print(\"기타:\", kwargs)\n",
      "\n",
      "    \n",
      "\n",
      "COMPANY = \"파이썬 주식회사\"\n"
     ]
    }
   ],
   "source": [
    "f = open('mymodule.py', 'r', encoding='utf-8') # 램 메모리에 파일을 올릴게\n",
    "print(f)\n",
    "\n",
    "# print(f.readline())\n",
    "# print(f.readline())\n",
    "# print(f.readline())\n",
    "# print(f.readline())\n",
    "# print(f.readline())\n",
    "\n",
    "while True:\n",
    "    line = f.readline()\n",
    "    if not line: # 문자열은 ''일 때 false, 실행되게 하려면 not line(line이 false일 때)\n",
    "#     if line == ''\n",
    "        break\n",
    "    print(line)\n",
    "\n",
    "f.close() # open, close 코드를 미리 만들어놓고 그 안에서 코드를 작성하는 것이 좋음\n",
    "          # close를 하지 않으면 메모리가 부족해 오류가 날 수도 있음"
   ]
  },
  {
   "cell_type": "code",
   "execution_count": 34,
   "id": "f69996b5",
   "metadata": {},
   "outputs": [
    {
     "name": "stdout",
     "output_type": "stream",
     "text": [
      "<_io.TextIOWrapper name='data/filetest1.txt' mode='r' encoding='cp949'>\n",
      "abcd\n",
      "efgh\n",
      "ijklmn\n",
      "1234\n",
      "5678\n",
      "가나다라\n",
      "마바사아"
     ]
    }
   ],
   "source": [
    "f = open('data/filetest1.txt')\n",
    "# 'r' 읽기 모드는 default, 생략 가능\n",
    "# 인코딩 인자 주는 대신 파일의 인코딩 변경(ANSI), 운영체제 언어에 따라 ANSI 값 변경(로컬에 맞게)\n",
    "\n",
    "print(f)\n",
    "\n",
    "while True:\n",
    "    line = f.readline()\n",
    "    if not line:\n",
    "        break\n",
    "    print(line, end=\"\")\n",
    "    \n",
    "f.close()"
   ]
  },
  {
   "cell_type": "code",
   "execution_count": 35,
   "id": "497c0505",
   "metadata": {},
   "outputs": [
    {
     "name": "stdout",
     "output_type": "stream",
     "text": [
      "['abcd\\n', 'efgh\\n', 'ijklmn\\n', '1234\\n', '5678\\n', '가나다라\\n', '마바사아']\n"
     ]
    }
   ],
   "source": [
    "f = open('data/filetest1.txt')\n",
    "\n",
    "# 전체를 읽어오되 한줄씩 리스트의 원소로 읽어옴\n",
    "lines = f.readlines()\n",
    "print(lines)\n",
    "\n",
    "f.close()"
   ]
  },
  {
   "cell_type": "code",
   "execution_count": 39,
   "id": "a4f20d02",
   "metadata": {},
   "outputs": [
    {
     "name": "stdout",
     "output_type": "stream",
     "text": [
      "abcd\n",
      "efgh\n",
      "ijklmn\n",
      "1234\n",
      "5678\n",
      "가나다라\n",
      "마바사아\n",
      "<class 'str'>\n"
     ]
    }
   ],
   "source": [
    "f = open('data/filetest1.txt')\n",
    "\n",
    "# 전체를 읽어오되 전체를 하나의 문자열로 묶어서 읽어옴\n",
    "lines = f.read() # java read는 한문장씩 읽어옴\n",
    "print(lines)\n",
    "print(type(lines))\n",
    "\n",
    "f.close()"
   ]
  },
  {
   "cell_type": "code",
   "execution_count": 45,
   "id": "13c90cde",
   "metadata": {},
   "outputs": [],
   "source": [
    "f = open(\"data/filetest2.txt\", 'w', )\n",
    "\n",
    "f.write('이름 : 홍길동, ') # 모니터 대신 파일로 출력하는 것과 같음\n",
    "f.write('전화 : 010-2222-2222, ')\n",
    "f.write('주소 : 서울시 강남구\\n')\n",
    "f.write('이름 : 임꺽정, ') \n",
    "f.write('전화 : 010-3333-3333, ')\n",
    "f.write('주소 : 서울시 강북구\\n')\n",
    "\n",
    "f.close()"
   ]
  },
  {
   "cell_type": "code",
   "execution_count": 46,
   "id": "1b038a83",
   "metadata": {},
   "outputs": [],
   "source": [
    "# 위의 내용에 추가되는 게 아니라 새로 쓰여짐(overwrite)\n",
    "# 추가 목적일 때는 append 'a' 사용해야 함\n",
    "\n",
    "f = open(\"data/filetest2.txt\", 'a')\n",
    "\n",
    "f.write('이름 : 고길동, ') \n",
    "f.write('전화 : 010-1111-1111, ')\n",
    "f.write('주소 : 서울시 강동구\\n')\n",
    "\n",
    "f.close()"
   ]
  },
  {
   "cell_type": "code",
   "execution_count": 2,
   "id": "3d219c6e",
   "metadata": {},
   "outputs": [],
   "source": [
    "nums = [11, 21, 31, 41, 51, 61, 71, 81, 91]\n",
    "\n",
    "f = open(\"data/filetest3.txt\", 'w')\n",
    "\n",
    "# f.write(nums) # TypeError: write() argument must be str, not list\n",
    "f.write(str(nums))\n",
    "\n",
    "f.close()"
   ]
  },
  {
   "cell_type": "code",
   "execution_count": 54,
   "id": "177fe3ea",
   "metadata": {},
   "outputs": [],
   "source": [
    "##### CSV(comma seperated values) 형식으로 저장\n",
    "f = open(\"data/filetest3.txt\", 'w')\n",
    "\n",
    "for i in range(len(nums)):\n",
    "    if i == len(nums)-1:\n",
    "        f.write(str(nums[i]))\n",
    "    else : f.write(str(nums[i]) + \", \")\n",
    "\n",
    "f.close()"
   ]
  },
  {
   "cell_type": "code",
   "execution_count": 6,
   "id": "0649839e",
   "metadata": {},
   "outputs": [
    {
     "name": "stdout",
     "output_type": "stream",
     "text": [
      "['1-markdown.ipynb', '2-변수와 자료형1.ipynb', '2-변수와 자료형2.ipynb', '3-제어문.ipynb', '4-함수.ipynb', 'me_str.ipynb', '연습문제1_112쪽.ipynb', '연습문제2-146쪽.ipynb']\n"
     ]
    }
   ],
   "source": [
    "##### 동시에 여러 개의 파일을 읽어오는 방법\n",
    "\n",
    "# file, folder의 이름을 목록(list)으로 만들어 index로 접근할 수 있게 함\n",
    "import glob\n",
    "\n",
    "# files = glob.glob(\"*\")\n",
    "# files = glob.glob(\"*.*\") # 파일만 불러오기(확장자가 달린 애들만)\n",
    "files = glob.glob(\"*.ipynb\")\n",
    "\n",
    "print(files)"
   ]
  },
  {
   "cell_type": "markdown",
   "id": "dcb46ab5",
   "metadata": {},
   "source": [
    "### 교재 예제 연습"
   ]
  },
  {
   "cell_type": "code",
   "execution_count": 7,
   "id": "7826f6ee",
   "metadata": {},
   "outputs": [
    {
     "name": "stdout",
     "output_type": "stream",
     "text": [
      "3, 4의 합은 7입니다.\n"
     ]
    }
   ],
   "source": [
    "# 154\n",
    "\n",
    "def add(a, b):\n",
    "    print(\"%d, %d의 합은 %d입니다.\" % (a, b, a+b))\n",
    "    \n",
    "add(3, 4)"
   ]
  },
  {
   "cell_type": "code",
   "execution_count": 11,
   "id": "77e0ee32",
   "metadata": {},
   "outputs": [
    {
     "name": "stdout",
     "output_type": "stream",
     "text": [
      "55\n"
     ]
    }
   ],
   "source": [
    "# 155\n",
    "\n",
    "def add_many(*args):\n",
    "    result = 0\n",
    "    for i in args:\n",
    "        result += i\n",
    "    return result\n",
    "\n",
    "a = add_many(1, 2, 3, 4, 5, 6, 7, 8, 9, 10)\n",
    "print(a)"
   ]
  },
  {
   "cell_type": "code",
   "execution_count": 13,
   "id": "bd3d8355",
   "metadata": {},
   "outputs": [
    {
     "name": "stdout",
     "output_type": "stream",
     "text": [
      "(7, 12)\n",
      "7 12\n"
     ]
    }
   ],
   "source": [
    "# 159\n",
    "\n",
    "def add_and_mul(a, b):\n",
    "    return a+b, a*b\n",
    "\n",
    "result = add_and_mul(3, 4)\n",
    "print(result)\n",
    "\n",
    "r1, r2 = add_and_mul(3, 4)\n",
    "print(r1, r2)"
   ]
  },
  {
   "cell_type": "code",
   "execution_count": 15,
   "id": "74d8df91",
   "metadata": {},
   "outputs": [
    {
     "name": "stdout",
     "output_type": "stream",
     "text": [
      "나의 별명은 야호입니다.\n"
     ]
    }
   ],
   "source": [
    "# 161 return 사용하여 함수 빠져나가기\n",
    "\n",
    "def say_nick(nick):\n",
    "    if nick == \"바보\":\n",
    "        return\n",
    "    print(\"나의 별명은 %s입니다.\" %nick)\n",
    "    \n",
    "say_nick(\"야호\")\n",
    "say_nick(\"바보\") # 바보를 인수로 주면 return돼서 print문이 실행되지 않음"
   ]
  },
  {
   "cell_type": "code",
   "execution_count": 17,
   "id": "d9e604a0",
   "metadata": {},
   "outputs": [
    {
     "name": "stdout",
     "output_type": "stream",
     "text": [
      "나의 이름은 홍길동입니다.\n",
      "나이는 20살입니다.\n",
      "여자입니다.\n"
     ]
    }
   ],
   "source": [
    "# 162\n",
    "\n",
    "def say_my_self(name, old, man=True):\n",
    "    print(\"나의 이름은 %s입니다.\" %name)\n",
    "    print(\"나이는 %d살입니다.\" %old)\n",
    "    if man:\n",
    "        print(\"남자입니다.\")\n",
    "    else:\n",
    "        print(\"여자입니다.\")\n",
    "        \n",
    "say_my_self('홍길동', 20, '')"
   ]
  }
 ],
 "metadata": {
  "kernelspec": {
   "display_name": "Python 3 (ipykernel)",
   "language": "python",
   "name": "python3"
  },
  "language_info": {
   "codemirror_mode": {
    "name": "ipython",
    "version": 3
   },
   "file_extension": ".py",
   "mimetype": "text/x-python",
   "name": "python",
   "nbconvert_exporter": "python",
   "pygments_lexer": "ipython3",
   "version": "3.9.12"
  }
 },
 "nbformat": 4,
 "nbformat_minor": 5
}
