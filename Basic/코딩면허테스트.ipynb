{
 "cells": [
  {
   "cell_type": "code",
   "execution_count": 13,
   "id": "472d085f",
   "metadata": {},
   "outputs": [
    {
     "name": "stdout",
     "output_type": "stream",
     "text": [
      "a#b#c#d\n"
     ]
    },
    {
     "data": {
      "text/plain": [
       "'a#b#c#d'"
      ]
     },
     "execution_count": 13,
     "metadata": {},
     "output_type": "execute_result"
    }
   ],
   "source": [
    "# 1\n",
    "\n",
    "s = \"a:b:c:d\"\n",
    "\n",
    "print(s.replace(\":\", \"#\"))\n",
    "\n",
    "\"#\".join(s.split(\":\"))"
   ]
  },
  {
   "cell_type": "code",
   "execution_count": 14,
   "id": "fbfa3a56",
   "metadata": {},
   "outputs": [
    {
     "data": {
      "text/plain": [
       "70"
      ]
     },
     "execution_count": 14,
     "metadata": {},
     "output_type": "execute_result"
    }
   ],
   "source": [
    "# 2\n",
    "\n",
    "a = {\"A\":90, \"B\":80}\n",
    "a.get(\"C\", 70)"
   ]
  },
  {
   "cell_type": "code",
   "execution_count": null,
   "id": "d78bd305",
   "metadata": {},
   "outputs": [],
   "source": [
    "# 3\n",
    "\n",
    "+ 사용과 extend 사용해 list에 추가할 때의 차이점 : "
   ]
  },
  {
   "cell_type": "code",
   "execution_count": 15,
   "id": "b3a387e4",
   "metadata": {},
   "outputs": [
    {
     "data": {
      "text/plain": [
       "481"
      ]
     },
     "execution_count": 15,
     "metadata": {},
     "output_type": "execute_result"
    }
   ],
   "source": [
    "# 4\n",
    "\n",
    "A = [20, 55, 67, 82, 45, 33, 90, 87, 100, 25]\n",
    "sum = 0\n",
    "\n",
    "for i in A:\n",
    "    if i >= 50:\n",
    "        sum += i\n",
    "        \n",
    "sum"
   ]
  },
  {
   "cell_type": "code",
   "execution_count": 19,
   "id": "db3a4db0",
   "metadata": {},
   "outputs": [
    {
     "name": "stdout",
     "output_type": "stream",
     "text": [
      "정수 입력 :13\n"
     ]
    },
    {
     "data": {
      "text/plain": [
       "[0, 1, 0, 1, 1, 1, 1, 2, 2, 2, 3, 4, 4, 5, 7]"
      ]
     },
     "execution_count": 19,
     "metadata": {},
     "output_type": "execute_result"
    }
   ],
   "source": [
    "# 5\n",
    "n = int(input(\"정수 입력 :\"))\n",
    "lst = [0, 1]\n",
    "for i in range(n):\n",
    "    if i < 2:\n",
    "        lst.append(i)\n",
    "    else:\n",
    "        lst.append(lst[i-2]+lst[i-1])\n",
    "lst"
   ]
  },
  {
   "cell_type": "code",
   "execution_count": 2,
   "id": "c71397ec",
   "metadata": {},
   "outputs": [
    {
     "name": "stdout",
     "output_type": "stream",
     "text": [
      "정수 입력 :10\n"
     ]
    },
    {
     "data": {
      "text/plain": [
       "[0, 1, 1, 2, 3, 5, 8, 13, 21, 34]"
      ]
     },
     "execution_count": 2,
     "metadata": {},
     "output_type": "execute_result"
    }
   ],
   "source": [
    "def fibo(n):\n",
    "    if n == 0: return 0\n",
    "    if n == 1: return 1\n",
    "    return fibo(n-2)+fibo(n-1) # fibo(n) = fibo(n-2) + fibo(n-1)\n",
    "\n",
    "####################################\n",
    "\n",
    "n = int(input(\"정수 입력 :\"))\n",
    "\n",
    "result =[]\n",
    "\n",
    "for i in range(n):\n",
    "    result.append(fibo(i))\n",
    "    \n",
    "result"
   ]
  },
  {
   "cell_type": "code",
   "execution_count": 20,
   "id": "404b9a31",
   "metadata": {},
   "outputs": [
    {
     "name": "stdout",
     "output_type": "stream",
     "text": [
      "숫자 입력 :65,45,2,3,45,8\n"
     ]
    },
    {
     "data": {
      "text/plain": [
       "168"
      ]
     },
     "execution_count": 20,
     "metadata": {},
     "output_type": "execute_result"
    }
   ],
   "source": [
    "# 6\n",
    "s = input(\"숫자 입력 :\")\n",
    "s_num = s.split(\",\")\n",
    "sum = 0\n",
    "for i in s_num:\n",
    "    sum += int(i)\n",
    "    \n",
    "sum"
   ]
  },
  {
   "cell_type": "code",
   "execution_count": 21,
   "id": "c4f3261f",
   "metadata": {},
   "outputs": [
    {
     "name": "stdout",
     "output_type": "stream",
     "text": [
      "구구단을 출력할 숫자를 입력하세요(2~9):2\n"
     ]
    },
    {
     "data": {
      "text/plain": [
       "[2, 4, 6, 8, 10, 12, 14, 16, 18]"
      ]
     },
     "execution_count": 21,
     "metadata": {},
     "output_type": "execute_result"
    }
   ],
   "source": [
    "# 7\n",
    "\n",
    "num = int(input(\"구구단을 출력할 숫자를 입력하세요(2~9):\"))\n",
    "lst = []\n",
    "\n",
    "for i in range(9):\n",
    "    lst.append(num * (i+1))\n",
    "    \n",
    "lst"
   ]
  },
  {
   "cell_type": "code",
   "execution_count": 24,
   "id": "68df106c",
   "metadata": {},
   "outputs": [],
   "source": [
    "# 8\n",
    "\n",
    "f = open(\"data/abc.txt\", \"w\")\n",
    "f.write(\"AAA\\n\")\n",
    "f.write(\"BBB\\n\")\n",
    "f.write(\"CCC\\n\")\n",
    "f.write(\"DDD\\n\")\n",
    "f.write(\"EEE\\n\")\n",
    "f.close()"
   ]
  },
  {
   "cell_type": "code",
   "execution_count": 26,
   "id": "bb91267f",
   "metadata": {},
   "outputs": [],
   "source": [
    "f = open(\"data/abc.txt\", \"r\")\n",
    "f.readlines()\n",
    "f.close()"
   ]
  },
  {
   "cell_type": "code",
   "execution_count": 27,
   "id": "5115a1d8",
   "metadata": {},
   "outputs": [],
   "source": [
    "# 9\n",
    "\n",
    "f = open(\"data/sample.txt\", \"w\")\n",
    "f.write(\"70\\n60\\n55\\n75\\n95\\n90\\n80\\n80\\n85\\n100\")\n",
    "f.close()"
   ]
  },
  {
   "cell_type": "code",
   "execution_count": 43,
   "id": "8988d967",
   "metadata": {},
   "outputs": [],
   "source": [
    "f = open(\"data/sample.txt\", \"r\")\n",
    "fStr = f.read().split(\"\\n\")\n",
    "sum = 0\n",
    "for i in fStr:\n",
    "    sum += int(i)\n",
    "\n",
    "avg = sum/len(fStr)\n",
    "f2 = open(\"data/result.txt\", \"w\")\n",
    "f2.write(\"avg\")\n",
    "f.close()\n",
    "f2.close()"
   ]
  },
  {
   "cell_type": "code",
   "execution_count": 57,
   "id": "4fd2bbed",
   "metadata": {},
   "outputs": [],
   "source": [
    "# 10\n",
    "\n",
    "class Calculator:\n",
    "    def __init__(self, num):\n",
    "        self.num = num\n",
    "    \n",
    "    def sum(self):\n",
    "        total = 0\n",
    "        for i in self.num:\n",
    "            total += i\n",
    "        return total\n",
    "            \n",
    "    def avg(self):\n",
    "        mean = 0\n",
    "        mean = self.sum()/len(self.num)\n",
    "        return mean"
   ]
  },
  {
   "cell_type": "code",
   "execution_count": 60,
   "id": "fa756316",
   "metadata": {},
   "outputs": [
    {
     "data": {
      "text/plain": [
       "8.0"
      ]
     },
     "execution_count": 60,
     "metadata": {},
     "output_type": "execute_result"
    }
   ],
   "source": [
    "cal1 = Calculator([1, 2, 3, 4, 5])\n",
    "cal1.sum()\n",
    "cal1.avg()\n",
    "\n",
    "cal2 = Calculator([6, 7, 8, 9, 10])\n",
    "cal2.sum()\n",
    "cal2.avg()"
   ]
  },
  {
   "cell_type": "code",
   "execution_count": null,
   "id": "60e2a611",
   "metadata": {},
   "outputs": [],
   "source": [
    "# 11 특정 디렉토리(C:\\doit)에 저장된 모듈 사용법\n",
    "\n",
    "# >>> import sys \n",
    "# >>> sys.path.append(\"c:/doit\")\n",
    "# >>> import mymod\n",
    "\n",
    "## 환경변수\n",
    "## C:\\Users\\home>setPYTHONPATH=c:\\doit\n",
    "## C:\\Users\\home>python\n",
    "## >>> import mymod\n",
    "\n",
    "### 3. 주소로 접근하기\n",
    "### C:\\Users\\home>cd c:\\doit\n",
    "### C:\\doit>python\n",
    "### >>> import mymod"
   ]
  },
  {
   "cell_type": "code",
   "execution_count": null,
   "id": "f0def387",
   "metadata": {},
   "outputs": [],
   "source": [
    "# 12 예외 처리 값 예측"
   ]
  },
  {
   "cell_type": "code",
   "execution_count": 7,
   "id": "31716e6f",
   "metadata": {},
   "outputs": [
    {
     "name": "stdout",
     "output_type": "stream",
     "text": [
      "입력 :4546793\n",
      "<class 'str'>\n",
      "454*67-9-3\n"
     ]
    }
   ],
   "source": [
    "# 13 \n",
    "\n",
    "import math\n",
    "\n",
    "s = input(\"입력 :\")\n",
    "print(type(s))\n",
    "\n",
    "\n",
    "def DashInsert(sList):\n",
    "    ss = []\n",
    "    for i in range(len(sList)):\n",
    "        ss.append(sList[i])\n",
    "        if i<len(sList)-1:\n",
    "            if abs(int(sList[i])-int(sList[i+1]))%2 == 0:\n",
    "                if int(sList[i])%2 == 0:\n",
    "                    ss.append(\"*\")\n",
    "                else:\n",
    "                    ss.append(\"-\")\n",
    "    print(\"\".join(ss))\n",
    "DashInsert(s)"
   ]
  },
  {
   "cell_type": "code",
   "execution_count": null,
   "id": "104b6255",
   "metadata": {},
   "outputs": [],
   "source": []
  },
  {
   "cell_type": "code",
   "execution_count": null,
   "id": "09225e5c",
   "metadata": {},
   "outputs": [],
   "source": []
  },
  {
   "cell_type": "code",
   "execution_count": null,
   "id": "7ac66e7e",
   "metadata": {},
   "outputs": [],
   "source": []
  },
  {
   "cell_type": "code",
   "execution_count": null,
   "id": "cfc4f72e",
   "metadata": {},
   "outputs": [],
   "source": []
  },
  {
   "cell_type": "code",
   "execution_count": null,
   "id": "dfa902cf",
   "metadata": {},
   "outputs": [],
   "source": []
  }
 ],
 "metadata": {
  "kernelspec": {
   "display_name": "Python 3 (ipykernel)",
   "language": "python",
   "name": "python3"
  },
  "language_info": {
   "codemirror_mode": {
    "name": "ipython",
    "version": 3
   },
   "file_extension": ".py",
   "mimetype": "text/x-python",
   "name": "python",
   "nbconvert_exporter": "python",
   "pygments_lexer": "ipython3",
   "version": "3.9.12"
  }
 },
 "nbformat": 4,
 "nbformat_minor": 5
}
