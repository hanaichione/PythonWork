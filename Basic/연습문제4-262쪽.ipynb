{
 "cells": [
  {
   "cell_type": "code",
   "execution_count": 1,
   "id": "fa3e2a9d",
   "metadata": {},
   "outputs": [],
   "source": [
    "# 1. 상속\n",
    "class Calculator:\n",
    "    def __init__(self):\n",
    "        self.value=0\n",
    "        \n",
    "    def add(self, val):\n",
    "        self.value += val\n",
    "        \n",
    "class UpgradeCalculator(Calculator):\n",
    "    def minus(self, val):\n",
    "        self.value -= val"
   ]
  },
  {
   "cell_type": "code",
   "execution_count": 2,
   "id": "5ad9fc57",
   "metadata": {},
   "outputs": [
    {
     "name": "stdout",
     "output_type": "stream",
     "text": [
      "3\n"
     ]
    }
   ],
   "source": [
    "cal = UpgradeCalculator()\n",
    "cal.add(10)\n",
    "cal.minus(7)\n",
    "\n",
    "print(cal.value)"
   ]
  },
  {
   "cell_type": "code",
   "execution_count": 2,
   "id": "0a6369f7",
   "metadata": {},
   "outputs": [],
   "source": [
    "# 2. 객체변수 value가 100 이상의 값을 가질 수 없도록 제한\n",
    "\n",
    "class MaxLimitCalculator(Calculator):\n",
    "    def add(self, val):\n",
    "        self.value += val\n",
    "        if self.value > 100:\n",
    "            self.value = 100"
   ]
  },
  {
   "cell_type": "code",
   "execution_count": 3,
   "id": "6b57313d",
   "metadata": {},
   "outputs": [
    {
     "name": "stdout",
     "output_type": "stream",
     "text": [
      "100\n"
     ]
    }
   ],
   "source": [
    "cal = MaxLimitCalculator()\n",
    "cal.add(50)\n",
    "cal.add(60)\n",
    "\n",
    "print(cal.value)"
   ]
  },
  {
   "cell_type": "code",
   "execution_count": 13,
   "id": "f4350319",
   "metadata": {},
   "outputs": [
    {
     "data": {
      "text/plain": [
       "True"
      ]
     },
     "execution_count": 13,
     "metadata": {},
     "output_type": "execute_result"
    }
   ],
   "source": [
    "# 3. 결과 예측\n",
    "import math\n",
    "\n",
    "all([1, 2, abs(-3)-3]) # abs : 절대값\n",
    "chr(ord('a')) == 'a' # ord : return Unicode code"
   ]
  },
  {
   "cell_type": "code",
   "execution_count": 6,
   "id": "e0072fcc",
   "metadata": {},
   "outputs": [
    {
     "name": "stdout",
     "output_type": "stream",
     "text": [
      "[1, 3, 8]\n"
     ]
    }
   ],
   "source": [
    "# 4 filter와 lambda 사용하여 list에서 음수 제거하기\n",
    "\n",
    "lst = [1, -2, 3, -5, 8, -3]\n",
    "result = (lambda x : x > 0)\n",
    "lst_plus = filter(result, lst)\n",
    "print(list(lst_plus))"
   ]
  },
  {
   "cell_type": "code",
   "execution_count": 5,
   "id": "f9075275",
   "metadata": {},
   "outputs": [],
   "source": [
    "def minus_remove(nums):\n",
    "    for i in nums:\n",
    "        if i < 0:\n",
    "            nums.remove(i)\n",
    "    return nums"
   ]
  },
  {
   "cell_type": "code",
   "execution_count": 7,
   "id": "40b93042",
   "metadata": {},
   "outputs": [
    {
     "name": "stdout",
     "output_type": "stream",
     "text": [
      "[1, 3, 8]\n"
     ]
    }
   ],
   "source": [
    "lst = [1, -2, 3, -5, 8, -3]\n",
    "lst = minus_remove(lst)\n",
    "print(lst)"
   ]
  },
  {
   "cell_type": "code",
   "execution_count": 17,
   "id": "9e5d92e8",
   "metadata": {},
   "outputs": [
    {
     "data": {
      "text/plain": [
       "234"
      ]
     },
     "execution_count": 17,
     "metadata": {},
     "output_type": "execute_result"
    }
   ],
   "source": [
    "# 5. 16진수롤 10진수로\n",
    "\n",
    "hex(234) # 10진수 234를 16진수로\n",
    "int(0xea) # 반대"
   ]
  },
  {
   "cell_type": "code",
   "execution_count": 10,
   "id": "beda4ca7",
   "metadata": {},
   "outputs": [
    {
     "ename": "SyntaxError",
     "evalue": "cannot assign to function call (2947581927.py, line 3)",
     "output_type": "error",
     "traceback": [
      "\u001b[1;36m  Input \u001b[1;32mIn [10]\u001b[1;36m\u001b[0m\n\u001b[1;33m    for map(i,j) in [1, 2, 3, 4]:\u001b[0m\n\u001b[1;37m        ^\u001b[0m\n\u001b[1;31mSyntaxError\u001b[0m\u001b[1;31m:\u001b[0m cannot assign to function call\n"
     ]
    }
   ],
   "source": [
    "# 6. map, lambda 이용 리스트 요솟값에 3 곱하기\n",
    "\n",
    "for map(i,j) in [1, 2, 3, 4]:\n",
    "    print(i,j)"
   ]
  },
  {
   "cell_type": "code",
   "execution_count": 13,
   "id": "3ec527f2",
   "metadata": {},
   "outputs": [
    {
     "name": "stdout",
     "output_type": "stream",
     "text": [
      "[-8, -3, 0, 1, 2, 5, 5, 7]\n",
      "-1\n"
     ]
    }
   ],
   "source": [
    "# 7. list 최솟값 최댓값 합\n",
    "\n",
    "a = [-8, 2, 7, 5, -3, 5, 0, 1]\n",
    "lst = []\n",
    "\n",
    "for i in range(len(a)):\n",
    "    min = a[0]\n",
    "    for j in a:\n",
    "        if min > j:\n",
    "            min = j\n",
    "    a.remove(min)\n",
    "    lst.append(min)\n",
    "    \n",
    "print(lst)\n",
    "print(lst[0] + lst[-1])"
   ]
  },
  {
   "cell_type": "code",
   "execution_count": 27,
   "id": "f2cbd291",
   "metadata": {},
   "outputs": [
    {
     "name": "stdout",
     "output_type": "stream",
     "text": [
      "5.6667\n",
      "5.6667\n"
     ]
    }
   ],
   "source": [
    "# 8. 17/3 하고 소숫점 4번째 자리까지만 반올림하여 표시\n",
    "\n",
    "print(\"%.4f\" %(17/3))\n",
    "print(round(17/3, 4))\n",
    "?round"
   ]
  },
  {
   "cell_type": "code",
   "execution_count": 38,
   "id": "4e21f93a",
   "metadata": {},
   "outputs": [
    {
     "name": "stdout",
     "output_type": "stream",
     "text": [
      "['C:\\\\Users\\\\thdwl\\\\anaconda3\\\\lib\\\\site-packages\\\\ipykernel_launcher.py', '-f', 'C:\\\\Users\\\\thdwl\\\\AppData\\\\Roaming\\\\jupyter\\\\runtime\\\\kernel-18202978-c2e6-4cf6-9d8b-ffc78ec72744.json']\n",
      "<class 'list'>\n",
      "['C:\\\\Users\\\\thdwl\\\\anaconda3\\\\lib\\\\site-packages\\\\ipykernel_launcher.py', '-f', 'C:\\\\Users\\\\thdwl\\\\AppData\\\\Roaming\\\\jupyter\\\\runtime\\\\kernel-18202978-c2e6-4cf6-9d8b-ffc78ec72744.json']\n"
     ]
    }
   ],
   "source": [
    "# 9. 입력값을 모두 더하여 출력하는 스크립트 작성\n",
    "\n",
    "import sys\n",
    "\n",
    "numbers = sys.argv[1:]\n",
    "\n",
    "result = 0\n",
    "for number in numbers:\n",
    "    result += int(number)\n",
    "print(result)"
   ]
  },
  {
   "cell_type": "code",
   "execution_count": 7,
   "id": "d1615fee",
   "metadata": {},
   "outputs": [
    {
     "name": "stdout",
     "output_type": "stream",
     "text": [
      "['DirEntry', 'F_OK', 'GenericAlias', 'Mapping', 'MutableMapping', 'O_APPEND', 'O_BINARY', 'O_CREAT', 'O_EXCL', 'O_NOINHERIT', 'O_RANDOM', 'O_RDONLY', 'O_RDWR', 'O_SEQUENTIAL', 'O_SHORT_LIVED', 'O_TEMPORARY', 'O_TEXT', 'O_TRUNC', 'O_WRONLY', 'P_DETACH', 'P_NOWAIT', 'P_NOWAITO', 'P_OVERLAY', 'P_WAIT', 'PathLike', 'R_OK', 'SEEK_CUR', 'SEEK_END', 'SEEK_SET', 'TMP_MAX', 'W_OK', 'X_OK', '_AddedDllDirectory', '_Environ', '__all__', '__builtins__', '__cached__', '__doc__', '__file__', '__loader__', '__name__', '__package__', '__spec__', '_check_methods', '_execvpe', '_exists', '_exit', '_fspath', '_get_exports_list', '_walk', '_wrap_close', 'abc', 'abort', 'access', 'add_dll_directory', 'altsep', 'chdir', 'chmod', 'close', 'closerange', 'cpu_count', 'curdir', 'defpath', 'device_encoding', 'devnull', 'dup', 'dup2', 'environ', 'error', 'execl', 'execle', 'execlp', 'execlpe', 'execv', 'execve', 'execvp', 'execvpe', 'extsep', 'fdopen', 'fsdecode', 'fsencode', 'fspath', 'fstat', 'fsync', 'ftruncate', 'get_exec_path', 'get_handle_inheritable', 'get_inheritable', 'get_terminal_size', 'getcwd', 'getcwdb', 'getenv', 'getlogin', 'getpid', 'getppid', 'isatty', 'kill', 'linesep', 'link', 'listdir', 'lseek', 'lstat', 'makedirs', 'mkdir', 'name', 'open', 'pardir', 'path', 'pathsep', 'pipe', 'popen', 'putenv', 'read', 'readlink', 'remove', 'removedirs', 'rename', 'renames', 'replace', 'rmdir', 'scandir', 'sep', 'set_handle_inheritable', 'set_inheritable', 'spawnl', 'spawnle', 'spawnv', 'spawnve', 'st', 'startfile', 'stat', 'stat_result', 'statvfs_result', 'strerror', 'supports_bytes_environ', 'supports_dir_fd', 'supports_effective_ids', 'supports_fd', 'supports_follow_symlinks', 'symlink', 'sys', 'system', 'terminal_size', 'times', 'times_result', 'truncate', 'umask', 'uname_result', 'unlink', 'unsetenv', 'urandom', 'utime', 'waitpid', 'waitstatus_to_exitcode', 'walk', 'write']\n"
     ]
    }
   ],
   "source": [
    "# 10. os모듈 이용, dir 명령 실행 후 변수에 저장하여 출력\n",
    "\n",
    "import os\n",
    "\n",
    "os.chdir(\"C:\\\\PythonWork\\Basic\") # chdir 디렉토리로 이동\n",
    "result = os.popen(\"dir\") # popen 이용, 시스템 명령어 dir 수행\n",
    "print(result.read())"
   ]
  },
  {
   "cell_type": "code",
   "execution_count": 8,
   "id": "f5d648a2",
   "metadata": {},
   "outputs": [],
   "source": [
    "?os.popen"
   ]
  },
  {
   "cell_type": "code",
   "execution_count": 41,
   "id": "e193fe42",
   "metadata": {},
   "outputs": [
    {
     "data": {
      "text/plain": [
       "['C:\\\\PythonWork\\\\Basic\\\\mymodule.py']"
      ]
     },
     "execution_count": 41,
     "metadata": {},
     "output_type": "execute_result"
    }
   ],
   "source": [
    "# 11. glob 모듈 이용, 확장자가 py인 파일만 출력\n",
    "\n",
    "import glob\n",
    "\n",
    "glob.glob(\"C:\\\\PythonWork\\Basic\\*.py\")"
   ]
  },
  {
   "cell_type": "code",
   "execution_count": 43,
   "id": "2f1ceab4",
   "metadata": {},
   "outputs": [
    {
     "data": {
      "text/plain": [
       "'2022/06/02 20:18:32'"
      ]
     },
     "execution_count": 43,
     "metadata": {},
     "output_type": "execute_result"
    }
   ],
   "source": [
    "# 12. time 모듈 이용, 현재 날짜와 시간 출력\n",
    "\n",
    "import time\n",
    "\n",
    "time.strftime('%Y/%m/%d %H:%M:%S', time.localtime(time.time()))"
   ]
  },
  {
   "cell_type": "code",
   "execution_count": 4,
   "id": "7eb13bd9",
   "metadata": {},
   "outputs": [
    {
     "name": "stdout",
     "output_type": "stream",
     "text": [
      "[43, 9, 38, 28, 10, 8]\n"
     ]
    }
   ],
   "source": [
    "# 13. random 모듈 사용하여 로또 번호 생성\n",
    "\n",
    "import random as rd\n",
    "i = 0\n",
    "num = 0\n",
    "lotto = []\n",
    "while(len(lotto) < 6):\n",
    "    num = rd.randint(1, 45)\n",
    "    if num in lotto:\n",
    "        continue\n",
    "    else: \n",
    "        lotto.append(num)\n",
    "        i += 1\n",
    "    \n",
    "print(lotto)"
   ]
  },
  {
   "cell_type": "code",
   "execution_count": 45,
   "id": "4b21d4cf",
   "metadata": {},
   "outputs": [],
   "source": []
  },
  {
   "cell_type": "code",
   "execution_count": 3,
   "id": "919a93c3",
   "metadata": {},
   "outputs": [
    {
     "name": "stdout",
     "output_type": "stream",
     "text": [
      "교환할 돈은 얼마입니까?2763\n",
      "오백원짜리 ===> 5 개\n",
      "백원짜리 ===> 2 개\n",
      "오백원짜리 ===> 1 개\n",
      "백원짜리 ===> 1 개\n",
      "나머지 바꾸지 못한 잔돈 ===> 3 원\n"
     ]
    }
   ],
   "source": [
    "money = int(input(\"교환할 돈은 얼마입니까?\"))\n",
    "\n",
    "_500, charge = divmod(money, 500)\n",
    "_100, charge = divmod(charge, 100)\n",
    "_50, charge = divmod(charge, 50)\n",
    "_10, charge = divmod(charge, 10)\n",
    "\n",
    "print(\"오백원짜리 ===>\",_500, \"개\")\n",
    "print(\"백원짜리 ===>\", _100, \"개\")\n",
    "print(\"오백원짜리 ===>\",_50, \"개\")\n",
    "print(\"백원짜리 ===>\", _10, \"개\")\n",
    "print(\"나머지 바꾸지 못한 잔돈 ===>\", charge, \"원\")\n"
   ]
  },
  {
   "cell_type": "code",
   "execution_count": 24,
   "id": "360864e5",
   "metadata": {},
   "outputs": [
    {
     "name": "stdout",
     "output_type": "stream",
     "text": [
      "연도를 입력 : 2020\n",
      "윤년입니다.\n"
     ]
    }
   ],
   "source": [
    "year = int(input(\"연도를 입력 : \"))\n",
    "if (year%4 == 0 or year%400 == 0) and year%100 != 0 :\n",
    "    print(\"윤년입니다.\")\n",
    "else :\n",
    "    print(\"윤년이 아닙니다.\")"
   ]
  },
  {
   "cell_type": "code",
   "execution_count": 26,
   "id": "a4325dae",
   "metadata": {},
   "outputs": [
    {
     "name": "stdout",
     "output_type": "stream",
     "text": [
      "연산자 : -\n",
      "숫자1 :5\n",
      "숫자2 :3\n",
      "결과 : 5 - 3 = 2\n"
     ]
    }
   ],
   "source": [
    "op = input(\"연산자 : \")\n",
    "num1 = int(input(\"숫자1 :\"))\n",
    "num2 = int(input(\"숫자2 :\"))\n",
    "\n",
    "if op == '+' :\n",
    "    result = num1 + num2\n",
    "elif op == '-' :\n",
    "    result = num1 - num2\n",
    "elif op == '*' :\n",
    "    result = num1*num2\n",
    "elif op == '/' and num2 != 0:\n",
    "    result = num1/num2\n",
    "else :\n",
    "    result = '연산불가'\n",
    "print(\"결과 : {0} {1} {2} = {3}\".format(num1, op, num2, result))"
   ]
  },
  {
   "cell_type": "code",
   "execution_count": 2,
   "id": "a457ff55",
   "metadata": {},
   "outputs": [
    {
     "name": "stdout",
     "output_type": "stream",
     "text": [
      "[1, 3, 4, 7, 19, 20, 21, 22, 45, 55, 87, 98, 99]\n",
      "1 99\n"
     ]
    }
   ],
   "source": [
    "a = [22, 1, 3, 4, 7, 98, 21, 55, 87, 99, 19, 20, 45]\n",
    "lst = []\n",
    "for i in range(len(a)):\n",
    "    min = a[0]\n",
    "    for j in a:\n",
    "        if min > j:\n",
    "            min = j\n",
    "    a.remove(min)\n",
    "    lst.append(min)\n",
    "      \n",
    "print(lst)\n",
    "print(lst[0], lst[-1])"
   ]
  },
  {
   "cell_type": "code",
   "execution_count": 27,
   "id": "7b109bfa",
   "metadata": {},
   "outputs": [
    {
     "name": "stdout",
     "output_type": "stream",
     "text": [
      "['AD', 'AE', 'AA', 'BD', 'BE', 'BA', 'CD', 'CE', 'CA']\n",
      "['AD', 'AE', 'AA', 'BD', 'BE', 'BA', 'CD', 'CE', 'CA']\n"
     ]
    }
   ],
   "source": [
    "c1 = [\"A\", \"B\", \"C\"]\n",
    "c2 = [\"D\", \"E\", \"A\"]\n",
    "\n",
    "c = []\n",
    "for a in c1:\n",
    "    for b in c2:\n",
    "        c.append(a+b)\n",
    "print(c)\n",
    "\n",
    "result = [a+b for a in c1 for b in c2]\n",
    "print(result)"
   ]
  },
  {
   "cell_type": "code",
   "execution_count": 28,
   "id": "dac500df",
   "metadata": {},
   "outputs": [
    {
     "name": "stdout",
     "output_type": "stream",
     "text": [
      "1.5\n",
      "3.0\n"
     ]
    }
   ],
   "source": [
    "def avg_numbers(*num):\n",
    "    num = list(num)\n",
    "    sum = 0\n",
    "    result = 0\n",
    "    for i in num:\n",
    "        sum += i\n",
    "    result = sum/len(num)\n",
    "    print(result)\n",
    "\n",
    "avg_numbers(1, 2)\n",
    "avg_numbers(1, 2, 3, 4, 5)"
   ]
  },
  {
   "cell_type": "code",
   "execution_count": 34,
   "id": "2292a144",
   "metadata": {},
   "outputs": [
    {
     "name": "stdout",
     "output_type": "stream",
     "text": [
      "Life is too short\n"
     ]
    }
   ],
   "source": [
    "f = open('test.txt', 'w', encoding='utf-8')\n",
    "f.write('Life is too short')\n",
    "f.close()\n",
    "\n",
    "f2 = open('test.txt', encoding='utf-8')\n",
    "file_contents = f2.read()\n",
    "print(file_contents)\n",
    "f2.close()"
   ]
  },
  {
   "cell_type": "code",
   "execution_count": 40,
   "id": "10b08b56",
   "metadata": {},
   "outputs": [
    {
     "name": "stdout",
     "output_type": "stream",
     "text": [
      "결과 : 3개\n",
      "결과 : 3개\n",
      "결과 : 3개\n",
      "결과 : 3개\n"
     ]
    }
   ],
   "source": [
    "class Counter:\n",
    "    \n",
    "    cnt = 0\n",
    "    \n",
    "    def __init__(self):\n",
    "        Counter.cnt += 1\n",
    "        \n",
    "    @staticmethod\n",
    "    def printCount():\n",
    "        print(\"결과 : {}개\".format(Counter.cnt))\n",
    "        \n",
    "a, b, c = Counter(), Counter(), Counter()\n",
    "a.printCount()\n",
    "b.printCount()\n",
    "c.printCount()\n",
    "\n",
    "Counter.printCount()"
   ]
  },
  {
   "cell_type": "code",
   "execution_count": 59,
   "id": "bb112ca0",
   "metadata": {},
   "outputs": [],
   "source": [
    "class Employee:\n",
    "    empno = int()\n",
    "    name = str()\n",
    "    sal = int()\n",
    "    hobbies = []\n",
    "    cnt = 0\n",
    "    \n",
    "    def __init__(self, empno, name, sal, hobbies):\n",
    "        self.empno = empno\n",
    "        self.name = name\n",
    "        self.sal = sal\n",
    "        self.hobbies = hobbies\n",
    "        Employee.cnt += 1\n",
    "        \n",
    "    def getCount():\n",
    "        return Employee.cnt\n",
    "    \n",
    "    def setSalary(self, sal):\n",
    "        self.sal = sal\n",
    "        \n",
    "    def appendHobby(self, *hobbies):\n",
    "        for i in hobbies:\n",
    "            self.hobbies.append(i)\n",
    "            \n",
    "    def display(self):\n",
    "        print(\"사번:\", self.empno)\n",
    "        print(\"이름:\", self.name)\n",
    "        print(\"급여:\", self.sal)\n",
    "        print(\"취미:\", self.hobbies)"
   ]
  },
  {
   "cell_type": "code",
   "execution_count": 60,
   "id": "8ea00f8e",
   "metadata": {},
   "outputs": [
    {
     "name": "stdout",
     "output_type": "stream",
     "text": [
      "사번: 1111\n",
      "이름: 홍길동\n",
      "급여: 1000000\n",
      "취미: ['여행', '낚시', '운동']\n",
      "\n",
      "인원수 :  3\n",
      "\n",
      "사번: 1113\n",
      "이름: 신돌석\n",
      "급여: 2000000\n",
      "취미: ['독서', '피아노', '드론']\n"
     ]
    }
   ],
   "source": [
    "e1 = Employee(1111, \"홍길동\", 1000000, [\"여행\", \"낚시\", \"운동\"])\n",
    "e1.display()\n",
    "print()\n",
    "e2 = Employee(1112, \"임꺽정\", 1200000, [\"자전거\", \"볼링\"])\n",
    "e3 = Employee(1113, \"신돌석\", 1400000, [\"독서\"])\n",
    "\n",
    "total = Employee.getCount()\n",
    "print(\"인원수 : \", total)\n",
    "print()\n",
    "# 데이터 수정\n",
    "e3.setSalary(2000000)\n",
    "e3.appendHobby(\"피아노\", \"드론\")\n",
    "e3.display()"
   ]
  },
  {
   "cell_type": "code",
   "execution_count": 1,
   "id": "132c8c49",
   "metadata": {},
   "outputs": [
    {
     "name": "stdout",
     "output_type": "stream",
     "text": [
      "친구 관리 프로그램\n",
      "========================\n",
      "1. 친구 리스트 출력\n",
      "2. 친구 추가\n",
      "3. 친구 삭제\n",
      "4. 이름 변경\n",
      "9. 종료\n",
      "메뉴를 선택 :2\n",
      "이름을 입력 :가나다\n",
      "------------------------\n",
      "1. 친구 리스트 출력\n",
      "2. 친구 추가\n",
      "3. 친구 삭제\n",
      "4. 이름 변경\n",
      "9. 종료\n",
      "메뉴를 선택 :2\n",
      "이름을 입력 :마바사\n",
      "------------------------\n",
      "1. 친구 리스트 출력\n",
      "2. 친구 추가\n",
      "3. 친구 삭제\n",
      "4. 이름 변경\n",
      "9. 종료\n",
      "메뉴를 선택 :4\n",
      "변경할 이름 선택 :가나다\n",
      "변경하고 싶은 이름 입력 :아자차\n",
      "------------------------\n",
      "1. 친구 리스트 출력\n",
      "2. 친구 추가\n",
      "3. 친구 삭제\n",
      "4. 이름 변경\n",
      "9. 종료\n",
      "메뉴를 선택 :1\n",
      "['아자차', '마바사']\n",
      "------------------------\n",
      "1. 친구 리스트 출력\n",
      "2. 친구 추가\n",
      "3. 친구 삭제\n",
      "4. 이름 변경\n",
      "9. 종료\n",
      "메뉴를 선택 :2\n",
      "이름을 입력 :타파하\n",
      "------------------------\n",
      "1. 친구 리스트 출력\n",
      "2. 친구 추가\n",
      "3. 친구 삭제\n",
      "4. 이름 변경\n",
      "9. 종료\n",
      "메뉴를 선택 :4\n",
      "변경할 이름 선택 :마바사\n",
      "변경하고 싶은 이름 입력 :abc\n",
      "------------------------\n",
      "1. 친구 리스트 출력\n",
      "2. 친구 추가\n",
      "3. 친구 삭제\n",
      "4. 이름 변경\n",
      "9. 종료\n",
      "메뉴를 선택 :1\n",
      "['아자차', 'abc', '타파하']\n",
      "------------------------\n",
      "1. 친구 리스트 출력\n",
      "2. 친구 추가\n",
      "3. 친구 삭제\n",
      "4. 이름 변경\n",
      "9. 종료\n",
      "메뉴를 선택 :3\n",
      "삭제할 이름 입력 :abc\n",
      "------------------------\n",
      "1. 친구 리스트 출력\n",
      "2. 친구 추가\n",
      "3. 친구 삭제\n",
      "4. 이름 변경\n",
      "9. 종료\n",
      "메뉴를 선택 :1\n",
      "['아자차', '타파하']\n",
      "------------------------\n",
      "1. 친구 리스트 출력\n",
      "2. 친구 추가\n",
      "3. 친구 삭제\n",
      "4. 이름 변경\n",
      "9. 종료\n",
      "메뉴를 선택 :9\n"
     ]
    }
   ],
   "source": [
    "# 친구 관리 프로그램\n",
    "\n",
    "def empty():\n",
    "    print(\"※친구 목록이 비었습니다.\")\n",
    "    \n",
    "print(\"친구 관리 프로그램\")\n",
    "print(\"========================\")\n",
    "\n",
    "friends = []\n",
    "\n",
    "while True:\n",
    "    print(\"1. 친구 리스트 출력\")\n",
    "    print(\"2. 친구 추가\")\n",
    "    print(\"3. 친구 삭제\")\n",
    "    print(\"4. 이름 변경\")\n",
    "    print(\"9. 종료\")\n",
    "    menu = input(\"메뉴를 선택 :\")\n",
    "    if menu == '1':\n",
    "        print(friends)\n",
    "    elif menu == '2':\n",
    "        friends.append(input(\"이름을 입력 :\"))\n",
    "    elif menu == '3':\n",
    "        if friends == []:print(\"친구 목록이 비었습니다.\")\n",
    "        else:\n",
    "            friend = input(\"삭제할 이름 입력 :\")\n",
    "            if friend not in friends:\n",
    "                print(\"해당 친구를 찾지 못했습니다.\")\n",
    "            else:\n",
    "                friends.remove(friend)\n",
    "    elif menu == '4':\n",
    "        if friends == []:print(\"친구 목록이 비었습니다.\")\n",
    "        else:\n",
    "            friend = input(\"변경할 이름 선택 :\")\n",
    "            if friend not in friends:\n",
    "                print(\"해당 친구를 찾지 못했습니다.\")\n",
    "            else:\n",
    "                friendNew = input(\"변경하고 싶은 이름 입력 :\")\n",
    "                for i in friends:\n",
    "                    if i == friend:\n",
    "                        idx = friends.index(i)\n",
    "                        friends[idx] = friendNew\n",
    "    elif menu == '9':\n",
    "        break\n",
    "    else:\n",
    "        print(\"1, 2, 3, 4, 9 중 선택하여 입력해 주세요.\")\n",
    "    print(\"------------------------\")"
   ]
  },
  {
   "cell_type": "code",
   "execution_count": null,
   "id": "9af55eb6",
   "metadata": {},
   "outputs": [],
   "source": []
  }
 ],
 "metadata": {
  "kernelspec": {
   "display_name": "Python 3 (ipykernel)",
   "language": "python",
   "name": "python3"
  },
  "language_info": {
   "codemirror_mode": {
    "name": "ipython",
    "version": 3
   },
   "file_extension": ".py",
   "mimetype": "text/x-python",
   "name": "python",
   "nbconvert_exporter": "python",
   "pygments_lexer": "ipython3",
   "version": "3.9.12"
  }
 },
 "nbformat": 4,
 "nbformat_minor": 5
}
