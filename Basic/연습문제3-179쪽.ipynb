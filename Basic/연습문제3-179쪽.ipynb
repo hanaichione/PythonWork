{
 "cells": [
  {
   "cell_type": "code",
   "execution_count": null,
   "id": "0201dc0c",
   "metadata": {},
   "outputs": [],
   "source": [
    "# 1. 자연수가 홀수인지 짝수인지 판별해 주는 함수\n",
    "\n",
    "def is_odd(number):\n",
    "    if number%2 == 1:\n",
    "        return True\n",
    "    else:\n",
    "        return False"
   ]
  },
  {
   "cell_type": "code",
   "execution_count": 3,
   "id": "6dc22d71",
   "metadata": {},
   "outputs": [
    {
     "data": {
      "text/plain": [
       "3.0"
      ]
     },
     "execution_count": 3,
     "metadata": {},
     "output_type": "execute_result"
    }
   ],
   "source": [
    "# 2. 입력으로 들어오는 모든 수의 평균 값을 계산해 주는 함수\n",
    "\n",
    "def avg_numbers(*args):\n",
    "    result = 0\n",
    "    for i in args:\n",
    "        result += i\n",
    "    return result/len(args)\n",
    "\n",
    "avg_numbers(1, 2)\n",
    "avg_numbers(1, 2, 3, 4, 5)"
   ]
  },
  {
   "cell_type": "code",
   "execution_count": 6,
   "id": "0146711d",
   "metadata": {},
   "outputs": [
    {
     "name": "stdout",
     "output_type": "stream",
     "text": [
      "첫번째 숫자를 입력하세요:3\n",
      "두번째 숫자를 입력하세요:6\n",
      "두 수의 합은 9 입니다.\n"
     ]
    }
   ],
   "source": [
    "# 3. 두개의 숫자를 입력받아 더하여 돌려주는 프로그램, 오류 수정\n",
    "\n",
    "input1 = input(\"첫번째 숫자를 입력하세요:\")\n",
    "input2 = input(\"두번째 숫자를 입력하세요:\")\n",
    "\n",
    "# total = input1 + input2\n",
    "# print(\"두 수의 합은 %s 입니다.\" % total)\n",
    "\n",
    "total = int(input1) + int(input2)\n",
    "print(\"두 수의 합은 %d 입니다.\" % total)"
   ]
  },
  {
   "cell_type": "code",
   "execution_count": 8,
   "id": "86f12ebd",
   "metadata": {},
   "outputs": [
    {
     "name": "stdout",
     "output_type": "stream",
     "text": [
      "youneedpython\n",
      "youneedpython\n",
      "you need python\n",
      "youneedpython\n"
     ]
    }
   ],
   "source": [
    "# 4. 다음 중 출력 결과가 다른 것 한 개를 고르시오\n",
    "\n",
    "print(\"you\" \"need\" \"python\")\n",
    "print(\"you\"+\"need\"+\"python\")\n",
    "print(\"you\", \"need\", \"python\")\n",
    "print(\"\".join([\"you\", \"need\", \"python\"]))\n",
    "\n",
    "# 3번일듯 : 맞음 띄어쓰기 됨"
   ]
  },
  {
   "cell_type": "code",
   "execution_count": 17,
   "id": "5b2153e5",
   "metadata": {},
   "outputs": [
    {
     "name": "stdout",
     "output_type": "stream",
     "text": [
      "Life is too short\n"
     ]
    }
   ],
   "source": [
    "# 5. 문자열을 파일에 저장 후 출력하는 프로그램 수정\n",
    "\n",
    "# f1 = open(\"data/test.txt\", 'w')\n",
    "# f1.write('Life is too short')\n",
    "\n",
    "f2 = open(\"data/test.txt\", 'r', encoding='utf-8')\n",
    "txt = f2.read()\n",
    "print(txt)\n",
    "\n",
    "f1.close()\n",
    "f2.close()"
   ]
  },
  {
   "cell_type": "code",
   "execution_count": 19,
   "id": "ac88e814",
   "metadata": {},
   "outputs": [
    {
     "name": "stdout",
     "output_type": "stream",
     "text": [
      "저장할 내용을 입력하세요:you need java\n"
     ]
    }
   ],
   "source": [
    "# 6. 입력을 파일에 저장하는 프로그램, 기존 작성 내용 유지\n",
    "\n",
    "user_input = input(\"저장할 내용을 입력하세요:\")\n",
    "f = open('data/test.txt', 'a')\n",
    "f.write(\"\\n\")\n",
    "f.write(user_input)\n",
    "f.close()"
   ]
  },
  {
   "cell_type": "code",
   "execution_count": 26,
   "id": "b46859ba",
   "metadata": {},
   "outputs": [
    {
     "name": "stdout",
     "output_type": "stream",
     "text": [
      "Life is too short\n",
      "you need java"
     ]
    }
   ],
   "source": [
    "# 7. 다음과 같은 내용을 지닌 파일 test.txt가 있다. \n",
    "# 이 파일의 내용 중 'java'라는 문자열을 'python'으로 바꾸어서 저장해보자\n",
    "\n",
    "f = open('data/test.txt', 'r')\n",
    "content = f.read()\n",
    "print(content, end=\"\")\n",
    "f.close()\n",
    "\n",
    "content = content.replace('java', 'python')\n",
    "\n",
    "f = open('data/test.txt', 'w')\n",
    "f.write(content)\n",
    "f.close()"
   ]
  }
 ],
 "metadata": {
  "kernelspec": {
   "display_name": "Python 3 (ipykernel)",
   "language": "python",
   "name": "python3"
  },
  "language_info": {
   "codemirror_mode": {
    "name": "ipython",
    "version": 3
   },
   "file_extension": ".py",
   "mimetype": "text/x-python",
   "name": "python",
   "nbconvert_exporter": "python",
   "pygments_lexer": "ipython3",
   "version": "3.9.12"
  }
 },
 "nbformat": 4,
 "nbformat_minor": 5
}
