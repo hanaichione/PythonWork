{
 "cells": [
  {
   "cell_type": "markdown",
   "id": "ec376d4f",
   "metadata": {},
   "source": [
    "### (3) list (71page)\n",
    "\n",
    "- [  ] 사용\n",
    "- 임의의 객체를 순차적으로 저장하는 집합 자료형(Sequence Data)\n",
    "- 인덱스 사용 가능\n",
    "- mutable ***"
   ]
  },
  {
   "cell_type": "code",
   "execution_count": 11,
   "id": "f0444a41",
   "metadata": {},
   "outputs": [
    {
     "name": "stdout",
     "output_type": "stream",
     "text": [
      "<class 'int'> <class 'list'>\n",
      "a는 10\n",
      "d는 [10, 11, 12]\n",
      "10 11 12\n",
      "['jimin', 178, 3.14, True]\n",
      "jimin\n"
     ]
    }
   ],
   "source": [
    "# a = 10\n",
    "# b = 11\n",
    "# c = 12\n",
    "\n",
    "a, b, c = 10, 11, 12\n",
    "\n",
    "d = [10, 11, 12]\n",
    "\n",
    "print(type(a), type(d))\n",
    "print(\"a는\", a)\n",
    "print(\"d는\", d)\n",
    "print(d[0], d[1], d[2])\n",
    "\n",
    "e = [\"jimin\", 178, 3.14, True]\n",
    "print(e)\n",
    "print(e[0])"
   ]
  },
  {
   "cell_type": "code",
   "execution_count": 18,
   "id": "9cf773f5",
   "metadata": {},
   "outputs": [
    {
     "name": "stdout",
     "output_type": "stream",
     "text": [
      "[1, 2, 3, '가', 3.14, ['a', 'b', 'c']]\n",
      "['a', 'b', 'c']\n",
      "a\n",
      "a\n"
     ]
    }
   ],
   "source": [
    "##### indexing\n",
    "\n",
    "a = [1, 2, 3, '가', 3.14, ['a', 'b', 'c']]\n",
    "print(a)\n",
    "print(a[-1])\n",
    "print(a[-1][0])\n",
    "print(a[5][-3])"
   ]
  },
  {
   "cell_type": "code",
   "execution_count": 24,
   "id": "ae0be569",
   "metadata": {},
   "outputs": [
    {
     "name": "stdout",
     "output_type": "stream",
     "text": [
      "[1, 2, 3, 4, 5]\n",
      "[10, 2, 3, 4, 5]\n",
      "[10, 2, 3, 4, 5]\n",
      "--------------------------------------\n",
      "[1, 2, 3, 4, 5]\n",
      "[10, 2, 3, 4, 5]\n",
      "[1, 2, 3, 4, 5]\n"
     ]
    }
   ],
   "source": [
    "##### 복사(얕은 복사, 깊은 복사)\n",
    "\n",
    "a = [1, 2, 3, 4, 5]\n",
    "\n",
    "# 주소 복사 : 얕은 복사\n",
    "b = a\n",
    "print(b)\n",
    "\n",
    "b[0] = 10\n",
    "print(b)\n",
    "print(a)\n",
    "\n",
    "print(\"--------------------------------------\")\n",
    "\n",
    "a = [1, 2, 3, 4, 5]\n",
    "\n",
    "# 값 복사 : 깊은 복사`\n",
    "# b = a[0:5]\n",
    "b = a[:]\n",
    "print(b)\n",
    "\n",
    "b[0] = 10\n",
    "print(b)\n",
    "print(a) # 안 바뀜"
   ]
  },
  {
   "cell_type": "code",
   "execution_count": 25,
   "id": "97ec4b03",
   "metadata": {},
   "outputs": [
    {
     "name": "stdout",
     "output_type": "stream",
     "text": [
      "<class 'list'>\n"
     ]
    }
   ],
   "source": [
    "##### list 생성\n",
    "\n",
    "a = []\n",
    "a = list()\n",
    "\n",
    "print(type(a))"
   ]
  },
  {
   "cell_type": "code",
   "execution_count": 30,
   "id": "5ea4ae59",
   "metadata": {},
   "outputs": [
    {
     "name": "stdout",
     "output_type": "stream",
     "text": [
      "10 <class 'int'>\n",
      "10 <class 'str'>\n",
      "10.0 <class 'float'>\n",
      "True <class 'bool'>\n",
      "['1', '0'] <class 'list'>\n",
      "['10'] <class 'list'>\n"
     ]
    }
   ],
   "source": [
    "##### 각 자료형 함수\n",
    "\n",
    "a = '10'\n",
    "print(int(a), type(int(a)))\n",
    "print(str(a), type(str(a)))\n",
    "print(float(a), type(float(a)))\n",
    "print(bool(a), type(bool(a)))\n",
    "\n",
    "print(list(a), type(list(a)))\n",
    "print(list([a]), type(list([a])))"
   ]
  },
  {
   "cell_type": "code",
   "execution_count": 38,
   "id": "40436fba",
   "metadata": {},
   "outputs": [
    {
     "name": "stdout",
     "output_type": "stream",
     "text": [
      "[1, 2, 3]\n",
      "[1, 2, 3]\n",
      "[0, 1, 2, 3, 4, 5, 6, 7, 8, 9]\n",
      "[0, 1, 2, 3, 4, 5, 6, 7, 8, 9]\n",
      "[0, 1, 2, 3, 4, 5, 6, 7, 8, 9]\n",
      "[1, 2, 3, 4, 5, 6, 7, 8, 9]\n",
      "[5, 6, 7, 8, 9, 10, 11]\n",
      "[-4, -3, -2, -1, 0, 1, 2, 3, 4, 5, 6, 7, 8, 9, 10, 11, 12]\n",
      "[10, 9, 8, 7, 6, 5, 4, 3, 2, 1]\n"
     ]
    }
   ],
   "source": [
    "##### list 초기화 : range()\n",
    "\n",
    "a = [1, 2, 3]\n",
    "print(a)\n",
    "\n",
    "a = list([1, 2, 3])\n",
    "print(a)\n",
    "\n",
    "# [0,1,2,3,4,5,6,7,8,9]\n",
    "a = list(range(0, 10, 1))\n",
    "print(a)\n",
    "a = list(range(0, 10))\n",
    "print(a)\n",
    "a = list(range(10))\n",
    "print(a)\n",
    "\n",
    "a = list(range(1, 10))\n",
    "print(a)\n",
    "\n",
    "# 5~11\n",
    "print(list(range(5, 12)))\n",
    "\n",
    "# -4~12\n",
    "print(list(range(-4, 13)))\n",
    "\n",
    "# 10 ~ 1\n",
    "print(list(range(10, 0, -1)))"
   ]
  },
  {
   "cell_type": "code",
   "execution_count": 45,
   "id": "3d6527fd",
   "metadata": {},
   "outputs": [
    {
     "name": "stdout",
     "output_type": "stream",
     "text": [
      "[1, 2, 3, 4, 5, 6]\n",
      "7\n",
      "2hi\n",
      "2 hi\n"
     ]
    }
   ],
   "source": [
    "##### 연산 가능\n",
    "\n",
    "a = [1, 2, 3]\n",
    "b = [4, 5, 6]\n",
    "\n",
    "c = a + b\n",
    "print(c)\n",
    "\n",
    "print(a[1] + b[1])\n",
    "# print(a[1] + 'hi')\n",
    "print(str(a[1]) + 'hi')\n",
    "print(a[1], 'hi')"
   ]
  },
  {
   "cell_type": "code",
   "execution_count": 54,
   "id": "8c51935c",
   "metadata": {},
   "outputs": [
    {
     "name": "stdout",
     "output_type": "stream",
     "text": [
      "[1, 2, 3]\n",
      "[100, 1, 2, 3]\n",
      "[100, 1, 2, 3, 4]\n",
      "[100, 1, 2, 3, 4, 'a', 'p', 'p', 'l', 'e']\n",
      "[100, 1, 2, 3, 4, 'a', 'p', 'p', 'l', 'e', 10, 20, 30]\n",
      "[100, 1, 2, 3, 4, 'a', 'p', 'p', 'l', 'e', 10, 20, 30, [10, 20, 30]]\n",
      "[100, 1, 2, 3, 4, 'a', 'p', 'p', 'l', 'e', 10, 20, 30, [10, 20, 30], 5]\n"
     ]
    }
   ],
   "source": [
    "##### 추가하기 : insert(), append(), extend()\n",
    "###### insert()는 원하는 위치, append()와 extend()는 마지막 위치에 추가\n",
    "###### append는 하나씩 처리할 때 유리, extend는 여러개가 각각 들어감\n",
    "\n",
    "a = [1, 2, 3]\n",
    "print(a)\n",
    "\n",
    "a.insert(0, 100)\n",
    "print(a)\n",
    "\n",
    "a.append(4)\n",
    "print(a)\n",
    "\n",
    "# 인자에 대하여 순서대로 반복문 실행\n",
    "a.extend('apple')\n",
    "print(a)\n",
    "\n",
    "a.extend([10, 20, 30])\n",
    "print(a)\n",
    "\n",
    "a.append([10, 20, 30])\n",
    "print(a)\n",
    "\n",
    "a.extend([5])\n",
    "print(a)"
   ]
  },
  {
   "cell_type": "code",
   "execution_count": 64,
   "id": "d222b9dc",
   "metadata": {},
   "outputs": [
    {
     "name": "stdout",
     "output_type": "stream",
     "text": [
      "[1, 4, 3, 2]\n",
      "[1, 2, 3, 4]\n",
      "[1, 2, 3, 4]\n",
      "[1, 4, 3, 2]\n",
      "[2, 3, 4, 1]\n"
     ]
    }
   ],
   "source": [
    "##### 정렬 기능\n",
    "\n",
    "a = [1, 4, 3, 2]\n",
    "print(a)\n",
    "\n",
    "a.sort() # 원본을 정렬\n",
    "print(a)\n",
    "\n",
    "a = [1, 4, 3, 2]\n",
    "print(sorted(a)) # 원본이 아닌 복사본을 정렬\n",
    "print(a)\n",
    "\n",
    "a.reverse()\n",
    "print(a)"
   ]
  },
  {
   "cell_type": "code",
   "execution_count": 69,
   "id": "aa9ed0ef",
   "metadata": {},
   "outputs": [
    {
     "name": "stdout",
     "output_type": "stream",
     "text": [
      "3\n",
      "5\n",
      "True\n",
      "True\n",
      "False\n"
     ]
    }
   ],
   "source": [
    "##### 검색 기능 : index()\n",
    "\n",
    "a = [1, 2, 3, 4, 5, \"홍길동\", \"111-111\"]\n",
    "\n",
    "print(a.index(4))\n",
    "print(a.index(\"홍길동\"))\n",
    "# print(a.index(100))\n",
    "\n",
    "print(5 in a)\n",
    "print(\"홍길동\" in a)\n",
    "print(100 in a)"
   ]
  },
  {
   "cell_type": "code",
   "execution_count": 81,
   "id": "d0c1bb8c",
   "metadata": {},
   "outputs": [
    {
     "name": "stdout",
     "output_type": "stream",
     "text": [
      "[1, 1, 2, 3]\n",
      "[1, 2, 4, 5, 6, 3]\n",
      "[1, 2, 3, 1, 3]\n",
      "-----------------------------------------------\n",
      "[]\n",
      "-----------------------------------------------\n",
      "[1, 2]\n",
      "3\n"
     ]
    }
   ],
   "source": [
    "##### 제거\n",
    "\n",
    "# 범위를 지정해서 제거\n",
    "a = [1,2,3,1,2,3]\n",
    "a[1:3] = [] # [2, 3] 제거\n",
    "print(a)\n",
    "\n",
    "# 값을 찾아서 삭제\n",
    "a = [1,2,3,4,5,6, 3]\n",
    "a.remove(3) # 첫번째 3 찾아서 제거\n",
    "print(a)\n",
    "\n",
    "# 위치를 찾아서 삭제\n",
    "a = [1,2,3,1,2,3]\n",
    "del a[4]\n",
    "print(a)\n",
    "\n",
    "print(\"-----------------------------------------------\")\n",
    "\n",
    "a = [1,2,3,1,2,3]\n",
    "a[:] = []\n",
    "print(a)\n",
    "\n",
    "a = [1,2,3,1,2,3]\n",
    "del a\n",
    "# print(a) # 변수 자체를 삭제하여 오류 발생\n",
    "\n",
    "print(\"-----------------------------------------------\")\n",
    "\n",
    "# stack : 데이터 임시 저장소(Last In First Out), push와 pop으로 이루어진 알고리즘, pop은 데이터 삭제를 의미\n",
    "a = [1, 2, 3]\n",
    "b=a.pop()\n",
    "print(a) # [1, 2]\n",
    "print(b)"
   ]
  },
  {
   "cell_type": "markdown",
   "id": "b199a744",
   "metadata": {},
   "source": [
    "### (4) tuple\n",
    "\n",
    "- ( )\n",
    "- immutable"
   ]
  },
  {
   "cell_type": "code",
   "execution_count": 89,
   "id": "ea23dfba",
   "metadata": {},
   "outputs": [
    {
     "name": "stdout",
     "output_type": "stream",
     "text": [
      "('a', 'b', 'c', 'd', 'b')\n",
      "<class 'tuple'>\n",
      "5\n",
      "2\n",
      "2\n",
      "-------------------------------------\n",
      "['a', 10, 'c', 'd', 'b']\n",
      "('a', 10, 'c', 'd', 'b')\n"
     ]
    }
   ],
   "source": [
    "a = ('a', 'b', 'c', 'd', 'b')\n",
    "print(a)\n",
    "print(type(a))\n",
    "\n",
    "print(len(a))\n",
    "print(a.index('c'))\n",
    "print(a.count('b')) # list도 가능\n",
    "\n",
    "print(\"-------------------------------------\")\n",
    "\n",
    "# a[1] = 10    # 'tuple' object does not support item assginment\n",
    "\n",
    "b = list(a)    # 얕은 복사\n",
    "b[1] = 10\n",
    "print(b)\n",
    "\n",
    "c = tuple(b)\n",
    "print(c)"
   ]
  },
  {
   "cell_type": "code",
   "execution_count": 100,
   "id": "8e0195d1",
   "metadata": {},
   "outputs": [
    {
     "name": "stdout",
     "output_type": "stream",
     "text": [
      "(10, 20, 30)\n",
      "10 20 30\n",
      "10 20 30\n"
     ]
    }
   ],
   "source": [
    "##### packing과 unpacking 자동 처리\n",
    "\n",
    "# packing\n",
    "a = 10, 20, 30 # 자동 패킹이 tuple로 되는 이유 : python에서 지향하는 immutable 자료형이기 때문\n",
    "print(a)\n",
    "\n",
    "a1 = a[0] \n",
    "a2 = a[1]\n",
    "a3 = a[2]\n",
    "print(a1, a2, a3)\n",
    "\n",
    "# unpacking\n",
    "a1, a2, a3 = a\n",
    "print(a1, a2, a3)"
   ]
  },
  {
   "cell_type": "markdown",
   "id": "5301f3a4",
   "metadata": {},
   "source": [
    "### (5) dict(dictionary) : json[{키:값, 키:값}, {키:값, 키:값}]과 유사\n",
    "\n",
    "- 순서가 없음(정렬 불가, index 없음)\n",
    "- {키 : 값, ...}\n",
    "- 검색 용도\n",
    "- mutable(tuple 제외 집합 자료형은 mutable)"
   ]
  },
  {
   "cell_type": "code",
   "execution_count": 2,
   "id": "f4b68e1f",
   "metadata": {},
   "outputs": [
    {
     "name": "stdout",
     "output_type": "stream",
     "text": [
      "{'name': '홍길동', 'tel': '1111-1111', 'age': 25}\n",
      "<class 'dict'>\n"
     ]
    }
   ],
   "source": [
    "a = {\"name\":\"홍길동\", \"tel\":\"1111-1111\", \"age\":25}\n",
    "print(a)\n",
    "print(type(a))"
   ]
  },
  {
   "cell_type": "code",
   "execution_count": 3,
   "id": "beadf371",
   "metadata": {},
   "outputs": [
    {
     "name": "stdout",
     "output_type": "stream",
     "text": [
      "홍길동 1111-1111 25\n"
     ]
    },
    {
     "data": {
      "text/plain": [
       "('홍길동', '1111-1111', 25)"
      ]
     },
     "execution_count": 3,
     "metadata": {},
     "output_type": "execute_result"
    }
   ],
   "source": [
    "print(a['name'], a['tel'], a['age'])\n",
    "a['name'], a['tel'], a['age']"
   ]
  },
  {
   "cell_type": "code",
   "execution_count": 4,
   "id": "326dcba4",
   "metadata": {},
   "outputs": [
    {
     "name": "stdout",
     "output_type": "stream",
     "text": [
      "dict_keys(['name', 'tel', 'age'])\n",
      "dict_values(['홍길동', '1111-1111', 25])\n",
      "dict_items([('name', '홍길동'), ('tel', '1111-1111'), ('age', 25)])\n"
     ]
    }
   ],
   "source": [
    "print(a.keys())\n",
    "print(a.values())\n",
    "print(a.items())"
   ]
  },
  {
   "cell_type": "code",
   "execution_count": 5,
   "id": "999dfcc0",
   "metadata": {},
   "outputs": [
    {
     "name": "stdout",
     "output_type": "stream",
     "text": [
      "[('name', '홍길동'), ('tel', '1111-1111'), ('age', 25)]\n",
      "홍길동\n"
     ]
    }
   ],
   "source": [
    "# 반복문을 이용한 자동화를 구현\n",
    "b = list(a.items())\n",
    "print(b)\n",
    "print(b[0][1])"
   ]
  },
  {
   "cell_type": "code",
   "execution_count": 6,
   "id": "33a5c3a7",
   "metadata": {},
   "outputs": [
    {
     "name": "stdout",
     "output_type": "stream",
     "text": [
      "{'name': '이순신', 'tel': '1111-1111', 'age': 25}\n"
     ]
    }
   ],
   "source": [
    "##### mutable, 수정\n",
    "a['name'] = '이순신'\n",
    "print(a)"
   ]
  },
  {
   "cell_type": "code",
   "execution_count": 7,
   "id": "6af649e4",
   "metadata": {},
   "outputs": [
    {
     "data": {
      "text/plain": [
       "{'name': '이순신', 'tel': '1111-1111', 'age': 25, 'hobby': ['낚시', '독서', '여행']}"
      ]
     },
     "execution_count": 7,
     "metadata": {},
     "output_type": "execute_result"
    }
   ],
   "source": [
    "##### 추가\n",
    "a['hobby'] = ['낚시', '독서', '여행']\n",
    "a"
   ]
  },
  {
   "cell_type": "code",
   "execution_count": 8,
   "id": "c4b7175a",
   "metadata": {},
   "outputs": [
    {
     "data": {
      "text/plain": [
       "{'name': '이순신', 'age': 25, 'hobby': ['낚시', '독서', '여행']}"
      ]
     },
     "execution_count": 8,
     "metadata": {},
     "output_type": "execute_result"
    }
   ],
   "source": [
    "##### 삭제\n",
    "del a['tel']\n",
    "a"
   ]
  },
  {
   "cell_type": "code",
   "execution_count": 9,
   "id": "3986875a",
   "metadata": {},
   "outputs": [
    {
     "name": "stdout",
     "output_type": "stream",
     "text": [
      "{}\n"
     ]
    }
   ],
   "source": [
    "a.clear()\n",
    "print(a)"
   ]
  },
  {
   "cell_type": "code",
   "execution_count": 17,
   "id": "d606fe3a",
   "metadata": {},
   "outputs": [
    {
     "name": "stdout",
     "output_type": "stream",
     "text": [
      "홍길동\n",
      "홍길동\n",
      "독서\n",
      "{'name': '홍길동', 'tel': '1111-1111', 'age': 25}\n"
     ]
    }
   ],
   "source": [
    "##### 데이터 가져오기 : get(\"키\", default)\n",
    "###### get(키, 디폴트값) - 키의 값을 리턴한다. 없으면 디폴트값을 리턴 (디폴트값이 없으면 무시)\n",
    "\n",
    "a = {\"name\":\"홍길동\", \"tel\":\"1111-1111\", \"age\":25}\n",
    "\n",
    "print(a[\"name\"])\n",
    "print(a.get(\"name\"))\n",
    "\n",
    "# print(a[\"hobby\"])\n",
    "print(a.get(\"hobby\",\"독서\"))\n",
    "print(a)"
   ]
  },
  {
   "cell_type": "markdown",
   "id": "41bf1fe3",
   "metadata": {},
   "source": [
    "### (6) set\n",
    "- {}\n",
    "- 순서가 없다\n",
    "- 중복 불가 : 중복 제거 기능이 핵심, 이 외에는 사용 빈도가 낮음"
   ]
  },
  {
   "cell_type": "code",
   "execution_count": 20,
   "id": "23b21764",
   "metadata": {},
   "outputs": [
    {
     "name": "stdout",
     "output_type": "stream",
     "text": [
      "{1, 2, 3, 4}\n",
      "<class 'set'>\n"
     ]
    }
   ],
   "source": [
    "a = {1, 2, 3, 4, 2, 3}\n",
    "print(a)\n",
    "print(type(a))"
   ]
  },
  {
   "cell_type": "code",
   "execution_count": 24,
   "id": "d7b4efa2",
   "metadata": {},
   "outputs": [
    {
     "name": "stdout",
     "output_type": "stream",
     "text": [
      "1\n"
     ]
    }
   ],
   "source": [
    "# print(a[0])\n",
    "print(list(a)[0])"
   ]
  },
  {
   "cell_type": "code",
   "execution_count": 33,
   "id": "fef3cd92",
   "metadata": {},
   "outputs": [
    {
     "name": "stdout",
     "output_type": "stream",
     "text": [
      "{1, 2, 3, 4, 5, 6, 7, 8, 9}\n",
      "{4, 5, 6}\n",
      "{1, 2, 3}\n"
     ]
    }
   ],
   "source": [
    "##### 집합 연산\n",
    "s1 = {1, 2, 3, 4, 5, 6}\n",
    "s2 = {4, 5, 6, 7, 8, 9}\n",
    "\n",
    "# 합집합\n",
    "print(s1.union(s2))\n",
    "\n",
    "# 교집합\n",
    "print(s1.intersection(s2))\n",
    "\n",
    "# 차집합\n",
    "print(s1.difference(s2))"
   ]
  },
  {
   "cell_type": "code",
   "execution_count": 35,
   "id": "fac989ca",
   "metadata": {},
   "outputs": [
    {
     "name": "stdout",
     "output_type": "stream",
     "text": [
      "{1, 2, 3, 4, 5, 6, 7, 9}\n",
      "{1, 2, 3, 4, 5, 6, 7, 9, 8}\n",
      "{1, 2, 3, 4, 5, 6, 7, 8}\n",
      "{1, 2, 3, 4, 5, 6, 7}\n"
     ]
    },
    {
     "ename": "KeyError",
     "evalue": "10",
     "output_type": "error",
     "traceback": [
      "\u001b[1;31m---------------------------------------------------------------------------\u001b[0m",
      "\u001b[1;31mKeyError\u001b[0m                                  Traceback (most recent call last)",
      "Input \u001b[1;32mIn [35]\u001b[0m, in \u001b[0;36m<cell line: 20>\u001b[1;34m()\u001b[0m\n\u001b[0;32m     18\u001b[0m \u001b[38;5;66;03m# remove discard\u001b[39;00m\n\u001b[0;32m     19\u001b[0m s1\u001b[38;5;241m.\u001b[39mdiscard(\u001b[38;5;241m10\u001b[39m)\n\u001b[1;32m---> 20\u001b[0m \u001b[43ms1\u001b[49m\u001b[38;5;241;43m.\u001b[39;49m\u001b[43mremove\u001b[49m\u001b[43m(\u001b[49m\u001b[38;5;241;43m10\u001b[39;49m\u001b[43m)\u001b[49m\n",
      "\u001b[1;31mKeyError\u001b[0m: 10"
     ]
    }
   ],
   "source": [
    "##### CRUD\n",
    "\n",
    "# 한 개 추가\n",
    "s1.add(9)\n",
    "print(s1)\n",
    "\n",
    "# 여러개 추가\n",
    "s1.update({7, 8})\n",
    "print(s1)\n",
    "\n",
    "# 삭제\n",
    "s1.remove(9)\n",
    "print(s1)\n",
    "\n",
    "s1.discard(8)\n",
    "print(s1)\n",
    "\n",
    "# remove discard\n",
    "s1.discard(10)\n",
    "# s1.remove(10) # 없는 데이터 삭제 시 오류 발생"
   ]
  },
  {
   "cell_type": "code",
   "execution_count": 37,
   "id": "7739cf66",
   "metadata": {},
   "outputs": [
    {
     "name": "stdout",
     "output_type": "stream",
     "text": [
      "[1, 2, 3, 4, 5]\n"
     ]
    }
   ],
   "source": [
    "##### quiz 리스트의 중복을 제거하기\n",
    "data = [1, 2, 3, 4, 4, 5, 2]\n",
    "dataSet = set(data)\n",
    "print(list(dataSet)) # 리스트 형태로 돌려놓기!!"
   ]
  },
  {
   "cell_type": "markdown",
   "id": "34bd0e93",
   "metadata": {},
   "source": [
    "## 4. Operator\n",
    "\n",
    "    1) 산술 연산자(증감 연산자 없음)\n",
    "        * / + - % // ** \n",
    "        \n",
    "    2) 비교 연산자\n",
    "        > < >= <= == !=\n",
    "        \n",
    "    3) 논리 연산자\n",
    "        and or not(toggle)\n",
    "        \n",
    "    4) 대입(치환) 연산자\n",
    "        = += -= /= *=\n",
    "        \n",
    "    5) 포함 여부 연산자\n",
    "        in not in\n",
    "    \n",
    "    6) 비트\n",
    "        &, |, ^(XOR, 서로 다른 값이 들어왔을 때 참), ~, >>, <<, ...\n",
    "        \n",
    "          0 0 0 0 1 0 1 0\n",
    "        & 0 0 0 0 0 1 0 1\n",
    "        ------------------\n",
    "          0 0 0 0 0 0 0 0\n",
    "          \n",
    "          1 0 0 1 1 1 0 0 (original data)\n",
    "        ^ 1 1 0 0 0 1 0 1 (key)\n",
    "        ------------------\n",
    "          0 1 0 1 1 0 0 1 (encoding)\n",
    "          \n",
    "          0 1 0 1 1 0 0 1 \n",
    "        ^ 1 1 0 0 0 1 0 1 \n",
    "        ------------------\n",
    "          1 0 0 1 1 1 0 0 (decoding)"
   ]
  },
  {
   "cell_type": "code",
   "execution_count": 46,
   "id": "13ae7387",
   "metadata": {},
   "outputs": [
    {
     "name": "stdout",
     "output_type": "stream",
     "text": [
      "암호화 :  387127144\n",
      "복호화 :  648723\n"
     ]
    }
   ],
   "source": [
    "10 & 5\n",
    "\n",
    "original = 648723\n",
    "key = 387641723\n",
    "\n",
    "encode = original ^ key\n",
    "print('암호화 : ', encode)\n",
    "\n",
    "decode = encode ^ key\n",
    "print('복호화 : ', decode)"
   ]
  }
 ],
 "metadata": {
  "kernelspec": {
   "display_name": "Python 3 (ipykernel)",
   "language": "python",
   "name": "python3"
  },
  "language_info": {
   "codemirror_mode": {
    "name": "ipython",
    "version": 3
   },
   "file_extension": ".py",
   "mimetype": "text/x-python",
   "name": "python",
   "nbconvert_exporter": "python",
   "pygments_lexer": "ipython3",
   "version": "3.9.12"
  }
 },
 "nbformat": 4,
 "nbformat_minor": 5
}
