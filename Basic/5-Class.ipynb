{
 "cells": [
  {
   "cell_type": "markdown",
   "id": "f8420707",
   "metadata": {},
   "source": [
    "## 1. 특징\n",
    "\n",
    "- 묶음(코드 블럭)\n",
    "    - 변수(멤버 변수, 속성, 필드), 함수(멤버 함수, 메서드)의 묶음\n",
    "        - '멤버변수'라고 부를 때 : 클래스 만든 사람\n",
    "        - '속성'이라고 부를 때 : 클래스를 사용하는 사람(소비자), attribute/property\n",
    "        \n",
    "- 설계도(추상적)\n",
    "    - 인스턴스, 객체\n",
    "\n",
    "- 사용자 정의 자료형\n",
    "\n",
    "- 객체의 설계 가이드 : SOLID\n",
    "    - SRP(Single Responsibility Principle) : 단일 책임 원칙,객체는 단 하나의 책임만 가져야 한다\n",
    "    - OCP(Open Closed Principle) : 개방 폐쇄 원칙, 기존의 코드 변경을 최소화하면서 새로운 기능을 추가하고 수정한다\n",
    "    - LSP(Listov Subtitution Principle) : 리스코프 치환 원칙, 부모 클래스의 인스턴스 대신에 자식 클래스의 인스턴스로 대체해도 프로그램이 정상적으로 동작해야 한다, 재정의하지 않아야 LSP 만족\n",
    "    - ISP(Interface Segregation principle) : 인터페이스 분리 원칙, 클라이언트 입장에서 자신이 이용하지 않는 기능에는 영향을 받지 않아야한다\n",
    "    - DIP(Dependency Inversion Principle) : 의존 역전 원칙, 의존 관계를 맺을 때 변화하기 쉬운 것 또는 자주 변하는 것보다 변화가 없는 것(인터페이스, 추상 클래스)에 의존해야 한다\n",
    "    \n",
    "- 객체의 조건\n",
    "    - 상속성 \n",
    "    - 다형성 : 오버로딩(중복정의, 파이썬에서는 지원하지 않음)은 객체 이름이 같아도 매개 변수를 달리하여 다형성을 충족시키는 문법, 오버라이딩(재정의)은 상속에서만 사용 가능하며 상속받아 재정의하기 때문에 메모리 사용 최소화\n",
    "    - 캡슐화 : 편의, 보안성(코드의 수정, 삭제 방지, private으로 선언하고 getter setter 사용/ 파이썬은 private이 없음)\n",
    "    \n",
    "- 추가\n",
    "    - 인터페이스와 추상 클래스는 상속을 위해 생성, \n",
    "    - 인터페이스 안의 메서드는 100% 추상 메서드\n",
    "    - 추상클래스는 일반메서드+추상메서드\n",
    "    - 추상 메서드는 자식 클래스가 무조건 오버라이딩하여 사용해야 하므로 굳이 내용 코드를 작성하지 않으며 강제성이 있어 안전한 코딩이 가능\n",
    "    - 추상 클래스는 객체를 만들 수 없음, 오직 자식에게 상속시키기 위한 기능\n",
    "    - 다중 상속 : 동시에 여러 클래스를 상속 받아 기능이 중복될 수 있으며 이러한 중복이 어디에서 발생했는지 모호, 안전한 코딩이 어려움(자바에서는 클래스 다중 상속이 불가하지만 파이썬에서는 가능)/ 인터페이스는 다중 상속이 가능함(이름만 있고 기능이 없기 때문에 안전하므로)"
   ]
  },
  {
   "cell_type": "markdown",
   "id": "060f58ba",
   "metadata": {},
   "source": [
    "## 2. 작성 방법\n",
    "\n",
    "    class 이름:\n",
    "        변수\n",
    "        함수\n",
    "\n",
    "    또는\n",
    "    \n",
    "    class 이름(...):\n",
    "        변수\n",
    "        함수"
   ]
  },
  {
   "cell_type": "code",
   "execution_count": 4,
   "id": "c3c72242",
   "metadata": {},
   "outputs": [
    {
     "name": "stdout",
     "output_type": "stream",
     "text": [
      "10\n",
      "Test Class\n"
     ]
    }
   ],
   "source": [
    "##### 인스턴스 생성 방법\n",
    "\n",
    "class Test:\n",
    "    a = 10\n",
    "    \n",
    "    def show(self): # 클래스 내의 메서드는 무조건 인자를 하나 가지고 있어야 함\n",
    "        return \"Test Class\"\n",
    "    \n",
    "##############################################################################\n",
    "\n",
    "ob = Test() # 인스턴스 생성, java new Test()\n",
    "print(ob.a)\n",
    "print(ob.show())"
   ]
  },
  {
   "cell_type": "code",
   "execution_count": 8,
   "id": "062f3303",
   "metadata": {},
   "outputs": [
    {
     "name": "stdout",
     "output_type": "stream",
     "text": [
      "국적 :  한국\n",
      "이름 :  홍길동\n",
      "나이 :  20\n",
      "신장 :  170\n",
      "취미 :  ['독서', '여행']\n",
      "\n",
      "--------------------------------------------\n",
      "국적 :  한국\n",
      "이름 :  홍길동\n",
      "나이 :  20\n",
      "신장 :  170\n",
      "취미 :  ['독서', '여행']\n",
      "\n",
      "--------------------------------------------\n",
      "국적 :  한국\n",
      "이름 :  전우치\n",
      "나이 :  24\n",
      "신장 :  180\n",
      "취미 :  ['도술', '여행']\n",
      "\n",
      "--------------------------------------------\n",
      "국적 :  한국\n",
      "이름 :  최치원\n",
      "나이 :  28\n",
      "신장 :  178\n",
      "취미 :  ['시 쓰기', '가야금 뜯기']\n",
      "\n",
      "--------------------------------------------\n"
     ]
    }
   ],
   "source": [
    "##### 사용자 정의 자료형(DTO 패턴)\n",
    "\n",
    "class Person:\n",
    "    nation = \"한국\"\n",
    "    name = str()\n",
    "    age = int()\n",
    "    height = float()\n",
    "    hobbies = list() # []\n",
    "    \n",
    "    def show(self):\n",
    "        print(\"국적 : \", self.nation)\n",
    "        print(\"이름 : \", self.name)\n",
    "        print(\"나이 : \", self.age)\n",
    "        print(\"신장 : \", self.height)\n",
    "        print(\"취미 : \", self.hobbies)\n",
    "        print(\"\\n--------------------------------------------\")\n",
    "        \n",
    "########################################################################################\n",
    "\n",
    "p1 = Person()\n",
    "p2 = Person()\n",
    "p3 = Person()\n",
    "\n",
    "p1.name = \"홍길동\"\n",
    "p1.age = 20\n",
    "p1.height = 170\n",
    "p1.hobbies = [\"독서\", \"여행\"]\n",
    "\n",
    "p2.name = \"전우치\"\n",
    "p2.age = 24\n",
    "p2.height = 180\n",
    "p2.hobbies = [\"도술\", \"여행\"]\n",
    "\n",
    "p3.name = \"최치원\"\n",
    "p3.age = 28\n",
    "p3.height = 178\n",
    "p3.hobbies = [\"시 쓰기\", \"가야금 뜯기\"]\n",
    "\n",
    "for i in [p1, p2, p3]:\n",
    "    i.show()"
   ]
  },
  {
   "cell_type": "markdown",
   "id": "e28f7b32",
   "metadata": {},
   "source": [
    "### (1) self\n",
    "\n",
    "- 현재 사용 중인 객체의 주소를 저장하고 있는 참조 변수\n",
    "- read only"
   ]
  },
  {
   "cell_type": "code",
   "execution_count": null,
   "id": "04b58642",
   "metadata": {},
   "outputs": [],
   "source": [
    "##### 자바라면\n",
    "\n",
    "class Test{\n",
    "    int i;\n",
    "    dobule d;\n",
    "    \n",
    "    void show(this){\n",
    "        print(this.i); # 써도 되고 안 써도 됨\n",
    "        print(d);\n",
    "    }\n",
    "}\n",
    "\n",
    "ob1 = new Test()\n",
    "ob2 = new Test()\n",
    "ob3 = new Test()\n",
    "\n",
    "ob1.i = 10\n",
    "ob1.d = 10.0\n",
    "ob1.show(객체의 주소) # 객체들이 실행될 때마다 주소를 주고 받는데 이를 명시하지 않음\n",
    "\n",
    "ob2.i = 10\n",
    "ob2.d = 10.0\n",
    "ob2.show(객체의 주소)\n",
    "\n",
    "ob3.i = 10\n",
    "ob3.d = 10.0\n",
    "ob3.show(객체의 주소)"
   ]
  },
  {
   "cell_type": "code",
   "execution_count": 13,
   "id": "d0828635",
   "metadata": {},
   "outputs": [
    {
     "name": "stdout",
     "output_type": "stream",
     "text": [
      "10 1.0 홍길동\n",
      "현재 주소 : 2643124864864\n",
      "t1의 주소 : 2643124864864\n",
      "-----------------------------\n",
      "20 2.0 김길동\n",
      "현재 주소 : 2643124863520\n",
      "-----------------------------\n",
      "30 3.0 이길동\n",
      "현재 주소 : 2643124865056\n"
     ]
    }
   ],
   "source": [
    "class Test:\n",
    "    a = int() # java에서는 instance 변수라고 함\n",
    "    b = float()\n",
    "    c = str()\n",
    "    \n",
    "    def setValue(self, a, b, c):\n",
    "        # 검증 코드\n",
    "        self.a = a # python에서는 미리 선언하지 않아도 여기서 만들어짐/ 하지만 만드는 것이 좋음\n",
    "        self.b = b\n",
    "        self.c = c\n",
    "    \n",
    "    def show(self):\n",
    "        print(self.a, self.b, self.c)\n",
    "        print(\"현재 주소 :\", id(self)) # 특정 메모리의 주소를 반환\n",
    "        \n",
    "#############################################################\n",
    "\n",
    "t1 = Test()\n",
    "t2 = Test()\n",
    "t3 = Test()\n",
    "\n",
    "##### 데이터를 직접 저장하는 방식은 비추 : 번거로우며 잘못된 데이터 저장 시 돌이킬 수 없음\n",
    "###### main코드에 항상 검증 코드 작성 필요 >> 메서드(getter, setter) 사용 시 불필요\n",
    "\n",
    "# t1.a = 10\n",
    "# t1.b = 1.0\n",
    "# t1.c = '홍길동'\n",
    "t1.setValue(10, 1.0, '홍길동') # 변수의 이름을 알 필요 없음, 검증 코드 작성은 함수 한 번으로 끝\n",
    "t1.show()\n",
    "print(\"t1의 주소 :\", id(t1))\n",
    "print(\"-----------------------------\")\n",
    "\n",
    "t2.a = 20\n",
    "t2.b = 2.0\n",
    "t2.c = '김길동'\n",
    "t2.show()\n",
    "print(\"-----------------------------\")\n",
    "\n",
    "t3.a = 30\n",
    "t3.b = 3.0\n",
    "t3.c = '이길동'\n",
    "t3.show()"
   ]
  },
  {
   "cell_type": "markdown",
   "id": "ac5f1832",
   "metadata": {},
   "source": [
    "### (2) 생성자(Constructor)와 소멸자(Deconstructor)\n",
    "\n",
    "- 메서드 : 생성자와 소멸자는 함수\n",
    "- 객체를 생성하는 용도\n",
    "- 생성자\n",
    "    - 객체를 만들 때 호출(단 한번만 호출)\n",
    "    - 초기화 용도로 사용\n",
    "    - java에서는 다양하게 초기화하기 위해 오버로딩함\n",
    "- 소멸자\n",
    "    - 객체가 사라질 때 호출(단 한번만 호출)"
   ]
  },
  {
   "cell_type": "code",
   "execution_count": 21,
   "id": "b26c0a10",
   "metadata": {},
   "outputs": [
    {
     "name": "stdout",
     "output_type": "stream",
     "text": [
      "생성자 호출\n",
      "소멸자 호출\n",
      "0 None\n",
      "생성자 호출\n",
      "소멸자 호출\n",
      "10 None\n",
      "생성자 호출\n",
      "소멸자 호출\n",
      "홍길동 None\n",
      "생성자 호출\n",
      "200 홍길동\n",
      "-----------------------------------\n",
      "소멸자 호출\n"
     ]
    }
   ],
   "source": [
    "class Test:\n",
    "    a = int()\n",
    "    b = str()\n",
    "    \n",
    "    # 생성자\n",
    "    def __init__(self, a=0, b=None):\n",
    "        print(\"생성자 호출\") # 객체가 생성됐을 때 호출되어 출력\n",
    "        self.a = a\n",
    "        self.b = b\n",
    "    \n",
    "    def setVal(self, a, b): # 변수에 직접 값을 넣지 않으려고\n",
    "        self.a = a\n",
    "        self.b = b\n",
    "        \n",
    "    # 소멸자\n",
    "    def __del__(self):\n",
    "        print(\"소멸자 호출\")\n",
    "        \n",
    "#####################################\n",
    "        \n",
    "t1 = Test()\n",
    "print(t1.a, t1.b)\n",
    "\n",
    "t2 = Test(10)\n",
    "print(t2.a, t2.b)\n",
    "\n",
    "t3 = Test('홍길동')\n",
    "print(t3.a, t3.b)\n",
    "\n",
    "t4 = Test(200, '홍길동')\n",
    "print(t4.a, t4.b)\n",
    "\n",
    "print(\"-----------------------------------\")\n",
    "\n",
    "del t4"
   ]
  },
  {
   "cell_type": "markdown",
   "id": "678f3013",
   "metadata": {},
   "source": [
    "### (3) static\n",
    "\n",
    "- instance와 구별됨\n",
    "- 동일한 공간을 모든 객체들이 공동으로 사용\n",
    "- 정적(클래스) 변수, 정적(클래스) 메서드\n",
    "- 클래스 안에서만 선언이 가능(메서드 내에서는 불가)"
   ]
  },
  {
   "cell_type": "code",
   "execution_count": 38,
   "id": "2499d5fa",
   "metadata": {},
   "outputs": [
    {
     "name": "stdout",
     "output_type": "stream",
     "text": [
      "국적 :  한국\n",
      "이름 :  홍길동\n",
      "나이 :  20\n",
      "신장 :  170\n",
      "취미 :  ['독서', '여행', '우표수집']\n",
      "회사명 :  파이썬 주식회사\n",
      "\n",
      "--------------------------------------------\n",
      "국적 :  조선\n",
      "이름 :  전우치\n",
      "나이 :  24\n",
      "신장 :  180\n",
      "취미 :  ['도술', '여행']\n",
      "회사명 :  파이썬 주식회사\n",
      "\n",
      "--------------------------------------------\n",
      "국적 :  고구려\n",
      "이름 :  광개토대왕\n",
      "나이 :  27\n",
      "신장 :  178\n",
      "취미 :  ['무술연습', '가야금 뜯기']\n",
      "회사명 :  파이썬 주식회사\n",
      "\n",
      "--------------------------------------------\n"
     ]
    }
   ],
   "source": [
    "class Person:\n",
    "    nation = \"한국\"\n",
    "    name = str()\n",
    "    age = int()\n",
    "    height = float()\n",
    "    hobbies = list() # []\n",
    "    company = str()\n",
    "#     company = \"파이썬 주식회사\" # 인스턴스 변수에도 값이 들어가 생성되므로 메모리를 차지\n",
    "    \n",
    "    def show(self):\n",
    "        print(\"국적 : \", self.nation)\n",
    "        print(\"이름 : \", self.name)\n",
    "        print(\"나이 : \", self.age)\n",
    "        print(\"신장 : \", self.height)\n",
    "        print(\"취미 : \", self.hobbies)\n",
    "        print(\"회사명 : \", Person.company) # 클래스 이름에 변수명 붙이면 static 됨\n",
    "        print(\"\\n--------------------------------------------\")\n",
    "        \n",
    "    @staticmethod\n",
    "    def funcCompany():\n",
    "        Person.company = '파이썬 주식회사'\n",
    "        return \"회사명 : \" + Person.company\n",
    "        \n",
    "####################################################################\n",
    "\n",
    "p1 = Person()\n",
    "p2 = Person()\n",
    "p3 = Person()\n",
    "\n",
    "p1.name = \"홍길동\"\n",
    "p1.height = 170\n",
    "p1.age = 20\n",
    "p1.hobbies = [\"독서\", \"여행\", \"우표수집\"]\n",
    "\n",
    "p2.nation = \"조선\"\n",
    "p2.name = \"전우치\"\n",
    "p2.height = 180\n",
    "p2.age = 24\n",
    "p2.hobbies = [\"도술\", \"여행\"]\n",
    "\n",
    "p3.nation = \"고구려\"\n",
    "p3.name = \"광개토대왕\"\n",
    "p3.height = 178\n",
    "p3.age = 27\n",
    "p3.hobbies = [\"무술연습\", \"가야금 뜯기\"]\n",
    "p3.company = '자바 주식회사' # 안 바뀌고 '파이썬 주식회사' 그대로 나옴\n",
    "\n",
    "# Person.company = '(주)파이썬' # 모든 객체의 company가 '주 파이썬'으로 변경\n",
    "# Person.age = 30\n",
    "\n",
    "Person.funcCompany() # 초기화\n",
    "for i in [p1, p2, p3]:\n",
    "    i.show()"
   ]
  },
  {
   "cell_type": "code",
   "execution_count": 48,
   "id": "744c8d3b",
   "metadata": {},
   "outputs": [
    {
     "name": "stdout",
     "output_type": "stream",
     "text": [
      "총 객체의 수 :  3\n",
      "총 객체의 수 :  3\n",
      "총 객체의 수 :  3\n",
      "총 객체의 수 :  3\n"
     ]
    }
   ],
   "source": [
    "#### quiz 객체의 수를 카운팅\n",
    "\n",
    "class Counter:\n",
    "    \n",
    "    m_count = 0\n",
    "    \n",
    "    def __init__(self):\n",
    "        Counter.m_count += 1\n",
    "        \n",
    "    @staticmethod\n",
    "    def printCount():\n",
    "        print(\"총 객체의 수 : \", Counter.m_count)\n",
    "\n",
    "############################################\n",
    "\n",
    "a, b, c = Counter(), Counter(), Counter()\n",
    "\n",
    "\n",
    "# 객체를 통해 static 선언, 사용하려면 @staticmethod 해야 함(각각의 주소가 다르게 넘어가기 때문에 self 매개 변수 안 됨)\n",
    "a.printCount() # 총 객체의 수 : 3\n",
    "b.printCount()\n",
    "c.printCount()\n",
    "\n",
    "Counter.printCount()"
   ]
  },
  {
   "cell_type": "code",
   "execution_count": null,
   "id": "4933d6b9",
   "metadata": {},
   "outputs": [],
   "source": [
    "##### quiz2 \n",
    "\n",
    "\"\"\"\n",
    "e1 = Employee(1111, \"홍길동\", 1000000, [\"여행\", \"낚시\", \"운동\"])\n",
    "e1.display()\n",
    "\n",
    "결과 :\n",
    "    사번 : 1111\n",
    "    이름 : 홍길동\n",
    "    급여 : 1000000\n",
    "    취미 : 여행, 낚시, 운동\n",
    "    \n",
    "e2 = Employee(1112, \"임꺽정\", 1200000, [\"자전거\", \"볼링\"])\n",
    "e3 = Employee(1113, \"신돌석\", 1400000, [\"독서\"])\n",
    "\n",
    "total = Employee.getCount()\n",
    "print(\"인원수 : \", total)\n",
    "\n",
    "# 데이터 수정\n",
    "e3.setSalary(2000000)\n",
    "e3.appendHobby(\"피아노\", \"드론\")\n",
    "e3.display()\n",
    "\n",
    "결과 :\n",
    "    사번 : 1113\n",
    "    이름 : 신돌석\n",
    "    급여 : 2000000\n",
    "    취미 : 독서, 피아노, 드론\n",
    "\"\"\""
   ]
  },
  {
   "cell_type": "code",
   "execution_count": 1,
   "id": "0297c92b",
   "metadata": {},
   "outputs": [
    {
     "name": "stdout",
     "output_type": "stream",
     "text": [
      "사번 :  1111\n",
      "이름 :  홍길동\n",
      "급여 :  1000000\n",
      "취미 :  ['여행', '낚시', '운동']\n",
      "\n",
      "인원수 :  3\n",
      "\n",
      "사번 :  1113\n",
      "이름 :  신돌석\n",
      "급여 :  2000000\n",
      "취미 :  ['독서', '피아노', '드론']\n"
     ]
    }
   ],
   "source": [
    "class Employee:\n",
    "    empno = int()\n",
    "    ename = str()\n",
    "    esal = int()\n",
    "    ehobby = []\n",
    "    count = int()\n",
    "    \n",
    "    def __init__(self, empno, ename, esal, ehobby=0):\n",
    "        self.empno = empno\n",
    "        self.ename = ename\n",
    "        self.esal = esal\n",
    "        self.ehobby = ehobby\n",
    "        Employee.count += 1\n",
    "        \n",
    "    def getCount():\n",
    "        return Employee.count\n",
    "    \n",
    "    def display(self):\n",
    "        print('사번 : ', self.empno)\n",
    "        print('이름 : ', self.ename)\n",
    "        print('급여 : ', self.esal)\n",
    "        print('취미 : ', self.ehobby)\n",
    "        \n",
    "    def setSalary(self, esal):\n",
    "        self.esal = esal\n",
    "        \n",
    "    def appendHobby(self, *ehobby):\n",
    "        for i in ehobby:\n",
    "            self.ehobby.append(i)\n",
    "            \n",
    "###################################################\n",
    "\n",
    "e1 = Employee(1111, \"홍길동\", 1000000, [\"여행\", \"낚시\", \"운동\"])\n",
    "e1.display()\n",
    "\n",
    "e2 = Employee(1112, \"임꺽정\", 1200000, [\"자전거\", \"볼링\"])\n",
    "e3 = Employee(1113, \"신돌석\", 1400000, [\"독서\"])\n",
    "print()\n",
    "total = Employee.getCount()\n",
    "print(\"인원수 : \", total)\n",
    "print()\n",
    "# 데이터 수정\n",
    "e3.setSalary(2000000)\n",
    "e3.appendHobby(\"피아노\", \"드론\")\n",
    "e3.display()"
   ]
  },
  {
   "cell_type": "markdown",
   "id": "51862790",
   "metadata": {},
   "source": [
    "### (4) 원래 설계된 멤버변수 외에 멤버변수를 추가할 수 있다."
   ]
  },
  {
   "cell_type": "code",
   "execution_count": 1,
   "id": "186ef2d9",
   "metadata": {},
   "outputs": [],
   "source": [
    "class Test:\n",
    "    a = 0\n",
    "\n",
    "    def display(self):\n",
    "        print(self.a)"
   ]
  },
  {
   "cell_type": "code",
   "execution_count": 6,
   "id": "6c007a32",
   "metadata": {},
   "outputs": [
    {
     "name": "stdout",
     "output_type": "stream",
     "text": [
      "0\n",
      "0\n",
      "100 홍길동\n"
     ]
    }
   ],
   "source": [
    "ob1 = Test()\n",
    "ob1.display()\n",
    "\n",
    "ob2 = Test()\n",
    "ob2.display()\n",
    "\n",
    "ob1.a = 100\n",
    "ob2.b = '홍길동' # 실행 중에만 사용할 수 있음\n",
    "\n",
    "print(ob1.a, ob2.b)"
   ]
  },
  {
   "cell_type": "markdown",
   "id": "c175aafa",
   "metadata": {},
   "source": [
    "### (5) _ 와 __\n",
    "\n",
    "    - 기본 인터프리터에서 사용(마지막으로 사용된 결과값을 불러올 때) : _\n",
    "    - 값을 무시 : _\n",
    "    - 접근 권한 : _, __"
   ]
  },
  {
   "cell_type": "code",
   "execution_count": 10,
   "id": "27ff40ac",
   "metadata": {},
   "outputs": [
    {
     "name": "stdout",
     "output_type": "stream",
     "text": [
      "20 30\n",
      "10\n",
      "10 70\n"
     ]
    }
   ],
   "source": [
    "# a, b, c = (10, 20, 30)\n",
    "\n",
    "_, b, c = (10, 20, 30) # 저장은 되나 안 쓰겠다는 표현\n",
    "print(b, c)\n",
    "\n",
    "a, _, _= (10, 20, 30)\n",
    "print(a)\n",
    "\n",
    "a, _, _, _, _, _, b = (10,20,30,40,50,60,70)\n",
    "a, *_, b = (10,20,30,40,50,60,70)\n",
    "print(a, b)"
   ]
  },
  {
   "cell_type": "code",
   "execution_count": 33,
   "id": "0c7a8fc4",
   "metadata": {},
   "outputs": [],
   "source": [
    "class Test:\n",
    "    str1 = \"안녕하세요~~\"\n",
    "    _str2 = \"이것은 조심스러운 값입니다.\" # _가 붙은 변수는 가급적 사용 지양하라는 의사 표시\n",
    "    __str3 = \"이것은 사용하면 안 됩니다.\"\n",
    "    \n",
    "    def setStr3(self, a):\n",
    "        self.__str3 = a\n",
    "        \n",
    "    def getStr3(self):\n",
    "        return self.__str3"
   ]
  },
  {
   "cell_type": "code",
   "execution_count": 35,
   "id": "9b69d1ff",
   "metadata": {},
   "outputs": [
    {
     "name": "stdout",
     "output_type": "stream",
     "text": [
      "안녕하세요~~\n",
      "이것은 조심스러운 값입니다.\n",
      "으앵\n"
     ]
    }
   ],
   "source": [
    "ob1 = Test()\n",
    "print(ob1.str1)\n",
    "print(ob1._str2)\n",
    "\n",
    "##### setter, getter 없을 때\n",
    "# print(ob1.__str3)\n",
    "# dir(ob1)\n",
    "# ob1._Test__str3 = \"임꺽정입니다.\"\n",
    "# print(ob1._Test__str3)\n",
    "\n",
    "##### setter, getter\n",
    "ob1.setStr3(\"으앵\")\n",
    "print(ob1.getStr3())"
   ]
  },
  {
   "cell_type": "markdown",
   "id": "c357fef2",
   "metadata": {},
   "source": [
    "### (6) 상속\n",
    "\n",
    "- 상속 설계시 고려할 점\n",
    "    - 부모 클래스는 최소한의 코드로 작성(모든 자식들이 공통적으로 필요로 하는 것으로 구성)\n",
    "    - 상속 받는 자식 클래스는 반드시 기능을 확장(추가)시켜야 한다.\n",
    "    - 중복된 기능이 있어서는 안 된다.\n",
    "\n",
    "- Override(재정의), Overload(중복정의)"
   ]
  },
  {
   "cell_type": "code",
   "execution_count": 41,
   "id": "baa8d99a",
   "metadata": {},
   "outputs": [],
   "source": [
    "class Calculator:\n",
    "    first = 0\n",
    "    second = 0\n",
    "    \n",
    "    def __init__(self, first=None, second=None):\n",
    "        self.first = first\n",
    "        self.second = second\n",
    "        \n",
    "    def setData(self, first=None, second=None):\n",
    "        self.first = first\n",
    "        self.second = second\n",
    "        \n",
    "    def sum(self):\n",
    "        return self.first + self.second\n",
    "    \n",
    "    def div(self):\n",
    "        return self.first / self.second\n",
    "    \n",
    "    def mul(self):\n",
    "        return self.first * self.second\n",
    "    \n",
    "    def sub(self):\n",
    "        return self.first - self.second\n",
    "\n",
    "class CalculatorV2(Calculator): # 다중 상속 가능\n",
    "    def pow(self):\n",
    "        return self.first ** self.second"
   ]
  },
  {
   "cell_type": "code",
   "execution_count": 42,
   "id": "bc3adf56",
   "metadata": {},
   "outputs": [
    {
     "name": "stdout",
     "output_type": "stream",
     "text": [
      "0.5\n",
      "12\n",
      "1024\n"
     ]
    }
   ],
   "source": [
    "cal1 = Calculator() # instance 생성\n",
    "cal1.setData(10, 20)\n",
    "print(cal1.div())\n",
    "\n",
    "cal2 = CalculatorV2()\n",
    "cal2.setData(2, 10)\n",
    "print(cal2.sum())\n",
    "print(cal2.pow())"
   ]
  },
  {
   "cell_type": "markdown",
   "id": "a82fe794",
   "metadata": {},
   "source": [
    "- 자식이 부모에게 접근해야 하는 경우"
   ]
  },
  {
   "cell_type": "code",
   "execution_count": 53,
   "id": "46077d17",
   "metadata": {},
   "outputs": [],
   "source": [
    "class Person:\n",
    "    say = \"난 사람이다.\"\n",
    "    age = 20\n",
    "    \n",
    "    def info(self):\n",
    "        print(\"나이:{}, 하고 싶은 말:{}\".format(self.age, self.say))\n",
    "        \n",
    "    def __init__(self):\n",
    "        print(\"Person 클래스\")\n",
    "        \n",
    "class Employee(Person):\n",
    "    def __init__(self):\n",
    "        print(\"Employee 클래스\")\n",
    "    say = \"난 회사원이다.\" # overriding\n",
    "    \n",
    "    def info(self):\n",
    "        print(self.say)\n",
    "        print(self.age)\n",
    "        print(super().say) # 부모에 접근\n",
    "        super().info()"
   ]
  },
  {
   "cell_type": "code",
   "execution_count": 56,
   "id": "e81c2518",
   "metadata": {},
   "outputs": [
    {
     "name": "stdout",
     "output_type": "stream",
     "text": [
      "Person 클래스\n",
      "나이:20, 하고 싶은 말:난 사람이다.\n",
      "Employee 클래스\n",
      "난 회사원이다.\n",
      "20\n",
      "난 사람이다.\n",
      "['__class__', '__delattr__', '__dict__', '__dir__', '__doc__', '__eq__', '__format__', '__ge__', '__getattribute__', '__gt__', '__hash__', '__init__', '__init_subclass__', '__le__', '__lt__', '__module__', '__ne__', '__new__', '__reduce__', '__reduce_ex__', '__repr__', '__setattr__', '__sizeof__', '__str__', '__subclasshook__', '__weakref__', 'age', 'info', 'say']\n"
     ]
    }
   ],
   "source": [
    "p1 = Person()\n",
    "p1.info()\n",
    "\n",
    "e1 = Employee() # e1 생성할 때 부모 객체도 함께 생성됨\n",
    "e1.info()\n",
    "\n",
    "print(dir(e1))"
   ]
  },
  {
   "cell_type": "markdown",
   "id": "accd3934",
   "metadata": {},
   "source": [
    "### (7) object\n",
    "\n",
    "- 클래스 첫 글자는 대문자로 하는 것이 관례(함수는 소문자)이나 얘는 소문자\n",
    "- 파이썬 클래스들 중 가장 상위 클래스"
   ]
  },
  {
   "cell_type": "code",
   "execution_count": 57,
   "id": "e0cb6574",
   "metadata": {},
   "outputs": [
    {
     "name": "stdout",
     "output_type": "stream",
     "text": [
      "['__class__', '__delattr__', '__dir__', '__doc__', '__eq__', '__format__', '__ge__', '__getattribute__', '__gt__', '__hash__', '__init__', '__init_subclass__', '__le__', '__lt__', '__ne__', '__new__', '__reduce__', '__reduce_ex__', '__repr__', '__setattr__', '__sizeof__', '__str__', '__subclasshook__']\n"
     ]
    }
   ],
   "source": [
    "print(dir(object))"
   ]
  },
  {
   "cell_type": "markdown",
   "id": "2901280f",
   "metadata": {},
   "source": [
    "### (8) 고급 함수"
   ]
  },
  {
   "cell_type": "markdown",
   "id": "9bf56e69",
   "metadata": {},
   "source": [
    "##### 1) 변수의 생존 범위 : global, nonlocal"
   ]
  },
  {
   "cell_type": "code",
   "execution_count": 69,
   "id": "f463f35f",
   "metadata": {},
   "outputs": [
    {
     "name": "stdout",
     "output_type": "stream",
     "text": [
      "100\n",
      "kbs2 :  2\n",
      "kbs1 :  2\n",
      "100\n"
     ]
    }
   ],
   "source": [
    "a = 100\n",
    "\n",
    "def kbs1():\n",
    "    a = 1\n",
    "    \n",
    "#     def kbs2():   # python은 함수 내에 함수 생성이 가능! (중첩 가능)\n",
    "#         global a  # 전역변수인 a(100)을 갖다씀\n",
    "#         a = 2     # 전역변수 a(100)의 값을 2로 바꿈\n",
    "#         print(\"kbs2 : \", a)\n",
    "\n",
    "    def kbs2():   # python은 함수 내에 함수 생성이 가능! (중첩 가능)\n",
    "        nonlocal a    # 함수가 중첩되었을 때 사용, 바깥 함수의 a를 씀  \n",
    "        a = 2          # 바깥 함수 a(1)의 값을 2로 바꿈\n",
    "        print(\"kbs2 : \", a)\n",
    "\n",
    "    kbs2()\n",
    "    print(\"kbs1 : \", a)\n",
    "    \n",
    "################################\n",
    "\n",
    "print(a) # 100\n",
    "kbs1()   # 1    # 2\n",
    "print(a) # 2    # 100"
   ]
  },
  {
   "cell_type": "markdown",
   "id": "433ffd58",
   "metadata": {},
   "source": [
    "##### 2) 클로저(Closer)\n",
    "\n",
    "- 가까운, 자세히\n",
    "- 함수 밖에서 임의의 함수 안에 선언된 지역변수를 계속 참조할 수 있게 하는 방법"
   ]
  },
  {
   "cell_type": "code",
   "execution_count": 79,
   "id": "81479d9e",
   "metadata": {},
   "outputs": [
    {
     "name": "stdout",
     "output_type": "stream",
     "text": [
      "1\n",
      "2\n",
      "1\n",
      "2\n",
      "3\n"
     ]
    }
   ],
   "source": [
    "count = 0 # 전역변수는 데이터를 안정적으로 보관할 수 없음\n",
    "\n",
    "def out():\n",
    "    count = 0\n",
    "    \n",
    "    def inn():\n",
    "#         global count\n",
    "        nonlocal count\n",
    "        count += 1\n",
    "        print(count)\n",
    "        \n",
    "    return inn\n",
    "    \n",
    "#####################\n",
    "\n",
    "a = out()\n",
    "a() # a에 inn의 주소를 저장, a는 inn()처럼 사용\n",
    "a()\n",
    "\n",
    "b = out()\n",
    "b()\n",
    "b()\n",
    "b()"
   ]
  },
  {
   "cell_type": "code",
   "execution_count": 82,
   "id": "cebf9c66",
   "metadata": {},
   "outputs": [
    {
     "name": "stdout",
     "output_type": "stream",
     "text": [
      "2500.0\n",
      "10000.0\n",
      "5000.0\n"
     ]
    }
   ],
   "source": [
    "def outer(tax):\n",
    "    def inner(su, dan): # 중첩은 웹사이트 만들 때는 잘 안 쓰고 어플리케이션 만들 때 씀\n",
    "        amount = su * dan * tax\n",
    "        return amount\n",
    "    \n",
    "    return inner # 호출할 때 주소를 줘서 접근할 수 있게 함\n",
    "\n",
    "#####################################\n",
    "\n",
    "tax_rate = outer(0.1) # inner의 주소\n",
    "\n",
    "mouse = tax_rate(5, 5000) # inner 함수와 동일\n",
    "print(mouse)\n",
    "\n",
    "keyboard = tax_rate(10, 10000)\n",
    "print(keyboard)\n",
    "\n",
    "tax_rate2 = outer(0.05)\n",
    "keyboard = tax_rate2(10, 10000)\n",
    "print(keyboard)"
   ]
  },
  {
   "cell_type": "markdown",
   "id": "aec7b603",
   "metadata": {},
   "source": [
    "##### 3) lambda 함수(무명 함수, 익명 함수)"
   ]
  },
  {
   "cell_type": "code",
   "execution_count": 83,
   "id": "35753e63",
   "metadata": {},
   "outputs": [
    {
     "name": "stdout",
     "output_type": "stream",
     "text": [
      "30\n"
     ]
    }
   ],
   "source": [
    "def hap(x, y):\n",
    "    return x + y\n",
    "\n",
    "################################\n",
    "\n",
    "result = hap(10, 20)\n",
    "print(result)"
   ]
  },
  {
   "cell_type": "code",
   "execution_count": 84,
   "id": "42bfc953",
   "metadata": {},
   "outputs": [
    {
     "name": "stdout",
     "output_type": "stream",
     "text": [
      "30\n"
     ]
    }
   ],
   "source": [
    "result = (lambda x, y: x+y)(10, 20) # return은 기본으로 탑재, 딱 한 번 씀\n",
    "print(result)"
   ]
  },
  {
   "cell_type": "code",
   "execution_count": 87,
   "id": "f1cc3d7c",
   "metadata": {},
   "outputs": [
    {
     "name": "stdout",
     "output_type": "stream",
     "text": [
      "30\n"
     ]
    }
   ],
   "source": [
    "add = lambda x, y=10 : x + y # 주소를 저장\n",
    "result = add(20)\n",
    "print(result)"
   ]
  },
  {
   "cell_type": "code",
   "execution_count": 94,
   "id": "8e5a1e6c",
   "metadata": {},
   "outputs": [
    {
     "name": "stdout",
     "output_type": "stream",
     "text": [
      "1\n",
      "2 3 4 5\n",
      "{'m': 6, 'n': 7, 'o': 8}\n"
     ]
    }
   ],
   "source": [
    "def func_test(a, *b, **c):\n",
    "    print(a)\n",
    "    print(b)\n",
    "    print(c)\n",
    "\n",
    "########################\n",
    "\n",
    "func_test(1, 2, 3, 4, 5, m= 6, n=7, o=8)"
   ]
  },
  {
   "cell_type": "code",
   "execution_count": 99,
   "id": "2c5448b1",
   "metadata": {},
   "outputs": [
    {
     "name": "stdout",
     "output_type": "stream",
     "text": [
      "1 (2, 3, 4, 5) {'m': 6, 'n': 7, 'o': 8}\n"
     ]
    }
   ],
   "source": [
    "(lambda a, *b, **c : print(a, b, c))(1, 2, 3, 4, 5, m= 6, n=7, o=8)"
   ]
  },
  {
   "cell_type": "code",
   "execution_count": 107,
   "id": "920b05a0",
   "metadata": {},
   "outputs": [
    {
     "name": "stdout",
     "output_type": "stream",
     "text": [
      "[1, 4, 3, 16, 5]\n"
     ]
    },
    {
     "data": {
      "text/plain": [
       "[1, 4, 3, 16, 5]"
      ]
     },
     "execution_count": 107,
     "metadata": {},
     "output_type": "execute_result"
    }
   ],
   "source": [
    "ex = [1, 2, 3, 4, 5]\n",
    "def func_test(x):\n",
    "    if x % 2 == 0:\n",
    "        return x** 2\n",
    "    else:\n",
    "        return x\n",
    "\n",
    "#####################################\n",
    "    \n",
    "result = []\n",
    "\n",
    "### 1\n",
    "for i in ex:\n",
    "    result.append(func_test(i))\n",
    "print(result)\n",
    "\n",
    "### 2\n",
    "list(map(func_test, ex))\n",
    "\n",
    "### 3\n",
    "list(map((lambda x : x**2 if x%2 == 0 else x), ex))"
   ]
  },
  {
   "cell_type": "markdown",
   "id": "27f468cf",
   "metadata": {},
   "source": [
    "##### 4) 함수 장식자(decorator)\n",
    "\n",
    "- 일종의 함수 감싸기(wrapping) : 함수의 기능을 확장시키는 디자인 패턴\n",
    "- 메타 프로그래밍 기법 : 프로그래밍을 정의함,문법을 만들어내는 기법\n",
    "- @staticmethod, @classmethod, @abstract, ..."
   ]
  },
  {
   "cell_type": "code",
   "execution_count": null,
   "id": "f6bd9329",
   "metadata": {},
   "outputs": [],
   "source": []
  }
 ],
 "metadata": {
  "kernelspec": {
   "display_name": "Python 3 (ipykernel)",
   "language": "python",
   "name": "python3"
  },
  "language_info": {
   "codemirror_mode": {
    "name": "ipython",
    "version": 3
   },
   "file_extension": ".py",
   "mimetype": "text/x-python",
   "name": "python",
   "nbconvert_exporter": "python",
   "pygments_lexer": "ipython3",
   "version": "3.9.12"
  }
 },
 "nbformat": 4,
 "nbformat_minor": 5
}
