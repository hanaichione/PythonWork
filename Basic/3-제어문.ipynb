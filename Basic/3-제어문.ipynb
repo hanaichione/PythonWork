{
 "cells": [
  {
   "cell_type": "markdown",
   "id": "84c52466",
   "metadata": {},
   "source": [
    "## 1. 입력기능"
   ]
  },
  {
   "cell_type": "code",
   "execution_count": 1,
   "id": "fb1caa14",
   "metadata": {},
   "outputs": [
    {
     "name": "stdout",
     "output_type": "stream",
     "text": [
      "이름을 입력 : 송지민\n",
      "당신의 이름은  송지민  입니다.\n"
     ]
    }
   ],
   "source": [
    "name = input(\"이름을 입력 : \")\n",
    "print(\"당신의 이름은 \", name, \" 입니다.\")"
   ]
  },
  {
   "cell_type": "code",
   "execution_count": 5,
   "id": "cfd12d4f",
   "metadata": {},
   "outputs": [
    {
     "name": "stdout",
     "output_type": "stream",
     "text": [
      "첫번째 숫자 : 3\n",
      "두번째 숫자 : 2\n",
      "결과 :  5\n"
     ]
    }
   ],
   "source": [
    "num1 = int(input(\"첫번째 숫자 : \"))\n",
    "num2 = int(input(\"두번째 숫자 : \"))\n",
    "\n",
    "print(\"결과 : \", num1 + num2)"
   ]
  },
  {
   "cell_type": "markdown",
   "id": "db1b113e",
   "metadata": {},
   "source": [
    "## 2. 조건문 : if\n",
    "\n",
    "    1) 첫번째 유형\n",
    "        if 조건식 :\n",
    "            코드\n",
    "            ...\n",
    "\n",
    "    2) 두번째 유형\n",
    "        if 조건식 : \n",
    "            코드\n",
    "            ...\n",
    "\n",
    "        else :\n",
    "            코드\n",
    "            ...\n",
    "\n",
    "    3) 세번째 유형\n",
    "        if 조건식 : \n",
    "            코드\n",
    "            ...\n",
    "\n",
    "        elif 조건식 :\n",
    "            코드\n",
    "            ...\n",
    "            \n",
    "        else :\n",
    "            코드\n",
    "            ..."
   ]
  },
  {
   "cell_type": "code",
   "execution_count": 7,
   "id": "a5326a4a",
   "metadata": {},
   "outputs": [
    {
     "name": "stdout",
     "output_type": "stream",
     "text": [
      "입력 : a\n",
      "정답\n"
     ]
    }
   ],
   "source": [
    "##### Quiz 입력받은 값이 a, b, c, d 이면 \"정답\", 그렇지 않으면 \"오답\" 출력\n",
    "\n",
    "spel = input(\"입력 : \")\n",
    "if spel == 'a' :\n",
    "    print(\"정답\")\n",
    "elif spel == 'b' :\n",
    "    print(\"정답\")\n",
    "elif spel == 'c' :\n",
    "    print(\"정답\")\n",
    "elif spel == 'd' :\n",
    "    print(\"정답\")\n",
    "else :\n",
    "    print(\"오답\")"
   ]
  },
  {
   "cell_type": "code",
   "execution_count": 10,
   "id": "e5401bf4",
   "metadata": {},
   "outputs": [
    {
     "name": "stdout",
     "output_type": "stream",
     "text": [
      "입력 : d\n",
      "정답\n"
     ]
    }
   ],
   "source": [
    "value = input(\"입력 : \")\n",
    "if value in ('a', 'b', 'c', 'd') :\n",
    "    print(\"정답\")\n",
    "else :\n",
    "    print(\"오답\")"
   ]
  },
  {
   "cell_type": "code",
   "execution_count": 23,
   "id": "85e95a2b",
   "metadata": {},
   "outputs": [
    {
     "name": "stdout",
     "output_type": "stream",
     "text": [
      "입력 : aa\n",
      "오답\n"
     ]
    }
   ],
   "source": [
    "data = input(\"입력 : \")\n",
    "if data == 'a' or data == 'b' or data == 'c' or data == 'd' :\n",
    "    print(\"정답\")\n",
    "else :\n",
    "    print(\"오답\")"
   ]
  },
  {
   "cell_type": "code",
   "execution_count": 31,
   "id": "03a1540a",
   "metadata": {},
   "outputs": [
    {
     "name": "stdout",
     "output_type": "stream",
     "text": [
      "입력 : 97\n",
      "오답\n"
     ]
    }
   ],
   "source": [
    "data = input(\"입력 : \")\n",
    "if data >= 'a' and data <= 'd' :\n",
    "    print(\"정답\")\n",
    "else :\n",
    "    print(\"오답\")"
   ]
  },
  {
   "cell_type": "code",
   "execution_count": 36,
   "id": "aafc3673",
   "metadata": {},
   "outputs": [
    {
     "name": "stdout",
     "output_type": "stream",
     "text": [
      "연도를 입력하세요 : 2400\n",
      "윤년이 아닙니다.\n"
     ]
    }
   ],
   "source": [
    "##### Quiz 윤년 계산 프로그램\n",
    "\n",
    "year = int(input(\"연도를 입력하세요 : \"))\n",
    "if (year%4 == 0 or year%400 == 0) and year%100 != 0 :\n",
    "    print(\"윤년입니다.\")\n",
    "else :\n",
    "    print(\"윤년이 아닙니다.\")"
   ]
  },
  {
   "cell_type": "code",
   "execution_count": 55,
   "id": "f1c0cd42",
   "metadata": {},
   "outputs": [
    {
     "name": "stdout",
     "output_type": "stream",
     "text": [
      "연산자 : 9\n",
      "숫자1 : 1\n",
      "숫자2 : 4\n",
      "결과 :  1 9 4 = 연산불가\n"
     ]
    }
   ],
   "source": [
    "##### Quiz 전자 계산기 프로그램\n",
    "\n",
    "op = input(\"연산자 : \")\n",
    "num1 = int(input(\"숫자1 : \"))\n",
    "num2 = int(input(\"숫자2 : \"))\n",
    "\n",
    "if op == '+' :\n",
    "    result = num1 + num2\n",
    "elif op == '-' :\n",
    "    result = num1 - num2\n",
    "elif op == '*' :\n",
    "    result = num1*num2\n",
    "elif op == '/' and num2 != 0:\n",
    "    result = num1/num2\n",
    "else :\n",
    "    result = '연산불가'\n",
    "print(\"결과 : \", num1, op, num2, '=', result)"
   ]
  },
  {
   "cell_type": "code",
   "execution_count": 44,
   "id": "ec6bd7c3",
   "metadata": {},
   "outputs": [
    {
     "name": "stdout",
     "output_type": "stream",
     "text": [
      "가위, 바위, 보 중 하나를 입력하세요 : 보\n",
      "비겼습니다. 컴퓨터는 :  보\n"
     ]
    }
   ],
   "source": [
    "##### Quia 가위바위보 게임\n",
    "\n",
    "import random\n",
    "\n",
    "user = input(\"가위, 바위, 보 중 하나를 입력하세요 : \")\n",
    "\n",
    "n = random.randint(0, 2)\n",
    "if n == 0 :\n",
    "    computer = '가위'\n",
    "    if user == '가위' :\n",
    "        print(\"비겼습니다. 컴퓨터는 : \", computer)\n",
    "    elif user == '바위' :\n",
    "        print(\"사용자가 승리했습니다. 컴퓨터는 : \", computer)\n",
    "    else :\n",
    "        print(\"컴퓨터가 승리했습니다. 컴퓨터는 : \", computer)\n",
    "elif n == 1 :\n",
    "    computer = '바위'\n",
    "    if user == '가위' :\n",
    "        print(\"컴퓨터가 승리했습니다. 컴퓨터는 : \", computer)\n",
    "    elif user == '바위' :\n",
    "        print(\"비겼습니다. 컴퓨터는 : \", computer)\n",
    "    else :\n",
    "        print(\"사용자가 승리했습니다. 컴퓨터는 : \", computer)\n",
    "else :\n",
    "    computer = '보'\n",
    "    if user == '가위' :\n",
    "        print(\"사용자가 승리했습니다. 컴퓨터는 : \", computer)\n",
    "    elif user == '바위' :\n",
    "        print(\"컴퓨터가 승리했습니다. 컴퓨터는 : \", computer)\n",
    "    else :\n",
    "        print(\"비겼습니다. 컴퓨터는 : \", computer)"
   ]
  },
  {
   "cell_type": "code",
   "execution_count": 53,
   "id": "234436c3",
   "metadata": {},
   "outputs": [
    {
     "name": "stdout",
     "output_type": "stream",
     "text": [
      "가위, 바위, 보 중 하나를 입력하세요 : 가위\n",
      "컴퓨터 : 바위 , 사용자 : 가위\n",
      "결과 : 사용자가 패배했습니다.\n"
     ]
    }
   ],
   "source": [
    "##### Quia 가위바위보 게임\n",
    "\n",
    "import random\n",
    "\n",
    "user = input(\"가위, 바위, 보 중 하나를 입력하세요 : \")\n",
    "n = random.randint(0, 2)\n",
    "mesg1 = \"비겼습니다.\"\n",
    "mesg2 = \"사용자가 승리했습니다.\"\n",
    "mesg3 = \"사용자가 패배했습니다.\"\n",
    "\n",
    "if n == 0 :\n",
    "    computer = '가위'\n",
    "    if user == '가위' :\n",
    "        mesg = mesg1\n",
    "    elif user == '바위' :\n",
    "        mesg = mesg2\n",
    "    else :\n",
    "        mesg = mesg3\n",
    "elif n == 1 :\n",
    "    computer = '바위'\n",
    "    if user == '가위' :\n",
    "        mesg = mesg3\n",
    "    elif user == '바위' :\n",
    "        mesg = mesg1\n",
    "    else :\n",
    "        mesg = mesg2\n",
    "else :\n",
    "    computer = '보'\n",
    "    if user == '가위' :\n",
    "        mesg = mesg2\n",
    "    elif user == '바위' :\n",
    "        mesg = mesg3\n",
    "    else :\n",
    "        mesg = mesg1\n",
    "\n",
    "print('컴퓨터 :', computer, ', 사용자 :', user)\n",
    "print('결과 :', mesg)"
   ]
  },
  {
   "cell_type": "code",
   "execution_count": 77,
   "id": "e5923464",
   "metadata": {},
   "outputs": [
    {
     "name": "stdout",
     "output_type": "stream",
     "text": [
      "가위, 바위, 보 중 하나를 입력 : 가위\n",
      "컴퓨터 : 보 , 사용자 : 가위\n",
      "결과 : 사용자 승리\n"
     ]
    }
   ],
   "source": [
    "import random \n",
    "game = {0:'가위', 1:'바위', 2:'보'}\n",
    "computer = game.get(random.randint(0, 2))\n",
    "\n",
    "user = input(\"가위, 바위, 보 중 하나를 입력 : \")\n",
    "result = \"\"\n",
    "\n",
    "if user == computer :\n",
    "    result = '무승부'\n",
    "elif (user == '가위' and computer == '보') or (user == '바위' and computer == '가위') or (user == '보' and computer == '주먹') :\n",
    "    result = '사용자 승리'\n",
    "elif (user == '가위' and computer == '바위') or (user == '바위' and computer == '보') or (user == '보' and computer == '가위') :\n",
    "    result = '사용자 패배'\n",
    "else :\n",
    "    result = '오류'\n",
    "print('컴퓨터 :', computer, \", 사용자 :\", user)\n",
    "print('결과 :', result)"
   ]
  },
  {
   "cell_type": "markdown",
   "id": "4ff3b35f",
   "metadata": {},
   "source": [
    "## 3. 반복문\n",
    "\n",
    "### (1) while\n",
    "    while 조건식 : \n",
    "    코드\n",
    "    ..."
   ]
  },
  {
   "cell_type": "code",
   "execution_count": 59,
   "id": "986b87f5",
   "metadata": {},
   "outputs": [
    {
     "name": "stdout",
     "output_type": "stream",
     "text": [
      "**********\n",
      "**********\n",
      "-------------------------------\n",
      "**********"
     ]
    }
   ],
   "source": [
    "# *을 10개 출력\n",
    "print(\"**********\")\n",
    "print(\"*\" * 10)\n",
    "\n",
    "print(\"-------------------------------\")\n",
    "\n",
    "cnt = 0\n",
    "while cnt < 10 :\n",
    "    print(\"*\", end = \"\") # end 출력문 뒤 처리 옵션\n",
    "    cnt += 1"
   ]
  },
  {
   "cell_type": "code",
   "execution_count": 75,
   "id": "89ab8e53",
   "metadata": {},
   "outputs": [
    {
     "name": "stdout",
     "output_type": "stream",
     "text": [
      "55\n"
     ]
    }
   ],
   "source": [
    "# 1부터 10까지의 합계 : 55\n",
    "\n",
    "cnt = 0\n",
    "sum = 0\n",
    "\n",
    "while cnt < 11 :\n",
    "    sum += cnt\n",
    "    cnt += 1\n",
    "    \n",
    "print(sum)"
   ]
  },
  {
   "cell_type": "markdown",
   "id": "ba969f7b",
   "metadata": {},
   "source": [
    "### (2) for\n",
    "    for 변수 in 집합 자료형 : \n",
    "    코드\n",
    "    ..."
   ]
  },
  {
   "cell_type": "code",
   "execution_count": 79,
   "id": "550d1d96",
   "metadata": {},
   "outputs": [
    {
     "name": "stdout",
     "output_type": "stream",
     "text": [
      "10\n",
      "20\n",
      "홍길동\n",
      "3.14\n",
      "True\n",
      "-----------------------\n",
      "10\n",
      "20\n",
      "홍길동\n",
      "3.14\n",
      "True\n",
      "-----------------------\n",
      "**********"
     ]
    }
   ],
   "source": [
    "data = [10, 20, \"홍길동\", 3.14, True]\n",
    "\n",
    "cnt = 0\n",
    "while cnt < len(data) :\n",
    "    print(data[cnt])\n",
    "    cnt += 1\n",
    "\n",
    "print(\"-----------------------\")\n",
    "\n",
    "for v in data :\n",
    "    print(v)\n",
    "    \n",
    "print(\"-----------------------\")\n",
    "\n",
    "for v in range(10) :\n",
    "    print(\"*\", end=\"\")"
   ]
  },
  {
   "cell_type": "markdown",
   "id": "e9a547be",
   "metadata": {},
   "source": [
    "### (3) 반복문의 강제 종료\n",
    "\n",
    "- break : 즉시 종료\n",
    "- continue : 일시적으로 종료"
   ]
  },
  {
   "cell_type": "markdown",
   "id": "64982953",
   "metadata": {},
   "source": [
    "### (4) 반복문의 중첩"
   ]
  },
  {
   "cell_type": "code",
   "execution_count": 1,
   "id": "a9d948bf",
   "metadata": {},
   "outputs": [
    {
     "name": "stdout",
     "output_type": "stream",
     "text": [
      "**********\n",
      "**********\n",
      "**********\n"
     ]
    }
   ],
   "source": [
    "\"\"\"\n",
    "**********\n",
    "**********\n",
    "**********\n",
    "\"\"\"\n",
    "\n",
    "for v1 in range(3):\n",
    "    for v2 in range(10):\n",
    "        print(\"*\", end=\"\")\n",
    "    print(\"\")"
   ]
  },
  {
   "cell_type": "code",
   "execution_count": 11,
   "id": "22076a64",
   "metadata": {},
   "outputs": [
    {
     "name": "stdout",
     "output_type": "stream",
     "text": [
      "*\n",
      "**\n",
      "***\n",
      "****\n",
      "*****\n"
     ]
    }
   ],
   "source": [
    "for v1 in range(5):\n",
    "    for v2 in range(v1+1):\n",
    "        print(\"*\", end=\"\")\n",
    "    print(\"\")"
   ]
  },
  {
   "cell_type": "code",
   "execution_count": 40,
   "id": "5c415dc1",
   "metadata": {},
   "outputs": [
    {
     "name": "stdout",
     "output_type": "stream",
     "text": [
      "     *\n",
      "    ***\n",
      "   *****\n",
      "  *******\n",
      " *********\n"
     ]
    }
   ],
   "source": [
    "for v1 in range(5):\n",
    "    print(\" \"*(5-v1), end=\"\")\n",
    "    for v2 in range((v1+1)*2-1):\n",
    "        print(\"*\", end=\"\")\n",
    "    print(\"\")"
   ]
  },
  {
   "cell_type": "markdown",
   "id": "4ab988a3",
   "metadata": {},
   "source": [
    "### (5) List Comprehension"
   ]
  },
  {
   "cell_type": "code",
   "execution_count": 16,
   "id": "26b1995e",
   "metadata": {},
   "outputs": [
    {
     "name": "stdout",
     "output_type": "stream",
     "text": [
      "[0, 1, 2, 3, 4, 5, 6, 7, 8, 9]\n"
     ]
    }
   ],
   "source": [
    "result = []\n",
    "\n",
    "for i in range(10):\n",
    "    result.append(i)\n",
    "\n",
    "print(result)"
   ]
  },
  {
   "cell_type": "code",
   "execution_count": 25,
   "id": "f2780ddd",
   "metadata": {},
   "outputs": [
    {
     "name": "stdout",
     "output_type": "stream",
     "text": [
      "[0, 1, 2, 3, 4, 5, 6, 7, 8, 9]\n"
     ]
    }
   ],
   "source": [
    "result = [i for i in range(10)]\n",
    "print(result)"
   ]
  },
  {
   "cell_type": "code",
   "execution_count": 29,
   "id": "2c2dc655",
   "metadata": {},
   "outputs": [
    {
     "name": "stdout",
     "output_type": "stream",
     "text": [
      "[0, 2, 4, 6, 8]\n"
     ]
    }
   ],
   "source": [
    "result = [i for i in range(10) if i % 2 == 0]\n",
    "print(result)"
   ]
  },
  {
   "cell_type": "code",
   "execution_count": 47,
   "id": "a1269aee",
   "metadata": {},
   "outputs": [],
   "source": [
    "c1 = [\"A\", \"B\", \"C\"]\n",
    "c2 = [\"D\", \"E\", \"A\"]"
   ]
  },
  {
   "cell_type": "code",
   "execution_count": 36,
   "id": "e0767310",
   "metadata": {},
   "outputs": [
    {
     "name": "stdout",
     "output_type": "stream",
     "text": [
      "['AD', 'AE', 'AA', 'BD', 'BE', 'BA', 'CD', 'CE', 'CA']\n"
     ]
    }
   ],
   "source": [
    "c = []\n",
    "for a in c1:\n",
    "    for b in c2:\n",
    "        c.append(a+b)\n",
    "print(c)"
   ]
  },
  {
   "cell_type": "code",
   "execution_count": 38,
   "id": "bb32b45d",
   "metadata": {},
   "outputs": [
    {
     "name": "stdout",
     "output_type": "stream",
     "text": [
      "['AD', 'AE', 'AA', 'BD', 'BE', 'BA', 'CD', 'CE', 'CA']\n"
     ]
    }
   ],
   "source": [
    "result = [a+b for a in c1 for b in c2]\n",
    "print(result)"
   ]
  },
  {
   "cell_type": "code",
   "execution_count": 45,
   "id": "eda6ced3",
   "metadata": {},
   "outputs": [
    {
     "name": "stdout",
     "output_type": "stream",
     "text": [
      "['AD', 'AE', 'BD', 'BE', 'BA', 'CD', 'CE', 'CA']\n"
     ]
    }
   ],
   "source": [
    "c = []\n",
    "for a in c1:\n",
    "    for b in c2:\n",
    "        if a != b:\n",
    "            c.append(a+b)\n",
    "print(c)"
   ]
  },
  {
   "cell_type": "code",
   "execution_count": 50,
   "id": "d40c5641",
   "metadata": {},
   "outputs": [
    {
     "name": "stdout",
     "output_type": "stream",
     "text": [
      "['AD', 'AE', 'BD', 'BE', 'BA', 'CD', 'CE', 'CA']\n",
      "['AD', 'AE', 'BD', 'BE', 'BA', 'CD', 'CE', 'CA']\n"
     ]
    }
   ],
   "source": [
    "result = [a+b for a in c1 for b in c2 if a != b]\n",
    "print(result)\n",
    "\n",
    "result = [a+b for a in c1 for b in c2 if not a == b]\n",
    "print(result)"
   ]
  },
  {
   "cell_type": "markdown",
   "id": "33b691e8",
   "metadata": {},
   "source": [
    "# 과제"
   ]
  },
  {
   "cell_type": "code",
   "execution_count": null,
   "id": "f4336e58",
   "metadata": {},
   "outputs": [],
   "source": [
    "### 정삼각형 * 출력하기\n",
    "\n",
    "for v1 in range(5):\n",
    "    print(\" \"*(5-v1), end=\"\")\n",
    "    for v2 in range((v1+1)*2-1):\n",
    "        print(\"*\", end=\"\")\n",
    "    print(\"\")"
   ]
  },
  {
   "cell_type": "code",
   "execution_count": 75,
   "id": "2b3ad341",
   "metadata": {},
   "outputs": [
    {
     "name": "stdout",
     "output_type": "stream",
     "text": [
      "['AD', 'AE', 'BD', 'BE', 'BA', 'CD', 'CE', 'CA']\n",
      "[['AD', 'AE', 'AA'], ['BD', 'BE', 'BA'], ['CD', 'CE', 'CA']]\n",
      "[['AD', 'AE', 'AA'], ['BD', 'BE', 'BA'], ['CD', 'CE', 'CA']]\n"
     ]
    }
   ],
   "source": [
    "### [['AD', 'AE', 'AA'], ['BD', 'BE', 'BA'], ['CD', 'CE', 'CA']]\n",
    "\n",
    "result = [a+b for a in c1 for b in c2 if not a == b]\n",
    "print(result)\n",
    "\n",
    "c = []\n",
    "for a in c1:\n",
    "    cList = []\n",
    "    for b in c2:\n",
    "        cList.append(a+b)\n",
    "    c.append(cList)\n",
    "print(c)\n",
    "\n",
    "c = [[a+b for b in c2] for a in c1]\n",
    "print(c)"
   ]
  },
  {
   "cell_type": "code",
   "execution_count": 77,
   "id": "816486b9",
   "metadata": {},
   "outputs": [
    {
     "name": "stdout",
     "output_type": "stream",
     "text": [
      "['Some', 'Where', 'Over', 'the', 'Rainbow', 'Way', 'up', 'high']\n",
      "['SOME', 'some', 4]\n",
      "['WHERE', 'where', 5]\n",
      "['OVER', 'over', 4]\n",
      "['THE', 'the', 3]\n",
      "['RAINBOW', 'rainbow', 7]\n",
      "['WAY', 'way', 3]\n",
      "['UP', 'up', 2]\n",
      "['HIGH', 'high', 4]\n",
      "------------------------------\n",
      "[['SOME', 'some', 4], ['WHERE', 'where', 5], ['OVER', 'over', 4], ['THE', 'the', 3], ['RAINBOW', 'rainbow', 7], ['WAY', 'way', 3], ['UP', 'up', 2], ['HIGH', 'high', 4]]\n"
     ]
    }
   ],
   "source": [
    "# words를 각 단어별로 대문자, 소문자로 바꾸고 글자수 구하기\n",
    "\n",
    "words = \"Some Where Over the Rainbow Way up high\"\n",
    "\n",
    "\"\"\"\n",
    "['SOME', 'some', 4]\n",
    "['WHERE', 'where', 5]\n",
    "[...]\n",
    "...\n",
    "\"\"\"\n",
    "\n",
    "words_split = words.split(\" \")\n",
    "print(words_split)\n",
    "\n",
    "\n",
    "for word in words_split:\n",
    "    wordList=[]\n",
    "    wordList.append(word.upper())\n",
    "    wordList.append(word.lower())\n",
    "    wordList.append(len(word))\n",
    "    print(wordList)\n",
    "\n",
    "print(\"------------------------------\")\n",
    "\n",
    "wordList = [[word.upper(), word.lower(), len(word)] for word in words_split]\n",
    "print(wordList)"
   ]
  },
  {
   "cell_type": "code",
   "execution_count": null,
   "id": "0e9cbdd1",
   "metadata": {},
   "outputs": [],
   "source": [
    "# 전자 계산기 프로그램 업그레이드\n",
    "\n",
    "user = \"\"\n",
    "print(\"***전자 계산기 프로그램***\")\n",
    "\n",
    "while True:\n",
    "    print(\"연산자(+, -, *, /, %, // 중 하나)를 입력하세요.\")\n",
    "    op = input(\"# 연산자 :\")\n",
    "    print(\"\\n숫자를 입력하세요.\")\n",
    "    num1 = input(\"# 숫자1 :\")\n",
    "    num2 = input(\"# 숫자2 :\")\n",
    "    \n",
    "    if op not in ['+', '-', '*', '/', '%', '//']:\n",
    "        print(op, num1, num2)\n",
    "        continue\n",
    "    else:\n",
    "        num1 = float(num1)\n",
    "        num2 = float(num2)\n",
    "        if op == '+' :\n",
    "            result = num1 + num2\n",
    "        elif op == '-' :\n",
    "            result = num1 - num2\n",
    "        elif op == '*' :\n",
    "            result = num1*num2\n",
    "        elif op == '/' and num2 != 0:\n",
    "            result = num1/num2\n",
    "        elif op == '%' and num2 != 0:\n",
    "            result = num1%num2\n",
    "        elif op == '//' and num2 != 0:\n",
    "            result = num1//num2\n",
    "        else :\n",
    "            result = '연산불가'\n",
    "        print(\"\\n결과 : \", num1, op, num2, '=', result)\n",
    "        user = input(\"종료를 원하시면 x를 입력하세요. \")\n",
    "        if user == 'x':\n",
    "            break\n",
    "        else:\n",
    "            print(\"\")\n",
    "            continue"
   ]
  },
  {
   "cell_type": "code",
   "execution_count": null,
   "id": "067cb97a",
   "metadata": {},
   "outputs": [],
   "source": [
    "# 가위바위보 업그레이드\n",
    "\n",
    "import random\n",
    "game = {0:'가위', 1:'바위', 2:'보'}\n",
    "victory = 0\n",
    "lose = 0\n",
    "draw = 0\n",
    "while True:\n",
    "\n",
    "    computer = game.get(random.randint(0, 2))\n",
    "\n",
    "    print(\"************************************************\")\n",
    "    user = input(\"가위, 바위, 보 중 하나를 입력 : \")\n",
    "    \n",
    "    if user not in ['가위', '바위', '보']:\n",
    "        continue\n",
    "    \n",
    "    result = \"\"\n",
    "\n",
    "    if user == computer :\n",
    "        result = '무승부'\n",
    "        draw += 1\n",
    "    elif (user == '가위' and computer == '보') or (user == '바위' and computer == '가위') or (user == '보' and computer == '주먹') :\n",
    "        result = '사용자 승리'\n",
    "        victory += 1\n",
    "    elif (user == '가위' and computer == '바위') or (user == '바위' and computer == '보') or (user == '보' and computer == '가위') :\n",
    "        result = '사용자 패배'\n",
    "        lose += 1\n",
    "    else :\n",
    "        result = '오류'\n",
    "        \n",
    "    print(\"\\n--------------------이번판---------------------\")\n",
    "    print('컴퓨터 :', computer, \", 사용자 :\", user)\n",
    "    print('결과 :', result)\n",
    "    \n",
    "    print(\"\\n---------------------결산----------------------\")\n",
    "    print('승리 :', victory, '패배 :', lose, '무승부 :', draw)\n",
    "    \n",
    "    end = input(\"끝내시려면 x 혹은 q를 입력하세요.\")\n",
    "    print(\"\")\n",
    "    if end in ('x', 'q'):\n",
    "        break"
   ]
  },
  {
   "cell_type": "code",
   "execution_count": 25,
   "id": "0e899a4c",
   "metadata": {},
   "outputs": [
    {
     "name": "stdout",
     "output_type": "stream",
     "text": [
      "숫자 1: 10\n",
      "숫자 2: 385\n",
      "숫자 3: 15\n",
      "숫자 4: 62\n",
      "숫자 5: 0\n",
      "짝수합 : 72 홀수합 : 400\n"
     ]
    }
   ],
   "source": [
    "# 숫자 입력 받아 짝수끼리, 홀수끼리 더하여 출력\n",
    "\n",
    "even = 0\n",
    "odd = 0\n",
    "i = 0\n",
    "num = []\n",
    "\n",
    "while True:\n",
    "    print('숫자', i+1, end = \": \")\n",
    "    num.append(int(input()))\n",
    "    if num[i] == 0:\n",
    "        break\n",
    "    if num[i]%2 == 0:\n",
    "        even += num[i]\n",
    "    else:\n",
    "        odd += num[i]\n",
    "    i += 1\n",
    "print('짝수합 :', even, '홀수합 :', odd)\n"
   ]
  },
  {
   "cell_type": "code",
   "execution_count": 53,
   "id": "8f24db0a",
   "metadata": {},
   "outputs": [
    {
     "name": "stdout",
     "output_type": "stream",
     "text": [
      "♠♤♠♤♠숫자 맞히기 게임♠♤♠♤♠\n",
      "----기회는 5번, 숫자는 1부터 100----\n",
      "\n",
      "숫자를 맞혀보세요 : 50\n",
      "\n",
      "틀렸습니다...\n",
      "정답보다 작습니다.\n",
      "정답과 10 이상의 차이가 납니다.\n",
      "숫자를 맞혀보세요 : 85\n",
      "\n",
      "틀렸습니다...\n",
      "정답보다 작습니다.\n",
      "정답과 10 미만의 차이가 납니다.\n",
      "숫자를 맞혀보세요 : 90\n",
      "\n",
      "틀렸습니다...\n",
      "정답보다 큽니다.\n",
      "정답과 10 미만의 차이가 납니다.\n",
      "숫자를 맞혀보세요 : 87\n",
      "\n",
      "틀렸습니다...\n",
      "정답보다 작습니다.\n",
      "정답과 10 미만의 차이가 납니다.\n",
      "숫자를 맞혀보세요 : 89\n",
      "\n",
      "★정답입니다!★\n",
      "\n",
      "정답은 89 입니다. 4번 시도했습니다\n"
     ]
    }
   ],
   "source": [
    "# 숫자 맞히기 게임\n",
    "\n",
    "import random\n",
    "\n",
    "number = random.randint(1, 100)\n",
    "temp = 0\n",
    "\n",
    "print(\"♠♤♠♤♠숫자 맞히기 게임♠♤♠♤♠\")\n",
    "print(\"----기회는 5번, 숫자는 1부터 100----\\n\")\n",
    "\n",
    "while temp < 5:\n",
    "    guess = int(input(\"숫자를 맞혀보세요 : \"))\n",
    "    \n",
    "    if number == guess:\n",
    "        print(\"\\n★정답입니다!★\")\n",
    "        break\n",
    "    else:\n",
    "        print(\"\\n틀렸습니다...\")\n",
    "        if guess < number:\n",
    "            print(\"정답보다 작습니다.\")\n",
    "        else:\n",
    "            print(\"정답보다 큽니다.\")\n",
    "        if abs(guess - number) >= 10:\n",
    "            print(\"정답과 10 이상의 차이가 납니다.\")\n",
    "        else:\n",
    "            print(\"정답과 10 미만의 차이가 납니다.\")\n",
    "    temp += 1\n",
    "\n",
    "print('\\n정답은 %d 입니다. %d번 시도했습니다'%(number, temp))"
   ]
  },
  {
   "cell_type": "code",
   "execution_count": 1,
   "id": "d864253c",
   "metadata": {},
   "outputs": [
    {
     "name": "stdout",
     "output_type": "stream",
     "text": [
      "친구 관리 프로그램\n",
      "====================\n",
      "1. 친구 리스트 출력\n",
      "2. 친구 추가\n",
      "3. 친구 삭제\n",
      "4. 이름 변경\n",
      "9. 종료\n",
      "메뉴를 선택 :2\n",
      "▶이름을 입력 :김민수\n",
      "--------------------\n",
      "1. 친구 리스트 출력\n",
      "2. 친구 추가\n",
      "3. 친구 삭제\n",
      "4. 이름 변경\n",
      "9. 종료\n",
      "메뉴를 선택 :2\n",
      "▶이름을 입력 :임영철\n",
      "--------------------\n",
      "1. 친구 리스트 출력\n",
      "2. 친구 추가\n",
      "3. 친구 삭제\n",
      "4. 이름 변경\n",
      "9. 종료\n",
      "메뉴를 선택 :4\n",
      "▶변경할 이름 선택 :김민수\n",
      "▶변경하고 싶은 이름 입력 :김철수\n",
      "--------------------\n",
      "1. 친구 리스트 출력\n",
      "2. 친구 추가\n",
      "3. 친구 삭제\n",
      "4. 이름 변경\n",
      "9. 종료\n",
      "메뉴를 선택 :1\n",
      "♥ ['김철수', '임영철']\n",
      "--------------------\n",
      "1. 친구 리스트 출력\n",
      "2. 친구 추가\n",
      "3. 친구 삭제\n",
      "4. 이름 변경\n",
      "9. 종료\n",
      "메뉴를 선택 :9\n"
     ]
    }
   ],
   "source": [
    "# 친구 관리 프로그램\n",
    "\n",
    "def line(cnt=20, deco=\"=\"):\n",
    "    for i in range(cnt):\n",
    "        print(deco, end=\"\")\n",
    "    print(\"\")\n",
    "\n",
    "def empty():\n",
    "    print(\"※친구 목록이 비었습니다.\")\n",
    "    \n",
    "print(\"친구 관리 프로그램\")\n",
    "line()\n",
    "\n",
    "friends = []\n",
    "\n",
    "while True:\n",
    "    print(\"1. 친구 리스트 출력\")\n",
    "    print(\"2. 친구 추가\")\n",
    "    print(\"3. 친구 삭제\")\n",
    "    print(\"4. 이름 변경\")\n",
    "    print(\"9. 종료\")\n",
    "    menu = input(\"메뉴를 선택 :\")\n",
    "    if menu == '1':\n",
    "        print('♥',friends)\n",
    "    elif menu == '2':\n",
    "        friends.append(input(\"▶이름을 입력 :\"))\n",
    "    elif menu == '3':\n",
    "        if friends == []:empty()\n",
    "        else:\n",
    "            friend = input(\"▶삭제할 이름 입력 :\")\n",
    "            if friend not in friends:\n",
    "                print(\"해당 친구를 찾지 못했습니다.\")\n",
    "            else:\n",
    "                friends.remove(friend)\n",
    "    elif menu == '4':\n",
    "        if friends == []:empty()\n",
    "        else:\n",
    "            friend = input(\"▶변경할 이름 선택 :\")\n",
    "            if friend not in friends:\n",
    "                print(\"해당 친구를 찾지 못했습니다.\")\n",
    "            else:\n",
    "                friendNew = input(\"▶변경하고 싶은 이름 입력 :\")\n",
    "                for i in range(len(friends)):\n",
    "                    if friends[i] == friend:\n",
    "                        friends[i] = friendNew\n",
    "    elif menu == '9':\n",
    "        break\n",
    "    else:\n",
    "        print(\"※메뉴(1, 2, 3, 4, 9) 중 선택하여 입력해 주세요.\")\n",
    "    line(deco='-')"
   ]
  },
  {
   "cell_type": "code",
   "execution_count": 4,
   "id": "549575cb",
   "metadata": {},
   "outputs": [
    {
     "name": "stdout",
     "output_type": "stream",
     "text": [
      "22\n"
     ]
    }
   ],
   "source": []
  },
  {
   "cell_type": "code",
   "execution_count": null,
   "id": "20ef2ec4",
   "metadata": {},
   "outputs": [],
   "source": []
  },
  {
   "cell_type": "code",
   "execution_count": null,
   "id": "0fe56711",
   "metadata": {},
   "outputs": [],
   "source": []
  },
  {
   "cell_type": "code",
   "execution_count": null,
   "id": "9fa39dc3",
   "metadata": {},
   "outputs": [],
   "source": []
  },
  {
   "cell_type": "code",
   "execution_count": null,
   "id": "39ee9d42",
   "metadata": {},
   "outputs": [],
   "source": []
  }
 ],
 "metadata": {
  "kernelspec": {
   "display_name": "Python 3 (ipykernel)",
   "language": "python",
   "name": "python3"
  },
  "language_info": {
   "codemirror_mode": {
    "name": "ipython",
    "version": 3
   },
   "file_extension": ".py",
   "mimetype": "text/x-python",
   "name": "python",
   "nbconvert_exporter": "python",
   "pygments_lexer": "ipython3",
   "version": "3.9.12"
  }
 },
 "nbformat": 4,
 "nbformat_minor": 5
}
