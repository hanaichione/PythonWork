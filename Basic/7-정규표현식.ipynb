{
 "cells": [
  {
   "cell_type": "markdown",
   "id": "19385d20",
   "metadata": {},
   "source": [
    "- Regular Expression\n",
    "- 특정한 패턴과 일치하는 문자열을 \"검색\", \"치환\", \"제거\" 하는 기능을 지원\n",
    "- https://docs.python.org/3.9/library/re.html"
   ]
  },
  {
   "cell_type": "markdown",
   "id": "b7527eb6",
   "metadata": {},
   "source": [
    "### (1) 반복\n",
    "\n",
    "    - * : 0회 이상\n",
    "        ab* : a, ab, abb, abbb, ...\n",
    "        lo*l : ll, lol, lool, loool, ...\n",
    "        \n",
    "    - + : 1회 이상\n",
    "        ab+ : ab, abb, abbb, ...\n",
    "        \n",
    "    - ? : 0회 또는 1\n",
    "        ab? : a, ab\n",
    "        \n",
    "    - {m} : m회 반복\n",
    "        a{3}bc : aaabc\n",
    "        \n",
    "    - {m, n} : m회부터 n회까지 반복\n",
    "        a[2,4]bc : aabc, aaabc, aaaabc\n",
    "            - [2, 4]처럼 공백 불가\n",
    "            \n",
    "\n",
    "### (2) 매칭\n",
    "\n",
    "    . : 줄바꿈 문자를 제외한 모든 문자와 매치\n",
    "        a.b : a_b, aab, abb, acb, adb, a1b, ...\n",
    "        \n",
    "    ^ : 문자열의 시작과 매치\n",
    "        ^abc : 앞에 반드시 a로 시작, 하나만 가능 abc\n",
    "        ^(abc) : 반드시 abc로 시작 abc ...\n",
    "        \n",
    "    $ : 문자열의 마지막과 매치\n",
    "        ...$a : 가나다a, qkqa\n",
    "        \n",
    "    [] : 문자 집합 중 한 문자와 매치\n",
    "        [abc]xyz : axyz, bxyz, cxyz\n",
    "        [a-z] #부터 까지 한문자 : abc, bbc, cbc, ... zbc\n",
    "        a[.]b : a.b []안의 '.'은 그냥 '.'\n",
    "        [abc.^]z : az, bz, cz, .z, ^z\n",
    "        [^abc]d : ad, bd, cd를 제외한 나머지 문자, 즉 dd, ed, fd, gd\n",
    "        [0-9]abc : 0abc, 1abc, 2abc, 3abc...9abc\n",
    "        [^0-9]abc : 숫자를 제외한 abc\n",
    "        [a-zA-Z0-9]hello : 알파벳 대소문자, 숫자 모두 가능, ahello, Ahello, 0hello, ...\n",
    "        \n",
    "\n",
    "## (3) 특수문자(\\문자)\n",
    "\n",
    "    \\d : decimal, 모든 숫자와 매치\n",
    "        ab\\d\\dc : ab00c, ab01c, ...\n",
    "        ab[0-9][0-9]c 와 동일\n",
    "     \n",
    "    \\D : 숫자가 아닌 문자와 매치\n",
    "    \n",
    "    \\s : 공백 문자와 매치\n",
    "    \n",
    "    \\S : 공백 문자를 제외한 모든 문자와 매치\n",
    "    \n",
    "    \\w : 숫자 또는 문자와 매치\n",
    "    \n",
    "    \\W : 숫자 또는 문자가 아닌 모든 문자와 매치\n",
    "    \n",
    "## (4) 파이썬에서 제공하는 정규 표현식 API\n",
    "    \n",
    "    - compile() : 정규 표현식 객체 생성\n",
    "    - match() : 문자열의 처음부터 정규식과 매치되는지를 조사\n",
    "    - search() : 문자열 전체를 검색하여 정규식과 매치되는지를 조사\n",
    "    - findall() : 정규식과 매치되는 모든 문자열을 리스트로 리턴\n",
    "    - finditer() : 정규식과 매치되는 모든 문자열을 반복 가능한 객체로 리턴\n",
    "    - split() : 문자열 분리\n",
    "    - sub() : 변경(교체)\n",
    "    - ..."
   ]
  },
  {
   "cell_type": "code",
   "execution_count": 2,
   "id": "a27e457b",
   "metadata": {},
   "outputs": [],
   "source": [
    "import re #regular experession"
   ]
  },
  {
   "cell_type": "code",
   "execution_count": 14,
   "id": "8135a3af",
   "metadata": {},
   "outputs": [
    {
     "name": "stdout",
     "output_type": "stream",
     "text": [
      "True\n",
      "False\n",
      "<re.Match object; span=(5, 26), match='9 akldsfwe aldksfajds'>\n",
      "None\n"
     ]
    },
    {
     "data": {
      "text/plain": [
       "<re.Match object; span=(0, 35), match='3 adslkfajsdf aopsejdfkajfdsklnlcan'>"
      ]
     },
     "execution_count": 14,
     "metadata": {},
     "output_type": "execute_result"
    }
   ],
   "source": [
    "##### 객체를 생성해서 사용하는 방법\n",
    "p = re.compile(\"[0-9] [a-z]+ .+\")\n",
    "print(bool(p.match(\"3 adlfsdfasj asdfioea;\"))) # 해당 문자열을 찾았으므로 True\n",
    "print(bool(p.match(\"akef 9 akldsfwe aldksfajds\"))) # 문자열의 처음부터 검사하기 때문에 뒤에가 맞아도 안 맞으면 빠꾸\n",
    "print(p.search(\"akef 9 akldsfwe aldksfajds\")) # search는 문자열 전체 중 매치되는 부분 찾음\n",
    "print(p.match(\"dfafdsfsasdf afdf adfewa\")) # None, 매치되지 않아 객체가 생성되지 않음! \n",
    "\n",
    "##### 바로 함수를 사용하는 방법\n",
    "re.match(\"[0-9] [a-z]+ .+\", \"3 adslkfajsdf aopsejdfkajfdsklnlcan\")"
   ]
  },
  {
   "cell_type": "code",
   "execution_count": 3,
   "id": "31498dd9",
   "metadata": {},
   "outputs": [
    {
     "name": "stdout",
     "output_type": "stream",
     "text": [
      "<re.Match object; span=(25, 37), match='010-111-1111'>\n",
      "<re.Match object; span=(25, 37), match='010-111-1111'>\n"
     ]
    }
   ],
   "source": [
    "##### 전화번호와 매칭되는 패턴 작성\n",
    "data = \"안녕하세요. 내 나이는 20살이고 전화번호는 010-111-1111입니다. 어쩌구...\"\n",
    "print(re.search(\"[0-9][0-9][0-9]-[0-9][0-9][0-9]-[0-9][0-9][0-9][0-9]\", data))\n",
    "print(re.search(\"\\d\\d\\d-\\d\\d\\d-\\d\\d\\d\\d\", data))\n",
    "phone = re.search(\"\\d{3}-\\d{3}-\\d{4}\", data)"
   ]
  },
  {
   "cell_type": "code",
   "execution_count": 28,
   "id": "9c8b713b",
   "metadata": {},
   "outputs": [
    {
     "name": "stdout",
     "output_type": "stream",
     "text": [
      "010-111-1111\n",
      "25\n",
      "37\n",
      "(25, 37)\n"
     ]
    }
   ],
   "source": [
    "print(phone.group(0))\n",
    "# print(phone.group(1)) # 찾은 게 하나밖에 없으므로 no such group 오류 발생\n",
    "print(phone.start()) # 찾고 싶은 문자열의 위치\n",
    "print(phone.end())\n",
    "print(phone.span())"
   ]
  },
  {
   "cell_type": "code",
   "execution_count": 24,
   "id": "a2fab2ca",
   "metadata": {},
   "outputs": [],
   "source": [
    "?phone.group"
   ]
  },
  {
   "cell_type": "code",
   "execution_count": 4,
   "id": "faea804b",
   "metadata": {},
   "outputs": [
    {
     "name": "stdout",
     "output_type": "stream",
     "text": [
      "\n",
      "park 800905-*******\n",
      "kim 700905-*******\n",
      "\n",
      "\n",
      "park 800905-800905\n",
      "kim 700905-700905\n",
      "\n"
     ]
    }
   ],
   "source": [
    "data = \"\"\"\n",
    "park 800905-1049118\n",
    "kim 700905-1059119\n",
    "\"\"\"\n",
    "\n",
    "pat = re.compile(\"(\\d{6})-(\\d{7})\")\n",
    "print(pat.sub(\"\\g<1>-*******\", data)) # 매치된 문자열 중 첫번째 그룹 \\g<1>"
   ]
  },
  {
   "cell_type": "markdown",
   "id": "2fe38a2a",
   "metadata": {},
   "source": [
    "#### findall(), finditer()"
   ]
  },
  {
   "cell_type": "code",
   "execution_count": 3,
   "id": "cc996547",
   "metadata": {},
   "outputs": [],
   "source": [
    "data = \"life 333 is 222 333 too 10 short\""
   ]
  },
  {
   "cell_type": "code",
   "execution_count": 16,
   "id": "6261c24a",
   "metadata": {},
   "outputs": [
    {
     "name": "stdout",
     "output_type": "stream",
     "text": [
      "<re.Match object; span=(0, 4), match='life'>\n",
      "<re.Match object; span=(0, 4), match='life'>\n",
      "['life', 'is', 'too', 'short']\n",
      "<callable_iterator object at 0x00000208F1D5FF10>\n"
     ]
    }
   ],
   "source": [
    "p = re.compile(\"[a-z]+\")\n",
    "\n",
    "print(p.search(data))\n",
    "print(p.match(data))\n",
    "\n",
    "m = p.findall(data)\n",
    "print(m)\n",
    "\n",
    "m2 = p.finditer(data)\n",
    "print(m2)"
   ]
  },
  {
   "cell_type": "code",
   "execution_count": 17,
   "id": "bf2c6c01",
   "metadata": {},
   "outputs": [
    {
     "name": "stdout",
     "output_type": "stream",
     "text": [
      "<re.Match object; span=(0, 4), match='life'>\n",
      "life\n",
      "<re.Match object; span=(9, 11), match='is'>\n",
      "is\n",
      "<re.Match object; span=(20, 23), match='too'>\n",
      "too\n",
      "<re.Match object; span=(27, 32), match='short'>\n",
      "short\n"
     ]
    }
   ],
   "source": [
    "for i in m2:\n",
    "    print(i)\n",
    "    print(i.group())"
   ]
  },
  {
   "cell_type": "code",
   "execution_count": 20,
   "id": "c8d97a72",
   "metadata": {},
   "outputs": [],
   "source": [
    "data = \"1234 abc가나다ABC_555_6\""
   ]
  },
  {
   "cell_type": "code",
   "execution_count": 29,
   "id": "454c8f7f",
   "metadata": {},
   "outputs": [
    {
     "name": "stdout",
     "output_type": "stream",
     "text": [
      "['1', '2', '3', '4', '5', '5', '5', '6']\n",
      "['1234', '555', '6']\n",
      "['12', '34', '55']\n",
      "['12', '34', '55']\n",
      "['123', '555']\n"
     ]
    }
   ],
   "source": [
    "print(re.findall(\"[0-9]\", data))\n",
    "\n",
    "print(re.findall(\"[0-9]+\", data))\n",
    "\n",
    "print(re.findall(\"\\d\\d\", data))\n",
    "print(re.findall(\"\\d{2}\", data))\n",
    "\n",
    "print(re.findall(\"\\d{2,3}\", data))"
   ]
  },
  {
   "cell_type": "code",
   "execution_count": 55,
   "id": "9591657d",
   "metadata": {},
   "outputs": [],
   "source": [
    "data = \"1234 abc가나다ABC_555_6 mbc air air\""
   ]
  },
  {
   "cell_type": "code",
   "execution_count": 64,
   "id": "050117a0",
   "metadata": {},
   "outputs": [
    {
     "name": "stdout",
     "output_type": "stream",
     "text": [
      "['abc', 'mbc']\n",
      "['abc', 'air', 'air']\n",
      "['air']\n",
      "['1234']\n",
      "['234 abc가나다ABC_555_6 mbc air air']\n"
     ]
    }
   ],
   "source": [
    "# bc로 끝나는 세글자 문자열 : abc, mbc\n",
    "print(re.findall(\"\\Sbc\", data))\n",
    "\n",
    "# a로 시작하는 3글자 : abc, air, air\n",
    "print(re.findall(\"a\\S{2}\", data))\n",
    "\n",
    "# 가장 마지막에 air로 끝나는 문자 : air\n",
    "print(re.findall(\"air$\", data))\n",
    "\n",
    "# 가장 처음에 1로 시작하는 숫자들 : 1234\n",
    "print(re.findall(\"1\\d+\", data))\n",
    "\n",
    "# 1을 뺀 모든 데이터 : \n",
    "print(re.findall(\"[^1]+\", data))"
   ]
  },
  {
   "cell_type": "markdown",
   "id": "20ce4fb3",
   "metadata": {},
   "source": [
    "#### split()"
   ]
  },
  {
   "cell_type": "code",
   "execution_count": 67,
   "id": "5ebd29ca",
   "metadata": {},
   "outputs": [
    {
     "name": "stdout",
     "output_type": "stream",
     "text": [
      "['mbc,kbs', 'sbs:ytn']\n",
      "['mbc', 'kbs', 'sbs', 'ytn']\n",
      "['mbc', 'kbs', 'sbs', 'ytn']\n",
      "['mbc', 'kbs', 'sbs', 'ytn']\n"
     ]
    }
   ],
   "source": [
    "data = \"mbc,kbs sbs:ytn\"\n",
    "\n",
    "print(data.split(\" \"))\n",
    "\n",
    "print(re.findall(\"[a-z]{3}\", data))\n",
    "\n",
    "print(re.split(\",|:| \", data))\n",
    "print(re.split(\"\\W\", data))"
   ]
  },
  {
   "cell_type": "markdown",
   "id": "e5b84704",
   "metadata": {},
   "source": [
    "#### sub()"
   ]
  },
  {
   "cell_type": "code",
   "execution_count": 73,
   "id": "1f3874b9",
   "metadata": {},
   "outputs": [
    {
     "name": "stdout",
     "output_type": "stream",
     "text": [
      "8888 abc가나다ABC_888_8\n",
      "mbc,kbs,sbs,ytn\n"
     ]
    }
   ],
   "source": [
    "data = \"1234 abc가나다ABC_555_6\"\n",
    "\n",
    "# m = re.sub(\"[0-9]+\", \"888\", data)\n",
    "# print(m)\n",
    "\n",
    "m = re.sub(\"[0-9]\", \"8\", data)\n",
    "print(m)\n",
    "\n",
    "data = \"mbc,  kbs sbs :ytn\"\n",
    "\n",
    "m = re.sub(\"\\W+\", \",\", data)\n",
    "print(m)"
   ]
  },
  {
   "cell_type": "markdown",
   "id": "b9dd56d6",
   "metadata": {},
   "source": [
    "#### 컴파일 옵션 : S(or DOTALL), I(or IGNORECASE), M(or MULTILINE)"
   ]
  },
  {
   "cell_type": "code",
   "execution_count": 78,
   "id": "41d566d1",
   "metadata": {},
   "outputs": [
    {
     "name": "stdout",
     "output_type": "stream",
     "text": [
      "<re.Match object; span=(0, 3), match='axb'>\n",
      "<re.Match object; span=(0, 3), match='a+b'>\n",
      "None\n",
      "<re.Match object; span=(0, 3), match='a\\nb'>\n"
     ]
    }
   ],
   "source": [
    "p = re.compile(\"a.b\")\n",
    "\n",
    "m1 = p.match(\"axb is blabla~\")\n",
    "print(m1)\n",
    "\n",
    "m2 = p.match(\"a+b is bla\")\n",
    "print(m2)\n",
    "\n",
    "m3 = p.match(\"a\\nb is bla\")\n",
    "print(m3)\n",
    "\n",
    "# .이 모든 것을 대체할 수 있게 하겠다!! \\n도!!\n",
    "p = re.compile(\"a.b\", re.S)\n",
    "\n",
    "m3 = p.match(\"a\\nb is bla\")\n",
    "print(m3)"
   ]
  },
  {
   "cell_type": "code",
   "execution_count": 83,
   "id": "cce0f876",
   "metadata": {},
   "outputs": [
    {
     "name": "stdout",
     "output_type": "stream",
     "text": [
      "<re.Match object; span=(0, 1), match='p'>\n",
      "<re.Match object; span=(0, 1), match='P'>\n"
     ]
    }
   ],
   "source": [
    "# 대소문자 구분 없이 찾기\n",
    "p = re.compile(\"[a-z]\", re.I)\n",
    "\n",
    "print(p.match(\"python\"))\n",
    "print(p.match(\"Python\"))"
   ]
  },
  {
   "cell_type": "code",
   "execution_count": 87,
   "id": "5ae4aecf",
   "metadata": {},
   "outputs": [
    {
     "name": "stdout",
     "output_type": "stream",
     "text": [
      "['python on', 'python two', 'Python three']\n"
     ]
    }
   ],
   "source": [
    "data = \"\"\"\n",
    "python on e life is to short\n",
    "python two you need python\n",
    "Python three I love you\n",
    "\"\"\"\n",
    "\n",
    "# p = re.compile(\"python +[a-z]+\", re.I, re.M) # multiline 쓰면 여러줄 인식, 지금은 자동 인식돼서 무용\n",
    "# p = re.compile(\"[pP]ython +[a-z]+\")\n",
    "p = re.compile(\"^[pP]ython\\s+[a-z]+\", re.M) # 특정 문자로 시작할 경우 여러줄 인식 안 됨\n",
    "\n",
    "print(p.findall(data))"
   ]
  },
  {
   "cell_type": "code",
   "execution_count": 8,
   "id": "fe18736d",
   "metadata": {},
   "outputs": [],
   "source": [
    "news = \"\"\"\n",
    "(로스앤젤레스=연합뉴스) 옥철 특파원 = 팀 쿡 애플 최고경영자(CEO)가 16일(현지시간) 실리콘밸리 앞\n",
    "마당 격인 미국 서부 명문 스탠퍼드대학 학위수여식에서 테크기업들을 향해 쓴소리를 쏟아냈다.쿡은 이\n",
    "날 연설에서 실리콘밸리 테크기업들은 자신들이 만든 혼란에 대한 책임을 질 필요가 있다고 경고했다.\n",
    "근래 IT 업계의 가장 큰 이슈인 개인정보 침해, 사생활 보호 문제를 콕 집어 라이벌인 구글, 페이스북\n",
    "등 IT 공룡을 겨냥한 발언이라는 해석이 나왔다.쿡은 \"최근 실리콘밸리 산업은 고귀한 혁신과는 점점\n",
    "더 거리가 멀어지는 것으로 알려져 있다. 책임을 받아들이지 않고도 신뢰를 얻을 수 있다는 그런 믿음\n",
    "말이다\"라고 꼬집었다.개인정보 유출 사건으로 미 의회 청문회에 줄줄이 불려 나간 경쟁사 CEO들을\n",
    "향해 일침을 가한 것으로 보인다.그는 또 실리콘밸리에서 희대의 사기극을 연출한 바이오벤처 스타트업\n",
    "테라노스(Theranos)를 직격했다.쿡은 \"피 한 방울로 거짓된 기적을 만들 수 있다고 믿었느냐\"면서\n",
    "\"이런 식으로 혼돈의 공장을 만든다면 그 책임에서 절대 벗어날 수 없다\"라고 비난했다.테라노스는\n",
    "손가락 끝을 찔러 극미량의 혈액 샘플만 있으면 각종 의학정보 분석은 물론 거의 모든 질병 진단이\n",
    "가능한 바이오헬스 기술을 개발했다고 속여 월가 큰손들로부터 거액의 투자를 유치했다가 해당 기술이\n",
    "사기인 것으로 드러나 청산한 기업이다.쿡은 애플의 경우 프라이버시(사생활) 보호에 초점을 맞춘\n",
    "새로운 제품 기능들로 경쟁사들에 맞서고 있다며 자사의 데이터 보호 정책을 은근히 홍보하기도 했다.\n",
    "oakchul@yna.co.kr저작권자(c)연합뉴스. 무단전재-재배포금지\n",
    "\"\"\""
   ]
  },
  {
   "cell_type": "code",
   "execution_count": 57,
   "id": "801791d9",
   "metadata": {},
   "outputs": [
    {
     "data": {
      "text/plain": [
       "<re.Match object; span=(779, 796), match='oakchul@yna.co.kr'>"
      ]
     },
     "execution_count": 57,
     "metadata": {},
     "output_type": "execute_result"
    }
   ],
   "source": [
    "import re\n",
    "re.search(\".+@\\S+[.]\\D+[.][a-zA-Z]+\", news)"
   ]
  },
  {
   "cell_type": "code",
   "execution_count": 54,
   "id": "981b947f",
   "metadata": {},
   "outputs": [
    {
     "data": {
      "text/plain": [
       "[True, True, True, False, False, False, True, False]"
      ]
     },
     "execution_count": 54,
     "metadata": {},
     "output_type": "execute_result"
    }
   ],
   "source": [
    "webs = ['http://www.test.co.kr',\n",
    "        'https://www.test1.com',\n",
    "        'http://www.test.com',\n",
    "        'ftp://www.test.com',\n",
    "        'http:://www.test.com',\n",
    "      'htp://www.test.com',\n",
    "      'http://www.google.com',\n",
    "      'https://www.homepage.com.']\n",
    "\n",
    "result =[]\n",
    "\n",
    "for i in webs:\n",
    "    result.append(bool(re.match(\"https?://www[.].+[.]\\w+(?!.)\", i)))\n",
    "    \n",
    "result"
   ]
  }
 ],
 "metadata": {
  "kernelspec": {
   "display_name": "Python 3 (ipykernel)",
   "language": "python",
   "name": "python3"
  },
  "language_info": {
   "codemirror_mode": {
    "name": "ipython",
    "version": 3
   },
   "file_extension": ".py",
   "mimetype": "text/x-python",
   "name": "python",
   "nbconvert_exporter": "python",
   "pygments_lexer": "ipython3",
   "version": "3.9.12"
  }
 },
 "nbformat": 4,
 "nbformat_minor": 5
}
