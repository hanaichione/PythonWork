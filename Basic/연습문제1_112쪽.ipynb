{
 "cells": [
  {
   "cell_type": "code",
   "execution_count": 4,
   "id": "57f44293",
   "metadata": {},
   "outputs": [
    {
     "name": "stdout",
     "output_type": "stream",
     "text": [
      "70.0\n",
      "70.0\n"
     ]
    }
   ],
   "source": [
    "# 1. 홍길동의 평균 점수 구하기\n",
    "kor = 80\n",
    "eng = 75\n",
    "math = 55\n",
    "sum = kor + eng + math\n",
    "avg = sum/3\n",
    "print(avg)\n",
    "\n",
    "grade = [80, 75, 55]\n",
    "sum = grade[0] + grade[1] + grade[2]\n",
    "avg = sum/len(grade)\n",
    "print(avg)"
   ]
  },
  {
   "cell_type": "code",
   "execution_count": 5,
   "id": "5993a817",
   "metadata": {},
   "outputs": [
    {
     "name": "stdout",
     "output_type": "stream",
     "text": [
      "True\n"
     ]
    }
   ],
   "source": [
    "# 2. 자연수 13이 홀수인지 짝수인지 판별할 수 있는 방법\n",
    "num = 13\n",
    "print(bool(13%2))"
   ]
  },
  {
   "cell_type": "code",
   "execution_count": 10,
   "id": "b7f7007a",
   "metadata": {},
   "outputs": [
    {
     "name": "stdout",
     "output_type": "stream",
     "text": [
      "881120\n",
      "1068234\n"
     ]
    }
   ],
   "source": [
    "# 3. 홍길동 씨 주민번호 연월일, 숫자 나눠서\n",
    "pin = '881120-1068234'\n",
    "yyyymmdd = pin[:6]\n",
    "num = pin[7:]\n",
    "print(yyyymmdd)\n",
    "print(num)"
   ]
  },
  {
   "cell_type": "code",
   "execution_count": 12,
   "id": "029d18ef",
   "metadata": {},
   "outputs": [
    {
     "name": "stdout",
     "output_type": "stream",
     "text": [
      "1\n"
     ]
    }
   ],
   "source": [
    "# 4. 성별 나타내는 숫자만 출력\n",
    "pin.index('-') # 6\n",
    "print(pin[7])"
   ]
  },
  {
   "cell_type": "code",
   "execution_count": 13,
   "id": "afcfaec7",
   "metadata": {},
   "outputs": [
    {
     "name": "stdout",
     "output_type": "stream",
     "text": [
      "a#b#c#d\n"
     ]
    }
   ],
   "source": [
    "# 5. a:b:c:d의 :을 #으로\n",
    "a = \"a:b:c:d\"\n",
    "b = a.replace(\":\", \"#\")\n",
    "print(b)"
   ]
  },
  {
   "cell_type": "code",
   "execution_count": 16,
   "id": "4e16dcda",
   "metadata": {},
   "outputs": [
    {
     "name": "stdout",
     "output_type": "stream",
     "text": [
      "[5, 4, 3, 2, 1]\n"
     ]
    }
   ],
   "source": [
    "# 6. [1, 3, 5, 4, 2]를 내림차순 정렬\n",
    "a = [1, 3, 5, 4, 2]\n",
    "a.sort()\n",
    "a.reverse()\n",
    "print(a)"
   ]
  },
  {
   "cell_type": "code",
   "execution_count": 49,
   "id": "406180c3",
   "metadata": {},
   "outputs": [
    {
     "name": "stdout",
     "output_type": "stream",
     "text": [
      "Life is too short\n",
      "Life is too short\n"
     ]
    }
   ],
   "source": [
    "# 7. ['Life', 'is', 'too', 'short']를 문자열로 만들기\n",
    "a = ['Life', 'is', 'too', 'short']\n",
    "result = a[0] + \" \" + a[1] + \" \" + a[2] + \" \" + a[3]\n",
    "print(result)\n",
    "\n",
    "result = \" \".join(a)\n",
    "print(result)"
   ]
  },
  {
   "cell_type": "code",
   "execution_count": 48,
   "id": "a6618aad",
   "metadata": {},
   "outputs": [
    {
     "name": "stdout",
     "output_type": "stream",
     "text": [
      "(1, 2, 3, 4)\n",
      "(1, 2, 3, 4)\n"
     ]
    }
   ],
   "source": [
    "# 8. (1, 2, 3)에 4 추가\n",
    "a = (1, 2, 3)\n",
    "a = list(a)\n",
    "a.append(4)\n",
    "print(tuple(a))\n",
    "\n",
    "a = (1, 2, 3)\n",
    "a += (4,)\n",
    "print(a)"
   ]
  },
  {
   "cell_type": "code",
   "execution_count": 46,
   "id": "e5fa1cc2",
   "metadata": {},
   "outputs": [
    {
     "ename": "TypeError",
     "evalue": "unhashable type: 'list'",
     "output_type": "error",
     "traceback": [
      "\u001b[1;31m---------------------------------------------------------------------------\u001b[0m",
      "\u001b[1;31mTypeError\u001b[0m                                 Traceback (most recent call last)",
      "Input \u001b[1;32mIn [46]\u001b[0m, in \u001b[0;36m<cell line: 8>\u001b[1;34m()\u001b[0m\n\u001b[0;32m      1\u001b[0m \u001b[38;5;66;03m# 9. a = dict()\u001b[39;00m\n\u001b[0;32m      2\u001b[0m \u001b[38;5;66;03m#    a\u001b[39;00m\n\u001b[0;32m      3\u001b[0m \u001b[38;5;66;03m#    {}\u001b[39;00m\n\u001b[0;32m      4\u001b[0m \u001b[38;5;66;03m# 오류 나는 경우 고르기\u001b[39;00m\n\u001b[0;32m      5\u001b[0m \u001b[38;5;66;03m## 2번 a[('a', )] = 'python' 데이터는 여럿이어도 되지만 키값은 하나만 가능 >> 틀림\u001b[39;00m\n\u001b[0;32m      6\u001b[0m \u001b[38;5;66;03m## 3번 a[[1]] = 'python' 키값은 변하는 값을 사용할 수 없음\u001b[39;00m\n\u001b[0;32m      7\u001b[0m a \u001b[38;5;241m=\u001b[39m \u001b[38;5;28mdict\u001b[39m()\n\u001b[1;32m----> 8\u001b[0m a[[\u001b[38;5;241m1\u001b[39m]] \u001b[38;5;241m=\u001b[39m \u001b[38;5;124m'\u001b[39m\u001b[38;5;124mpython\u001b[39m\u001b[38;5;124m'\u001b[39m\n",
      "\u001b[1;31mTypeError\u001b[0m: unhashable type: 'list'"
     ]
    }
   ],
   "source": [
    "# 9. a = dict()\n",
    "#    a\n",
    "#    {}\n",
    "# 오류 나는 경우 고르기\n",
    "## 2번 a[('a', )] = 'python' 데이터는 여럿이어도 되지만 키값은 하나만 가능 >> 틀림\n",
    "## 3번 a[[1]] = 'python' 키값은 변하는 값을 사용할 수 없음\n",
    "a = dict()\n",
    "a[[1]] = 'python'"
   ]
  },
  {
   "cell_type": "code",
   "execution_count": 45,
   "id": "46942d2d",
   "metadata": {},
   "outputs": [
    {
     "name": "stdout",
     "output_type": "stream",
     "text": [
      "{'A': 90, 'B': 80, 'C': 70}\n",
      "80\n",
      "{'A': 90, 'C': 70}\n",
      "80\n"
     ]
    }
   ],
   "source": [
    "# 10. 딕셔너리에서 'B'에 해당되는 값 추출\n",
    "a = {'A':90, 'B':80, 'C':70}\n",
    "result = a['B']\n",
    "print(a)\n",
    "print(result)\n",
    "\n",
    "a = {'A':90, 'B':80, 'C':70}\n",
    "result = a.pop('B')\n",
    "print(a)\n",
    "print(result)"
   ]
  },
  {
   "cell_type": "code",
   "execution_count": 6,
   "id": "a8fe4783",
   "metadata": {},
   "outputs": [
    {
     "name": "stdout",
     "output_type": "stream",
     "text": [
      "[1, 2, 3, 4, 5]\n",
      "2\n"
     ]
    }
   ],
   "source": [
    "# 11. 리스트에서 중복 숫자 제거\n",
    "a = [1, 1, 1, 2, 2, 3, 3, 3, 4, 4, 5]\n",
    "aSet = set(a)\n",
    "b = list(aSet)\n",
    "print(b)\n",
    "\n",
    "c = b.pop(b[0])\n",
    "print(c) # 2"
   ]
  },
  {
   "cell_type": "code",
   "execution_count": 44,
   "id": "570b14da",
   "metadata": {},
   "outputs": [
    {
     "name": "stdout",
     "output_type": "stream",
     "text": [
      "[1, 4, 3]\n"
     ]
    }
   ],
   "source": [
    "# 12. 두 변수 동시 선언 후 하나의 요솟값을 변경하기\n",
    "# 같은 주소이기 때문에 b도 바뀜\n",
    "a = b = [1,2,3]\n",
    "a[1] = 4\n",
    "print(b)"
   ]
  }
 ],
 "metadata": {
  "kernelspec": {
   "display_name": "Python 3 (ipykernel)",
   "language": "python",
   "name": "python3"
  },
  "language_info": {
   "codemirror_mode": {
    "name": "ipython",
    "version": 3
   },
   "file_extension": ".py",
   "mimetype": "text/x-python",
   "name": "python",
   "nbconvert_exporter": "python",
   "pygments_lexer": "ipython3",
   "version": "3.9.12"
  }
 },
 "nbformat": 4,
 "nbformat_minor": 5
}
