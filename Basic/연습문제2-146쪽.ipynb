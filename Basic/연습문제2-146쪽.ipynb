{
 "cells": [
  {
   "cell_type": "code",
   "execution_count": 1,
   "id": "719c23cf",
   "metadata": {},
   "outputs": [
    {
     "name": "stdout",
     "output_type": "stream",
     "text": [
      "shirt\n"
     ]
    }
   ],
   "source": [
    "# 1. else if 조건문의 결과 : shirt 나올듯\n",
    "\n",
    "a = \"Life is too short, you need python\"\n",
    "\n",
    "if \"wife\" in a : print(\"wife\")\n",
    "elif \"python\" in a and \"you\" not in a : print(\"python\")\n",
    "elif \"shirt\" not in a : print(\"shirt\")\n",
    "elif \"need\" in a : print(\"need\")\n",
    "else : print(\"none\")"
   ]
  },
  {
   "cell_type": "code",
   "execution_count": 7,
   "id": "30868783",
   "metadata": {},
   "outputs": [
    {
     "name": "stdout",
     "output_type": "stream",
     "text": [
      "166833\n"
     ]
    }
   ],
   "source": [
    "# 2. while문 이용, 1~1000까지의 자연 수 중 3의 배수의 합 구하기\n",
    "cnt = 1\n",
    "result = 0\n",
    "while cnt <= 1000 :\n",
    "    if cnt%3 == 0 :\n",
    "        result += cnt\n",
    "    cnt += 1\n",
    "print(result)"
   ]
  },
  {
   "cell_type": "code",
   "execution_count": 12,
   "id": "9ee9e6af",
   "metadata": {},
   "outputs": [
    {
     "name": "stdout",
     "output_type": "stream",
     "text": [
      "*\n",
      "**\n",
      "***\n",
      "****\n",
      "*****\n"
     ]
    }
   ],
   "source": [
    "# 3. while문, 별 표시\n",
    "i=0\n",
    "while True:\n",
    "    i += 1\n",
    "    print(\"*\" * i)\n",
    "    if i == 5:break;"
   ]
  },
  {
   "cell_type": "code",
   "execution_count": 13,
   "id": "c5e9a756",
   "metadata": {},
   "outputs": [
    {
     "name": "stdout",
     "output_type": "stream",
     "text": [
      "1\n",
      "2\n",
      "3\n",
      "4\n",
      "5\n",
      "6\n",
      "7\n",
      "8\n",
      "9\n",
      "10\n",
      "11\n",
      "12\n",
      "13\n",
      "14\n",
      "15\n",
      "16\n",
      "17\n",
      "18\n",
      "19\n",
      "20\n",
      "21\n",
      "22\n",
      "23\n",
      "24\n",
      "25\n",
      "26\n",
      "27\n",
      "28\n",
      "29\n",
      "30\n",
      "31\n",
      "32\n",
      "33\n",
      "34\n",
      "35\n",
      "36\n",
      "37\n",
      "38\n",
      "39\n",
      "40\n",
      "41\n",
      "42\n",
      "43\n",
      "44\n",
      "45\n",
      "46\n",
      "47\n",
      "48\n",
      "49\n",
      "50\n",
      "51\n",
      "52\n",
      "53\n",
      "54\n",
      "55\n",
      "56\n",
      "57\n",
      "58\n",
      "59\n",
      "60\n",
      "61\n",
      "62\n",
      "63\n",
      "64\n",
      "65\n",
      "66\n",
      "67\n",
      "68\n",
      "69\n",
      "70\n",
      "71\n",
      "72\n",
      "73\n",
      "74\n",
      "75\n",
      "76\n",
      "77\n",
      "78\n",
      "79\n",
      "80\n",
      "81\n",
      "82\n",
      "83\n",
      "84\n",
      "85\n",
      "86\n",
      "87\n",
      "88\n",
      "89\n",
      "90\n",
      "91\n",
      "92\n",
      "93\n",
      "94\n",
      "95\n",
      "96\n",
      "97\n",
      "98\n",
      "99\n",
      "100\n"
     ]
    }
   ],
   "source": [
    "# 4. for문 사용 1~100 출력\n",
    "for i in range(1,101):\n",
    "    print(i)"
   ]
  },
  {
   "cell_type": "code",
   "execution_count": 14,
   "id": "9768fb36",
   "metadata": {},
   "outputs": [
    {
     "name": "stdout",
     "output_type": "stream",
     "text": [
      "79.0\n"
     ]
    }
   ],
   "source": [
    "# 5. for문 이용 평균 구하기\n",
    "A = [70, 60, 55, 75, 95, 90, 80, 80, 85, 100]\n",
    "sum = 0\n",
    "for score in A:\n",
    "    sum += score\n",
    "\n",
    "avg = sum/len(A)\n",
    "print(avg)"
   ]
  },
  {
   "cell_type": "code",
   "execution_count": 17,
   "id": "89ac5c44",
   "metadata": {},
   "outputs": [
    {
     "name": "stdout",
     "output_type": "stream",
     "text": [
      "[2, 6, 10]\n"
     ]
    }
   ],
   "source": [
    "# 6. 리스트 중 홀수에만 2를 곱하여 저장하는 코드를 리스트 내포 사용해 표현하기\n",
    "numbers = [1, 2, 3, 4, 5]\n",
    "\n",
    "result = []\n",
    "for n in numbers:\n",
    "    if n%2 == 1:\n",
    "        result.append(n*2)\n",
    "print(result)"
   ]
  },
  {
   "cell_type": "code",
   "execution_count": 18,
   "id": "1d49dc8d",
   "metadata": {},
   "outputs": [
    {
     "name": "stdout",
     "output_type": "stream",
     "text": [
      "[2, 6, 10]\n"
     ]
    }
   ],
   "source": [
    "result = [num*2 for num in numbers if num%2 == 1]\n",
    "print(result)"
   ]
  },
  {
   "cell_type": "code",
   "execution_count": 22,
   "id": "078d3a85",
   "metadata": {},
   "outputs": [
    {
     "name": "stdout",
     "output_type": "stream",
     "text": [
      "['1가', '1나', '1다', '1라', '1마', '1바', '2가', '2나', '2다', '2라', '2마', '2바', '3가', '3나', '3다', '3라', '3마', '3바', '4가', '4나', '4다', '4라', '4마', '4바', '5가', '5나', '5다', '5라', '5마', '5바', '6가', '6나', '6다', '6라', '6마', '6바']\n"
     ]
    }
   ],
   "source": [
    "# 리스트 내포\n",
    "a = ['가','나','다','라','마','바']\n",
    "b = ['1','2','3','4','5','6']\n",
    "result = [x+y for x in b for y in a] # 먼저 위치한 for문이 외부, 다음에 위치한 for문이 내부 반복\n",
    "print(result)"
   ]
  },
  {
   "cell_type": "code",
   "execution_count": null,
   "id": "6f857671",
   "metadata": {},
   "outputs": [],
   "source": []
  },
  {
   "cell_type": "code",
   "execution_count": null,
   "id": "dbd82380",
   "metadata": {},
   "outputs": [],
   "source": []
  },
  {
   "cell_type": "code",
   "execution_count": null,
   "id": "6f118717",
   "metadata": {},
   "outputs": [],
   "source": []
  }
 ],
 "metadata": {
  "kernelspec": {
   "display_name": "Python 3 (ipykernel)",
   "language": "python",
   "name": "python3"
  },
  "language_info": {
   "codemirror_mode": {
    "name": "ipython",
    "version": 3
   },
   "file_extension": ".py",
   "mimetype": "text/x-python",
   "name": "python",
   "nbconvert_exporter": "python",
   "pygments_lexer": "ipython3",
   "version": "3.9.12"
  }
 },
 "nbformat": 4,
 "nbformat_minor": 5
}
