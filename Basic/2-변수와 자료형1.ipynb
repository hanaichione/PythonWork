{
 "cells": [
  {
   "cell_type": "markdown",
   "id": "cc712e89",
   "metadata": {},
   "source": [
    "## 1. 변수(Variable)의 정의\n",
    "    - 임시 기억 장소\n",
    "    \n",
    "## 2. 변수의 특징\n",
    "    - 묵시적 선언\n",
    "    - 동적 바인딩\n",
    "    - immutable(불변성) : 파이썬은 모든 변수가 객체, 변수의 값을 바꾸면 해당 변수가 변경되는 것이 안이라 새로운 주소를 가리키므로 원래 변수는 더 이상 주소를 찾을 수 없게 됨"
   ]
  },
  {
   "cell_type": "code",
   "execution_count": 4,
   "id": "d637a94d",
   "metadata": {
    "scrolled": true
   },
   "outputs": [
    {
     "name": "stdout",
     "output_type": "stream",
     "text": [
      "10\n",
      "11\n",
      "안녕하세요\n",
      "3.24\n",
      "True\n"
     ]
    }
   ],
   "source": [
    "i = 10\n",
    "print(i)\n",
    "\n",
    "i = 11\n",
    "print(i)\n",
    "\n",
    "i = \"안녕하세요\"\n",
    "print(i)\n",
    "\n",
    "i = 3.24\n",
    "print(i)\n",
    "\n",
    "i = True\n",
    "print(i)"
   ]
  },
  {
   "cell_type": "markdown",
   "id": "3e1fbf03",
   "metadata": {},
   "source": [
    "## 3. Data Type\n",
    "\n",
    "### 종류\n",
    "1. 기본 자료형\n",
    "    - int\n",
    "    - float\n",
    "    - str : 문자열\n",
    "    - bool\n",
    "    \n",
    "    \n",
    "2. 집합 자료형\n",
    "    - list\n",
    "    - tuple\n",
    "    - dict\n",
    "    - set"
   ]
  },
  {
   "cell_type": "code",
   "execution_count": 1,
   "id": "2ba0a9f8",
   "metadata": {
    "scrolled": true
   },
   "outputs": [
    {
     "name": "stdout",
     "output_type": "stream",
     "text": [
      "<class 'int'>\n",
      "<class 'float'>\n"
     ]
    }
   ],
   "source": [
    "i = 10\n",
    "print(type(i))\n",
    "\n",
    "i = 3.14\n",
    "print(type(i))"
   ]
  },
  {
   "cell_type": "markdown",
   "id": "abd70ebf",
   "metadata": {},
   "source": [
    "## (1) str"
   ]
  },
  {
   "cell_type": "code",
   "execution_count": 9,
   "id": "340ffd3b",
   "metadata": {
    "scrolled": true
   },
   "outputs": [
    {
     "name": "stdout",
     "output_type": "stream",
     "text": [
      "<class 'int'>\n",
      "<class 'str'>\n",
      "<class 'str'>\n",
      "제 이름은 '홍길동' 입니다\n",
      "안녕하세요\n",
      "제 이름은 홍길동입니다.\n",
      "만나서 반갑습니다.\n"
     ]
    }
   ],
   "source": [
    "##### 문자열 저장\n",
    "\n",
    "a = 10\n",
    "print(type(a))\n",
    "\n",
    "a = '10'\n",
    "print(type(a))\n",
    "\n",
    "a = \"안녕하세요\"\n",
    "print(type(a))\n",
    "\n",
    "a = \"제 이름은 '홍길동' 입니다\"\n",
    "print(a)\n",
    "\n",
    "# 여러줄의 문자열 작성\n",
    "a = \"\"\"안녕하세요\n",
    "제 이름은 홍길동입니다.\n",
    "만나서 반갑습니다.\"\"\"\n",
    "print(a)\n",
    "\n",
    "# 오류발생\n",
    "# a = \"안녕하세요\n",
    "# 제 이름은 홍길동입니다.\n",
    "# 반나서 반갑습니다.\"\n",
    "# print(a)"
   ]
  },
  {
   "cell_type": "code",
   "execution_count": 12,
   "id": "b8f8b390",
   "metadata": {
    "scrolled": true
   },
   "outputs": [
    {
     "name": "stdout",
     "output_type": "stream",
     "text": [
      "이것은 파이썬입니다. \n",
      "열심히 공부합니다.\n",
      "\\t는 탭키의 기능이다.\n"
     ]
    }
   ],
   "source": [
    "##### 특수 문자(제어 문자) : \\문자, \\(escape)\n",
    "\n",
    "a = \"이것은 파이썬입니다. \\n열심히 공부합니다.\"\n",
    "print(a)\n",
    "\n",
    "a = \"\\\\t는 탭키의 기능이다.\"\n",
    "print(a)"
   ]
  },
  {
   "cell_type": "code",
   "execution_count": 15,
   "id": "a04ef764",
   "metadata": {
    "scrolled": true
   },
   "outputs": [
    {
     "name": "stdout",
     "output_type": "stream",
     "text": [
      "10 + 2 - 3 + 5 + 6 * 7\n"
     ]
    }
   ],
   "source": [
    "##### \\를 줄바꿈의 용도로 사용 : 줄이 바뀐 거라는 표시\n",
    "a = \"10 + 2 - 3 + 5 \\\n",
    "+ 6 * 7\"\n",
    "print(a)"
   ]
  },
  {
   "cell_type": "code",
   "execution_count": 18,
   "id": "20a38f90",
   "metadata": {
    "scrolled": true
   },
   "outputs": [
    {
     "name": "stdout",
     "output_type": "stream",
     "text": [
      "python is fun and great\n",
      "python is fun and great\n",
      "('python', ' is fun', ' and great')\n"
     ]
    }
   ],
   "source": [
    "##### 문자열 연결\n",
    "a = \"python\"\n",
    "b = \" is fun\"\n",
    "c = \" and great\"\n",
    "print(a + b + c)\n",
    "\n",
    "d = a + b + c\n",
    "print(d)\n",
    "\n",
    "d = a, b, c\n",
    "print(d)"
   ]
  },
  {
   "cell_type": "code",
   "execution_count": 19,
   "id": "a8bb83a8",
   "metadata": {
    "scrolled": true
   },
   "outputs": [
    {
     "name": "stdout",
     "output_type": "stream",
     "text": [
      "pythonpythonpython\n"
     ]
    }
   ],
   "source": [
    "##### 문자열 반복\n",
    "print(a * 3)"
   ]
  },
  {
   "cell_type": "code",
   "execution_count": 23,
   "id": "3f6e4c88",
   "metadata": {
    "scrolled": true
   },
   "outputs": [
    {
     "name": "stdout",
     "output_type": "stream",
     "text": [
      "6\n",
      "7\n",
      "10\n"
     ]
    }
   ],
   "source": [
    "##### 문자열 길이\n",
    "print(len(a))\n",
    "print(len(b))\n",
    "print(len(c))"
   ]
  },
  {
   "cell_type": "code",
   "execution_count": 31,
   "id": "88e2aa35",
   "metadata": {},
   "outputs": [
    {
     "name": "stdout",
     "output_type": "stream",
     "text": [
      "e o\n",
      "------------------------------------------\n",
      "n\n",
      "o\n",
      "------------------------------------------\n",
      "n\n",
      "o\n"
     ]
    }
   ],
   "source": [
    "##### 인덱싱(indexing) : 원하는 문자에 접근할 수 있는 방법 제공\n",
    "a = \"Life is too short, You need python\"\n",
    "\n",
    "print(a[3], a[10])\n",
    "\n",
    "print(\"------------------------------------------\")\n",
    "\n",
    "print(a[len(a)-1])\n",
    "print(a[len(a)-2])\n",
    "\n",
    "print(\"------------------------------------------\")\n",
    "\n",
    "print(a[-1])\n",
    "print(a[-2])"
   ]
  },
  {
   "cell_type": "code",
   "execution_count": 42,
   "id": "75b029d9",
   "metadata": {
    "scrolled": true
   },
   "outputs": [
    {
     "name": "stdout",
     "output_type": "stream",
     "text": [
      "Life i\n",
      "L\n",
      "i\n",
      "Life i\n",
      "s too short, You need python\n",
      "You need\n",
      "------------------------------\n",
      "Life is too short, You need python\n",
      "Lf stosot o edpto\n",
      "nohtyp deen uoY ,trohs oot si efiL\n"
     ]
    }
   ],
   "source": [
    "##### 슬라이싱(Slicing) -> [시작위치 : 끝위치(n-1) : 단계(step)]\n",
    "\n",
    "print(a[0 : 6])\n",
    "print(a[0 : 1])\n",
    "print(a[1 : 2])\n",
    "print(a[ : 6])\n",
    "print(a[6 : ])\n",
    "print(a[19 : -7])\n",
    "\n",
    "print(\"------------------------------\")\n",
    "\n",
    "print(a[ : : 1])\n",
    "print(a[ : : 2])\n",
    "print(a[ : : -1])"
   ]
  },
  {
   "cell_type": "code",
   "execution_count": 46,
   "id": "b4cf3914",
   "metadata": {
    "scrolled": true
   },
   "outputs": [
    {
     "name": "stdout",
     "output_type": "stream",
     "text": [
      "python\n"
     ]
    }
   ],
   "source": [
    "##### 수정 불가\n",
    "\n",
    "a = \"pithon\"\n",
    "# a[1] = 'y'\n",
    "\n",
    "a = a[0] + 'y' + a[2:] #새로운 메모리에 값이 저장됨, 위의 a는 주소를 찾아갈 수 없어 소실됨\n",
    "print(a)"
   ]
  },
  {
   "cell_type": "code",
   "execution_count": 67,
   "id": "956da32f",
   "metadata": {
    "scrolled": true
   },
   "outputs": [
    {
     "name": "stdout",
     "output_type": "stream",
     "text": [
      "현재 온도는 29도입니다.\n",
      "현재 온도는 28도입니다. 그리고 오늘의 날씨는 맑음 입니다.\n",
      "현재 온도는 25도입니다.\n",
      "나눗셈의 결과 : 3 / 5 = 0.6 입니다.\n",
      "-------------------------------------------------------------------------\n",
      "나눗셈의 결과 : 3 / 5 = 0.6 입니다.\n",
      "나눗셈의 결과 : 3 / 5 = 0.6 입니다.\n",
      "나눗셈의 결과 : 3 / 5 = 0.6 입니다.\n",
      "*******나눗셈의 결과 : 3 / 5 = 0.60 입니다.\n"
     ]
    }
   ],
   "source": [
    "##### 문자열 포맷팅 : %, format()\n",
    "\n",
    "### % 를 이용하는 방법\n",
    "\n",
    "print(\"현재 온도는 29도입니다.\")\n",
    "print(\"현재 온도는 %d도입니다. 그리고 오늘의 날씨는 %s 입니다.\" % (28, \"맑음\"))\n",
    "\n",
    "degree = 25\n",
    "print(\"현재 온도는 %d도입니다.\" % degree)\n",
    "\n",
    "# 나눗셈의 결과 : 3 / 5 = 0.6 입니다.\n",
    "print(\"%s의 결과 : %d %c %d = %.1f 입니다.\" %(\"나눗셈\", 3, \"/\", 5, (3/5)))\n",
    "\n",
    "print(\"-------------------------------------------------------------------------\")\n",
    "\n",
    "### format() 이용하는 방법\n",
    "print(\"{}의 결과 : {} {} {} = {} 입니다.\".format(\"나눗셈\", 3, \"/\", 5, (3/5)))\n",
    "print(\"{3}의 결과 : {0} {1} {2} = {4} 입니다.\".format(3, \"/\", 5, \"나눗셈\", (3/5)))\n",
    "print(\"{title}의 결과 : {num1} {op} {num2} = {result} 입니다.\"\n",
    "      .format(num1=3, op=\"/\", num2=5, title=\"나눗셈\", result=(3/5)))\n",
    "print(\"{3:*>10}의 결과 : {0} {1} {2} = {4:.2f} 입니다.\".format(3, \"/\", 5, \"나눗셈\", (3/5)))"
   ]
  },
  {
   "cell_type": "markdown",
   "id": "ca6b1570",
   "metadata": {},
   "source": [
    "### (2) bool"
   ]
  },
  {
   "cell_type": "code",
   "execution_count": 83,
   "id": "63575725",
   "metadata": {},
   "outputs": [
    {
     "name": "stdout",
     "output_type": "stream",
     "text": [
      "True\n",
      "<class 'bool'>\n",
      "-------------------------------\n",
      "True True True False\n",
      "True True False False\n"
     ]
    }
   ],
   "source": [
    "a = True\n",
    "print(a)\n",
    "print(type(a))\n",
    "\n",
    "print('-------------------------------')\n",
    "\n",
    "print(bool(10), bool(0.1), bool(-2), bool(0))\n",
    "print(bool('가'), bool(\" \"), bool(\"\"), bool(None))"
   ]
  }
 ],
 "metadata": {
  "kernelspec": {
   "display_name": "Python 3 (ipykernel)",
   "language": "python",
   "name": "python3"
  },
  "language_info": {
   "codemirror_mode": {
    "name": "ipython",
    "version": 3
   },
   "file_extension": ".py",
   "mimetype": "text/x-python",
   "name": "python",
   "nbconvert_exporter": "python",
   "pygments_lexer": "ipython3",
   "version": "3.9.12"
  }
 },
 "nbformat": 4,
 "nbformat_minor": 5
}
