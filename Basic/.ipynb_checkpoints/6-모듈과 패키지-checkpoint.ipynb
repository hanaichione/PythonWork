{
 "cells": [
  {
   "cell_type": "markdown",
   "id": "6ebcb835",
   "metadata": {},
   "source": [
    "## 1. 모듈의 정의\n",
    "\n",
    "- 비슷하거나 관련된 일을 하는 함수, 클래스, 상수값들을 모아서 하나의 파일에 저장하고 추후에 재사용하기 위한 목적\n",
    "\n",
    "- 상수, 함수, 클래스들을 모아놓은 1개의 파일 : .py\n",
    "\n",
    "\n",
    "## 2. 모듈의 종류\n",
    "\n",
    "- 표준(내장) 모듈\n",
    "- 사용자 정의 모듈\n",
    "- 서드 파티(협력 업체) 모듈\n",
    "\n",
    "\n",
    "## 3. 패키지\n",
    "\n",
    "- 여러 모듈을 모아놓은 폴더\n",
    "\n",
    "\n",
    "## 4. 참조\n",
    "\n",
    "- 같은 경로\n",
    "- 기존 모듈 경로에 추가\n",
    "- sys 모듈을 이용해서 path 경로에 추가\n",
    "    - sys.path.append(\"모듈의 경로\")\n",
    "- window의 환경변수 pythonpath 추가\n",
    " \n",
    " \n",
    "## 5. 선언부\n",
    "\n",
    "- import 모듈\n",
    "- import 모듈 as 별칭\n",
    "- from 모듈 import 상수, 함수, 클래스\n",
    "- from 모듈 import *\n",
    "- from 모듈 import 클래스 as 별칭"
   ]
  },
  {
   "cell_type": "code",
   "execution_count": 2,
   "id": "e4a864a1",
   "metadata": {},
   "outputs": [
    {
     "name": "stdout",
     "output_type": "stream",
     "text": [
      "200\n",
      "['C:\\\\PythonWork\\\\Basic', 'C:\\\\Users\\\\thdwl\\\\anaconda3\\\\python39.zip', 'C:\\\\Users\\\\thdwl\\\\anaconda3\\\\DLLs', 'C:\\\\Users\\\\thdwl\\\\anaconda3\\\\lib', 'C:\\\\Users\\\\thdwl\\\\anaconda3', '', 'C:\\\\Users\\\\thdwl\\\\anaconda3\\\\lib\\\\site-packages', 'C:\\\\Users\\\\thdwl\\\\anaconda3\\\\lib\\\\site-packages\\\\win32', 'C:\\\\Users\\\\thdwl\\\\anaconda3\\\\lib\\\\site-packages\\\\win32\\\\lib', 'C:\\\\Users\\\\thdwl\\\\anaconda3\\\\lib\\\\site-packages\\\\Pythonwin', 'C:\\\\PythonWork']\n"
     ]
    }
   ],
   "source": [
    "import sys\n",
    "\n",
    "sys.path.append(\"C:\\\\PythonWork\") # list로 관리됨\n",
    "\n",
    "from game.mylib import Calculator as calc # 정상 실행됨\n",
    "\n",
    "cal = calc(100, 100)\n",
    "print(cal.sum())\n",
    "print(sys.path)"
   ]
  }
 ],
 "metadata": {
  "kernelspec": {
   "display_name": "Python 3 (ipykernel)",
   "language": "python",
   "name": "python3"
  },
  "language_info": {
   "codemirror_mode": {
    "name": "ipython",
    "version": 3
   },
   "file_extension": ".py",
   "mimetype": "text/x-python",
   "name": "python",
   "nbconvert_exporter": "python",
   "pygments_lexer": "ipython3",
   "version": "3.9.12"
  }
 },
 "nbformat": 4,
 "nbformat_minor": 5
}
